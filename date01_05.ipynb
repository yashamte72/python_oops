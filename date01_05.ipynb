{
 "cells": [
  {
   "cell_type": "code",
   "execution_count": 1,
   "id": "87de00f0-32a1-463f-b9f2-495c728e5324",
   "metadata": {},
   "outputs": [],
   "source": [
    "#decorators >> it allwas to modify or extend the behaviours of class wihtour directly modifying there code\n",
    "#similar to you decorating your house(to make your home beautiful) to inhave class we use decorators \n",
    "#we dont require it ( we use to make it inhance code)"
   ]
  },
  {
   "cell_type": "code",
   "execution_count": 2,
   "id": "782e6f5f-9fe8-4d2c-be1b-0ef60bdbf017",
   "metadata": {},
   "outputs": [],
   "source": [
    "#function decorator and class decorator\n",
    "\n",
    "#function decorators"
   ]
  },
  {
   "cell_type": "code",
   "execution_count": 5,
   "id": "bc49b8bf-848d-4850-8bc3-9b8bac892256",
   "metadata": {},
   "outputs": [],
   "source": [
    "#use canse to understand \n",
    "#after each time you create a function or call function\n",
    "#it will take lot of time to type the lines repeatatively\n",
    "#and thats why concept of decorator comes into picture \n",
    "\n",
    "def my_decorator():\n",
    "    print(\"line before computation\")\n",
    "    print(11*1200) #decoding the actual function the line above and line below\n",
    "    print(\"line after computation\")\n",
    "\n",
    "#in the above apporch you have to write all the lines as many times as you creating the diffrent functions\n",
    "#lets see the decorator appoach"
   ]
  },
  {
   "cell_type": "code",
   "execution_count": 6,
   "id": "8216e68e-8756-4cef-8f30-45da9e26c27f",
   "metadata": {},
   "outputs": [
    {
     "name": "stdout",
     "output_type": "stream",
     "text": [
      "line before computation\n",
      "13200\n",
      "line after computation\n"
     ]
    }
   ],
   "source": [
    "my_decorator()"
   ]
  },
  {
   "cell_type": "code",
   "execution_count": 9,
   "id": "6b33c2ab-1f1b-4338-8652-6eb15fda4397",
   "metadata": {},
   "outputs": [],
   "source": [
    "#decorator approach for functions>> use case 1\n",
    "\n",
    "def my_dec(func): #decorator function thta takes another function as arguments\n",
    "    def wrapper(): #adds the fucntionality before and after calling function\n",
    "        print(\"the lines before computaiopn\")\n",
    "        func() #say hello which is the function will be excuted here\n",
    "        print(\"lines after computation\")\n",
    "    return wrapper"
   ]
  },
  {
   "cell_type": "code",
   "execution_count": 10,
   "id": "283a2d07-bb9e-4502-a042-914e3fb066e8",
   "metadata": {},
   "outputs": [],
   "source": [
    "@my_dec #syntax to decorate the say hello function\n",
    "def say_hello():\n",
    "    print(\"hello\")"
   ]
  },
  {
   "cell_type": "code",
   "execution_count": 11,
   "id": "f4e0b8ad-24c6-4601-9633-19fdf767bf23",
   "metadata": {},
   "outputs": [
    {
     "name": "stdout",
     "output_type": "stream",
     "text": [
      "the lines before computaiopn\n",
      "hello\n",
      "lines after computation\n"
     ]
    }
   ],
   "source": [
    "say_hello()\n",
    "#when say_hello is called, it is actual first calling the decorator method>>\n",
    "#which in return is calling wrapper function \n",
    "#wrapper function is printing the lline before and after and \n",
    "#in between calling the say_hello func"
   ]
  },
  {
   "cell_type": "code",
   "execution_count": null,
   "id": "84ea2085-9621-4f22-b571-73e8bfbda284",
   "metadata": {},
   "outputs": [],
   "source": []
  }
 ],
 "metadata": {
  "kernelspec": {
   "display_name": "Python 3 (ipykernel)",
   "language": "python",
   "name": "python3"
  },
  "language_info": {
   "codemirror_mode": {
    "name": "ipython",
    "version": 3
   },
   "file_extension": ".py",
   "mimetype": "text/x-python",
   "name": "python",
   "nbconvert_exporter": "python",
   "pygments_lexer": "ipython3",
   "version": "3.13.3"
  }
 },
 "nbformat": 4,
 "nbformat_minor": 5
}
