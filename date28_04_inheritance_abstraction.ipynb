{
 "cells": [
  {
   "cell_type": "code",
   "execution_count": 1,
   "id": "b659d7b2-5287-4383-857a-b23646cad031",
   "metadata": {},
   "outputs": [],
   "source": [
    "#inheritance >> refers to process of child reciving the properties of parents\n",
    "#class base:\n",
    "    #body of the base class\n",
    "#class derivedclass:\n",
    "    #body of derived calss"
   ]
  },
  {
   "cell_type": "code",
   "execution_count": 3,
   "id": "ec2627a3-810c-46c9-abf9-2ac57a2f3e1a",
   "metadata": {},
   "outputs": [],
   "source": [
    "#ex\n",
    "class father:\n",
    "    def father_property(self):\n",
    "        print(\"thi is the fathers property\")"
   ]
  },
  {
   "cell_type": "code",
   "execution_count": 4,
   "id": "c52d7108-0767-4646-a05b-9c5312a5ec08",
   "metadata": {},
   "outputs": [],
   "source": [
    "class son(father):\n",
    "    def job(self):\n",
    "        print(\"son has property form job\")"
   ]
  },
  {
   "cell_type": "code",
   "execution_count": 6,
   "id": "38194300-4e9c-43a5-8223-31a16b311c96",
   "metadata": {},
   "outputs": [],
   "source": [
    "obj = son() #object or instance of class son"
   ]
  },
  {
   "cell_type": "code",
   "execution_count": 8,
   "id": "5b9be837-3e00-4300-a6bc-fe24b6796a66",
   "metadata": {},
   "outputs": [
    {
     "name": "stdout",
     "output_type": "stream",
     "text": [
      "thi is the fathers property\n"
     ]
    }
   ],
   "source": [
    "obj.father_property()"
   ]
  },
  {
   "cell_type": "code",
   "execution_count": 9,
   "id": "e1f00bb0-dadd-4461-935a-836ae0a943ef",
   "metadata": {},
   "outputs": [
    {
     "name": "stdout",
     "output_type": "stream",
     "text": [
      "son has property form job\n"
     ]
    }
   ],
   "source": [
    "obj.job()"
   ]
  },
  {
   "cell_type": "code",
   "execution_count": 10,
   "id": "9894264b-88c5-4f19-9e42-921117b00394",
   "metadata": {},
   "outputs": [],
   "source": [
    "#father will have only his property \n",
    "#but son can have his and his fathers property"
   ]
  },
  {
   "cell_type": "code",
   "execution_count": 11,
   "id": "3e41ee41-4f6b-490f-855e-e872c7c3dad4",
   "metadata": {},
   "outputs": [],
   "source": [
    "#parent calss will hacve access to the method of child class\n",
    "#but child class have access to method of parent class"
   ]
  },
  {
   "cell_type": "code",
   "execution_count": 25,
   "id": "506b1ba1-c78a-46bc-8dba-b47500004558",
   "metadata": {},
   "outputs": [],
   "source": [
    "class Fruit:\n",
    "    def fruit_info(self):\n",
    "        print(\"inside parent class\")\n",
    "class Apple(Fruit):\n",
    "    def apple_info(self):\n",
    "        print(\"inside child class\")"
   ]
  },
  {
   "cell_type": "code",
   "execution_count": 26,
   "id": "61754b35-7bdc-4936-96b9-c905320122f7",
   "metadata": {},
   "outputs": [],
   "source": [
    "obj2 = Apple() #object of child class"
   ]
  },
  {
   "cell_type": "code",
   "execution_count": 27,
   "id": "80176427-2086-4675-8cab-431ae0cdab53",
   "metadata": {},
   "outputs": [
    {
     "name": "stdout",
     "output_type": "stream",
     "text": [
      "inside child class\n"
     ]
    }
   ],
   "source": [
    "obj2.apple_info()"
   ]
  },
  {
   "cell_type": "code",
   "execution_count": 28,
   "id": "9961f6a4-21f9-49a7-8be1-f728b96fa2f3",
   "metadata": {},
   "outputs": [
    {
     "name": "stdout",
     "output_type": "stream",
     "text": [
      "inside parent class\n"
     ]
    }
   ],
   "source": [
    "obj2.fruit_info()"
   ]
  },
  {
   "cell_type": "code",
   "execution_count": 29,
   "id": "b03c7c57-5f1e-4a38-aa5d-191132bb2822",
   "metadata": {},
   "outputs": [],
   "source": [
    "par = Fruit() #object of parent class "
   ]
  },
  {
   "cell_type": "code",
   "execution_count": 30,
   "id": "2e226e27-e156-49fc-b1a9-fc3957ba13f2",
   "metadata": {},
   "outputs": [
    {
     "name": "stdout",
     "output_type": "stream",
     "text": [
      "inside parent class\n"
     ]
    }
   ],
   "source": [
    "par.fruit_info()"
   ]
  },
  {
   "cell_type": "code",
   "execution_count": 37,
   "id": "8dfa9ad8-db66-47fd-a061-1b93f2b1a4d5",
   "metadata": {},
   "outputs": [],
   "source": [
    "#method overriding >> re-writing / re-defining method of parent calss in derived or child class\n",
    "class Fruit:\n",
    "    def fruit_info(self):\n",
    "        print(\"inside parent class\")\n",
    "class Apple(Fruit):\n",
    "    def fruit_info(self):\n",
    "        print(\"inside parent class (fruit info)\")\n",
    "    def apple_info(self):\n",
    "        print(\"inside child class\")\n",
    "\n",
    "#method overriding >> child class is very powerfull\n",
    "#method overrinding happens betwen two classes"
   ]
  },
  {
   "cell_type": "code",
   "execution_count": 38,
   "id": "b8b7c68c-378b-4e3f-af69-f21e432547a2",
   "metadata": {},
   "outputs": [
    {
     "name": "stdout",
     "output_type": "stream",
     "text": [
      "inside child class\n"
     ]
    }
   ],
   "source": [
    "obj3 = Apple()\n",
    "obj3.apple_info()"
   ]
  },
  {
   "cell_type": "code",
   "execution_count": 39,
   "id": "2b862037-045b-4938-9349-cfd62d8f462a",
   "metadata": {},
   "outputs": [
    {
     "name": "stdout",
     "output_type": "stream",
     "text": [
      "inside parent class (fruit info)\n"
     ]
    }
   ],
   "source": [
    "obj3.fruit_info()"
   ]
  },
  {
   "cell_type": "code",
   "execution_count": 42,
   "id": "7b98f44e-6fa1-468e-ad0c-04a36127dd1f",
   "metadata": {},
   "outputs": [],
   "source": [
    "#multilevel inheritance >>\n",
    "\n",
    "#grand parents class\n",
    "#    ||\n",
    "# parent class\n",
    "#    ||\n",
    "# child class"
   ]
  },
  {
   "cell_type": "code",
   "execution_count": 68,
   "id": "93b9f4ea-84ab-43ad-9c4e-ede52eff6620",
   "metadata": {},
   "outputs": [],
   "source": [
    "#multilevel inheritance\n",
    "class GrandFather:\n",
    "    def prop_grand_father(self):\n",
    "        print(\"i am grand father, this is my property\")\n",
    "class Father(GrandFather):\n",
    "    def prop_father(self):\n",
    "        print(\"i have my property , and can also access grand fathers property\")\n",
    "class Child(Father):\n",
    "    def prop_child(self):\n",
    "        print(\"i have my property, my father's property and grand father's property\")\n"
   ]
  },
  {
   "cell_type": "code",
   "execution_count": 69,
   "id": "c2075470-06a9-487b-876a-2fb03b2ddaa0",
   "metadata": {},
   "outputs": [],
   "source": [
    "obj4 = Child()"
   ]
  },
  {
   "cell_type": "code",
   "execution_count": 70,
   "id": "983fd83d-e9ad-4e0a-ae82-13409dc9ac86",
   "metadata": {},
   "outputs": [
    {
     "name": "stdout",
     "output_type": "stream",
     "text": [
      "i am grand father, this is my property\n"
     ]
    }
   ],
   "source": [
    "obj4.prop_grand_father()"
   ]
  },
  {
   "cell_type": "code",
   "execution_count": 71,
   "id": "a73bfe73-9e3d-4931-9a4a-363c47ad8c64",
   "metadata": {},
   "outputs": [
    {
     "name": "stdout",
     "output_type": "stream",
     "text": [
      "i have my property , and can also access grand fathers property\n"
     ]
    }
   ],
   "source": [
    "obj4.prop_father()"
   ]
  },
  {
   "cell_type": "code",
   "execution_count": 72,
   "id": "f105f970-97fd-4d97-8e58-53c314897ba7",
   "metadata": {},
   "outputs": [
    {
     "name": "stdout",
     "output_type": "stream",
     "text": [
      "i have my property, my father's property and grand father's property\n"
     ]
    }
   ],
   "source": [
    "obj4.prop_child()"
   ]
  },
  {
   "cell_type": "code",
   "execution_count": 73,
   "id": "579aff98-916b-42b5-bf4d-ff9bf64be4f8",
   "metadata": {},
   "outputs": [],
   "source": [
    "obj5 = Father()"
   ]
  },
  {
   "cell_type": "code",
   "execution_count": 74,
   "id": "5d6cfd2a-b5d3-49c9-ae92-7dbc3fad136f",
   "metadata": {},
   "outputs": [
    {
     "name": "stdout",
     "output_type": "stream",
     "text": [
      "i have my property , and can also access grand fathers property\n"
     ]
    }
   ],
   "source": [
    "obj5.prop_father()"
   ]
  },
  {
   "cell_type": "code",
   "execution_count": 75,
   "id": "2d6d04ab-6d4d-4821-894d-b4f580903f66",
   "metadata": {},
   "outputs": [
    {
     "name": "stdout",
     "output_type": "stream",
     "text": [
      "i am grand father, this is my property\n"
     ]
    }
   ],
   "source": [
    "obj5.prop_grand_father()"
   ]
  },
  {
   "cell_type": "code",
   "execution_count": 76,
   "id": "497154fa-8186-41ad-ac60-6a6d1a1b3a18",
   "metadata": {},
   "outputs": [],
   "source": [
    "obj6 = GrandFather()"
   ]
  },
  {
   "cell_type": "code",
   "execution_count": 77,
   "id": "1ed77cfc-e227-416e-9877-51039bf4c4d2",
   "metadata": {},
   "outputs": [
    {
     "name": "stdout",
     "output_type": "stream",
     "text": [
      "i am grand father, this is my property\n"
     ]
    }
   ],
   "source": [
    "obj6.prop_grand_father()"
   ]
  },
  {
   "cell_type": "code",
   "execution_count": 78,
   "id": "5590b922-c3e6-494b-b24a-0bded3b10a53",
   "metadata": {},
   "outputs": [],
   "source": [
    "#multilevel inheritance\n",
    "#use case \n",
    "class Vehical:\n",
    "    def vehical_info(self):\n",
    "        print(\"inside vehical class\")\n",
    "class Car(Vehical):\n",
    "    def car_info(self):\n",
    "        print(\"inside car class\")\n",
    "class Sports_car(Car):\n",
    "    def sports_car(self):\n",
    "        print(\"inside sports_car class\")\n",
    "#method overridnig >> child class is most popular"
   ]
  },
  {
   "cell_type": "code",
   "execution_count": 79,
   "id": "fe3e1762-82e9-4b93-94fa-fd2020ea5797",
   "metadata": {},
   "outputs": [],
   "source": [
    "o = Vehical()"
   ]
  },
  {
   "cell_type": "code",
   "execution_count": 80,
   "id": "ea180980-89c9-4417-b23a-922968951536",
   "metadata": {},
   "outputs": [
    {
     "name": "stdout",
     "output_type": "stream",
     "text": [
      "inside vehical class\n"
     ]
    }
   ],
   "source": [
    "o.vehical_info()"
   ]
  },
  {
   "cell_type": "code",
   "execution_count": 81,
   "id": "b4fc5696-a66f-4dbe-babb-7c8e7b2795f6",
   "metadata": {},
   "outputs": [],
   "source": [
    "o1 = Sports_car()"
   ]
  },
  {
   "cell_type": "code",
   "execution_count": 82,
   "id": "f6d1d1e9-48bd-4c04-8a61-e8092056abde",
   "metadata": {},
   "outputs": [
    {
     "name": "stdout",
     "output_type": "stream",
     "text": [
      "inside vehical class\n"
     ]
    }
   ],
   "source": [
    "o1.vehical_info()"
   ]
  },
  {
   "cell_type": "code",
   "execution_count": 83,
   "id": "b9059ed7-8b0d-4a4c-a0e5-181e7c69f029",
   "metadata": {},
   "outputs": [],
   "source": [
    "#multiple inheritance >>one child class may inherit the property of multiple parent calss\n",
    "\n",
    "# parent calss     parent class\n",
    "#           \\\\     ||\n",
    "#          Child class"
   ]
  },
  {
   "cell_type": "code",
   "execution_count": 91,
   "id": "e3dbb613-2d3a-4e57-91c5-8f81c26b8916",
   "metadata": {},
   "outputs": [],
   "source": [
    "class Parent1:\n",
    "    def method1(self):\n",
    "        print(\"method 1 of parent class 1\")\n",
    "class Parent2:\n",
    "    def method2(self):\n",
    "        print(\"method 2 of parent calss 2\")\n",
    "class Child(Parent1, Parent2):\n",
    "    def method3(self):\n",
    "        print(\"method 3 of child class\")"
   ]
  },
  {
   "cell_type": "code",
   "execution_count": 92,
   "id": "481c1735-60f4-4f62-b3a8-4972f2847b7b",
   "metadata": {},
   "outputs": [],
   "source": [
    "oo = Child()"
   ]
  },
  {
   "cell_type": "code",
   "execution_count": 95,
   "id": "39cc0b19-0f7f-402a-9ac9-eca7a81165fb",
   "metadata": {},
   "outputs": [
    {
     "name": "stdout",
     "output_type": "stream",
     "text": [
      "method 1 of parent class 1\n"
     ]
    }
   ],
   "source": [
    "oo.method1()"
   ]
  },
  {
   "cell_type": "code",
   "execution_count": 99,
   "id": "291bc89e-d67e-4bb8-b7b6-c291e72395ca",
   "metadata": {},
   "outputs": [],
   "source": [
    "#diamond problem>> it occes when a class inherits two or more class >> it will lead to embiguity in excution of methods\n",
    "#to remove diamond problem >> puthon uses method resolution order (MRO) algorithm called c3 linealization\n",
    "#meaning that the class that is inherited first in the derived calss, that method will be executed \n",
    "class Parent1:\n",
    "    def method(self):\n",
    "        print(\"method 1 of parent class 1\")\n",
    "class Parent2:\n",
    "    def method(self):\n",
    "        print(\"method 2 of parent calss 2\")\n",
    "class Child(Parent1, Parent2):\n",
    "    def method3(self):\n",
    "        print(\"method 3 of child class\")"
   ]
  },
  {
   "cell_type": "code",
   "execution_count": 97,
   "id": "ce6e65c2-5837-444f-b4d7-b9ed4eb23b54",
   "metadata": {},
   "outputs": [],
   "source": [
    "o3 = Child()"
   ]
  },
  {
   "cell_type": "code",
   "execution_count": 98,
   "id": "9e401a9e-01fa-4616-b239-f52b8c7cc71b",
   "metadata": {},
   "outputs": [
    {
     "name": "stdout",
     "output_type": "stream",
     "text": [
      "method 1 of parent class 1\n"
     ]
    }
   ],
   "source": [
    "o3.method()"
   ]
  },
  {
   "cell_type": "code",
   "execution_count": 111,
   "id": "ebf71567-be4d-47b6-96d3-e92a5304bac1",
   "metadata": {},
   "outputs": [],
   "source": [
    "#diamond problem\n",
    "class A:\n",
    "    def method(self):\n",
    "        print(\"method of class A\")\n",
    "class B(A):\n",
    "    def method(self):\n",
    "        print(\"method of calss B\")\n",
    "class C(A):\n",
    "    def method(self):\n",
    "        print(\"method of class C\")\n",
    "class D(B,C):\n",
    "  pass"
   ]
  },
  {
   "cell_type": "code",
   "execution_count": 112,
   "id": "2050c691-6b44-421a-94c8-9988b1deef47",
   "metadata": {},
   "outputs": [
    {
     "name": "stdout",
     "output_type": "stream",
     "text": [
      "method of calss B\n"
     ]
    }
   ],
   "source": [
    "d = D()\n",
    "d.method()"
   ]
  },
  {
   "cell_type": "code",
   "execution_count": 113,
   "id": "8f14d323-6a80-4835-8895-963bf162d7fa",
   "metadata": {},
   "outputs": [],
   "source": [
    "#hierarchical inheritance >> one parent class>>multiple Sor more than two child class"
   ]
  },
  {
   "cell_type": "code",
   "execution_count": 130,
   "id": "21dccd20-4f47-4e74-ae51-2920585b2c71",
   "metadata": {},
   "outputs": [],
   "source": [
    "class Vehical:\n",
    "    def info(self):\n",
    "        print(\"this is vehical\")\n",
    "class Car(Vehical):\n",
    "    def car_info(self, name):\n",
    "        print(\"this is car info\", name)\n",
    "class TrucKk(Vehical):\n",
    "    def truck_info(self, name):\n",
    "        print(\"this is truck info\", name)"
   ]
  },
  {
   "cell_type": "code",
   "execution_count": 131,
   "id": "f4c2e805-706e-47bf-bd94-6f3d18a80c89",
   "metadata": {},
   "outputs": [
    {
     "name": "stdout",
     "output_type": "stream",
     "text": [
      "this is vehical\n"
     ]
    }
   ],
   "source": [
    "c1 = Car()\n",
    "c1.info()"
   ]
  },
  {
   "cell_type": "code",
   "execution_count": 132,
   "id": "d2b0c437-337b-44e3-a95b-300805289cfc",
   "metadata": {},
   "outputs": [
    {
     "name": "stdout",
     "output_type": "stream",
     "text": [
      "this is car info bmw\n"
     ]
    }
   ],
   "source": [
    "c1.car_info(\"bmw\")"
   ]
  },
  {
   "cell_type": "code",
   "execution_count": 135,
   "id": "62b093d4-543b-4149-9d37-f51e036dd968",
   "metadata": {},
   "outputs": [],
   "source": [
    "#hybrid inheritance >> multiple types or combination of multiple inheritacnce\n",
    "# like diamond class\n",
    "#example\n"
   ]
  },
  {
   "cell_type": "code",
   "execution_count": 137,
   "id": "164f24c8-561f-4d0a-a704-6470cbb59105",
   "metadata": {},
   "outputs": [],
   "source": [
    "class Vehi:\n",
    "    def v_info(self):\n",
    "        print(\"inside the vehi class\")\n",
    "\n",
    "class Carr(Vehi):\n",
    "    def C_info(self, anme):\n",
    "        print(\"this is car info section\" ,name)\n",
    "\n",
    "class tuck(Vehi):\n",
    "    def t_info(self,name):\n",
    "        print(\"this is tuck info\", name)\n",
    "\n",
    "class S_car(Carr , Vehi):\n",
    "    def s_car_info(self, name):\n",
    "        print(\"name of sports car \", name)"
   ]
  },
  {
   "cell_type": "code",
   "execution_count": 138,
   "id": "e121564c-963b-4fe3-8573-e0942628a5ed",
   "metadata": {},
   "outputs": [],
   "source": [
    "ok = tuck()"
   ]
  },
  {
   "cell_type": "code",
   "execution_count": 139,
   "id": "5173cc72-12f3-4e94-a748-aa489df565a6",
   "metadata": {},
   "outputs": [
    {
     "name": "stdout",
     "output_type": "stream",
     "text": [
      "inside the vehi class\n"
     ]
    }
   ],
   "source": [
    "ok.v_info()\n"
   ]
  },
  {
   "cell_type": "code",
   "execution_count": 140,
   "id": "e3a29705-fcbb-4379-9960-3a156af11c04",
   "metadata": {},
   "outputs": [],
   "source": [
    "oki = S_car()"
   ]
  },
  {
   "cell_type": "code",
   "execution_count": 141,
   "id": "4546e33e-ae34-4658-8509-1209bf9722b0",
   "metadata": {},
   "outputs": [
    {
     "name": "stdout",
     "output_type": "stream",
     "text": [
      "name of sports car  lambo\n"
     ]
    }
   ],
   "source": [
    "oki.s_car_info(\"lambo\")"
   ]
  },
  {
   "cell_type": "code",
   "execution_count": 142,
   "id": "9aa355ea-63b2-4623-9fd8-468fea2a0765",
   "metadata": {},
   "outputs": [],
   "source": [
    "okay = tuck()"
   ]
  },
  {
   "cell_type": "code",
   "execution_count": 143,
   "id": "ff8687da-b862-4852-9e0b-6f62f6e286e5",
   "metadata": {},
   "outputs": [
    {
     "name": "stdout",
     "output_type": "stream",
     "text": [
      "this is tuck info yash\n"
     ]
    }
   ],
   "source": [
    "okay.t_info(\"yash\")"
   ]
  },
  {
   "cell_type": "code",
   "execution_count": null,
   "id": "7c75e6ba-6554-4a24-966d-087dd83a3c33",
   "metadata": {},
   "outputs": [],
   "source": []
  },
  {
   "cell_type": "markdown",
   "id": "b146065c-856f-4ea7-b996-6d5ad1665116",
   "metadata": {},
   "source": [
    "#Abstraction >> concept of hiding complex implementation\n",
    "#hiding unneeded details and exposing the required \n",
    "#abstract class can notbe instantiated (can not make object)\n",
    "#Abstract class always be sunclassed \n",
    "#Abstract class may contain methods that are just declared and not implemented abstract class itselt, subclass are resposible for implementing these abstract methods\n",
    "If in inherited class a method is not present from abstract clas it will not trow an error"
   ]
  },
  {
   "cell_type": "code",
   "execution_count": 163,
   "id": "abbc26b3-2485-49cd-a52f-c531441cf28f",
   "metadata": {},
   "outputs": [],
   "source": [
    "#in pw skills you just see interface of course but not the backend codes \n",
    "#abstraction can be achived using abstract class >> import abc"
   ]
  },
  {
   "cell_type": "code",
   "execution_count": 164,
   "id": "b418b705-c1da-4ba3-a710-acaf92d98a62",
   "metadata": {},
   "outputs": [],
   "source": [
    "import abc #collection of multiple functions is a module"
   ]
  },
  {
   "cell_type": "code",
   "execution_count": 165,
   "id": "aff68657-d06a-49a0-b0e4-ad17b97a4bcc",
   "metadata": {},
   "outputs": [],
   "source": [
    "#use case \n",
    "#in any class at pwskills >> dara science /frontend / backend, the following three methods will be common\n",
    "\n",
    "class PwSkills:\n",
    "\n",
    "    @abc.abstractmethod\n",
    "    def student_de(self):\n",
    "        pass\n",
    "        \n",
    "    @abc.abstractmethod\n",
    "    def student_ass(self):\n",
    "        pass\n",
    "\n",
    "    @abc.abstractmethod\n",
    "    def student_marks(self):\n",
    "        pass"
   ]
  },
  {
   "cell_type": "code",
   "execution_count": 166,
   "id": "e530ddd4-745a-41db-ac92-1c0b7880c37c",
   "metadata": {},
   "outputs": [],
   "source": [
    "class DataScience(PwSkills):\n",
    "    def student_de(self):\n",
    "        return \"data science course detials\"\n",
    "\n",
    "    def student_marks(self):\n",
    "        return \"give ds student marks\""
   ]
  },
  {
   "cell_type": "code",
   "execution_count": 167,
   "id": "75fe0a31-71dc-476a-b72d-47a851a2b368",
   "metadata": {},
   "outputs": [],
   "source": [
    "class webdev(PwSkills):\n",
    "    def student_ass(self):\n",
    "        return \"this will give web dev student assignment\"\n",
    "\n",
    "    def student_marks(self):\n",
    "        return \"this is marks of web dev student\"\n",
    "        "
   ]
  },
  {
   "cell_type": "code",
   "execution_count": 168,
   "id": "5188f53b-6d4f-433e-904d-7ff0d08b0d8e",
   "metadata": {},
   "outputs": [],
   "source": [
    "ds = DataScience()"
   ]
  },
  {
   "cell_type": "code",
   "execution_count": 169,
   "id": "fcef8c9c-0c88-44c0-8a77-49e2b928b3db",
   "metadata": {},
   "outputs": [],
   "source": [
    "ds.student_ass() #it will not throw an error if nay method is not defiend "
   ]
  },
  {
   "cell_type": "code",
   "execution_count": 170,
   "id": "42ab4437-e727-4d8d-8d7d-4afe2dbb0b38",
   "metadata": {},
   "outputs": [
    {
     "data": {
      "text/plain": [
       "'give ds student marks'"
      ]
     },
     "execution_count": 170,
     "metadata": {},
     "output_type": "execute_result"
    }
   ],
   "source": [
    "ds.student_marks()"
   ]
  },
  {
   "cell_type": "code",
   "execution_count": 171,
   "id": "b8ffab83-186a-42cf-9b4e-3e89039d3503",
   "metadata": {},
   "outputs": [],
   "source": [
    "wd = webdev()"
   ]
  },
  {
   "cell_type": "code",
   "execution_count": 172,
   "id": "8f8c985c-379f-468d-b5e6-3bcf79c89f93",
   "metadata": {},
   "outputs": [
    {
     "data": {
      "text/plain": [
       "'this will give web dev student assignment'"
      ]
     },
     "execution_count": 172,
     "metadata": {},
     "output_type": "execute_result"
    }
   ],
   "source": [
    "wd.student_ass()"
   ]
  },
  {
   "cell_type": "code",
   "execution_count": 173,
   "id": "88a84db7-57cf-4bb5-b428-24678e2c85df",
   "metadata": {},
   "outputs": [
    {
     "data": {
      "text/plain": [
       "'this is marks of web dev student'"
      ]
     },
     "execution_count": 173,
     "metadata": {},
     "output_type": "execute_result"
    }
   ],
   "source": [
    "wd.student_marks()"
   ]
  },
  {
   "cell_type": "code",
   "execution_count": 174,
   "id": "e73690d2-001a-41a8-b1a5-22af0d95fc4c",
   "metadata": {},
   "outputs": [],
   "source": [
    "#use case\n",
    "class Shape:\n",
    "\n",
    "    @abc.abstractmethod\n",
    "    def cal_area(self):\n",
    "        pass\n",
    "\n",
    "class Rec(Shape):\n",
    "    def cal_area(self):\n",
    "        return \"Area of rectangle is len* breath \"\n",
    "\n",
    "class Circle(Shape):\n",
    "    def cal_area(self):\n",
    "        return \"Area of Circle is pi r **2\"\n"
   ]
  },
  {
   "cell_type": "code",
   "execution_count": 175,
   "id": "d2291b90-9a8b-4bc6-9840-39a279f0cc32",
   "metadata": {},
   "outputs": [],
   "source": [
    "rect = Rec()"
   ]
  },
  {
   "cell_type": "code",
   "execution_count": 176,
   "id": "710a9d9f-e57a-4e0c-bf23-92b4839a7cca",
   "metadata": {},
   "outputs": [
    {
     "data": {
      "text/plain": [
       "'Area of rectangle is len* breath '"
      ]
     },
     "execution_count": 176,
     "metadata": {},
     "output_type": "execute_result"
    }
   ],
   "source": [
    "rect.cal_area()"
   ]
  },
  {
   "cell_type": "code",
   "execution_count": 177,
   "id": "ca0a4ab0-5427-4853-b19f-3905e7a26271",
   "metadata": {},
   "outputs": [],
   "source": [
    "circle= Circle()"
   ]
  },
  {
   "cell_type": "code",
   "execution_count": 178,
   "id": "2704eb5a-def4-433e-ae4b-d2da34013e14",
   "metadata": {},
   "outputs": [
    {
     "data": {
      "text/plain": [
       "'Area of Circle is pi r **2'"
      ]
     },
     "execution_count": 178,
     "metadata": {},
     "output_type": "execute_result"
    }
   ],
   "source": [
    "circle.cal_area()"
   ]
  },
  {
   "cell_type": "code",
   "execution_count": null,
   "id": "fdae454d-e1c5-436d-8f2c-c0fad79016f6",
   "metadata": {},
   "outputs": [],
   "source": []
  }
 ],
 "metadata": {
  "kernelspec": {
   "display_name": "Python 3 (ipykernel)",
   "language": "python",
   "name": "python3"
  },
  "language_info": {
   "codemirror_mode": {
    "name": "ipython",
    "version": 3
   },
   "file_extension": ".py",
   "mimetype": "text/x-python",
   "name": "python",
   "nbconvert_exporter": "python",
   "pygments_lexer": "ipython3",
   "version": "3.13.2"
  }
 },
 "nbformat": 4,
 "nbformat_minor": 5
}
