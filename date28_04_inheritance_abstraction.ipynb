{
 "cells": [
  {
   "cell_type": "code",
   "execution_count": 1,
   "id": "b659d7b2-5287-4383-857a-b23646cad031",
   "metadata": {},
   "outputs": [],
   "source": [
    "#inheritance >> refers to process of child reciving the properties of parents\n",
    "#class base:\n",
    "    #body of the base class\n",
    "#class derivedclass:\n",
    "    #body of derived calss"
   ]
  },
  {
   "cell_type": "code",
   "execution_count": 3,
   "id": "ec2627a3-810c-46c9-abf9-2ac57a2f3e1a",
   "metadata": {},
   "outputs": [],
   "source": [
    "#ex\n",
    "class father:\n",
    "    def father_property(self):\n",
    "        print(\"thi is the fathers property\")"
   ]
  },
  {
   "cell_type": "code",
   "execution_count": 4,
   "id": "c52d7108-0767-4646-a05b-9c5312a5ec08",
   "metadata": {},
   "outputs": [],
   "source": [
    "class son(father):\n",
    "    def job(self):\n",
    "        print(\"son has property form job\")"
   ]
  },
  {
   "cell_type": "code",
   "execution_count": 6,
   "id": "38194300-4e9c-43a5-8223-31a16b311c96",
   "metadata": {},
   "outputs": [],
   "source": [
    "obj = son() #object or instance of class son"
   ]
  },
  {
   "cell_type": "code",
   "execution_count": 8,
   "id": "5b9be837-3e00-4300-a6bc-fe24b6796a66",
   "metadata": {},
   "outputs": [
    {
     "name": "stdout",
     "output_type": "stream",
     "text": [
      "thi is the fathers property\n"
     ]
    }
   ],
   "source": [
    "obj.father_property()"
   ]
  },
  {
   "cell_type": "code",
   "execution_count": 9,
   "id": "e1f00bb0-dadd-4461-935a-836ae0a943ef",
   "metadata": {},
   "outputs": [
    {
     "name": "stdout",
     "output_type": "stream",
     "text": [
      "son has property form job\n"
     ]
    }
   ],
   "source": [
    "obj.job()"
   ]
  },
  {
   "cell_type": "code",
   "execution_count": 10,
   "id": "9894264b-88c5-4f19-9e42-921117b00394",
   "metadata": {},
   "outputs": [],
   "source": [
    "#father will have only his property \n",
    "#but son can have his and his fathers property"
   ]
  },
  {
   "cell_type": "code",
   "execution_count": 11,
   "id": "3e41ee41-4f6b-490f-855e-e872c7c3dad4",
   "metadata": {},
   "outputs": [],
   "source": [
    "#parent calss will hacve access to the method of child class\n",
    "#but child class have access to method of parent class"
   ]
  },
  {
   "cell_type": "code",
   "execution_count": 25,
   "id": "506b1ba1-c78a-46bc-8dba-b47500004558",
   "metadata": {},
   "outputs": [],
   "source": [
    "class Fruit:\n",
    "    def fruit_info(self):\n",
    "        print(\"inside parent class\")\n",
    "class Apple(Fruit):\n",
    "    def apple_info(self):\n",
    "        print(\"inside child class\")"
   ]
  },
  {
   "cell_type": "code",
   "execution_count": 26,
   "id": "61754b35-7bdc-4936-96b9-c905320122f7",
   "metadata": {},
   "outputs": [],
   "source": [
    "obj2 = Apple() #object of child class"
   ]
  },
  {
   "cell_type": "code",
   "execution_count": 27,
   "id": "80176427-2086-4675-8cab-431ae0cdab53",
   "metadata": {},
   "outputs": [
    {
     "name": "stdout",
     "output_type": "stream",
     "text": [
      "inside child class\n"
     ]
    }
   ],
   "source": [
    "obj2.apple_info()"
   ]
  },
  {
   "cell_type": "code",
   "execution_count": 28,
   "id": "9961f6a4-21f9-49a7-8be1-f728b96fa2f3",
   "metadata": {},
   "outputs": [
    {
     "name": "stdout",
     "output_type": "stream",
     "text": [
      "inside parent class\n"
     ]
    }
   ],
   "source": [
    "obj2.fruit_info()"
   ]
  },
  {
   "cell_type": "code",
   "execution_count": 29,
   "id": "b03c7c57-5f1e-4a38-aa5d-191132bb2822",
   "metadata": {},
   "outputs": [],
   "source": [
    "par = Fruit() #object of parent class "
   ]
  },
  {
   "cell_type": "code",
   "execution_count": 30,
   "id": "2e226e27-e156-49fc-b1a9-fc3957ba13f2",
   "metadata": {},
   "outputs": [
    {
     "name": "stdout",
     "output_type": "stream",
     "text": [
      "inside parent class\n"
     ]
    }
   ],
   "source": [
    "par.fruit_info()"
   ]
  },
  {
   "cell_type": "code",
   "execution_count": 37,
   "id": "8dfa9ad8-db66-47fd-a061-1b93f2b1a4d5",
   "metadata": {},
   "outputs": [],
   "source": [
    "#method overriding >> re-writing / re-defining method of parent calss in derived or child class\n",
    "class Fruit:\n",
    "    def fruit_info(self):\n",
    "        print(\"inside parent class\")\n",
    "class Apple(Fruit):\n",
    "    def fruit_info(self):\n",
    "        print(\"inside parent class (fruit info)\")\n",
    "    def apple_info(self):\n",
    "        print(\"inside child class\")\n",
    "\n",
    "#method overriding >> child class is very powerfull\n",
    "#method overrinding happens betwen two classes"
   ]
  },
  {
   "cell_type": "code",
   "execution_count": 38,
   "id": "b8b7c68c-378b-4e3f-af69-f21e432547a2",
   "metadata": {},
   "outputs": [
    {
     "name": "stdout",
     "output_type": "stream",
     "text": [
      "inside child class\n"
     ]
    }
   ],
   "source": [
    "obj3 = Apple()\n",
    "obj3.apple_info()"
   ]
  },
  {
   "cell_type": "code",
   "execution_count": 39,
   "id": "2b862037-045b-4938-9349-cfd62d8f462a",
   "metadata": {},
   "outputs": [
    {
     "name": "stdout",
     "output_type": "stream",
     "text": [
      "inside parent class (fruit info)\n"
     ]
    }
   ],
   "source": [
    "obj3.fruit_info()"
   ]
  },
  {
   "cell_type": "code",
   "execution_count": 42,
   "id": "7b98f44e-6fa1-468e-ad0c-04a36127dd1f",
   "metadata": {},
   "outputs": [],
   "source": [
    "#multilevel inheritance >>\n",
    "\n",
    "#grand parents class\n",
    "#    ||\n",
    "# parent class\n",
    "#    ||\n",
    "# child class"
   ]
  },
  {
   "cell_type": "code",
   "execution_count": 68,
   "id": "93b9f4ea-84ab-43ad-9c4e-ede52eff6620",
   "metadata": {},
   "outputs": [],
   "source": [
    "#multilevel inheritance\n",
    "class GrandFather:\n",
    "    def prop_grand_father(self):\n",
    "        print(\"i am grand father, this is my property\")\n",
    "class Father(GrandFather):\n",
    "    def prop_father(self):\n",
    "        print(\"i have my property , and can also access grand fathers property\")\n",
    "class Child(Father):\n",
    "    def prop_child(self):\n",
    "        print(\"i have my property, my father's property and grand father's property\")\n"
   ]
  },
  {
   "cell_type": "code",
   "execution_count": 69,
   "id": "c2075470-06a9-487b-876a-2fb03b2ddaa0",
   "metadata": {},
   "outputs": [],
   "source": [
    "obj4 = Child()"
   ]
  },
  {
   "cell_type": "code",
   "execution_count": 70,
   "id": "983fd83d-e9ad-4e0a-ae82-13409dc9ac86",
   "metadata": {},
   "outputs": [
    {
     "name": "stdout",
     "output_type": "stream",
     "text": [
      "i am grand father, this is my property\n"
     ]
    }
   ],
   "source": [
    "obj4.prop_grand_father()"
   ]
  },
  {
   "cell_type": "code",
   "execution_count": 71,
   "id": "a73bfe73-9e3d-4931-9a4a-363c47ad8c64",
   "metadata": {},
   "outputs": [
    {
     "name": "stdout",
     "output_type": "stream",
     "text": [
      "i have my property , and can also access grand fathers property\n"
     ]
    }
   ],
   "source": [
    "obj4.prop_father()"
   ]
  },
  {
   "cell_type": "code",
   "execution_count": 72,
   "id": "f105f970-97fd-4d97-8e58-53c314897ba7",
   "metadata": {},
   "outputs": [
    {
     "name": "stdout",
     "output_type": "stream",
     "text": [
      "i have my property, my father's property and grand father's property\n"
     ]
    }
   ],
   "source": [
    "obj4.prop_child()"
   ]
  },
  {
   "cell_type": "code",
   "execution_count": 73,
   "id": "579aff98-916b-42b5-bf4d-ff9bf64be4f8",
   "metadata": {},
   "outputs": [],
   "source": [
    "obj5 = Father()"
   ]
  },
  {
   "cell_type": "code",
   "execution_count": 74,
   "id": "5d6cfd2a-b5d3-49c9-ae92-7dbc3fad136f",
   "metadata": {},
   "outputs": [
    {
     "name": "stdout",
     "output_type": "stream",
     "text": [
      "i have my property , and can also access grand fathers property\n"
     ]
    }
   ],
   "source": [
    "obj5.prop_father()"
   ]
  },
  {
   "cell_type": "code",
   "execution_count": 75,
   "id": "2d6d04ab-6d4d-4821-894d-b4f580903f66",
   "metadata": {},
   "outputs": [
    {
     "name": "stdout",
     "output_type": "stream",
     "text": [
      "i am grand father, this is my property\n"
     ]
    }
   ],
   "source": [
    "obj5.prop_grand_father()"
   ]
  },
  {
   "cell_type": "code",
   "execution_count": 76,
   "id": "497154fa-8186-41ad-ac60-6a6d1a1b3a18",
   "metadata": {},
   "outputs": [],
   "source": [
    "obj6 = GrandFather()"
   ]
  },
  {
   "cell_type": "code",
   "execution_count": 77,
   "id": "1ed77cfc-e227-416e-9877-51039bf4c4d2",
   "metadata": {},
   "outputs": [
    {
     "name": "stdout",
     "output_type": "stream",
     "text": [
      "i am grand father, this is my property\n"
     ]
    }
   ],
   "source": [
    "obj6.prop_grand_father()"
   ]
  },
  {
   "cell_type": "code",
   "execution_count": 78,
   "id": "5590b922-c3e6-494b-b24a-0bded3b10a53",
   "metadata": {},
   "outputs": [],
   "source": [
    "#multilevel inheritance\n",
    "#use case \n",
    "class Vehical:\n",
    "    def vehical_info(self):\n",
    "        print(\"inside vehical class\")\n",
    "class Car(Vehical):\n",
    "    def car_info(self):\n",
    "        print(\"inside car class\")\n",
    "class Sports_car(Car):\n",
    "    def sports_car(self):\n",
    "        print(\"inside sports_car class\")\n",
    "#method overridnig >> child class is most popular"
   ]
  },
  {
   "cell_type": "code",
   "execution_count": 79,
   "id": "fe3e1762-82e9-4b93-94fa-fd2020ea5797",
   "metadata": {},
   "outputs": [],
   "source": [
    "o = Vehical()"
   ]
  },
  {
   "cell_type": "code",
   "execution_count": 80,
   "id": "ea180980-89c9-4417-b23a-922968951536",
   "metadata": {},
   "outputs": [
    {
     "name": "stdout",
     "output_type": "stream",
     "text": [
      "inside vehical class\n"
     ]
    }
   ],
   "source": [
    "o.vehical_info()"
   ]
  },
  {
   "cell_type": "code",
   "execution_count": 81,
   "id": "b4fc5696-a66f-4dbe-babb-7c8e7b2795f6",
   "metadata": {},
   "outputs": [],
   "source": [
    "o1 = Sports_car()"
   ]
  },
  {
   "cell_type": "code",
   "execution_count": 82,
   "id": "f6d1d1e9-48bd-4c04-8a61-e8092056abde",
   "metadata": {},
   "outputs": [
    {
     "name": "stdout",
     "output_type": "stream",
     "text": [
      "inside vehical class\n"
     ]
    }
   ],
   "source": [
    "o1.vehical_info()"
   ]
  },
  {
   "cell_type": "code",
   "execution_count": 83,
   "id": "b9059ed7-8b0d-4a4c-a0e5-181e7c69f029",
   "metadata": {},
   "outputs": [],
   "source": [
    "#multiple inheritance >>one child class may inherit the property of multiple parent calss\n",
    "\n",
    "# parent calss     parent class\n",
    "#           \\\\     ||\n",
    "#          Child class"
   ]
  },
  {
   "cell_type": "code",
   "execution_count": 91,
   "id": "e3dbb613-2d3a-4e57-91c5-8f81c26b8916",
   "metadata": {},
   "outputs": [],
   "source": [
    "class Parent1:\n",
    "    def method1(self):\n",
    "        print(\"method 1 of parent class 1\")\n",
    "class Parent2:\n",
    "    def method2(self):\n",
    "        print(\"method 2 of parent calss 2\")\n",
    "class Child(Parent1, Parent2):\n",
    "    def method3(self):\n",
    "        print(\"method 3 of child class\")"
   ]
  },
  {
   "cell_type": "code",
   "execution_count": 92,
   "id": "481c1735-60f4-4f62-b3a8-4972f2847b7b",
   "metadata": {},
   "outputs": [],
   "source": [
    "oo = Child()"
   ]
  },
  {
   "cell_type": "code",
   "execution_count": 95,
   "id": "39cc0b19-0f7f-402a-9ac9-eca7a81165fb",
   "metadata": {},
   "outputs": [
    {
     "name": "stdout",
     "output_type": "stream",
     "text": [
      "method 1 of parent class 1\n"
     ]
    }
   ],
   "source": [
    "oo.method1()"
   ]
  },
  {
   "cell_type": "code",
   "execution_count": 99,
   "id": "291bc89e-d67e-4bb8-b7b6-c291e72395ca",
   "metadata": {},
   "outputs": [],
   "source": [
    "#diamond problem>> it occes when a class inherits two or more class >> it will lead to embiguity in excution of methods\n",
    "#to remove diamond problem >> puthon uses method resolution order (MRO) algorithm called c3 linealization\n",
    "#meaning that the class that is inherited first in the derived calss, that method will be executed \n",
    "class Parent1:\n",
    "    def method(self):\n",
    "        print(\"method 1 of parent class 1\")\n",
    "class Parent2:\n",
    "    def method(self):\n",
    "        print(\"method 2 of parent calss 2\")\n",
    "class Child(Parent1, Parent2):\n",
    "    def method3(self):\n",
    "        print(\"method 3 of child class\")"
   ]
  },
  {
   "cell_type": "code",
   "execution_count": 97,
   "id": "ce6e65c2-5837-444f-b4d7-b9ed4eb23b54",
   "metadata": {},
   "outputs": [],
   "source": [
    "o3 = Child()"
   ]
  },
  {
   "cell_type": "code",
   "execution_count": 98,
   "id": "9e401a9e-01fa-4616-b239-f52b8c7cc71b",
   "metadata": {},
   "outputs": [
    {
     "name": "stdout",
     "output_type": "stream",
     "text": [
      "method 1 of parent class 1\n"
     ]
    }
   ],
   "source": [
    "o3.method()"
   ]
  },
  {
   "cell_type": "code",
   "execution_count": 111,
   "id": "ebf71567-be4d-47b6-96d3-e92a5304bac1",
   "metadata": {},
   "outputs": [],
   "source": [
    "#diamond problem\n",
    "class A:\n",
    "    def method(self):\n",
    "        print(\"method of class A\")\n",
    "class B(A):\n",
    "    def method(self):\n",
    "        print(\"method of calss B\")\n",
    "class C(A):\n",
    "    def method(self):\n",
    "        print(\"method of class C\")\n",
    "class D(B,C):\n",
    "  pass"
   ]
  },
  {
   "cell_type": "code",
   "execution_count": 112,
   "id": "2050c691-6b44-421a-94c8-9988b1deef47",
   "metadata": {},
   "outputs": [
    {
     "name": "stdout",
     "output_type": "stream",
     "text": [
      "method of calss B\n"
     ]
    }
   ],
   "source": [
    "d = D()\n",
    "d.method()"
   ]
  },
  {
   "cell_type": "code",
   "execution_count": null,
   "id": "8f14d323-6a80-4835-8895-963bf162d7fa",
   "metadata": {},
   "outputs": [],
   "source": [
    "#hierarchical in"
   ]
  },
  {
   "cell_type": "code",
   "execution_count": null,
   "id": "21dccd20-4f47-4e74-ae51-2920585b2c71",
   "metadata": {},
   "outputs": [],
   "source": []
  }
 ],
 "metadata": {
  "kernelspec": {
   "display_name": "Python 3 (ipykernel)",
   "language": "python",
   "name": "python3"
  },
  "language_info": {
   "codemirror_mode": {
    "name": "ipython",
    "version": 3
   },
   "file_extension": ".py",
   "mimetype": "text/x-python",
   "name": "python",
   "nbconvert_exporter": "python",
   "pygments_lexer": "ipython3",
   "version": "3.13.2"
  }
 },
 "nbformat": 4,
 "nbformat_minor": 5
}
