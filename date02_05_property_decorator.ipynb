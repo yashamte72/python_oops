{
 "cells": [
  {
   "cell_type": "code",
   "execution_count": null,
   "id": "faad3f68-aefa-4982-a7a5-f054567ff080",
   "metadata": {},
   "outputs": [],
   "source": []
  }
 ],
 "metadata": {
  "kernelspec": {
   "display_name": "",
   "name": ""
  },
  "language_info": {
   "name": ""
  }
 },
 "nbformat": 4,
 "nbformat_minor": 5
}
