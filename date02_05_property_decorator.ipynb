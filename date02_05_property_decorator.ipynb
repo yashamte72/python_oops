{
 "cells": [
  {
   "cell_type": "code",
   "execution_count": 1,
   "id": "faad3f68-aefa-4982-a7a5-f054567ff080",
   "metadata": {},
   "outputs": [],
   "source": [
    "#property decorator >> you are allowe to use class method as attributes"
   ]
  },
  {
   "cell_type": "code",
   "execution_count": 2,
   "id": "446863b5-4853-4b14-87e1-0077541f4fdc",
   "metadata": {},
   "outputs": [],
   "source": [
    "class Student:\n",
    "    def __init__(self, name, price):\n",
    "        self.__name= name\n",
    "        self.__price = price"
   ]
  },
  {
   "cell_type": "code",
   "execution_count": 3,
   "id": "55cedbf7-1d53-40c8-9a4a-67e23323201f",
   "metadata": {},
   "outputs": [],
   "source": [
    "#here name and price are privet varibale you can not access it out side the class\n",
    "stud = Student(\"yash\",3000)"
   ]
  },
  {
   "cell_type": "code",
   "execution_count": 6,
   "id": "9df1e648-6dc7-4f78-94e7-c53c969e4e8c",
   "metadata": {},
   "outputs": [
    {
     "ename": "AttributeError",
     "evalue": "'Student' object has no attribute 'name'",
     "output_type": "error",
     "traceback": [
      "\u001b[1;31m---------------------------------------------------------------------------\u001b[0m",
      "\u001b[1;31mAttributeError\u001b[0m                            Traceback (most recent call last)",
      "Cell \u001b[1;32mIn[6], line 1\u001b[0m\n\u001b[1;32m----> 1\u001b[0m \u001b[43mstud\u001b[49m\u001b[38;5;241;43m.\u001b[39;49m\u001b[43mname\u001b[49m\n",
      "\u001b[1;31mAttributeError\u001b[0m: 'Student' object has no attribute 'name'"
     ]
    }
   ],
   "source": [
    "stud.name"
   ]
  },
  {
   "cell_type": "code",
   "execution_count": 7,
   "id": "39897bd9-811b-4349-adb2-a3cfd6731aa2",
   "metadata": {},
   "outputs": [
    {
     "data": {
      "text/plain": [
       "'yash'"
      ]
     },
     "execution_count": 7,
     "metadata": {},
     "output_type": "execute_result"
    }
   ],
   "source": [
    "#still you can  access privet variable if you know structure of the class\n",
    "stud._Student__name #using calss name and extra variable name"
   ]
  },
  {
   "cell_type": "code",
   "execution_count": 9,
   "id": "f65d0725-22ed-434e-b7ec-382c7afa1876",
   "metadata": {},
   "outputs": [],
   "source": [
    "#another way to expose privet varibale using property decorator\n",
    "\n",
    "class Student:\n",
    "    def __init__(self, name, price):\n",
    "        self.__name= name\n",
    "        self.__price = price\n",
    "    @property\n",
    "    def acc_price(self):\n",
    "        return self.__price"
   ]
  },
  {
   "cell_type": "code",
   "execution_count": 10,
   "id": "5aee8fd6-0ccc-4d95-adc0-23ce0e994cd5",
   "metadata": {},
   "outputs": [],
   "source": [
    "stud = Student(\"yash\",4000)"
   ]
  },
  {
   "cell_type": "code",
   "execution_count": 13,
   "id": "742b99f0-5ab5-4e01-b5c8-bc776fdb64ab",
   "metadata": {},
   "outputs": [
    {
     "data": {
      "text/plain": [
       "4000"
      ]
     },
     "execution_count": 13,
     "metadata": {},
     "output_type": "execute_result"
    }
   ],
   "source": [
    "stud.acc_price"
   ]
  },
  {
   "cell_type": "code",
   "execution_count": 14,
   "id": "50427b0d-a078-4be9-9b05-3619999ac8f3",
   "metadata": {},
   "outputs": [],
   "source": [
    "#you want to modify the price \n",
    "\n",
    "class Student:\n",
    "    def __init__(self, name, price):\n",
    "        self.__name= name\n",
    "        self.__price = price\n",
    "    @property\n",
    "    def acc_price(self):\n",
    "        return self.__price\n",
    "\n",
    "    @acc_price.setter\n",
    "    def price_set(self, price_new):\n",
    "        self.__price = price_new"
   ]
  },
  {
   "cell_type": "code",
   "execution_count": 15,
   "id": "19751750-8220-4075-bcc9-dd33d69fd99c",
   "metadata": {},
   "outputs": [],
   "source": [
    "stud = Student(\"yash\",4000)"
   ]
  },
  {
   "cell_type": "code",
   "execution_count": 18,
   "id": "7806e5dc-f1e8-4af8-b389-55080dc626f2",
   "metadata": {},
   "outputs": [],
   "source": [
    "stud.price_set = 1500 "
   ]
  },
  {
   "cell_type": "code",
   "execution_count": 19,
   "id": "29cc7295-ba1f-49fe-b9c6-bfb0cc392f60",
   "metadata": {},
   "outputs": [
    {
     "data": {
      "text/plain": [
       "1500"
      ]
     },
     "execution_count": 19,
     "metadata": {},
     "output_type": "execute_result"
    }
   ],
   "source": [
    "stud.acc_price"
   ]
  },
  {
   "cell_type": "code",
   "execution_count": 20,
   "id": "eec028cd-331e-48ef-82c2-b365064b0993",
   "metadata": {},
   "outputs": [],
   "source": [
    "#delete the variable price\n",
    "\n",
    "class Student:\n",
    "    def __init__(self, name, price):\n",
    "        self.__name= name\n",
    "        self.__price = price\n",
    "    @property\n",
    "    def acc_price(self):\n",
    "        return self.__price\n",
    "\n",
    "    @acc_price.setter\n",
    "    def price_set(self, price_new):\n",
    "        self.__price = price_new\n",
    "\n",
    "\n",
    "    def price_del(self):\n",
    "        del self.__price"
   ]
  },
  {
   "cell_type": "code",
   "execution_count": 21,
   "id": "d3ba3459-65f2-4c09-aa27-0d180726d245",
   "metadata": {},
   "outputs": [],
   "source": [
    "stud = Student(\"yash\",4000)"
   ]
  },
  {
   "cell_type": "code",
   "execution_count": 23,
   "id": "a147458a-2429-4677-af31-52e1a4607de0",
   "metadata": {},
   "outputs": [],
   "source": [
    "stud.price_del()"
   ]
  },
  {
   "cell_type": "code",
   "execution_count": 24,
   "id": "26d6d00d-d517-4c38-87cf-2b38b5c07d40",
   "metadata": {},
   "outputs": [
    {
     "ename": "AttributeError",
     "evalue": "'Student' object has no attribute '_Student__price'",
     "output_type": "error",
     "traceback": [
      "\u001b[1;31m---------------------------------------------------------------------------\u001b[0m",
      "\u001b[1;31mAttributeError\u001b[0m                            Traceback (most recent call last)",
      "Cell \u001b[1;32mIn[24], line 1\u001b[0m\n\u001b[1;32m----> 1\u001b[0m \u001b[43mstud\u001b[49m\u001b[38;5;241;43m.\u001b[39;49m\u001b[43macc_price\u001b[49m\n",
      "Cell \u001b[1;32mIn[20], line 9\u001b[0m, in \u001b[0;36mStudent.acc_price\u001b[1;34m(self)\u001b[0m\n\u001b[0;32m      7\u001b[0m \u001b[38;5;129m@property\u001b[39m\n\u001b[0;32m      8\u001b[0m \u001b[38;5;28;01mdef\u001b[39;00m\u001b[38;5;250m \u001b[39m\u001b[38;5;21macc_price\u001b[39m(\u001b[38;5;28mself\u001b[39m):\n\u001b[1;32m----> 9\u001b[0m     \u001b[38;5;28;01mreturn\u001b[39;00m \u001b[38;5;28;43mself\u001b[39;49m\u001b[38;5;241;43m.\u001b[39;49m\u001b[43m__price\u001b[49m\n",
      "\u001b[1;31mAttributeError\u001b[0m: 'Student' object has no attribute '_Student__price'"
     ]
    }
   ],
   "source": [
    "stud.acc_price"
   ]
  },
  {
   "cell_type": "code",
   "execution_count": 41,
   "id": "f9e1ba2b-3b3e-464d-a505-ac349a112e04",
   "metadata": {},
   "outputs": [],
   "source": [
    "#use case \n",
    "class Circle:\n",
    "    def __init__(self, radius):\n",
    "        self.__radius = radius \n",
    "\n",
    "    @property\n",
    "    def acc_radius(self):\n",
    "        return self.__radius\n",
    "\n",
    "    @acc_radius.setter\n",
    "    def set_radius(self,new_radius):\n",
    "        self.__radius = new_radius\n",
    "\n",
    "    def area(self):\n",
    "        return 3.14*self.__radius**2 \n",
    "\n",
    "    def delete(self):\n",
    "        del self.__radius"
   ]
  },
  {
   "cell_type": "code",
   "execution_count": 42,
   "id": "24a70419-0a48-42a0-ad06-f730f4ff05d3",
   "metadata": {},
   "outputs": [],
   "source": [
    "shape = Circle(30)"
   ]
  },
  {
   "cell_type": "code",
   "execution_count": 43,
   "id": "4fb4af93-ca30-43a2-b6de-f278c412aa69",
   "metadata": {},
   "outputs": [
    {
     "data": {
      "text/plain": [
       "30"
      ]
     },
     "execution_count": 43,
     "metadata": {},
     "output_type": "execute_result"
    }
   ],
   "source": [
    "shape.acc_radius"
   ]
  },
  {
   "cell_type": "code",
   "execution_count": 44,
   "id": "bad18fda-678f-414e-b6c3-ad92e6f820d8",
   "metadata": {},
   "outputs": [],
   "source": [
    "shape.set_radius = 12"
   ]
  },
  {
   "cell_type": "code",
   "execution_count": 45,
   "id": "68de03ae-9850-4b4e-b146-b50842339a61",
   "metadata": {},
   "outputs": [
    {
     "data": {
      "text/plain": [
       "12"
      ]
     },
     "execution_count": 45,
     "metadata": {},
     "output_type": "execute_result"
    }
   ],
   "source": [
    "shape.acc_radius"
   ]
  },
  {
   "cell_type": "code",
   "execution_count": 46,
   "id": "26dad732-cdb8-4e6e-b4f8-72b812ab6938",
   "metadata": {},
   "outputs": [
    {
     "data": {
      "text/plain": [
       "452.16"
      ]
     },
     "execution_count": 46,
     "metadata": {},
     "output_type": "execute_result"
    }
   ],
   "source": [
    "shape.area()"
   ]
  },
  {
   "cell_type": "code",
   "execution_count": null,
   "id": "9f3ddcd9-2bbb-4815-a6ed-d846fbe1fc15",
   "metadata": {},
   "outputs": [],
   "source": []
  },
  {
   "cell_type": "code",
   "execution_count": null,
   "id": "e0694574-7e98-49cb-b477-c2cc7e97aa91",
   "metadata": {},
   "outputs": [],
   "source": []
  }
 ],
 "metadata": {
  "kernelspec": {
   "display_name": "Python 3 (ipykernel)",
   "language": "python",
   "name": "python3"
  },
  "language_info": {
   "codemirror_mode": {
    "name": "ipython",
    "version": 3
   },
   "file_extension": ".py",
   "mimetype": "text/x-python",
   "name": "python",
   "nbconvert_exporter": "python",
   "pygments_lexer": "ipython3",
   "version": "3.13.3"
  }
 },
 "nbformat": 4,
 "nbformat_minor": 5
}
