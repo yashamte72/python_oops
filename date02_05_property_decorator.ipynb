{
 "cells": [
  {
   "cell_type": "code",
   "execution_count": 1,
   "id": "faad3f68-aefa-4982-a7a5-f054567ff080",
   "metadata": {},
   "outputs": [],
   "source": [
    "#property decorator >> you are allowe to use class method as attributes"
   ]
  },
  {
   "cell_type": "code",
   "execution_count": 2,
   "id": "446863b5-4853-4b14-87e1-0077541f4fdc",
   "metadata": {},
   "outputs": [],
   "source": [
    "class Student:\n",
    "    def __init__(self, name, price):\n",
    "        self.__name= name\n",
    "        self.__price = price"
   ]
  },
  {
   "cell_type": "code",
   "execution_count": 3,
   "id": "55cedbf7-1d53-40c8-9a4a-67e23323201f",
   "metadata": {},
   "outputs": [],
   "source": [
    "#here name and price are privet varibale you can not access it out side the class\n",
    "stud = Student(\"yash\",3000)"
   ]
  },
  {
   "cell_type": "code",
   "execution_count": 6,
   "id": "9df1e648-6dc7-4f78-94e7-c53c969e4e8c",
   "metadata": {},
   "outputs": [
    {
     "ename": "AttributeError",
     "evalue": "'Student' object has no attribute 'name'",
     "output_type": "error",
     "traceback": [
      "\u001b[1;31m---------------------------------------------------------------------------\u001b[0m",
      "\u001b[1;31mAttributeError\u001b[0m                            Traceback (most recent call last)",
      "Cell \u001b[1;32mIn[6], line 1\u001b[0m\n\u001b[1;32m----> 1\u001b[0m \u001b[43mstud\u001b[49m\u001b[38;5;241;43m.\u001b[39;49m\u001b[43mname\u001b[49m\n",
      "\u001b[1;31mAttributeError\u001b[0m: 'Student' object has no attribute 'name'"
     ]
    }
   ],
   "source": [
    "stud.name"
   ]
  },
  {
   "cell_type": "code",
   "execution_count": 7,
   "id": "39897bd9-811b-4349-adb2-a3cfd6731aa2",
   "metadata": {},
   "outputs": [
    {
     "data": {
      "text/plain": [
       "'yash'"
      ]
     },
     "execution_count": 7,
     "metadata": {},
     "output_type": "execute_result"
    }
   ],
   "source": [
    "#still you can  access privet variable if you know structure of the class\n",
    "stud._Student__name #using calss name and extra variable name"
   ]
  },
  {
   "cell_type": "code",
   "execution_count": 9,
   "id": "f65d0725-22ed-434e-b7ec-382c7afa1876",
   "metadata": {},
   "outputs": [],
   "source": [
    "#another way to expose privet varibale using property decorator\n",
    "\n",
    "class Student:\n",
    "    def __init__(self, name, price):\n",
    "        self.__name= name\n",
    "        self.__price = price\n",
    "    @property\n",
    "    def acc_price(self):\n",
    "        return self.__price"
   ]
  },
  {
   "cell_type": "code",
   "execution_count": 10,
   "id": "5aee8fd6-0ccc-4d95-adc0-23ce0e994cd5",
   "metadata": {},
   "outputs": [],
   "source": [
    "stud = Student(\"yash\",4000)"
   ]
  },
  {
   "cell_type": "code",
   "execution_count": 13,
   "id": "742b99f0-5ab5-4e01-b5c8-bc776fdb64ab",
   "metadata": {},
   "outputs": [
    {
     "data": {
      "text/plain": [
       "4000"
      ]
     },
     "execution_count": 13,
     "metadata": {},
     "output_type": "execute_result"
    }
   ],
   "source": [
    "stud.acc_price"
   ]
  },
  {
   "cell_type": "code",
   "execution_count": 14,
   "id": "50427b0d-a078-4be9-9b05-3619999ac8f3",
   "metadata": {},
   "outputs": [],
   "source": [
    "#you want to modify the price \n",
    "\n",
    "class Student:\n",
    "    def __init__(self, name, price):\n",
    "        self.__name= name\n",
    "        self.__price = price\n",
    "    @property\n",
    "    def acc_price(self):\n",
    "        return self.__price\n",
    "\n",
    "    @acc_price.setter\n",
    "    def price_set(self, price_new):\n",
    "        self.__price = price_new"
   ]
  },
  {
   "cell_type": "code",
   "execution_count": 15,
   "id": "19751750-8220-4075-bcc9-dd33d69fd99c",
   "metadata": {},
   "outputs": [],
   "source": [
    "stud = Student(\"yash\",4000)"
   ]
  },
  {
   "cell_type": "code",
   "execution_count": 17,
   "id": "7806e5dc-f1e8-4af8-b389-55080dc626f2",
   "metadata": {},
   "outputs": [
    {
     "ename": "TypeError",
     "evalue": "'int' object is not callable",
     "output_type": "error",
     "traceback": [
      "\u001b[1;31m---------------------------------------------------------------------------\u001b[0m",
      "\u001b[1;31mTypeError\u001b[0m                                 Traceback (most recent call last)",
      "Cell \u001b[1;32mIn[17], line 1\u001b[0m\n\u001b[1;32m----> 1\u001b[0m \u001b[43mstud\u001b[49m\u001b[38;5;241;43m.\u001b[39;49m\u001b[43mprice_set\u001b[49m\u001b[43m(\u001b[49m\u001b[38;5;124;43m\"\u001b[39;49m\u001b[38;5;124;43m2000\u001b[39;49m\u001b[38;5;124;43m\"\u001b[39;49m\u001b[43m)\u001b[49m\n",
      "\u001b[1;31mTypeError\u001b[0m: 'int' object is not callable"
     ]
    }
   ],
   "source": [
    "stud.price_set = 1500 "
   ]
  },
  {
   "cell_type": "code",
   "execution_count": null,
   "id": "29cc7295-ba1f-49fe-b9c6-bfb0cc392f60",
   "metadata": {},
   "outputs": [],
   "source": []
  }
 ],
 "metadata": {
  "kernelspec": {
   "display_name": "Python 3 (ipykernel)",
   "language": "python",
   "name": "python3"
  },
  "language_info": {
   "codemirror_mode": {
    "name": "ipython",
    "version": 3
   },
   "file_extension": ".py",
   "mimetype": "text/x-python",
   "name": "python",
   "nbconvert_exporter": "python",
   "pygments_lexer": "ipython3",
   "version": "3.13.3"
  }
 },
 "nbformat": 4,
 "nbformat_minor": 5
}
