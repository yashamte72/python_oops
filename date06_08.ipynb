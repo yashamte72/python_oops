{
 "cells": [
  {
   "cell_type": "code",
   "execution_count": 4,
   "id": "3d3bbbdd-8211-4ec1-abc6-4c743d16e107",
   "metadata": {},
   "outputs": [
    {
     "ename": "NameError",
     "evalue": "name 'isPalindrome' is not defined",
     "output_type": "error",
     "traceback": [
      "\u001b[1;31m---------------------------------------------------------------------------\u001b[0m",
      "\u001b[1;31mNameError\u001b[0m                                 Traceback (most recent call last)",
      "Cell \u001b[1;32mIn[4], line 13\u001b[0m\n\u001b[0;32m     11\u001b[0m             newstr \u001b[38;5;241m+\u001b[39m\u001b[38;5;241m=\u001b[39m c\u001b[38;5;241m.\u001b[39mlower()\n\u001b[0;32m     12\u001b[0m         \u001b[38;5;28;01mreturn\u001b[39;00m newstr \u001b[38;5;241m==\u001b[39m newstr[::\u001b[38;5;241m-\u001b[39m\u001b[38;5;241m1\u001b[39m] \n\u001b[1;32m---> 13\u001b[0m \u001b[43misPalindrome\u001b[49m(\u001b[38;5;124m'\u001b[39m\u001b[38;5;124myashamte\u001b[39m\u001b[38;5;124m'\u001b[39m)                \n",
      "\u001b[1;31mNameError\u001b[0m: name 'isPalindrome' is not defined"
     ]
    }
   ],
   "source": [
    "class Solution(object):\n",
    "    def isPalindrome(self, s):\n",
    "        \"\"\"\n",
    "        :type s: str\n",
    "        :rtype: bool\n",
    "        \"\"\"\n",
    "        newstr = \"\"\n",
    "\n",
    "        for c in s:\n",
    "           if c.isalnum():\n",
    "            newstr += c.lower()\n",
    "        return newstr == newstr[::-1] \n",
    "isPalindrome('yashamte')                "
   ]
  },
  {
   "cell_type": "code",
   "execution_count": 2,
   "id": "bd509e5e-a684-4fa5-a3fc-2e0290351fb4",
   "metadata": {},
   "outputs": [
    {
     "ename": "NameError",
     "evalue": "name 'isPalindrome' is not defined",
     "output_type": "error",
     "traceback": [
      "\u001b[1;31m---------------------------------------------------------------------------\u001b[0m",
      "\u001b[1;31mNameError\u001b[0m                                 Traceback (most recent call last)",
      "Cell \u001b[1;32mIn[2], line 1\u001b[0m\n\u001b[1;32m----> 1\u001b[0m \u001b[43misPalindrome\u001b[49m(\u001b[38;5;124m\"\u001b[39m\u001b[38;5;124myashasmte\u001b[39m\u001b[38;5;124m\"\u001b[39m)\n",
      "\u001b[1;31mNameError\u001b[0m: name 'isPalindrome' is not defined"
     ]
    }
   ],
   "source": []
  },
  {
   "cell_type": "code",
   "execution_count": null,
   "id": "47edbcf6-047f-41ec-b480-4da2171e8bef",
   "metadata": {},
   "outputs": [],
   "source": []
  }
 ],
 "metadata": {
  "kernelspec": {
   "display_name": "Python 3 (ipykernel)",
   "language": "python",
   "name": "python3"
  },
  "language_info": {
   "codemirror_mode": {
    "name": "ipython",
    "version": 3
   },
   "file_extension": ".py",
   "mimetype": "text/x-python",
   "name": "python",
   "nbconvert_exporter": "python",
   "pygments_lexer": "ipython3",
   "version": "3.13.3"
  }
 },
 "nbformat": 4,
 "nbformat_minor": 5
}
