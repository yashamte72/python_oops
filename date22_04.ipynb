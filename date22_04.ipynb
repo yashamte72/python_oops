{
 "cells": [
  {
   "cell_type": "code",
   "execution_count": 1,
   "id": "581e1122-98cb-4fd2-819f-2c743fe958b6",
   "metadata": {},
   "outputs": [
    {
     "name": "stdout",
     "output_type": "stream",
     "text": [
      "hello world\n"
     ]
    }
   ],
   "source": [
    "print(\"hello world\")"
   ]
  },
  {
   "cell_type": "code",
   "execution_count": 2,
   "id": "07d38788-29e9-472f-86c5-68603595fb7c",
   "metadata": {},
   "outputs": [
    {
     "data": {
      "text/plain": [
       "8"
      ]
     },
     "execution_count": 2,
     "metadata": {},
     "output_type": "execute_result"
    }
   ],
   "source": [
    "len(\"pwskills\")"
   ]
  },
  {
   "cell_type": "code",
   "execution_count": 3,
   "id": "078ba60a-72fb-44aa-b9c1-d12394425ee4",
   "metadata": {},
   "outputs": [
    {
     "data": {
      "text/plain": [
       "int"
      ]
     },
     "execution_count": 3,
     "metadata": {},
     "output_type": "execute_result"
    }
   ],
   "source": [
    "type(5)\n"
   ]
  },
  {
   "cell_type": "code",
   "execution_count": 4,
   "id": "c640579e-6466-4e90-af24-4c403ef4e04d",
   "metadata": {},
   "outputs": [
    {
     "data": {
      "text/plain": [
       "float"
      ]
     },
     "execution_count": 4,
     "metadata": {},
     "output_type": "execute_result"
    }
   ],
   "source": [
    "type(6.6)"
   ]
  },
  {
   "cell_type": "code",
   "execution_count": 5,
   "id": "8b3757a6-7b62-4d10-aa74-2d1a4eefcee1",
   "metadata": {},
   "outputs": [],
   "source": [
    "#function print len type >>these are inbuilt functions\n",
    "# also ceil and floor funtion"
   ]
  },
  {
   "cell_type": "code",
   "execution_count": 6,
   "id": "5156da71-00a8-4c05-8631-b15ccde054f0",
   "metadata": {},
   "outputs": [],
   "source": [
    "import math as m "
   ]
  },
  {
   "cell_type": "code",
   "execution_count": 7,
   "id": "d26f2c5e-359a-410c-aafd-e6b1bb7ceb39",
   "metadata": {},
   "outputs": [
    {
     "data": {
      "text/plain": [
       "6"
      ]
     },
     "execution_count": 7,
     "metadata": {},
     "output_type": "execute_result"
    }
   ],
   "source": [
    "m.ceil(5.6)"
   ]
  },
  {
   "cell_type": "code",
   "execution_count": 8,
   "id": "528ac7f2-5d4e-4924-a3bf-d07adeb5dd60",
   "metadata": {},
   "outputs": [
    {
     "data": {
      "text/plain": [
       "5"
      ]
     },
     "execution_count": 8,
     "metadata": {},
     "output_type": "execute_result"
    }
   ],
   "source": [
    "m.floor(5.6)"
   ]
  },
  {
   "cell_type": "code",
   "execution_count": 9,
   "id": "90e98ccd-90f3-4e5a-b6dc-f643e0284766",
   "metadata": {},
   "outputs": [],
   "source": [
    "#functions > inbuilt functions\n",
    "#user Define Functions"
   ]
  },
  {
   "cell_type": "code",
   "execution_count": 10,
   "id": "e30dec0f-0756-401c-9304-710895ee1970",
   "metadata": {},
   "outputs": [],
   "source": [
    "#syntax of functions\n",
    "#def fun():\n",
    "    #do something>> body of the function"
   ]
  },
  {
   "cell_type": "code",
   "execution_count": 11,
   "id": "de9d2534-31f7-49e0-9a24-ddad2f074575",
   "metadata": {},
   "outputs": [],
   "source": [
    "#function is block of code which performs specific task\n",
    "#we need funcions to resuse the code"
   ]
  },
  {
   "cell_type": "code",
   "execution_count": 12,
   "id": "59261814-13a2-4680-b126-986379cf88f1",
   "metadata": {},
   "outputs": [
    {
     "name": "stdout",
     "output_type": "stream",
     "text": [
      "welcome to the office ram\n",
      "welcome to the office yash\n",
      "welcome to the office priya\n"
     ]
    }
   ],
   "source": [
    "print(\"welcome to the office ram\")\n",
    "print(\"welcome to the office yash\")\n",
    "print(\"welcome to the office priya\")"
   ]
  },
  {
   "cell_type": "code",
   "execution_count": 13,
   "id": "6983eb35-09fc-4383-bdda-8a42ddee9455",
   "metadata": {},
   "outputs": [],
   "source": [
    "def greet(name): #varieable inside funtion >> name is positional argument\n",
    "    print(\"welcome to the office\", name)"
   ]
  },
  {
   "cell_type": "code",
   "execution_count": 14,
   "id": "2869bee9-d7df-41f7-bd2a-4e92961c8293",
   "metadata": {},
   "outputs": [
    {
     "name": "stdout",
     "output_type": "stream",
     "text": [
      "welcome to the office yash\n"
     ]
    }
   ],
   "source": [
    "greet(\"yash\")"
   ]
  },
  {
   "cell_type": "code",
   "execution_count": 15,
   "id": "00b6a31b-029a-4a0a-b18c-0aae470c12e0",
   "metadata": {},
   "outputs": [
    {
     "name": "stdout",
     "output_type": "stream",
     "text": [
      "welcome to the office priya\n"
     ]
    }
   ],
   "source": [
    "greet(\"priya\")"
   ]
  },
  {
   "cell_type": "code",
   "execution_count": 16,
   "id": "9c149660-637d-41d4-ad1f-81af4a330135",
   "metadata": {},
   "outputs": [
    {
     "name": "stdout",
     "output_type": "stream",
     "text": [
      "welcome to the office bijay\n"
     ]
    }
   ],
   "source": [
    "greet(\"bijay\")"
   ]
  },
  {
   "cell_type": "code",
   "execution_count": 17,
   "id": "3193b3e5-e739-4d57-b81e-efb2a413b409",
   "metadata": {},
   "outputs": [
    {
     "ename": "TypeError",
     "evalue": "greet() missing 1 required positional argument: 'name'",
     "output_type": "error",
     "traceback": [
      "\u001b[1;31m---------------------------------------------------------------------------\u001b[0m",
      "\u001b[1;31mTypeError\u001b[0m                                 Traceback (most recent call last)",
      "Cell \u001b[1;32mIn[17], line 1\u001b[0m\n\u001b[1;32m----> 1\u001b[0m \u001b[43mgreet\u001b[49m\u001b[43m(\u001b[49m\u001b[43m)\u001b[49m \u001b[38;5;66;03m#it will throw an error \u001b[39;00m\n",
      "\u001b[1;31mTypeError\u001b[0m: greet() missing 1 required positional argument: 'name'"
     ]
    }
   ],
   "source": [
    "greet() #it will throw an error "
   ]
  },
  {
   "cell_type": "code",
   "execution_count": 19,
   "id": "1dd96642-820e-4e61-ba0f-99eb94a8bd94",
   "metadata": {},
   "outputs": [
    {
     "name": "stdout",
     "output_type": "stream",
     "text": [
      "this is my first function\n"
     ]
    }
   ],
   "source": [
    " def func():\n",
    "     print(\"this is my first function\")\n",
    "\n",
    "func()"
   ]
  },
  {
   "cell_type": "code",
   "execution_count": 21,
   "id": "c9f8af3e-3a6f-4707-a422-2553605fe68a",
   "metadata": {},
   "outputs": [
    {
     "data": {
      "text/plain": [
       "'this is my first function in python'"
      ]
     },
     "execution_count": 21,
     "metadata": {},
     "output_type": "execute_result"
    }
   ],
   "source": [
    "\"this is my first function \"+\"in python\""
   ]
  },
  {
   "cell_type": "code",
   "execution_count": null,
   "id": "513cd0fd-774b-4267-a4ba-24a88baf00a1",
   "metadata": {},
   "outputs": [],
   "source": [
    "func() + \"in python\" #throw an error >> unsupported operands"
   ]
  },
  {
   "cell_type": "code",
   "execution_count": 25,
   "id": "29ce9ec7-3bb3-45fa-b14f-5f87d9ec8f5e",
   "metadata": {},
   "outputs": [
    {
     "data": {
      "text/plain": [
       "'this is my first program in python'"
      ]
     },
     "execution_count": 25,
     "metadata": {},
     "output_type": "execute_result"
    }
   ],
   "source": [
    "def func(): #return >> output if a function\n",
    "    return \"this is my first program \"\n",
    "\n",
    "func() +\"in python\""
   ]
  },
  {
   "cell_type": "code",
   "execution_count": 26,
   "id": "5beb2afb-9977-46f9-b1fe-1fe53d300f83",
   "metadata": {},
   "outputs": [
    {
     "data": {
      "text/plain": [
       "('this is my first program ', 1, 2, 3.4, True, (3+4j))"
      ]
     },
     "execution_count": 26,
     "metadata": {},
     "output_type": "execute_result"
    }
   ],
   "source": [
    "def func(): #return >> output if a function\n",
    "    return \"this is my first program \",1,2,3.4,True,3+4j\n",
    "\n",
    "func()"
   ]
  },
  {
   "cell_type": "code",
   "execution_count": 27,
   "id": "697f44e0-1cd1-456f-9714-146f6c0142f8",
   "metadata": {},
   "outputs": [
    {
     "data": {
      "text/plain": [
       "tuple"
      ]
     },
     "execution_count": 27,
     "metadata": {},
     "output_type": "execute_result"
    }
   ],
   "source": [
    "a = func()\n",
    "type(a)"
   ]
  },
  {
   "cell_type": "code",
   "execution_count": 28,
   "id": "aff6e00b-7e5b-4c06-956c-9de3c14518eb",
   "metadata": {},
   "outputs": [
    {
     "data": {
      "text/plain": [
       "6"
      ]
     },
     "execution_count": 28,
     "metadata": {},
     "output_type": "execute_result"
    }
   ],
   "source": [
    "len(a)"
   ]
  },
  {
   "cell_type": "code",
   "execution_count": 29,
   "id": "b498b20e-133a-40b7-af76-9be33d043da7",
   "metadata": {},
   "outputs": [],
   "source": [
    "a ,b,c,d,e,f = func()"
   ]
  },
  {
   "cell_type": "code",
   "execution_count": 30,
   "id": "64b0fa8c-5aea-4ab0-8f38-ebd78405750a",
   "metadata": {},
   "outputs": [
    {
     "data": {
      "text/plain": [
       "'this is my first program '"
      ]
     },
     "execution_count": 30,
     "metadata": {},
     "output_type": "execute_result"
    }
   ],
   "source": [
    "a"
   ]
  },
  {
   "cell_type": "code",
   "execution_count": 31,
   "id": "ca375ac2-67d7-4fb9-9599-c1951d998785",
   "metadata": {},
   "outputs": [
    {
     "data": {
      "text/plain": [
       "1"
      ]
     },
     "execution_count": 31,
     "metadata": {},
     "output_type": "execute_result"
    }
   ],
   "source": [
    "b"
   ]
  },
  {
   "cell_type": "code",
   "execution_count": 32,
   "id": "a65fa5a3-4c59-469c-95da-0b2bd30d00eb",
   "metadata": {},
   "outputs": [
    {
     "data": {
      "text/plain": [
       "2"
      ]
     },
     "execution_count": 32,
     "metadata": {},
     "output_type": "execute_result"
    }
   ],
   "source": [
    "c"
   ]
  },
  {
   "cell_type": "code",
   "execution_count": 33,
   "id": "bdd96611-0e7d-4932-bf9b-49de13e96555",
   "metadata": {},
   "outputs": [
    {
     "data": {
      "text/plain": [
       "3.4"
      ]
     },
     "execution_count": 33,
     "metadata": {},
     "output_type": "execute_result"
    }
   ],
   "source": [
    "d"
   ]
  },
  {
   "cell_type": "code",
   "execution_count": 34,
   "id": "c0cb56b3-ceb1-4432-abb7-b7196d3567b4",
   "metadata": {},
   "outputs": [
    {
     "data": {
      "text/plain": [
       "True"
      ]
     },
     "execution_count": 34,
     "metadata": {},
     "output_type": "execute_result"
    }
   ],
   "source": [
    "e"
   ]
  },
  {
   "cell_type": "code",
   "execution_count": 35,
   "id": "f00a8faf-c7f7-4e5e-9793-163c1e528790",
   "metadata": {},
   "outputs": [
    {
     "data": {
      "text/plain": [
       "(3+4j)"
      ]
     },
     "execution_count": 35,
     "metadata": {},
     "output_type": "execute_result"
    }
   ],
   "source": [
    "f"
   ]
  },
  {
   "cell_type": "code",
   "execution_count": null,
   "id": "88baa7d7-9f10-420c-ba47-2400493dac9d",
   "metadata": {},
   "outputs": [],
   "source": []
  }
 ],
 "metadata": {
  "kernelspec": {
   "display_name": "Python 3 (ipykernel)",
   "language": "python",
   "name": "python3"
  },
  "language_info": {
   "codemirror_mode": {
    "name": "ipython",
    "version": 3
   },
   "file_extension": ".py",
   "mimetype": "text/x-python",
   "name": "python",
   "nbconvert_exporter": "python",
   "pygments_lexer": "ipython3",
   "version": "3.13.2"
  }
 },
 "nbformat": 4,
 "nbformat_minor": 5
}
