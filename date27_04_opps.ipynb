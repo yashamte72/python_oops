{
 "cells": [
  {
   "cell_type": "code",
   "execution_count": 1,
   "id": "1a7726fc-6caa-4175-9dad-98ee268099e4",
   "metadata": {},
   "outputs": [],
   "source": [
    "a = 5"
   ]
  },
  {
   "cell_type": "code",
   "execution_count": 2,
   "id": "5c23ea1a-91e0-4798-ab2e-e298f8d71e9d",
   "metadata": {},
   "outputs": [
    {
     "data": {
      "text/plain": [
       "int"
      ]
     },
     "execution_count": 2,
     "metadata": {},
     "output_type": "execute_result"
    }
   ],
   "source": [
    "type(a)"
   ]
  },
  {
   "cell_type": "code",
   "execution_count": 3,
   "id": "3d8152d4-5cfe-431c-b217-b5ce3e21bb7a",
   "metadata": {},
   "outputs": [
    {
     "name": "stdout",
     "output_type": "stream",
     "text": [
      "<class 'int'>\n"
     ]
    }
   ],
   "source": [
    "print(type(a))"
   ]
  },
  {
   "cell_type": "code",
   "execution_count": 4,
   "id": "7d1e4520-b188-4684-995b-0b5feac5322f",
   "metadata": {},
   "outputs": [
    {
     "name": "stdout",
     "output_type": "stream",
     "text": [
      "<class 'str'>\n"
     ]
    }
   ],
   "source": [
    "a = \"yash\"\n",
    "print(type(a))"
   ]
  },
  {
   "cell_type": "code",
   "execution_count": 5,
   "id": "693c8ad1-9084-4f1e-bb73-8b0b89aa4b58",
   "metadata": {},
   "outputs": [],
   "source": [
    "#classe are blueprint or templates for creating an objects \n",
    "# we are different objects of class humans"
   ]
  },
  {
   "cell_type": "code",
   "execution_count": 6,
   "id": "aba5d82c-938d-435d-870c-6f74c191d882",
   "metadata": {},
   "outputs": [],
   "source": [
    "class car: #naming conventions>> we name in uppercamelcase\n",
    "    pass"
   ]
  },
  {
   "cell_type": "code",
   "execution_count": 8,
   "id": "4d83b04c-ee81-4abc-b2e8-5c6212e0d11a",
   "metadata": {},
   "outputs": [],
   "source": [
    "c1 = car() #instamce / object"
   ]
  },
  {
   "cell_type": "code",
   "execution_count": 9,
   "id": "efc6d0ac-3c7c-4198-a8c0-b37137002d1b",
   "metadata": {},
   "outputs": [
    {
     "name": "stdout",
     "output_type": "stream",
     "text": [
      "<class '__main__.car'>\n"
     ]
    }
   ],
   "source": [
    "print(type(c1))"
   ]
  },
  {
   "cell_type": "code",
   "execution_count": 10,
   "id": "fedd912b-41fe-4dc3-8a69-71ed76723c47",
   "metadata": {},
   "outputs": [],
   "source": [
    "#opps help you to arrage required function in classes  "
   ]
  },
  {
   "cell_type": "code",
   "execution_count": 29,
   "id": "3f0b230e-5501-4718-a993-4f3505667794",
   "metadata": {},
   "outputs": [],
   "source": [
    "#self >> a variable that reresent instance of the class using in which you can acces method/function    \n",
    "#self make sure that each object knows that the method is acccotiated with it\n",
    "#in other words the method is referenced to that perticuler object\n",
    "#self is not the python keyword, you can pass any variable name\n",
    "class car:\n",
    "    def accelerate(self):\n",
    "        print(\"car is accelerating\")\n",
    "    def brake(self):\n",
    "        print(\"car is stoping\")\n",
    "    pass"
   ]
  },
  {
   "cell_type": "code",
   "execution_count": 30,
   "id": "85bdf8fb-437d-4982-a8db-8578503ca19e",
   "metadata": {},
   "outputs": [
    {
     "name": "stdout",
     "output_type": "stream",
     "text": [
      "<class '__main__.car'>\n"
     ]
    }
   ],
   "source": [
    "c1= car()\n",
    "print(type(c1))"
   ]
  },
  {
   "cell_type": "code",
   "execution_count": 31,
   "id": "a77b8037-b6a2-4745-9829-314e34d48f3b",
   "metadata": {},
   "outputs": [
    {
     "name": "stdout",
     "output_type": "stream",
     "text": [
      "car is accelerating\n"
     ]
    }
   ],
   "source": [
    "c1.accelerate()"
   ]
  },
  {
   "cell_type": "code",
   "execution_count": 32,
   "id": "1b81b7af-a6e7-4408-94c0-019ece870be4",
   "metadata": {},
   "outputs": [
    {
     "name": "stdout",
     "output_type": "stream",
     "text": [
      "car is stoping\n"
     ]
    }
   ],
   "source": [
    "c1.brake()"
   ]
  },
  {
   "cell_type": "code",
   "execution_count": 33,
   "id": "d2095486-38e3-416b-9b64-e8b03a7b27c7",
   "metadata": {},
   "outputs": [
    {
     "name": "stdout",
     "output_type": "stream",
     "text": [
      "car is stoping\n"
     ]
    }
   ],
   "source": [
    "c2 =car()\n",
    "c2.brake()"
   ]
  },
  {
   "cell_type": "code",
   "execution_count": 35,
   "id": "5d9ba359-9c05-44b1-a0e4-fb13a591700b",
   "metadata": {},
   "outputs": [],
   "source": [
    "class bank:\n",
    "    def deposite(yash):\n",
    "        print(\"i'm depositing money\")\n",
    "    def windraw(yash):\n",
    "        print(\"i'm widrawing money\")"
   ]
  },
  {
   "cell_type": "code",
   "execution_count": 37,
   "id": "956debc1-42b3-4a72-b79a-3cbe784ce909",
   "metadata": {},
   "outputs": [
    {
     "name": "stdout",
     "output_type": "stream",
     "text": [
      "i'm depositing money\n"
     ]
    }
   ],
   "source": [
    "me = bank()\n",
    "me.deposite()"
   ]
  },
  {
   "cell_type": "code",
   "execution_count": 38,
   "id": "88548849-752b-4ef2-8a38-18bfb15976c9",
   "metadata": {},
   "outputs": [
    {
     "name": "stdout",
     "output_type": "stream",
     "text": [
      "i'm widrawing money\n"
     ]
    }
   ],
   "source": [
    "me.windraw()"
   ]
  },
  {
   "cell_type": "code",
   "execution_count": 39,
   "id": "44f17753-dbca-4e8a-a67d-8dc7e56d16ad",
   "metadata": {},
   "outputs": [],
   "source": [
    "#passing data in the class\n",
    "class bank:\n",
    "    def deposite(self,amount_d):\n",
    "        print(\"i'm depositing money\")\n",
    "    def windraw(self,amount_w):\n",
    "        print(\"i'm widrawing money\")"
   ]
  },
  {
   "cell_type": "code",
   "execution_count": 42,
   "id": "da92ccbb-556b-4767-b4c0-bc88fd5526df",
   "metadata": {},
   "outputs": [
    {
     "name": "stdout",
     "output_type": "stream",
     "text": [
      "i'm depositing money\n"
     ]
    }
   ],
   "source": [
    "yash = bank()\n",
    "yash.deposite(2000) #throw an error"
   ]
  },
  {
   "cell_type": "code",
   "execution_count": 43,
   "id": "de1a8b89-b052-4746-b92a-033a0491f2af",
   "metadata": {},
   "outputs": [
    {
     "name": "stdout",
     "output_type": "stream",
     "text": [
      "i'm widrawing money\n"
     ]
    }
   ],
   "source": [
    "yash.windraw(100)"
   ]
  },
  {
   "cell_type": "code",
   "execution_count": 45,
   "id": "57e0c01e-7acc-45e1-acee-140bbfcfe005",
   "metadata": {},
   "outputs": [],
   "source": [
    "#bank will ask for a default amount\n",
    "class bank:\n",
    "    amount =1000\n",
    "    def deposite(self,amount_d):\n",
    "        print(\"i'm depositing money\")\n",
    "    def windraw(self,amount_w):\n",
    "        print(\"i'm widrawing money\")"
   ]
  },
  {
   "cell_type": "code",
   "execution_count": 47,
   "id": "adff9c21-62b6-4c54-b1cf-cd4587365e88",
   "metadata": {},
   "outputs": [
    {
     "data": {
      "text/plain": [
       "1000"
      ]
     },
     "execution_count": 47,
     "metadata": {},
     "output_type": "execute_result"
    }
   ],
   "source": [
    "#attribute can be also be accessed the same way as method are accessed  \n",
    "yash = bank()\n",
    "yash.amount"
   ]
  },
  {
   "cell_type": "code",
   "execution_count": 60,
   "id": "10ec2f09-36f2-4115-a5f3-c3f8bcd50679",
   "metadata": {},
   "outputs": [],
   "source": [
    "#extract odd and even nos form a list\n",
    "\n",
    "class listops:\n",
    "    l =[2,4,52,1,22,11]\n",
    "    def even(self, l):\n",
    "        l1= []\n",
    "        for i in l:\n",
    "            if i %2 ==0:\n",
    "                l1.append(i)\n",
    "        return l1\n",
    "    def odd(self, l):\n",
    "        l1= []\n",
    "        for i in l:\n",
    "            if i %2 !=0:\n",
    "                l1.append(i)\n",
    "        return l1"
   ]
  },
  {
   "cell_type": "code",
   "execution_count": 61,
   "id": "cc81287d-2278-4fb6-9aad-51840e685fe4",
   "metadata": {},
   "outputs": [
    {
     "data": {
      "text/plain": [
       "[1, 11]"
      ]
     },
     "execution_count": 61,
     "metadata": {},
     "output_type": "execute_result"
    }
   ],
   "source": [
    "ops1 = listops()\n",
    "ops1.odd(ops1.l)"
   ]
  },
  {
   "cell_type": "code",
   "execution_count": 62,
   "id": "03603fb0-3bc2-4952-b023-a98cd0d6bc4a",
   "metadata": {},
   "outputs": [
    {
     "data": {
      "text/plain": [
       "[2, 4, 52, 1, 22, 11]"
      ]
     },
     "execution_count": 62,
     "metadata": {},
     "output_type": "execute_result"
    }
   ],
   "source": [
    "ops2 = listops()\n",
    "ops2.l"
   ]
  },
  {
   "cell_type": "code",
   "execution_count": 63,
   "id": "050b01f0-e5c8-42b6-a937-935b34cb1541",
   "metadata": {},
   "outputs": [
    {
     "data": {
      "text/plain": [
       "[2, 4, 52, 1, 22, 11]"
      ]
     },
     "execution_count": 63,
     "metadata": {},
     "output_type": "execute_result"
    }
   ],
   "source": [
    "ops2.l"
   ]
  },
  {
   "cell_type": "code",
   "execution_count": 65,
   "id": "bc9da06d-ca98-427b-b29a-9ee2a4e1304d",
   "metadata": {},
   "outputs": [
    {
     "data": {
      "text/plain": [
       "[2, 4, 52, 22]"
      ]
     },
     "execution_count": 65,
     "metadata": {},
     "output_type": "execute_result"
    }
   ],
   "source": [
    "ops2.even(ops2.l)"
   ]
  },
  {
   "cell_type": "code",
   "execution_count": 82,
   "id": "269688e8-b89e-4970-95ec-419d5cea453b",
   "metadata": {},
   "outputs": [],
   "source": [
    "#you want to take the attributr value of the class for each object deffrecitatly   \n",
    "#extract odd and even nos form a list\n",
    "\n",
    "class listops:\n",
    "    def __init__(self,l): #magic method /dunder method init means initialization of variable\n",
    "        self.l = l  #everywhere you will be able to access it\n",
    "\n",
    "        \n",
    "    def even(self): #be careful as init has been used only pass self in the method\n",
    "        l = self.l\n",
    "        l1= []\n",
    "        for i in l:\n",
    "            if i %2 ==0:\n",
    "                l1.append(i)\n",
    "        return l1\n",
    "    def odd(self): #careful i have init used\n",
    "        l = self.l\n",
    "        l1= []\n",
    "        for i in l:\n",
    "            if i %2 !=0:\n",
    "                l1.append(i)\n",
    "        return l1"
   ]
  },
  {
   "cell_type": "code",
   "execution_count": 83,
   "id": "86aa6d57-98d1-4a3b-ab6d-c89da3ac0916",
   "metadata": {},
   "outputs": [],
   "source": [
    "ops = listops([1,22,3,15,4])"
   ]
  },
  {
   "cell_type": "code",
   "execution_count": 84,
   "id": "a716a341-55d1-459b-aac4-822fa7a831bb",
   "metadata": {},
   "outputs": [
    {
     "data": {
      "text/plain": [
       "[1, 22, 3, 15, 4]"
      ]
     },
     "execution_count": 84,
     "metadata": {},
     "output_type": "execute_result"
    }
   ],
   "source": [
    "ops.l"
   ]
  },
  {
   "cell_type": "code",
   "execution_count": 85,
   "id": "17ea8cad-437c-4461-8e3a-6f27b865ab7c",
   "metadata": {},
   "outputs": [],
   "source": [
    "ops = listops([1,22,3,15,4,222])"
   ]
  },
  {
   "cell_type": "code",
   "execution_count": 86,
   "id": "fc5b8a55-26bd-4257-818f-6c1c9a740bcd",
   "metadata": {},
   "outputs": [
    {
     "data": {
      "text/plain": [
       "[1, 22, 3, 15, 4, 222]"
      ]
     },
     "execution_count": 86,
     "metadata": {},
     "output_type": "execute_result"
    }
   ],
   "source": [
    "ops.l"
   ]
  },
  {
   "cell_type": "code",
   "execution_count": 92,
   "id": "505354f3-5994-4911-8b68-639784a0cc24",
   "metadata": {},
   "outputs": [
    {
     "data": {
      "text/plain": [
       "[22, 90]"
      ]
     },
     "execution_count": 92,
     "metadata": {},
     "output_type": "execute_result"
    }
   ],
   "source": [
    "ops1 = listops([11,43,23,21,22,53,65,90])\n",
    "ops1.even()"
   ]
  },
  {
   "cell_type": "code",
   "execution_count": 93,
   "id": "6a8c3a2e-3710-4687-bf39-e579b42e234c",
   "metadata": {},
   "outputs": [
    {
     "data": {
      "text/plain": [
       "[11, 43, 23, 21, 53, 65]"
      ]
     },
     "execution_count": 93,
     "metadata": {},
     "output_type": "execute_result"
    }
   ],
   "source": [
    "ops1.odd()"
   ]
  },
  {
   "cell_type": "code",
   "execution_count": null,
   "id": "320e800a-ac24-41c9-a4ae-b570d87c9d8f",
   "metadata": {},
   "outputs": [],
   "source": [
    "#you want to take the attributr value of the class for each object deffrecitatly   \n",
    "#extract odd and even nos form a list\n",
    "\n",
    "class listops:\n",
    "    def __init__(self,l): #magic method /dunder method init means initialization of variable\n",
    "        self.l = l #everywhere you will be able to access it\n",
    "\n",
    "        \n",
    "    def even(self): #be careful as init has been used only pass self in the method\n",
    "        l = self.l\n",
    "        l1= []\n",
    "        for i in l:\n",
    "            if i %2 ==0:\n",
    "                l1.append(i)\n",
    "        return l1\n",
    "    def odd(self): #careful i have init used\n",
    "        l = self.l\n",
    "        l1= []\n",
    "        for i in l:\n",
    "            if i %2 !=0:\n",
    "                l1.append(i)\n",
    "        return l1"
   ]
  },
  {
   "cell_type": "code",
   "execution_count": 99,
   "id": "af38815e-3b48-4487-8d2f-99fe135477b1",
   "metadata": {},
   "outputs": [],
   "source": [
    "#multiple attributes\n",
    "#in a library a book is associated with author , title and name\n",
    "\n",
    "class book:\n",
    "    def __init__(self,name,author,title):\n",
    "        self.name_of_book =name\n",
    "        self.book_author = author\n",
    "        self.book_title = title\n",
    "\n",
    "    def ex_details_name_title(self):\n",
    "        print(self.name_of_book,self.book_title)\n",
    "\n",
    "    def ex_details_author_name(self):\n",
    "        print(self.book_author,self.name_of_book)"
   ]
  },
  {
   "cell_type": "code",
   "execution_count": 103,
   "id": "e451b749-7912-4810-87d7-545bcc8b0ad8",
   "metadata": {},
   "outputs": [],
   "source": [
    "obj = book(\"naga\",\"yash\",\"agni\")"
   ]
  },
  {
   "cell_type": "code",
   "execution_count": 104,
   "id": "a0cb5a1e-4212-4988-b9f0-e9e9b1bf7018",
   "metadata": {},
   "outputs": [
    {
     "name": "stdout",
     "output_type": "stream",
     "text": [
      "naga agni\n"
     ]
    }
   ],
   "source": [
    "obj.ex_details_name_title()"
   ]
  },
  {
   "cell_type": "code",
   "execution_count": 105,
   "id": "d92f2798-c136-4fd0-b88a-e5627628a8fe",
   "metadata": {},
   "outputs": [
    {
     "name": "stdout",
     "output_type": "stream",
     "text": [
      "yash naga\n"
     ]
    }
   ],
   "source": [
    "obj.ex_details_author_name()"
   ]
  },
  {
   "cell_type": "code",
   "execution_count": 107,
   "id": "4715e568-dd0b-455e-b126-fe995b69e8ae",
   "metadata": {},
   "outputs": [],
   "source": [
    "#every variable is fixed\n",
    "\n",
    "class book:\n",
    "    def __init__(self):\n",
    "        self.name_of_book =\"agnipant\"\n",
    "        self.book_author = \"hritik\"\n",
    "        self.book_title = \"action\"\n",
    "\n",
    "    def ex_details_name_title(self):\n",
    "        print(self.name_of_book,self.book_title)\n",
    "\n",
    "    def ex_details_author_name(self):\n",
    "        print(self.book_author,self.name_of_book)"
   ]
  },
  {
   "cell_type": "code",
   "execution_count": 108,
   "id": "beeecfe9-f739-43e8-ad2e-4b609a99a9d7",
   "metadata": {},
   "outputs": [],
   "source": [
    "obj2 = book()"
   ]
  },
  {
   "cell_type": "code",
   "execution_count": 109,
   "id": "ef303177-f698-4fc3-8c6b-32cbee4d38e8",
   "metadata": {},
   "outputs": [
    {
     "name": "stdout",
     "output_type": "stream",
     "text": [
      "hritik agnipant\n"
     ]
    }
   ],
   "source": [
    "obj2.ex_details_author_name()"
   ]
  },
  {
   "cell_type": "code",
   "execution_count": null,
   "id": "376699dc-9342-4d77-90bd-f33e4c461190",
   "metadata": {},
   "outputs": [],
   "source": []
  }
 ],
 "metadata": {
  "kernelspec": {
   "display_name": "Python 3 (ipykernel)",
   "language": "python",
   "name": "python3"
  },
  "language_info": {
   "codemirror_mode": {
    "name": "ipython",
    "version": 3
   },
   "file_extension": ".py",
   "mimetype": "text/x-python",
   "name": "python",
   "nbconvert_exporter": "python",
   "pygments_lexer": "ipython3",
   "version": "3.13.2"
  }
 },
 "nbformat": 4,
 "nbformat_minor": 5
}
