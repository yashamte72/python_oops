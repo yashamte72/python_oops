{
 "cells": [
  {
   "cell_type": "code",
   "execution_count": 1,
   "id": "b5899270-f968-47ef-bc3d-7c9c4664fcbc",
   "metadata": {},
   "outputs": [
    {
     "name": "stdout",
     "output_type": "stream",
     "text": [
      "hello world\n"
     ]
    }
   ],
   "source": [
    "print(\"hello world\")"
   ]
  },
  {
   "cell_type": "code",
   "execution_count": 2,
   "id": "686683bd-e089-4e65-93dc-598977826699",
   "metadata": {},
   "outputs": [],
   "source": [
    "def sum_all(*args):\n",
    "    a = 0\n",
    "    for i in args:\n",
    "        a = a+i\n",
    "    return a"
   ]
  },
  {
   "cell_type": "code",
   "execution_count": 3,
   "id": "4f05eb5c-3727-4e71-b3b7-0baa65605af0",
   "metadata": {},
   "outputs": [
    {
     "data": {
      "text/plain": [
       "10"
      ]
     },
     "execution_count": 3,
     "metadata": {},
     "output_type": "execute_result"
    }
   ],
   "source": [
    "sum_all(1,2,3,4)"
   ]
  },
  {
   "cell_type": "code",
   "execution_count": 4,
   "id": "cbffca90-b802-441c-9b46-bebdfab3fa87",
   "metadata": {},
   "outputs": [],
   "source": [
    "def only_list(*args):\n",
    "    n = []\n",
    "    for i in args:\n",
    "        if type(i) == list:\n",
    "            n.append(i)\n",
    "    return n"
   ]
  },
  {
   "cell_type": "code",
   "execution_count": 5,
   "id": "3025a1b7-6267-4c98-ae5f-5b9a260d76bb",
   "metadata": {},
   "outputs": [
    {
     "data": {
      "text/plain": [
       "[[1, 2, 3], [77, 86]]"
      ]
     },
     "execution_count": 5,
     "metadata": {},
     "output_type": "execute_result"
    }
   ],
   "source": [
    "only_list([1,2,3],{2,1,4},(1,3,6),13,53,[77,86])"
   ]
  },
  {
   "cell_type": "code",
   "execution_count": null,
   "id": "d820cde6-acf5-415b-a84c-d46d550852aa",
   "metadata": {},
   "outputs": [],
   "source": []
  }
 ],
 "metadata": {
  "kernelspec": {
   "display_name": "Python 3 (ipykernel)",
   "language": "python",
   "name": "python3"
  },
  "language_info": {
   "codemirror_mode": {
    "name": "ipython",
    "version": 3
   },
   "file_extension": ".py",
   "mimetype": "text/x-python",
   "name": "python",
   "nbconvert_exporter": "python",
   "pygments_lexer": "ipython3",
   "version": "3.13.3"
  }
 },
 "nbformat": 4,
 "nbformat_minor": 5
}
