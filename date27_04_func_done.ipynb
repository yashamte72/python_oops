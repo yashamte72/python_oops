{
 "cells": [
  {
   "cell_type": "code",
   "execution_count": 1,
   "id": "fc9680c3-a225-4495-832b-cadf1c8e264c",
   "metadata": {},
   "outputs": [],
   "source": [
    "#reduce >> folding function / reduction\n",
    "#reduce will always take 2 args\n",
    "#syntax >> reduce(func , iterable)\n",
    "from functools import reduce"
   ]
  },
  {
   "cell_type": "code",
   "execution_count": 2,
   "id": "57ffa4be-1e58-4082-b9b2-897063a9adc2",
   "metadata": {},
   "outputs": [
    {
     "data": {
      "text/plain": [
       "28"
      ]
     },
     "execution_count": 2,
     "metadata": {},
     "output_type": "execute_result"
    }
   ],
   "source": [
    "l =[ 2,1,5,2,6,3,6,3]\n",
    "reduce(lambda x,y: x+y,l)"
   ]
  },
  {
   "cell_type": "code",
   "execution_count": 3,
   "id": "4a06249f-6958-49ac-a6ea-b8fbc3da8d0b",
   "metadata": {},
   "outputs": [
    {
     "ename": "TypeError",
     "evalue": "<lambda>() missing 1 required positional argument: 'z'",
     "output_type": "error",
     "traceback": [
      "\u001b[1;31m---------------------------------------------------------------------------\u001b[0m",
      "\u001b[1;31mTypeError\u001b[0m                                 Traceback (most recent call last)",
      "Cell \u001b[1;32mIn[3], line 2\u001b[0m\n\u001b[0;32m      1\u001b[0m l \u001b[38;5;241m=\u001b[39m[ \u001b[38;5;241m2\u001b[39m,\u001b[38;5;241m1\u001b[39m,\u001b[38;5;241m5\u001b[39m,\u001b[38;5;241m2\u001b[39m,\u001b[38;5;241m6\u001b[39m,\u001b[38;5;241m3\u001b[39m,\u001b[38;5;241m6\u001b[39m,\u001b[38;5;241m3\u001b[39m]\n\u001b[1;32m----> 2\u001b[0m \u001b[43mreduce\u001b[49m\u001b[43m(\u001b[49m\u001b[38;5;28;43;01mlambda\u001b[39;49;00m\u001b[43m \u001b[49m\u001b[43mx\u001b[49m\u001b[43m,\u001b[49m\u001b[43my\u001b[49m\u001b[43m,\u001b[49m\u001b[43mz\u001b[49m\u001b[43m:\u001b[49m\u001b[43m \u001b[49m\u001b[43mx\u001b[49m\u001b[38;5;241;43m+\u001b[39;49m\u001b[43my\u001b[49m\u001b[38;5;241;43m+\u001b[39;49m\u001b[43mz\u001b[49m\u001b[43m,\u001b[49m\u001b[43ml\u001b[49m\u001b[43m)\u001b[49m\n",
      "\u001b[1;31mTypeError\u001b[0m: <lambda>() missing 1 required positional argument: 'z'"
     ]
    }
   ],
   "source": [
    "l =[ 2,1,5,2,6,3,6,3]\n",
    "reduce(lambda x,y,z: x+y+z,l)"
   ]
  },
  {
   "cell_type": "code",
   "execution_count": 4,
   "id": "99e1277a-2966-4a0a-b155-8876240da2e2",
   "metadata": {},
   "outputs": [
    {
     "ename": "TypeError",
     "evalue": "reduce() of empty iterable with no initial value",
     "output_type": "error",
     "traceback": [
      "\u001b[1;31m---------------------------------------------------------------------------\u001b[0m",
      "\u001b[1;31mTypeError\u001b[0m                                 Traceback (most recent call last)",
      "Cell \u001b[1;32mIn[4], line 2\u001b[0m\n\u001b[0;32m      1\u001b[0m l \u001b[38;5;241m=\u001b[39m[ \u001b[38;5;241m2\u001b[39m,\u001b[38;5;241m1\u001b[39m,\u001b[38;5;241m5\u001b[39m,\u001b[38;5;241m2\u001b[39m,\u001b[38;5;241m6\u001b[39m,\u001b[38;5;241m3\u001b[39m,\u001b[38;5;241m6\u001b[39m,\u001b[38;5;241m3\u001b[39m]\n\u001b[1;32m----> 2\u001b[0m \u001b[43mreduce\u001b[49m\u001b[43m(\u001b[49m\u001b[38;5;28;43;01mlambda\u001b[39;49;00m\u001b[43m \u001b[49m\u001b[43mx\u001b[49m\u001b[43m,\u001b[49m\u001b[43my\u001b[49m\u001b[43m:\u001b[49m\u001b[43m \u001b[49m\u001b[43mx\u001b[49m\u001b[38;5;241;43m+\u001b[39;49m\u001b[43my\u001b[49m\u001b[43m,\u001b[49m\u001b[43m[\u001b[49m\u001b[43m]\u001b[49m\u001b[43m)\u001b[49m\n",
      "\u001b[1;31mTypeError\u001b[0m: reduce() of empty iterable with no initial value"
     ]
    }
   ],
   "source": [
    "l =[ 2,1,5,2,6,3,6,3]\n",
    "reduce(lambda x,y: x+y,[])"
   ]
  },
  {
   "cell_type": "code",
   "execution_count": 5,
   "id": "e6e7aa8c-5fc4-453d-905c-c85dc1973adc",
   "metadata": {},
   "outputs": [
    {
     "data": {
      "text/plain": [
       "1"
      ]
     },
     "execution_count": 5,
     "metadata": {},
     "output_type": "execute_result"
    }
   ],
   "source": [
    "l =[ 2,1,5,2,6,3,6,3]\n",
    "reduce(lambda x,y: x+y,[1])"
   ]
  },
  {
   "cell_type": "code",
   "execution_count": 8,
   "id": "b8499874-e128-4d2a-9609-92d8cc157cd2",
   "metadata": {},
   "outputs": [
    {
     "data": {
      "text/plain": [
       "'data science math'"
      ]
     },
     "execution_count": 8,
     "metadata": {},
     "output_type": "execute_result"
    }
   ],
   "source": [
    "words = [\"data\",\"science\",\"math\"]\n",
    "reduce(lambda x,y : x + \" \" +y, words)"
   ]
  },
  {
   "cell_type": "code",
   "execution_count": 9,
   "id": "e6dbe7ba-8fc4-43f7-a4a5-312055031b14",
   "metadata": {},
   "outputs": [
    {
     "data": {
      "text/plain": [
       "100000"
      ]
     },
     "execution_count": 9,
     "metadata": {},
     "output_type": "execute_result"
    }
   ],
   "source": [
    "num = [10,20,200,1000,100000]\n",
    "reduce(lambda x,y: x if x>y else y,num)"
   ]
  },
  {
   "cell_type": "code",
   "execution_count": 11,
   "id": "ff7bb5bf-425e-4c31-b09c-ebfa1b68a8bb",
   "metadata": {},
   "outputs": [],
   "source": [
    "def fac(n):\n",
    "    return reduce(lambda x,y : x*y , range(1 ,(n+1)))"
   ]
  },
  {
   "cell_type": "code",
   "execution_count": 12,
   "id": "02385b75-83bd-41b7-81ce-0a20645e7875",
   "metadata": {},
   "outputs": [
    {
     "data": {
      "text/plain": [
       "720"
      ]
     },
     "execution_count": 12,
     "metadata": {},
     "output_type": "execute_result"
    }
   ],
   "source": [
    "fac(6)"
   ]
  },
  {
   "cell_type": "code",
   "execution_count": 13,
   "id": "99ca1d71-fd7e-4800-b2b4-decf87df9a04",
   "metadata": {},
   "outputs": [
    {
     "data": {
      "text/plain": [
       "6"
      ]
     },
     "execution_count": 13,
     "metadata": {},
     "output_type": "execute_result"
    }
   ],
   "source": [
    "fac(3)"
   ]
  },
  {
   "cell_type": "code",
   "execution_count": 14,
   "id": "7c392a09-5f98-4235-8637-a38fb9b7a8bc",
   "metadata": {},
   "outputs": [
    {
     "data": {
      "text/plain": [
       "24"
      ]
     },
     "execution_count": 14,
     "metadata": {},
     "output_type": "execute_result"
    }
   ],
   "source": [
    "fac(4)"
   ]
  },
  {
   "cell_type": "code",
   "execution_count": 15,
   "id": "3e2ae7b5-753f-42b9-a4e2-b3591475895d",
   "metadata": {},
   "outputs": [],
   "source": [
    "#filter function >>it is used to filter form an iterable based on some conditions\n",
    "#syntax >> filter(function , iterable)\n"
   ]
  },
  {
   "cell_type": "code",
   "execution_count": 16,
   "id": "44467783-a28b-4bf6-9a49-d865bdb23fb3",
   "metadata": {},
   "outputs": [],
   "source": [
    "l = [2,1,4,6,4,2,4]\n"
   ]
  },
  {
   "cell_type": "code",
   "execution_count": 18,
   "id": "35c9af0e-6904-447d-bb01-d445e3f75d1b",
   "metadata": {},
   "outputs": [
    {
     "data": {
      "text/plain": [
       "[2, 4, 6, 4, 2, 4]"
      ]
     },
     "execution_count": 18,
     "metadata": {},
     "output_type": "execute_result"
    }
   ],
   "source": [
    "list(filter(lambda x: x%2 == 0, l ))"
   ]
  },
  {
   "cell_type": "code",
   "execution_count": 28,
   "id": "0b3b7bef-1dca-42ed-a851-fc685a473b7f",
   "metadata": {},
   "outputs": [
    {
     "data": {
      "text/plain": [
       "[4, 2, 5]"
      ]
     },
     "execution_count": 28,
     "metadata": {},
     "output_type": "execute_result"
    }
   ],
   "source": [
    "l1 = [-1,-3,-2,0,4,2,5]\n",
    "list(filter(lambda x: x > 0 , l1))"
   ]
  },
  {
   "cell_type": "code",
   "execution_count": 29,
   "id": "1444e565-b75b-48c6-8fee-52578aaa5f8d",
   "metadata": {},
   "outputs": [
    {
     "data": {
      "text/plain": [
       "[-1, -3, -2]"
      ]
     },
     "execution_count": 29,
     "metadata": {},
     "output_type": "execute_result"
    }
   ],
   "source": [
    "l1 = [-1,-3,-2,0,4,2,5]\n",
    "list(filter(lambda x: x < 0, l1))"
   ]
  },
  {
   "cell_type": "code",
   "execution_count": null,
   "id": "38887d2b-3558-4b82-af25-d94761bd9e7a",
   "metadata": {},
   "outputs": [],
   "source": []
  },
  {
   "cell_type": "code",
   "execution_count": 33,
   "id": "810c4ddb-69d1-43da-bb68-883b0102c459",
   "metadata": {},
   "outputs": [
    {
     "data": {
      "text/plain": [
       "['yash', 'priya']"
      ]
     },
     "execution_count": 33,
     "metadata": {},
     "output_type": "execute_result"
    }
   ],
   "source": [
    "s = [\"yash\" , \"priya\",\"akashh\"]\n",
    "list(filter(lambda x: len(x) < 6, s))"
   ]
  },
  {
   "cell_type": "code",
   "execution_count": 36,
   "id": "cfe4e7b2-bf48-44b0-8c60-d482383a7aa8",
   "metadata": {},
   "outputs": [
    {
     "data": {
      "text/plain": [
       "[12, 2, 34, 64]"
      ]
     },
     "execution_count": 36,
     "metadata": {},
     "output_type": "execute_result"
    }
   ],
   "source": [
    "def check_even(num):\n",
    "    if num % 2 == 0:\n",
    "        return True\n",
    "    return False\n",
    "\n",
    "num = [12,43,2,34,64,21]\n",
    "list(filter(check_even, num))"
   ]
  },
  {
   "cell_type": "code",
   "execution_count": null,
   "id": "f72c8f37-d39a-4cd6-9986-431c609d726b",
   "metadata": {},
   "outputs": [],
   "source": []
  },
  {
   "cell_type": "code",
   "execution_count": null,
   "id": "7002988e-d77c-49ca-b893-732b56677e6a",
   "metadata": {},
   "outputs": [],
   "source": []
  },
  {
   "cell_type": "code",
   "execution_count": null,
   "id": "980b30c2-e541-47ed-a16c-a44274e2f4e7",
   "metadata": {},
   "outputs": [],
   "source": []
  },
  {
   "cell_type": "code",
   "execution_count": null,
   "id": "2ab761b7-5666-468f-93d8-3a9a499c9343",
   "metadata": {},
   "outputs": [],
   "source": []
  }
 ],
 "metadata": {
  "kernelspec": {
   "display_name": "Python 3 (ipykernel)",
   "language": "python",
   "name": "python3"
  },
  "language_info": {
   "codemirror_mode": {
    "name": "ipython",
    "version": 3
   },
   "file_extension": ".py",
   "mimetype": "text/x-python",
   "name": "python",
   "nbconvert_exporter": "python",
   "pygments_lexer": "ipython3",
   "version": "3.13.2"
  }
 },
 "nbformat": 4,
 "nbformat_minor": 5
}
