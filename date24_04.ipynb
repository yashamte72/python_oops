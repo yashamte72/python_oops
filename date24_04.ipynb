{
 "cells": [
  {
   "cell_type": "code",
   "execution_count": 1,
   "id": "a5397a77-8207-4269-bb85-24d9be18b8b7",
   "metadata": {},
   "outputs": [],
   "source": [
    "import math"
   ]
  },
  {
   "cell_type": "code",
   "execution_count": 2,
   "id": "104332df-bc5d-43a8-a07b-7d33b0265165",
   "metadata": {},
   "outputs": [
    {
     "name": "stdout",
     "output_type": "stream",
     "text": [
      "p\n",
      "w\n",
      "s\n",
      "k\n",
      "i\n",
      "l\n",
      "l\n",
      "s\n"
     ]
    }
   ],
   "source": [
    "for i in \"pwskills\":\n",
    "    print(i)"
   ]
  },
  {
   "cell_type": "code",
   "execution_count": 3,
   "id": "921d5c60-1c1e-4499-a212-6de653b4c7a4",
   "metadata": {},
   "outputs": [
    {
     "name": "stdout",
     "output_type": "stream",
     "text": [
      "apple\n",
      "potato\n",
      "2\n",
      "3\n",
      "1\n",
      "banana\n"
     ]
    }
   ],
   "source": [
    "for i in {\"apple\",\"banana\",\"potato\",1,2,3}:\n",
    "    print(i)"
   ]
  },
  {
   "cell_type": "code",
   "execution_count": 4,
   "id": "43837d24-2892-40ed-ac8d-520c8aa4b969",
   "metadata": {},
   "outputs": [
    {
     "ename": "TypeError",
     "evalue": "'int' object is not iterable",
     "output_type": "error",
     "traceback": [
      "\u001b[1;31m---------------------------------------------------------------------------\u001b[0m",
      "\u001b[1;31mTypeError\u001b[0m                                 Traceback (most recent call last)",
      "Cell \u001b[1;32mIn[4], line 1\u001b[0m\n\u001b[1;32m----> 1\u001b[0m \u001b[38;5;28;43;01mfor\u001b[39;49;00m\u001b[43m \u001b[49m\u001b[43mi\u001b[49m\u001b[43m \u001b[49m\u001b[38;5;129;43;01min\u001b[39;49;00m\u001b[43m \u001b[49m\u001b[38;5;241;43m5\u001b[39;49m\u001b[43m:\u001b[49m\n\u001b[0;32m      2\u001b[0m \u001b[43m    \u001b[49m\u001b[38;5;28;43mprint\u001b[39;49m\u001b[43m(\u001b[49m\u001b[38;5;241;43m5\u001b[39;49m\u001b[43m)\u001b[49m\n",
      "\u001b[1;31mTypeError\u001b[0m: 'int' object is not iterable"
     ]
    }
   ],
   "source": [
    "for i in 5:\n",
    "    print(5)"
   ]
  },
  {
   "cell_type": "code",
   "execution_count": 5,
   "id": "2f6beffe-ab38-4dbe-85a6-82a0d4188ece",
   "metadata": {},
   "outputs": [],
   "source": [
    "#iterable \n",
    "#an itrable is any python object str / data structure that is capable of returning \n",
    "#its member one at a time\n",
    "#permitting it to be iterated over in a for loop\n",
    "#example > list,tuples"
   ]
  },
  {
   "cell_type": "code",
   "execution_count": 6,
   "id": "f59136da-e3ff-4849-8d4e-33661ad7ac72",
   "metadata": {},
   "outputs": [
    {
     "name": "stdout",
     "output_type": "stream",
     "text": [
      "1\n",
      "2\n",
      "3\n"
     ]
    }
   ],
   "source": [
    "lis = [1,2,3] #list is iterable \n",
    "for i in lis:\n",
    "    print(i)"
   ]
  },
  {
   "cell_type": "code",
   "execution_count": 7,
   "id": "4d39c831-225a-4ba5-bc65-d8cb6f6b56bc",
   "metadata": {},
   "outputs": [
    {
     "ename": "TypeError",
     "evalue": "'int' object is not iterable",
     "output_type": "error",
     "traceback": [
      "\u001b[1;31m---------------------------------------------------------------------------\u001b[0m",
      "\u001b[1;31mTypeError\u001b[0m                                 Traceback (most recent call last)",
      "Cell \u001b[1;32mIn[7], line 1\u001b[0m\n\u001b[1;32m----> 1\u001b[0m \u001b[38;5;28;43;01mfor\u001b[39;49;00m\u001b[43m \u001b[49m\u001b[43mi\u001b[49m\u001b[43m \u001b[49m\u001b[38;5;129;43;01min\u001b[39;49;00m\u001b[43m \u001b[49m\u001b[38;5;241;43m6\u001b[39;49m\u001b[43m:\u001b[49m\n\u001b[0;32m      2\u001b[0m \u001b[43m    \u001b[49m\u001b[38;5;28;43mprint\u001b[39;49m\u001b[43m(\u001b[49m\u001b[43mi\u001b[49m\u001b[43m)\u001b[49m\n",
      "\u001b[1;31mTypeError\u001b[0m: 'int' object is not iterable"
     ]
    }
   ],
   "source": [
    "for i in 6:\n",
    "    print(i)"
   ]
  },
  {
   "cell_type": "code",
   "execution_count": 8,
   "id": "d568b768-0edd-46f1-b221-0f5baa9fa801",
   "metadata": {},
   "outputs": [],
   "source": [
    "#iteration >>\n",
    "#processs of looping through the elements for an iterable (list,tuple , string)\n",
    "#using a loop \n",
    "#the process of returning element one by one iteration"
   ]
  },
  {
   "cell_type": "code",
   "execution_count": 9,
   "id": "2df9d141-4f3c-4742-b08f-cf85a67871a1",
   "metadata": {},
   "outputs": [
    {
     "name": "stdout",
     "output_type": "stream",
     "text": [
      "p\n",
      "w\n",
      "s\n",
      "k\n",
      "i\n",
      "l\n",
      "l\n",
      "s\n"
     ]
    }
   ],
   "source": [
    "for i in \"pwskills\":\n",
    "    print(i)"
   ]
  },
  {
   "cell_type": "code",
   "execution_count": null,
   "id": "828f9139-de9a-4e70-b689-6a9622a38342",
   "metadata": {},
   "outputs": [],
   "source": [
    "#iterator >> an iterator is an object represeneting a steam of data >>return the data one ofter another\n",
    "\n",
    "#anlogy\n",
    "#potato(iterable)>> it can not be cooked it original form \n",
    "#chop/wash the potato >> ready for cooking >> iterator\n",
    "#the process of cooking >> iteration"
   ]
  },
  {
   "cell_type": "code",
   "execution_count": null,
   "id": "19732000-462e-4e51-a05f-de7bba72e066",
   "metadata": {},
   "outputs": [],
   "source": []
  },
  {
   "cell_type": "code",
   "execution_count": null,
   "id": "91e50aaa-3b43-4d31-8cb3-5a1d932f4f90",
   "metadata": {},
   "outputs": [],
   "source": []
  },
  {
   "cell_type": "code",
   "execution_count": null,
   "id": "aa3f9099-fbf1-4409-badb-cac7217ae869",
   "metadata": {},
   "outputs": [],
   "source": []
  }
 ],
 "metadata": {
  "kernelspec": {
   "display_name": "Python 3 (ipykernel)",
   "language": "python",
   "name": "python3"
  },
  "language_info": {
   "codemirror_mode": {
    "name": "ipython",
    "version": 3
   },
   "file_extension": ".py",
   "mimetype": "text/x-python",
   "name": "python",
   "nbconvert_exporter": "python",
   "pygments_lexer": "ipython3",
   "version": "3.13.2"
  }
 },
 "nbformat": 4,
 "nbformat_minor": 5
}
