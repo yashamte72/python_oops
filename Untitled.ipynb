{
 "cells": [
  {
   "cell_type": "code",
   "execution_count": 2,
   "id": "5e14fbe7-c6e0-417a-82b0-0302498f7b1f",
   "metadata": {},
   "outputs": [
    {
     "data": {
      "text/plain": [
       "65"
      ]
     },
     "execution_count": 2,
     "metadata": {},
     "output_type": "execute_result"
    }
   ],
   "source": [
    "#ASCII represention\n",
    "char = \"A\"\n",
    "ord(char) # ord - numetic order of character"
   ]
  },
  {
   "cell_type": "code",
   "execution_count": 3,
   "id": "8cc9520a-3e7f-4a20-9126-485bee5b987c",
   "metadata": {},
   "outputs": [
    {
     "data": {
      "text/plain": [
       "97"
      ]
     },
     "execution_count": 3,
     "metadata": {},
     "output_type": "execute_result"
    }
   ],
   "source": [
    "ord(\"a\")"
   ]
  },
  {
   "cell_type": "code",
   "execution_count": 4,
   "id": "6d67c49e-be84-4c13-b1dc-4f9eafb07f9c",
   "metadata": {},
   "outputs": [
    {
     "data": {
      "text/plain": [
       "'a'"
      ]
     },
     "execution_count": 4,
     "metadata": {},
     "output_type": "execute_result"
    }
   ],
   "source": [
    "chr(97)"
   ]
  },
  {
   "cell_type": "code",
   "execution_count": 5,
   "id": "e51aea68-b3e7-49cb-949a-26b896dba897",
   "metadata": {},
   "outputs": [],
   "source": [
    "#UNICODE represention\n",
    "#omega"
   ]
  },
  {
   "cell_type": "code",
   "execution_count": 6,
   "id": "97f67bbc-05cf-4609-b3b9-26dd2dd7b1ca",
   "metadata": {},
   "outputs": [
    {
     "data": {
      "text/plain": [
       "'ຩ'"
      ]
     },
     "execution_count": 6,
     "metadata": {},
     "output_type": "execute_result"
    }
   ],
   "source": [
    "'\\u0ea9'"
   ]
  },
  {
   "cell_type": "code",
   "execution_count": 11,
   "id": "1008ad08-d246-4309-a4ee-0858fa7d7d4b",
   "metadata": {},
   "outputs": [],
   "source": [
    "string1 = \"yashamte\"\n",
    "string1 = 'yashamte1'"
   ]
  },
  {
   "cell_type": "code",
   "execution_count": 12,
   "id": "34904ff6-d03a-4cd8-8c52-1e5500035fa1",
   "metadata": {},
   "outputs": [
    {
     "data": {
      "text/plain": [
       "'yashamte1'"
      ]
     },
     "execution_count": 12,
     "metadata": {},
     "output_type": "execute_result"
    }
   ],
   "source": [
    "string1"
   ]
  },
  {
   "cell_type": "code",
   "execution_count": 13,
   "id": "5792e6fe-3e29-4c37-86c6-86f8e82ee4d9",
   "metadata": {},
   "outputs": [
    {
     "data": {
      "text/plain": [
       "str"
      ]
     },
     "execution_count": 13,
     "metadata": {},
     "output_type": "execute_result"
    }
   ],
   "source": [
    "type(string1)"
   ]
  },
  {
   "cell_type": "code",
   "execution_count": 14,
   "id": "1bfb0846-5d97-474a-a1f3-e7c0622696b7",
   "metadata": {},
   "outputs": [
    {
     "data": {
      "text/plain": [
       "\"i'm yash amte\""
      ]
     },
     "execution_count": 14,
     "metadata": {},
     "output_type": "execute_result"
    }
   ],
   "source": [
    "\"i'm yash amte\""
   ]
  },
  {
   "cell_type": "code",
   "execution_count": 15,
   "id": "4aab2d11-acb6-466e-8c1e-4cd784ed12c1",
   "metadata": {},
   "outputs": [
    {
     "data": {
      "text/plain": [
       "'I\"M yash amte'"
      ]
     },
     "execution_count": 15,
     "metadata": {},
     "output_type": "execute_result"
    }
   ],
   "source": [
    "\"\"\"I\"M yash amte\"\"\""
   ]
  },
  {
   "cell_type": "code",
   "execution_count": 16,
   "id": "0103d441-8f23-4cd6-9dbd-ab036d13a3c3",
   "metadata": {},
   "outputs": [
    {
     "data": {
      "text/plain": [
       "\" I'm yash amte\""
      ]
     },
     "execution_count": 16,
     "metadata": {},
     "output_type": "execute_result"
    }
   ],
   "source": [
    "''' I'm yash amte'''"
   ]
  },
  {
   "cell_type": "code",
   "execution_count": 17,
   "id": "be4b2aa2-9ac4-4d6c-aeb0-2e37d615fbbc",
   "metadata": {},
   "outputs": [
    {
     "data": {
      "text/plain": [
       "\" i'm \\nyash \\namte\""
      ]
     },
     "execution_count": 17,
     "metadata": {},
     "output_type": "execute_result"
    }
   ],
   "source": [
    "''' i'm \n",
    "yash \n",
    "amte'''"
   ]
  },
  {
   "cell_type": "code",
   "execution_count": 18,
   "id": "e1e4c21c-6ef3-4668-9ab8-d0152231c554",
   "metadata": {},
   "outputs": [
    {
     "data": {
      "text/plain": [
       "'hello world'"
      ]
     },
     "execution_count": 18,
     "metadata": {},
     "output_type": "execute_result"
    }
   ],
   "source": [
    "#concatination of string >> combinaing of two sting\n",
    "\"hello \" + \"world\""
   ]
  },
  {
   "cell_type": "code",
   "execution_count": 19,
   "id": "999fbc4f-f874-4333-8cd4-c5168d6f3dab",
   "metadata": {},
   "outputs": [
    {
     "data": {
      "text/plain": [
       "'hello , world!'"
      ]
     },
     "execution_count": 19,
     "metadata": {},
     "output_type": "execute_result"
    }
   ],
   "source": [
    "string1  = \"hello\"\n",
    "string2 = \"world!\"\n",
    "string1 + \" , \" + string2"
   ]
  },
  {
   "cell_type": "code",
   "execution_count": 20,
   "id": "4a794444-558a-494d-87d1-7ad6898008cf",
   "metadata": {},
   "outputs": [
    {
     "data": {
      "text/plain": [
       "'a'"
      ]
     },
     "execution_count": 20,
     "metadata": {},
     "output_type": "execute_result"
    }
   ],
   "source": [
    " #extract / slicing of string\n",
    "a = \"ajay\"\n",
    "a[0]"
   ]
  },
  {
   "cell_type": "code",
   "execution_count": 21,
   "id": "c687cd37-cc6c-41df-abd7-d30354827c63",
   "metadata": {},
   "outputs": [
    {
     "data": {
      "text/plain": [
       "'y'"
      ]
     },
     "execution_count": 21,
     "metadata": {},
     "output_type": "execute_result"
    }
   ],
   "source": [
    "a[3]"
   ]
  },
  {
   "cell_type": "code",
   "execution_count": 22,
   "id": "cb145b8d-9b3e-4716-87f2-4eee72eaea57",
   "metadata": {},
   "outputs": [
    {
     "ename": "IndexError",
     "evalue": "string index out of range",
     "output_type": "error",
     "traceback": [
      "\u001b[1;31m---------------------------------------------------------------------------\u001b[0m",
      "\u001b[1;31mIndexError\u001b[0m                                Traceback (most recent call last)",
      "Cell \u001b[1;32mIn[22], line 1\u001b[0m\n\u001b[1;32m----> 1\u001b[0m \u001b[43ma\u001b[49m\u001b[43m[\u001b[49m\u001b[38;5;241;43m4\u001b[39;49m\u001b[43m]\u001b[49m\n",
      "\u001b[1;31mIndexError\u001b[0m: string index out of range"
     ]
    }
   ],
   "source": [
    "a[4]"
   ]
  },
  {
   "cell_type": "code",
   "execution_count": 23,
   "id": "2e1b9bec-b4d5-4fee-89b8-d4102f5c9caf",
   "metadata": {},
   "outputs": [
    {
     "data": {
      "text/plain": [
       "'y'"
      ]
     },
     "execution_count": 23,
     "metadata": {},
     "output_type": "execute_result"
    }
   ],
   "source": [
    "a[-1]"
   ]
  },
  {
   "cell_type": "code",
   "execution_count": 24,
   "id": "91930abd-abe1-4e89-9b18-51384520d88f",
   "metadata": {},
   "outputs": [
    {
     "data": {
      "text/plain": [
       "'i am'"
      ]
     },
     "execution_count": 24,
     "metadata": {},
     "output_type": "execute_result"
    }
   ],
   "source": [
    "str1 = \"i am a good student\"\n",
    "str1[0:4] #4 is exclusive >> it will 0 to 3rd index"
   ]
  },
  {
   "cell_type": "code",
   "execution_count": 25,
   "id": "f26ac7ab-e0c6-4339-ae3b-45a81127f3fe",
   "metadata": {},
   "outputs": [
    {
     "data": {
      "text/plain": [
       "'a good '"
      ]
     },
     "execution_count": 25,
     "metadata": {},
     "output_type": "execute_result"
    }
   ],
   "source": [
    "str1[5:12]"
   ]
  },
  {
   "cell_type": "code",
   "execution_count": 28,
   "id": "6865a003-827e-45c3-a9a5-3f5d7f641486",
   "metadata": {},
   "outputs": [
    {
     "data": {
      "text/plain": [
       "'i am a good student'"
      ]
     },
     "execution_count": 28,
     "metadata": {},
     "output_type": "execute_result"
    }
   ],
   "source": [
    "str1[0:]"
   ]
  },
  {
   "cell_type": "code",
   "execution_count": 29,
   "id": "670630c8-663d-4f16-ada4-1968abcaab5d",
   "metadata": {},
   "outputs": [
    {
     "data": {
      "text/plain": [
       "'i am a good stud'"
      ]
     },
     "execution_count": 29,
     "metadata": {},
     "output_type": "execute_result"
    }
   ],
   "source": [
    "str1[0:-3]"
   ]
  },
  {
   "cell_type": "code",
   "execution_count": 30,
   "id": "c8cc8f46-f395-4eb3-a884-aadfca40807e",
   "metadata": {},
   "outputs": [
    {
     "data": {
      "text/plain": [
       "'ent'"
      ]
     },
     "execution_count": 30,
     "metadata": {},
     "output_type": "execute_result"
    }
   ],
   "source": [
    "str1[-3:]"
   ]
  },
  {
   "cell_type": "code",
   "execution_count": 31,
   "id": "bc3fc30f-8b88-4af6-98a1-26e5ea196957",
   "metadata": {},
   "outputs": [
    {
     "data": {
      "text/plain": [
       "'ia  od'"
      ]
     },
     "execution_count": 31,
     "metadata": {},
     "output_type": "execute_result"
    }
   ],
   "source": [
    "str1[0:12:2]"
   ]
  },
  {
   "cell_type": "code",
   "execution_count": null,
   "id": "7e8c02ad-4ff3-44cd-9dde-b939612099d8",
   "metadata": {},
   "outputs": [],
   "source": []
  }
 ],
 "metadata": {
  "kernelspec": {
   "display_name": "Python 3 (ipykernel)",
   "language": "python",
   "name": "python3"
  },
  "language_info": {
   "codemirror_mode": {
    "name": "ipython",
    "version": 3
   },
   "file_extension": ".py",
   "mimetype": "text/x-python",
   "name": "python",
   "nbconvert_exporter": "python",
   "pygments_lexer": "ipython3",
   "version": "3.13.3"
  }
 },
 "nbformat": 4,
 "nbformat_minor": 5
}
