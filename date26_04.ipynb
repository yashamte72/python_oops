{
 "cells": [
  {
   "cell_type": "code",
   "execution_count": 1,
   "id": "e14b8bf7-f7aa-4729-9034-953de1e15b19",
   "metadata": {},
   "outputs": [],
   "source": [
    "#lamda function >> annonymous function"
   ]
  },
  {
   "cell_type": "code",
   "execution_count": 2,
   "id": "4f89aeaa-713f-45cf-bbab-9eb6f490786b",
   "metadata": {},
   "outputs": [
    {
     "data": {
      "text/plain": [
       "4"
      ]
     },
     "execution_count": 2,
     "metadata": {},
     "output_type": "execute_result"
    }
   ],
   "source": [
    "def square(x):\n",
    "    return x**2\n",
    "square(2)"
   ]
  },
  {
   "cell_type": "code",
   "execution_count": 3,
   "id": "4b81089a-5161-4fa3-9fe2-e29353f3a9b1",
   "metadata": {},
   "outputs": [],
   "source": [
    "sq_lam = lambda x: x**2"
   ]
  },
  {
   "cell_type": "code",
   "execution_count": 4,
   "id": "c32eda09-e552-43b2-bb32-16bc382454b9",
   "metadata": {},
   "outputs": [
    {
     "data": {
      "text/plain": [
       "4"
      ]
     },
     "execution_count": 4,
     "metadata": {},
     "output_type": "execute_result"
    }
   ],
   "source": [
    "sq_lam(2)"
   ]
  },
  {
   "cell_type": "code",
   "execution_count": 5,
   "id": "81507fc1-0389-41b4-9c79-5cffea270745",
   "metadata": {},
   "outputs": [
    {
     "data": {
      "text/plain": [
       "6"
      ]
     },
     "execution_count": 5,
     "metadata": {},
     "output_type": "execute_result"
    }
   ],
   "source": [
    "add = lambda a,b:a+b\n",
    "add(2,4)"
   ]
  },
  {
   "cell_type": "code",
   "execution_count": 6,
   "id": "368470e2-f403-464f-88e1-fdec10a45465",
   "metadata": {},
   "outputs": [
    {
     "data": {
      "text/plain": [
       "True"
      ]
     },
     "execution_count": 6,
     "metadata": {},
     "output_type": "execute_result"
    }
   ],
   "source": [
    "\n",
    "even_no = lambda x: x%2 == 0\n",
    "even_no(4)"
   ]
  },
  {
   "cell_type": "code",
   "execution_count": 7,
   "id": "c350b3f9-6444-410b-af9d-6639d84c97cd",
   "metadata": {},
   "outputs": [
    {
     "data": {
      "text/plain": [
       "['python', 'english', 'math']"
      ]
     },
     "execution_count": 7,
     "metadata": {},
     "output_type": "execute_result"
    }
   ],
   "source": [
    "x =[\"python\",\"english\",\"math\"]\n",
    "x"
   ]
  },
  {
   "cell_type": "code",
   "execution_count": 9,
   "id": "9f7f9a49-a15c-4407-a587-f8b18763a489",
   "metadata": {},
   "outputs": [
    {
     "data": {
      "text/plain": [
       "['english', 'math', 'python']"
      ]
     },
     "execution_count": 9,
     "metadata": {},
     "output_type": "execute_result"
    }
   ],
   "source": [
    "sorted(x) #by default it will order in asc order"
   ]
  },
  {
   "cell_type": "code",
   "execution_count": 10,
   "id": "9d8b2954-fbf6-4308-93bb-9d8aceb21f52",
   "metadata": {},
   "outputs": [
    {
     "data": {
      "text/plain": [
       "4"
      ]
     },
     "execution_count": 10,
     "metadata": {},
     "output_type": "execute_result"
    }
   ],
   "source": [
    "#sort the list based on length of element the list\n",
    "le = lambda x: len(x)\n",
    "le(\"math\")"
   ]
  },
  {
   "cell_type": "code",
   "execution_count": 11,
   "id": "c226591f-2a80-4edb-ab8c-e245e69fa68b",
   "metadata": {},
   "outputs": [
    {
     "data": {
      "text/plain": [
       "['math', 'python', 'english']"
      ]
     },
     "execution_count": 11,
     "metadata": {},
     "output_type": "execute_result"
    }
   ],
   "source": [
    "sorted(x, key = lambda x: len(x))"
   ]
  },
  {
   "cell_type": "code",
   "execution_count": 14,
   "id": "f06ebcd1-ec59-4ca8-bad8-9d1585fe8ec4",
   "metadata": {},
   "outputs": [
    {
     "data": {
      "text/plain": [
       "[0, 1, 1, 2, 3, 5, 8, 13, 21, 34]"
      ]
     },
     "execution_count": 14,
     "metadata": {},
     "output_type": "execute_result"
    }
   ],
   "source": [
    "fib = lambda n: n if n<=1 else fib(n-1) + fib(n-2)\n",
    "[fib(i) for i in range(10)]"
   ]
  },
  {
   "cell_type": "code",
   "execution_count": 17,
   "id": "b89ba62f-1343-4000-a963-29f2506ac14f",
   "metadata": {},
   "outputs": [],
   "source": [
    "def fact_num(n):\n",
    "    if n==0:\n",
    "        return 1\n",
    "    else:\n",
    "        return n*fact_num(n-1)\n"
   ]
  },
  {
   "cell_type": "code",
   "execution_count": 18,
   "id": "9bbaa18e-847e-4908-b7e4-41d27f5886df",
   "metadata": {},
   "outputs": [
    {
     "data": {
      "text/plain": [
       "120"
      ]
     },
     "execution_count": 18,
     "metadata": {},
     "output_type": "execute_result"
    }
   ],
   "source": [
    "fact_num(5)"
   ]
  },
  {
   "cell_type": "code",
   "execution_count": 21,
   "id": "304da50d-e9e7-4965-adc9-0694a21e2787",
   "metadata": {},
   "outputs": [],
   "source": [
    "fact = lambda n: 1 if n==0 else n*fact(n-1)"
   ]
  },
  {
   "cell_type": "code",
   "execution_count": 22,
   "id": "9993196f-748c-4241-82d5-eacb9609db6b",
   "metadata": {},
   "outputs": [
    {
     "data": {
      "text/plain": [
       "120"
      ]
     },
     "execution_count": 22,
     "metadata": {},
     "output_type": "execute_result"
    }
   ],
   "source": [
    "fact(5)"
   ]
  },
  {
   "cell_type": "code",
   "execution_count": 23,
   "id": "e4dfa8d6-5517-4e0f-9a6a-ad993dd2904a",
   "metadata": {},
   "outputs": [],
   "source": [
    " #map fuction >> execute a specigied function for each of itetm of an iteranle \n",
    "#syntax>> map(fun c, *iterable)"
   ]
  },
  {
   "cell_type": "code",
   "execution_count": 24,
   "id": "6aac32b0-ddb2-40e1-ac74-fe3d5ad769ae",
   "metadata": {},
   "outputs": [
    {
     "name": "stdout",
     "output_type": "stream",
     "text": [
      "Help on class map in module builtins:\n",
      "\n",
      "class map(object)\n",
      " |  map(function, iterable, /, *iterables)\n",
      " |\n",
      " |  Make an iterator that computes the function using arguments from\n",
      " |  each of the iterables.  Stops when the shortest iterable is exhausted.\n",
      " |\n",
      " |  Methods defined here:\n",
      " |\n",
      " |  __getattribute__(self, name, /)\n",
      " |      Return getattr(self, name).\n",
      " |\n",
      " |  __iter__(self, /)\n",
      " |      Implement iter(self).\n",
      " |\n",
      " |  __next__(self, /)\n",
      " |      Implement next(self).\n",
      " |\n",
      " |  __reduce__(self, /)\n",
      " |      Return state information for pickling.\n",
      " |\n",
      " |  ----------------------------------------------------------------------\n",
      " |  Static methods defined here:\n",
      " |\n",
      " |  __new__(*args, **kwargs)\n",
      " |      Create and return a new object.  See help(type) for accurate signature.\n",
      "\n"
     ]
    }
   ],
   "source": [
    "help(map)"
   ]
  },
  {
   "cell_type": "code",
   "execution_count": 26,
   "id": "e613bb07-4366-400a-abea-d02a9152027d",
   "metadata": {},
   "outputs": [],
   "source": [
    "l = [1,3,51,12]\n",
    "def squeare(l):\n",
    "    sq = []\n",
    "    for i in l:\n",
    "        sq.append(i**2)\n",
    "    return sq"
   ]
  },
  {
   "cell_type": "code",
   "execution_count": 28,
   "id": "ddcc7125-f92c-47b0-81fe-2076a533c950",
   "metadata": {},
   "outputs": [
    {
     "data": {
      "text/plain": [
       "[1, 9, 2601, 144]"
      ]
     },
     "execution_count": 28,
     "metadata": {},
     "output_type": "execute_result"
    }
   ],
   "source": [
    "squeare(l)\n"
   ]
  },
  {
   "cell_type": "code",
   "execution_count": 29,
   "id": "ea3f6c48-719c-4706-abf4-a05663796cda",
   "metadata": {},
   "outputs": [],
   "source": [
    "def sq(x):\n",
    "    return x**2"
   ]
  },
  {
   "cell_type": "code",
   "execution_count": 30,
   "id": "69690bd8-922f-4b07-9dfd-646bc1de1b50",
   "metadata": {},
   "outputs": [
    {
     "data": {
      "text/plain": [
       "[1, 3, 51, 12]"
      ]
     },
     "execution_count": 30,
     "metadata": {},
     "output_type": "execute_result"
    }
   ],
   "source": [
    "l"
   ]
  },
  {
   "cell_type": "code",
   "execution_count": 31,
   "id": "6be554a7-7afa-4a48-9700-1d237639ab67",
   "metadata": {},
   "outputs": [
    {
     "data": {
      "text/plain": [
       "<map at 0x1e2638c9000>"
      ]
     },
     "execution_count": 31,
     "metadata": {},
     "output_type": "execute_result"
    }
   ],
   "source": [
    "map(sq , l)"
   ]
  },
  {
   "cell_type": "code",
   "execution_count": 32,
   "id": "c0505980-7070-428a-8d80-d2af0d3a00a1",
   "metadata": {},
   "outputs": [
    {
     "data": {
      "text/plain": [
       "[1, 9, 2601, 144]"
      ]
     },
     "execution_count": 32,
     "metadata": {},
     "output_type": "execute_result"
    }
   ],
   "source": [
    "list(map(sq,l))"
   ]
  },
  {
   "cell_type": "code",
   "execution_count": 33,
   "id": "fd34d18d-b983-4d83-8767-f8f69e5e47f3",
   "metadata": {},
   "outputs": [
    {
     "data": {
      "text/plain": [
       "[11, 13, 61, 22]"
      ]
     },
     "execution_count": 33,
     "metadata": {},
     "output_type": "execute_result"
    }
   ],
   "source": [
    "def add(x):\n",
    "    return x+10\n",
    "\n",
    "list(map(add,l))"
   ]
  },
  {
   "cell_type": "code",
   "execution_count": 36,
   "id": "d672a886-1a42-4542-ab23-2a6dfd962e79",
   "metadata": {},
   "outputs": [
    {
     "data": {
      "text/plain": [
       "[1, 9, 2601, 144]"
      ]
     },
     "execution_count": 36,
     "metadata": {},
     "output_type": "execute_result"
    }
   ],
   "source": [
    "#using lambda funcion with map\n",
    "list(map(lambda x: x**2 , l))"
   ]
  },
  {
   "cell_type": "code",
   "execution_count": 41,
   "id": "9fbf5db9-bdfd-4d14-b11d-0bb8fb4dd977",
   "metadata": {},
   "outputs": [
    {
     "data": {
      "text/plain": [
       "[10, 20, 40]"
      ]
     },
     "execution_count": 41,
     "metadata": {},
     "output_type": "execute_result"
    }
   ],
   "source": [
    "l = [\"10\",\"20\",\"40\"]\n",
    "list(map(lambda x: int(x),l))"
   ]
  },
  {
   "cell_type": "code",
   "execution_count": 43,
   "id": "e369fd15-7291-4e2d-baa7-b08fc2eed1b4",
   "metadata": {},
   "outputs": [
    {
     "data": {
      "text/plain": [
       "[101, 303, 4304, 406]"
      ]
     },
     "execution_count": 43,
     "metadata": {},
     "output_type": "execute_result"
    }
   ],
   "source": [
    "l1 = [100,300,4300,400]\n",
    "l2 = [1,3,4,6]\n",
    "list(map(lambda x,y: x+y, l1,l2))"
   ]
  },
  {
   "cell_type": "code",
   "execution_count": 45,
   "id": "e5d4461f-c89f-474b-a660-095449198ef1",
   "metadata": {},
   "outputs": [
    {
     "data": {
      "text/plain": [
       "['Y', 'A', 'S', 'H', 'A', 'M', 'T', 'E']"
      ]
     },
     "execution_count": 45,
     "metadata": {},
     "output_type": "execute_result"
    }
   ],
   "source": [
    "s = \"yashamte\"\n",
    "list(map(lambda x: x.upper(),s))"
   ]
  },
  {
   "cell_type": "code",
   "execution_count": 50,
   "id": "87522bd2-81ca-4443-a06b-3f90de844afe",
   "metadata": {},
   "outputs": [
    {
     "data": {
      "text/plain": [
       "['Pyhton', 'Marathi']"
      ]
     },
     "execution_count": 50,
     "metadata": {},
     "output_type": "execute_result"
    }
   ],
   "source": [
    "words = [\"pyhton\",\"marathi\"]\n",
    "list(map(str.capitalize, words))"
   ]
  },
  {
   "cell_type": "code",
   "execution_count": 54,
   "id": "59c7b0ff-2661-4e8b-9b46-382b78be71f0",
   "metadata": {},
   "outputs": [
    {
     "data": {
      "text/plain": [
       "[4, 3, 2, 2]"
      ]
     },
     "execution_count": 54,
     "metadata": {},
     "output_type": "execute_result"
    }
   ],
   "source": [
    "grades = [\"a\",\"b\",\"c\",\"d\"]\n",
    "list(map(lambda x: 4 if x==\"a\" else (3 if x==\"b\" else 2),grades))"
   ]
  },
  {
   "cell_type": "code",
   "execution_count": 55,
   "id": "f0482f20-bd8c-4951-b923-ad566ff4c282",
   "metadata": {},
   "outputs": [],
   "source": [
    "#reduce >> folding/reduction\n",
    "#syntax >> reduce(func, iterable)\n",
    "from functools import reduce"
   ]
  },
  {
   "cell_type": "code",
   "execution_count": 56,
   "id": "bd3c8953-0d95-4061-8693-e0dc0b45d8f1",
   "metadata": {},
   "outputs": [
    {
     "data": {
      "text/plain": [
       "67"
      ]
     },
     "execution_count": 56,
     "metadata": {},
     "output_type": "execute_result"
    }
   ],
   "source": [
    "l = [2,4,2,5,12,31,11]\n",
    "reduce(lambda x,y:x+y,l)"
   ]
  },
  {
   "cell_type": "code",
   "execution_count": null,
   "id": "842a6d0f-9990-4221-862b-657c261548c4",
   "metadata": {},
   "outputs": [],
   "source": []
  },
  {
   "cell_type": "code",
   "execution_count": null,
   "id": "5f588e46-5e4a-4a04-a2f2-1191446ebfba",
   "metadata": {},
   "outputs": [],
   "source": []
  },
  {
   "cell_type": "code",
   "execution_count": null,
   "id": "c7f52480-f4ce-42ed-94f9-f221a7a7b698",
   "metadata": {},
   "outputs": [],
   "source": []
  }
 ],
 "metadata": {
  "kernelspec": {
   "display_name": "Python 3 (ipykernel)",
   "language": "python",
   "name": "python3"
  },
  "language_info": {
   "codemirror_mode": {
    "name": "ipython",
    "version": 3
   },
   "file_extension": ".py",
   "mimetype": "text/x-python",
   "name": "python",
   "nbconvert_exporter": "python",
   "pygments_lexer": "ipython3",
   "version": "3.13.3"
  }
 },
 "nbformat": 4,
 "nbformat_minor": 5
}
