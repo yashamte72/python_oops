{
 "cells": [
  {
   "cell_type": "markdown",
   "id": "9fc5086d-1323-46ac-b64f-e59a2a4973c2",
   "metadata": {},
   "source": [
    "dunder/ magic / special method\n",
    "\n",
    "Dunder >> methods defined by built in classes by python\n",
    "\n",
    "--we define this type of methods for create custom objects\n",
    "--it helps to have implementing operator overloading in python"
   ]
  },
  {
   "cell_type": "code",
   "execution_count": 3,
   "id": "fadb3e42-5bf7-436e-ba1b-ebd18f66381e",
   "metadata": {},
   "outputs": [
    {
     "name": "stdout",
     "output_type": "stream",
     "text": [
      "hello world\n"
     ]
    }
   ],
   "source": [
    "print(\"hello world\") #print is a keyword/inbuilt function"
   ]
  },
  {
   "cell_type": "code",
   "execution_count": null,
   "id": "a1034aa4-bb93-4e79-81bf-849e67ceb408",
   "metadata": {},
   "outputs": [],
   "source": []
  }
 ],
 "metadata": {
  "kernelspec": {
   "display_name": "Python 3 (ipykernel)",
   "language": "python",
   "name": "python3"
  },
  "language_info": {
   "codemirror_mode": {
    "name": "ipython",
    "version": 3
   },
   "file_extension": ".py",
   "mimetype": "text/x-python",
   "name": "python",
   "nbconvert_exporter": "python",
   "pygments_lexer": "ipython3",
   "version": "3.13.3"
  }
 },
 "nbformat": 4,
 "nbformat_minor": 5
}
