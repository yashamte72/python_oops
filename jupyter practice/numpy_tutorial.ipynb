{
 "cells": [
  {
   "cell_type": "code",
   "execution_count": 1,
   "id": "8bacf8d8-ad22-4099-bad3-b64ec4ed46be",
   "metadata": {},
   "outputs": [],
   "source": [
    "import numpy as np"
   ]
  },
  {
   "cell_type": "code",
   "execution_count": 5,
   "id": "e2c894bd-672b-481f-94e0-556ade9d27ae",
   "metadata": {},
   "outputs": [],
   "source": [
    "myarr = np.array([[2,12,43,22]])"
   ]
  },
  {
   "cell_type": "code",
   "execution_count": 3,
   "id": "5999aec7-3564-41d8-9ebe-e420b9469ba9",
   "metadata": {},
   "outputs": [
    {
     "data": {
      "text/plain": [
       "dtype('int64')"
      ]
     },
     "execution_count": 3,
     "metadata": {},
     "output_type": "execute_result"
    }
   ],
   "source": [
    "myarr.dtype"
   ]
  },
  {
   "cell_type": "code",
   "execution_count": 6,
   "id": "6b9ec7ab-0ec7-428c-90ae-277aa3ead981",
   "metadata": {},
   "outputs": [
    {
     "data": {
      "text/plain": [
       "(1, 4)"
      ]
     },
     "execution_count": 6,
     "metadata": {},
     "output_type": "execute_result"
    }
   ],
   "source": [
    "myarr.shape\n"
   ]
  },
  {
   "cell_type": "code",
   "execution_count": 9,
   "id": "321d55bc-a10b-49a1-8dcc-63f8af09fd46",
   "metadata": {},
   "outputs": [
    {
     "data": {
      "text/plain": [
       "np.int64(43)"
      ]
     },
     "execution_count": 9,
     "metadata": {},
     "output_type": "execute_result"
    }
   ],
   "source": [
    "myarr[0,2]"
   ]
  },
  {
   "cell_type": "code",
   "execution_count": 10,
   "id": "bfaeea4d-047d-4009-81d2-5e5ef165742d",
   "metadata": {},
   "outputs": [],
   "source": [
    "myarr[0,3] = 34"
   ]
  },
  {
   "cell_type": "code",
   "execution_count": 11,
   "id": "60cddb92-fa9e-42a8-87cd-241a915cf551",
   "metadata": {},
   "outputs": [
    {
     "data": {
      "text/plain": [
       "array([[ 2, 12, 43, 34]])"
      ]
     },
     "execution_count": 11,
     "metadata": {},
     "output_type": "execute_result"
    }
   ],
   "source": [
    "myarr"
   ]
  },
  {
   "cell_type": "code",
   "execution_count": 12,
   "id": "f5ae39aa-6716-427f-a9c8-01a987a80754",
   "metadata": {},
   "outputs": [],
   "source": [
    "emp = np.empty((4,6))"
   ]
  },
  {
   "cell_type": "code",
   "execution_count": 13,
   "id": "9930205b-0c4b-4e55-bb24-0151e0780754",
   "metadata": {},
   "outputs": [
    {
     "data": {
      "text/plain": [
       "(4, 6)"
      ]
     },
     "execution_count": 13,
     "metadata": {},
     "output_type": "execute_result"
    }
   ],
   "source": [
    "emp.shape"
   ]
  },
  {
   "cell_type": "code",
   "execution_count": 14,
   "id": "ac7d4898-5da0-4172-8d3d-00853c8cfdf7",
   "metadata": {},
   "outputs": [
    {
     "data": {
      "text/plain": [
       "array([[6.23042070e-307, 4.67296746e-307, 1.69121096e-306,\n",
       "        1.69118787e-306, 1.29058698e-306, 1.89146896e-307],\n",
       "       [7.56571288e-307, 3.11525958e-307, 1.24610723e-306,\n",
       "        1.37962320e-306, 1.29060871e-306, 2.22518251e-306],\n",
       "       [1.33511969e-306, 1.78022342e-306, 1.05700345e-307,\n",
       "        3.11525958e-307, 1.69118108e-306, 8.06632139e-308],\n",
       "       [1.20160711e-306, 1.69119330e-306, 1.29062229e-306,\n",
       "        8.90092016e-307, 9.34607074e-307, 2.22522596e-306]])"
      ]
     },
     "execution_count": 14,
     "metadata": {},
     "output_type": "execute_result"
    }
   ],
   "source": [
    "emp"
   ]
  },
  {
   "cell_type": "code",
   "execution_count": 1,
   "id": "b8ad5640-d1ac-4ec5-9914-195f0b7bb580",
   "metadata": {},
   "outputs": [
    {
     "ename": "NameError",
     "evalue": "name 'myarr' is not defined",
     "output_type": "error",
     "traceback": [
      "\u001b[1;31m---------------------------------------------------------------------------\u001b[0m",
      "\u001b[1;31mNameError\u001b[0m                                 Traceback (most recent call last)",
      "Cell \u001b[1;32mIn[1], line 1\u001b[0m\n\u001b[1;32m----> 1\u001b[0m \u001b[43mmyarr\u001b[49m\u001b[38;5;241m.\u001b[39mshape\n",
      "\u001b[1;31mNameError\u001b[0m: name 'myarr' is not defined"
     ]
    }
   ],
   "source": [
    "myarr.shape"
   ]
  },
  {
   "cell_type": "code",
   "execution_count": 2,
   "id": "15ffb4fd-0a3f-4003-a375-867373f5d642",
   "metadata": {},
   "outputs": [],
   "source": [
    "ar = [[1,4,2],[2,4,2],[6,4,1]]"
   ]
  },
  {
   "cell_type": "code",
   "execution_count": 3,
   "id": "46ade1d2-080a-4982-a1c3-b5ad293f566e",
   "metadata": {},
   "outputs": [
    {
     "ename": "AttributeError",
     "evalue": "'list' object has no attribute 'shape'",
     "output_type": "error",
     "traceback": [
      "\u001b[1;31m---------------------------------------------------------------------------\u001b[0m",
      "\u001b[1;31mAttributeError\u001b[0m                            Traceback (most recent call last)",
      "Cell \u001b[1;32mIn[3], line 1\u001b[0m\n\u001b[1;32m----> 1\u001b[0m \u001b[43mar\u001b[49m\u001b[38;5;241;43m.\u001b[39;49m\u001b[43mshape\u001b[49m\n",
      "\u001b[1;31mAttributeError\u001b[0m: 'list' object has no attribute 'shape'"
     ]
    }
   ],
   "source": [
    "ar.shape"
   ]
  },
  {
   "cell_type": "code",
   "execution_count": null,
   "id": "bf668cbe-5a94-418c-bc79-4c07ba19dd02",
   "metadata": {},
   "outputs": [],
   "source": []
  }
 ],
 "metadata": {
  "kernelspec": {
   "display_name": "Python 3 (ipykernel)",
   "language": "python",
   "name": "python3"
  },
  "language_info": {
   "codemirror_mode": {
    "name": "ipython",
    "version": 3
   },
   "file_extension": ".py",
   "mimetype": "text/x-python",
   "name": "python",
   "nbconvert_exporter": "python",
   "pygments_lexer": "ipython3",
   "version": "3.13.2"
  }
 },
 "nbformat": 4,
 "nbformat_minor": 5
}
