{
 "cells": [
  {
   "cell_type": "code",
   "execution_count": 2,
   "id": "c939eaf9-7b05-4e8c-bd29-feb628515870",
   "metadata": {},
   "outputs": [
    {
     "name": "stdout",
     "output_type": "stream",
     "text": [
      "2.2.3\n"
     ]
    }
   ],
   "source": [
    "import numpy as np\n",
    "print(np.__version__)"
   ]
  },
  {
   "cell_type": "code",
   "execution_count": 3,
   "id": "d8b22bb7-bc94-4ab9-8631-00bcd0448277",
   "metadata": {},
   "outputs": [],
   "source": [
    "x = np.array([1,2,3])"
   ]
  },
  {
   "cell_type": "code",
   "execution_count": 4,
   "id": "bfaa6f2b-fe84-47ea-ba51-07815dd4f806",
   "metadata": {},
   "outputs": [
    {
     "data": {
      "text/plain": [
       "(3,)"
      ]
     },
     "execution_count": 4,
     "metadata": {},
     "output_type": "execute_result"
    }
   ],
   "source": [
    "x.shape"
   ]
  },
  {
   "cell_type": "code",
   "execution_count": 8,
   "id": "c4e86769-87ba-4d5f-897d-0515a1144f1c",
   "metadata": {},
   "outputs": [],
   "source": [
    "arr =np.arange(9)"
   ]
  },
  {
   "cell_type": "code",
   "execution_count": 9,
   "id": "987317a5-7420-4eb7-848b-51124cfa11e6",
   "metadata": {},
   "outputs": [
    {
     "data": {
      "text/plain": [
       "array([0, 1, 2, 3, 4, 5, 6, 7, 8])"
      ]
     },
     "execution_count": 9,
     "metadata": {},
     "output_type": "execute_result"
    }
   ],
   "source": [
    "arr"
   ]
  },
  {
   "cell_type": "code",
   "execution_count": 27,
   "id": "9424a8ca-179a-45ec-a7e1-f192f03c0e8e",
   "metadata": {},
   "outputs": [],
   "source": [
    "o= arr.reshape(3,3)"
   ]
  },
  {
   "cell_type": "code",
   "execution_count": 28,
   "id": "cf48a8f4-07b2-48e8-8249-335221d518a1",
   "metadata": {},
   "outputs": [
    {
     "data": {
      "text/plain": [
       "(9,)"
      ]
     },
     "execution_count": 28,
     "metadata": {},
     "output_type": "execute_result"
    }
   ],
   "source": [
    "arr.shape"
   ]
  },
  {
   "cell_type": "code",
   "execution_count": 29,
   "id": "f8d2a01c-ffd0-43ab-b159-176e1764817e",
   "metadata": {},
   "outputs": [
    {
     "data": {
      "text/plain": [
       "(3, 3)"
      ]
     },
     "execution_count": 29,
     "metadata": {},
     "output_type": "execute_result"
    }
   ],
   "source": [
    "o.shape"
   ]
  },
  {
   "cell_type": "code",
   "execution_count": 36,
   "id": "829adca7-f538-4a9f-a271-542f5a24952e",
   "metadata": {},
   "outputs": [
    {
     "name": "stdout",
     "output_type": "stream",
     "text": [
      "[[0 1 2]\n",
      " [3 4 5]\n",
      " [6 7 8]]\n"
     ]
    },
    {
     "data": {
      "text/plain": [
       "array([ 9, 12, 15])"
      ]
     },
     "execution_count": 36,
     "metadata": {},
     "output_type": "execute_result"
    }
   ],
   "source": [
    "print(o)\n",
    "o.sum(axis=0)\n"
   ]
  },
  {
   "cell_type": "code",
   "execution_count": 37,
   "id": "7db61fc8-d1d1-4663-9603-bc9d449c9d31",
   "metadata": {},
   "outputs": [
    {
     "name": "stdout",
     "output_type": "stream",
     "text": [
      "[[0 1 2]\n",
      " [3 4 5]\n",
      " [6 7 8]]\n"
     ]
    },
    {
     "data": {
      "text/plain": [
       "array([ 3, 12, 21])"
      ]
     },
     "execution_count": 37,
     "metadata": {},
     "output_type": "execute_result"
    }
   ],
   "source": [
    "print(o)\n",
    "o.sum(axis=1)"
   ]
  },
  {
   "cell_type": "code",
   "execution_count": 40,
   "id": "315d2505-284a-496c-b342-4c72814da74e",
   "metadata": {},
   "outputs": [
    {
     "name": "stdout",
     "output_type": "stream",
     "text": [
      "[[0 1 2]\n",
      " [3 4 5]\n",
      " [6 7 8]]\n"
     ]
    },
    {
     "data": {
      "text/plain": [
       "array([[0, 3, 6],\n",
       "       [1, 4, 7],\n",
       "       [2, 5, 8]])"
      ]
     },
     "execution_count": 40,
     "metadata": {},
     "output_type": "execute_result"
    }
   ],
   "source": [
    "print(o)\n",
    "o.T"
   ]
  },
  {
   "cell_type": "code",
   "execution_count": 39,
   "id": "277d91f9-466e-4bbb-9a36-836a02a35bfc",
   "metadata": {},
   "outputs": [
    {
     "data": {
      "text/plain": [
       "array([ 9, 12, 15])"
      ]
     },
     "execution_count": 39,
     "metadata": {},
     "output_type": "execute_result"
    }
   ],
   "source": [
    "o.sum(axis=0)"
   ]
  },
  {
   "cell_type": "code",
   "execution_count": 41,
   "id": "fd45c512-6993-40de-b59d-a23b0da19f71",
   "metadata": {},
   "outputs": [
    {
     "data": {
      "text/plain": [
       "2"
      ]
     },
     "execution_count": 41,
     "metadata": {},
     "output_type": "execute_result"
    }
   ],
   "source": [
    "o.ndim"
   ]
  },
  {
   "cell_type": "code",
   "execution_count": 61,
   "id": "8611e4b1-f15b-4017-8f9e-4626a2aa352d",
   "metadata": {},
   "outputs": [],
   "source": [
    "oo=o.T"
   ]
  },
  {
   "cell_type": "code",
   "execution_count": 63,
   "id": "f2774c90-5ff9-4c8c-9eb5-81ccac6d6a91",
   "metadata": {},
   "outputs": [
    {
     "data": {
      "text/plain": [
       "array([[0, 3, 6],\n",
       "       [1, 4, 7],\n",
       "       [2, 5, 8]])"
      ]
     },
     "execution_count": 63,
     "metadata": {},
     "output_type": "execute_result"
    }
   ],
   "source": [
    "oo"
   ]
  },
  {
   "cell_type": "code",
   "execution_count": 62,
   "id": "9b2433ff-f781-4c21-a523-f1f838ce7de8",
   "metadata": {},
   "outputs": [
    {
     "name": "stdout",
     "output_type": "stream",
     "text": [
      "0\n",
      "3\n",
      "6\n",
      "1\n",
      "4\n",
      "7\n",
      "2\n",
      "5\n",
      "8\n"
     ]
    }
   ],
   "source": [
    "for item in oo.flat:\n",
    "    print(item)"
   ]
  },
  {
   "cell_type": "code",
   "execution_count": 65,
   "id": "ef0f23ed-99c7-4f82-834c-5db98df400cc",
   "metadata": {},
   "outputs": [
    {
     "data": {
      "text/plain": [
       "72"
      ]
     },
     "execution_count": 65,
     "metadata": {},
     "output_type": "execute_result"
    }
   ],
   "source": [
    "oo.nbytes"
   ]
  },
  {
   "cell_type": "code",
   "execution_count": 67,
   "id": "5ff3f471-79a0-4132-9020-435a4b08a3e8",
   "metadata": {},
   "outputs": [],
   "source": [
    "oneD=np.array([1,23,4,53])"
   ]
  },
  {
   "cell_type": "code",
   "execution_count": 68,
   "id": "2617a5f1-b626-4966-9154-bc9f50172628",
   "metadata": {},
   "outputs": [
    {
     "data": {
      "text/plain": [
       "np.int64(3)"
      ]
     },
     "execution_count": 68,
     "metadata": {},
     "output_type": "execute_result"
    }
   ],
   "source": [
    "oneD.argmax()"
   ]
  },
  {
   "cell_type": "code",
   "execution_count": 69,
   "id": "11da9b63-6fad-4457-974b-4f78c1d120b1",
   "metadata": {},
   "outputs": [
    {
     "data": {
      "text/plain": [
       "np.int64(0)"
      ]
     },
     "execution_count": 69,
     "metadata": {},
     "output_type": "execute_result"
    }
   ],
   "source": [
    "oneD.argmin()"
   ]
  },
  {
   "cell_type": "code",
   "execution_count": 70,
   "id": "0cbf4f65-21b0-4efc-898b-89d6748fa4c1",
   "metadata": {},
   "outputs": [
    {
     "data": {
      "text/plain": [
       "array([0, 2, 1, 3])"
      ]
     },
     "execution_count": 70,
     "metadata": {},
     "output_type": "execute_result"
    }
   ],
   "source": [
    "oneD.argsort()"
   ]
  },
  {
   "cell_type": "code",
   "execution_count": 71,
   "id": "4a24e400-6de0-4150-839a-4136fe022194",
   "metadata": {},
   "outputs": [
    {
     "data": {
      "text/plain": [
       "array([[0, 1, 2],\n",
       "       [3, 4, 5],\n",
       "       [6, 7, 8]])"
      ]
     },
     "execution_count": 71,
     "metadata": {},
     "output_type": "execute_result"
    }
   ],
   "source": [
    "o"
   ]
  },
  {
   "cell_type": "code",
   "execution_count": 72,
   "id": "5273b24d-ff45-4e84-81c1-0c262219ac9c",
   "metadata": {},
   "outputs": [
    {
     "data": {
      "text/plain": [
       "array([[0, 3, 6],\n",
       "       [1, 4, 7],\n",
       "       [2, 5, 8]])"
      ]
     },
     "execution_count": 72,
     "metadata": {},
     "output_type": "execute_result"
    }
   ],
   "source": [
    "oo"
   ]
  },
  {
   "cell_type": "code",
   "execution_count": 73,
   "id": "a0b155ef-322c-40e8-97fe-d720c0fbdbea",
   "metadata": {},
   "outputs": [
    {
     "data": {
      "text/plain": [
       "np.int64(0)"
      ]
     },
     "execution_count": 73,
     "metadata": {},
     "output_type": "execute_result"
    }
   ],
   "source": [
    "oo.argmin()"
   ]
  },
  {
   "cell_type": "code",
   "execution_count": 74,
   "id": "86c4621c-ec7b-4f3f-9872-73ade2a69a3f",
   "metadata": {},
   "outputs": [
    {
     "data": {
      "text/plain": [
       "np.int64(8)"
      ]
     },
     "execution_count": 74,
     "metadata": {},
     "output_type": "execute_result"
    }
   ],
   "source": [
    "oo.argmax()"
   ]
  },
  {
   "cell_type": "code",
   "execution_count": 75,
   "id": "4432bf9a-58a5-4638-96ae-468b4208fdb9",
   "metadata": {},
   "outputs": [
    {
     "data": {
      "text/plain": [
       "array([2, 2, 2])"
      ]
     },
     "execution_count": 75,
     "metadata": {},
     "output_type": "execute_result"
    }
   ],
   "source": [
    "oo.argmax(axis=0)"
   ]
  },
  {
   "cell_type": "code",
   "execution_count": 76,
   "id": "1ffabab0-2e91-47b1-8dca-99181e87da60",
   "metadata": {},
   "outputs": [
    {
     "data": {
      "text/plain": [
       "array([[0, 1, 2],\n",
       "       [0, 1, 2],\n",
       "       [0, 1, 2]])"
      ]
     },
     "execution_count": 76,
     "metadata": {},
     "output_type": "execute_result"
    }
   ],
   "source": [
    "oo.argsort(axis=1)"
   ]
  },
  {
   "cell_type": "code",
   "execution_count": 77,
   "id": "f11c3969-5901-4ba5-8086-2a0193e82f7a",
   "metadata": {},
   "outputs": [
    {
     "data": {
      "text/plain": [
       "array([[0, 0, 0],\n",
       "       [1, 1, 1],\n",
       "       [2, 2, 2]])"
      ]
     },
     "execution_count": 77,
     "metadata": {},
     "output_type": "execute_result"
    }
   ],
   "source": [
    "oo.argsort(axis=0)"
   ]
  },
  {
   "cell_type": "code",
   "execution_count": 95,
   "id": "f4a1ccd7-9b7c-46d2-959b-21b9d3adf550",
   "metadata": {},
   "outputs": [],
   "source": [
    "mat = np.array([[9, 3, 6],\n",
    "       [1, 0, 7],\n",
    "       [2, 0, 1]])"
   ]
  },
  {
   "cell_type": "code",
   "execution_count": 80,
   "id": "2ece953b-9f5e-400b-989e-8bf7e83e65ad",
   "metadata": {},
   "outputs": [
    {
     "name": "stdout",
     "output_type": "stream",
     "text": [
      "[[0 3 6]\n",
      " [1 4 7]\n",
      " [2 5 8]]\n",
      "[[9 3 6]\n",
      " [1 0 7]\n",
      " [2 5 1]]\n"
     ]
    },
    {
     "data": {
      "text/plain": [
       "array([[ 9,  6, 12],\n",
       "       [ 2,  4, 14],\n",
       "       [ 4, 10,  9]])"
      ]
     },
     "execution_count": 80,
     "metadata": {},
     "output_type": "execute_result"
    }
   ],
   "source": [
    "print(oo)\n",
    "print(mat)\n",
    "oo + mat"
   ]
  },
  {
   "cell_type": "code",
   "execution_count": 81,
   "id": "91b3d211-90ba-4e17-8340-bfcd86d5dc4f",
   "metadata": {},
   "outputs": [
    {
     "data": {
      "text/plain": [
       "array([[ 0,  9, 36],\n",
       "       [ 1,  0, 49],\n",
       "       [ 4, 25,  8]])"
      ]
     },
     "execution_count": 81,
     "metadata": {},
     "output_type": "execute_result"
    }
   ],
   "source": [
    "oo * mat"
   ]
  },
  {
   "cell_type": "code",
   "execution_count": 83,
   "id": "2e75a39e-36eb-4e53-b1d0-659fae29f443",
   "metadata": {},
   "outputs": [
    {
     "name": "stdout",
     "output_type": "stream",
     "text": [
      "[[9 3 6]\n",
      " [1 0 7]\n",
      " [2 5 1]]\n"
     ]
    },
    {
     "data": {
      "text/plain": [
       "array([[3.        , 1.73205081, 2.44948974],\n",
       "       [1.        , 0.        , 2.64575131],\n",
       "       [1.41421356, 2.23606798, 1.        ]])"
      ]
     },
     "execution_count": 83,
     "metadata": {},
     "output_type": "execute_result"
    }
   ],
   "source": [
    "print(mat)\n",
    "np.sqrt(mat)"
   ]
  },
  {
   "cell_type": "code",
   "execution_count": 84,
   "id": "b409eeb8-67c8-4b22-859a-8fa75bbeb0a3",
   "metadata": {},
   "outputs": [
    {
     "data": {
      "text/plain": [
       "np.int64(0)"
      ]
     },
     "execution_count": 84,
     "metadata": {},
     "output_type": "execute_result"
    }
   ],
   "source": [
    "mat.min()"
   ]
  },
  {
   "cell_type": "code",
   "execution_count": 85,
   "id": "bac047a9-4723-4bc7-86fb-507f696b149f",
   "metadata": {},
   "outputs": [
    {
     "data": {
      "text/plain": [
       "np.int64(34)"
      ]
     },
     "execution_count": 85,
     "metadata": {},
     "output_type": "execute_result"
    }
   ],
   "source": [
    "mat.sum()"
   ]
  },
  {
   "cell_type": "code",
   "execution_count": 93,
   "id": "cdf876ee-a32e-4d34-85bb-092dc3b0b6bd",
   "metadata": {},
   "outputs": [
    {
     "name": "stdout",
     "output_type": "stream",
     "text": [
      "[[0 3 6]\n",
      " [1 4 7]\n",
      " [2 5 8]]\n"
     ]
    },
    {
     "data": {
      "text/plain": [
       "(array([1, 2]), array([2, 2]))"
      ]
     },
     "execution_count": 93,
     "metadata": {},
     "output_type": "execute_result"
    }
   ],
   "source": [
    "print(oo)\n",
    "np.where(oo>6)"
   ]
  },
  {
   "cell_type": "code",
   "execution_count": 97,
   "id": "403d3180-b39c-4e0d-9750-056b42a197fe",
   "metadata": {},
   "outputs": [
    {
     "name": "stdout",
     "output_type": "stream",
     "text": [
      "[[0 3 6]\n",
      " [1 4 7]\n",
      " [2 5 8]]\n"
     ]
    },
    {
     "data": {
      "text/plain": [
       "(array([0, 1, 1, 2, 2]), array([2, 1, 2, 1, 2]))"
      ]
     },
     "execution_count": 97,
     "metadata": {},
     "output_type": "execute_result"
    }
   ],
   "source": [
    "print(oo)\n",
    "np.where(oo>3)"
   ]
  },
  {
   "cell_type": "code",
   "execution_count": 96,
   "id": "31af563c-739f-48c0-9d35-2f6e6c4b8912",
   "metadata": {},
   "outputs": [
    {
     "data": {
      "text/plain": [
       "7"
      ]
     },
     "execution_count": 96,
     "metadata": {},
     "output_type": "execute_result"
    }
   ],
   "source": [
    "np.count_nonzero(mat)"
   ]
  },
  {
   "cell_type": "code",
   "execution_count": 3,
   "id": "482f141a-0f1c-4807-8553-b97712392bd0",
   "metadata": {},
   "outputs": [],
   "source": [
    "yash = np.array([[19,43,12],[32,13,11],[18,20,43]])"
   ]
  },
  {
   "cell_type": "code",
   "execution_count": 6,
   "id": "30aadd32-3e04-431d-abf5-9676a258d467",
   "metadata": {},
   "outputs": [
    {
     "data": {
      "text/plain": [
       "(3, 3)"
      ]
     },
     "execution_count": 6,
     "metadata": {},
     "output_type": "execute_result"
    }
   ],
   "source": [
    "np.shape(yash)"
   ]
  },
  {
   "cell_type": "code",
   "execution_count": 7,
   "id": "3151bb58-1b7e-43dd-a6de-420daa3ae39f",
   "metadata": {},
   "outputs": [
    {
     "data": {
      "text/plain": [
       "array([[19, 43, 12],\n",
       "       [32, 13, 11],\n",
       "       [18, 20, 43]])"
      ]
     },
     "execution_count": 7,
     "metadata": {},
     "output_type": "execute_result"
    }
   ],
   "source": [
    "yash"
   ]
  },
  {
   "cell_type": "code",
   "execution_count": 8,
   "id": "ca984e28-a01c-4fde-8bfd-5883ba17aff1",
   "metadata": {},
   "outputs": [
    {
     "data": {
      "text/plain": [
       "array([19, 43, 12, 32, 13, 11, 18, 20, 43])"
      ]
     },
     "execution_count": 8,
     "metadata": {},
     "output_type": "execute_result"
    }
   ],
   "source": [
    "yash.ravel()"
   ]
  },
  {
   "cell_type": "code",
   "execution_count": 9,
   "id": "b1b9a23e-f5ec-4677-afd9-2e514fe6d186",
   "metadata": {},
   "outputs": [
    {
     "data": {
      "text/plain": [
       "array([[19, 43, 12],\n",
       "       [32, 13, 11],\n",
       "       [18, 20, 43]])"
      ]
     },
     "execution_count": 9,
     "metadata": {},
     "output_type": "execute_result"
    }
   ],
   "source": [
    "yash.reshape(3,3)"
   ]
  },
  {
   "cell_type": "code",
   "execution_count": 11,
   "id": "f5ae6d7b-5c75-4067-86e7-5acec2ca9b7f",
   "metadata": {},
   "outputs": [],
   "source": [
    "yash = yash.T"
   ]
  },
  {
   "cell_type": "code",
   "execution_count": 12,
   "id": "37ba1c50-10f6-4beb-a520-a63101fe6de1",
   "metadata": {},
   "outputs": [
    {
     "data": {
      "text/plain": [
       "array([[19, 32, 18],\n",
       "       [43, 13, 20],\n",
       "       [12, 11, 43]])"
      ]
     },
     "execution_count": 12,
     "metadata": {},
     "output_type": "execute_result"
    }
   ],
   "source": [
    "yash"
   ]
  },
  {
   "cell_type": "code",
   "execution_count": 13,
   "id": "2eae6a57-7353-4b95-95cd-c639227f5dd0",
   "metadata": {},
   "outputs": [],
   "source": [
    "adi = np.array([[9, 2, 8],\n",
    "       [3, 3, 0],\n",
    "       [2, 1, 3]])"
   ]
  },
  {
   "cell_type": "code",
   "execution_count": 14,
   "id": "fa7b6420-1e80-47aa-8b6e-ee9d3d3720c6",
   "metadata": {},
   "outputs": [
    {
     "data": {
      "text/plain": [
       "array([[28, 34, 26],\n",
       "       [46, 16, 20],\n",
       "       [14, 12, 46]])"
      ]
     },
     "execution_count": 14,
     "metadata": {},
     "output_type": "execute_result"
    }
   ],
   "source": [
    "yash + adi"
   ]
  },
  {
   "cell_type": "code",
   "execution_count": 15,
   "id": "e30e2e23-3099-4a5c-8557-31081f314089",
   "metadata": {},
   "outputs": [
    {
     "data": {
      "text/plain": [
       "array([[2, 0, 1],\n",
       "       [1, 2, 0],\n",
       "       [1, 0, 2]])"
      ]
     },
     "execution_count": 15,
     "metadata": {},
     "output_type": "execute_result"
    }
   ],
   "source": [
    "np.argsort(yash)"
   ]
  },
  {
   "cell_type": "code",
   "execution_count": 19,
   "id": "f9f6aa9a-57c6-499f-9b40-40753c4f011d",
   "metadata": {
    "collapsed": true,
    "jupyter": {
     "outputs_hidden": true
    },
    "scrolled": true
   },
   "outputs": [
    {
     "name": "stdout",
     "output_type": "stream",
     "text": [
      "[[19 32 18]\n",
      " [43 13 20]\n",
      " [12 11 43]]\n"
     ]
    },
    {
     "data": {
      "text/plain": [
       "array([[2, 0, 1],\n",
       "       [1, 2, 0],\n",
       "       [1, 0, 2]])"
      ]
     },
     "execution_count": 19,
     "metadata": {},
     "output_type": "execute_result"
    }
   ],
   "source": [
    "print(yash)\n",
    "yash.argsort(axis=1)"
   ]
  },
  {
   "cell_type": "code",
   "execution_count": null,
   "id": "8ae8a047-9008-4a4a-8701-723cc76a05c7",
   "metadata": {},
   "outputs": [],
   "source": []
  }
 ],
 "metadata": {
  "kernelspec": {
   "display_name": "Python 3 (ipykernel)",
   "language": "python",
   "name": "python3"
  },
  "language_info": {
   "codemirror_mode": {
    "name": "ipython",
    "version": 3
   },
   "file_extension": ".py",
   "mimetype": "text/x-python",
   "name": "python",
   "nbconvert_exporter": "python",
   "pygments_lexer": "ipython3",
   "version": "3.13.2"
  }
 },
 "nbformat": 4,
 "nbformat_minor": 5
}
