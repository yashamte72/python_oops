{
 "cells": [
  {
   "cell_type": "code",
   "execution_count": null,
   "id": "7b0f9fd2-9b2d-47be-bfa8-78905f208d5d",
   "metadata": {},
   "outputs": [],
   "source": []
  }
 ],
 "metadata": {
  "kernelspec": {
   "display_name": "",
   "name": ""
  },
  "language_info": {
   "name": ""
  }
 },
 "nbformat": 4,
 "nbformat_minor": 5
}
