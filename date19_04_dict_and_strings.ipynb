{
 "cells": [
  {
   "cell_type": "code",
   "execution_count": 4,
   "id": "ac6df2e2-5a4e-49ba-9fec-f51ebaaaaebf",
   "metadata": {},
   "outputs": [
    {
     "data": {
      "text/plain": [
       "{'name': ('yash', 'priya'),\n",
       " 'email': ['yash@g.com', 'priya@g.com'],\n",
       " 'add': {'haveli', 'pune'}}"
      ]
     },
     "execution_count": 4,
     "metadata": {},
     "output_type": "execute_result"
    }
   ],
   "source": [
    "d = {\"name\" : (\"yash\",\"priya\"),\"email\":[\"yash@g.com\",\"priya@g.com\"],\"add\":{\"pune\",\"haveli\"}}\n",
    "d"
   ]
  },
  {
   "cell_type": "code",
   "execution_count": 5,
   "id": "1412c18c-019d-464b-b537-34b81588d6bf",
   "metadata": {},
   "outputs": [
    {
     "data": {
      "text/plain": [
       "{'name': ('yash', 'priya'),\n",
       " 'email': ['yash@g.com', 'priya@g.com'],\n",
       " 'add': {'haveli', 'pune'},\n",
       " 'contact': [28932, 34254]}"
      ]
     },
     "execution_count": 5,
     "metadata": {},
     "output_type": "execute_result"
    }
   ],
   "source": [
    "d[\"contact\"]= [28932,34254]\n",
    "d"
   ]
  },
  {
   "cell_type": "code",
   "execution_count": 6,
   "id": "e4b81146-72d2-48db-a27a-7bc42147f79e",
   "metadata": {},
   "outputs": [
    {
     "data": {
      "text/plain": [
       "{'haveli', 'pune'}"
      ]
     },
     "execution_count": 6,
     "metadata": {},
     "output_type": "execute_result"
    }
   ],
   "source": [
    "d.pop(\"add\")"
   ]
  },
  {
   "cell_type": "code",
   "execution_count": 7,
   "id": "79f7886d-894d-46b3-8a4d-d259a07ca2da",
   "metadata": {},
   "outputs": [
    {
     "data": {
      "text/plain": [
       "{'name': ('yash', 'priya'),\n",
       " 'email': ['yash@g.com', 'priya@g.com'],\n",
       " 'contact': [28932, 34254]}"
      ]
     },
     "execution_count": 7,
     "metadata": {},
     "output_type": "execute_result"
    }
   ],
   "source": [
    "d"
   ]
  },
  {
   "cell_type": "code",
   "execution_count": 9,
   "id": "450acce1-20d9-46c2-bd7e-2ecb680957f6",
   "metadata": {},
   "outputs": [
    {
     "data": {
      "text/plain": [
       "{'course': 'ds'}"
      ]
     },
     "execution_count": 9,
     "metadata": {},
     "output_type": "execute_result"
    }
   ],
   "source": [
    "d1 = {\"course\":\"ds\"}\n",
    "d1"
   ]
  },
  {
   "cell_type": "code",
   "execution_count": 10,
   "id": "6d70c463-f361-4152-8938-c9ce266bcb24",
   "metadata": {},
   "outputs": [],
   "source": [
    "d.update(d1)"
   ]
  },
  {
   "cell_type": "code",
   "execution_count": 11,
   "id": "1ba351da-94ac-47d7-9e9b-9f7abf785f63",
   "metadata": {},
   "outputs": [
    {
     "data": {
      "text/plain": [
       "{'name': ('yash', 'priya'),\n",
       " 'email': ['yash@g.com', 'priya@g.com'],\n",
       " 'contact': [28932, 34254],\n",
       " 'course': 'ds'}"
      ]
     },
     "execution_count": 11,
     "metadata": {},
     "output_type": "execute_result"
    }
   ],
   "source": [
    "d"
   ]
  },
  {
   "cell_type": "code",
   "execution_count": 12,
   "id": "9831c1b6-3a18-4fd8-9afb-60d927080a21",
   "metadata": {},
   "outputs": [
    {
     "data": {
      "text/plain": [
       "('yash', 'priya')"
      ]
     },
     "execution_count": 12,
     "metadata": {},
     "output_type": "execute_result"
    }
   ],
   "source": [
    "d[\"name\"]"
   ]
  },
  {
   "cell_type": "code",
   "execution_count": 13,
   "id": "5df1301e-16dd-4cf4-97f8-bef7a2531e5d",
   "metadata": {},
   "outputs": [
    {
     "data": {
      "text/plain": [
       "('yash', 'priya')"
      ]
     },
     "execution_count": 13,
     "metadata": {},
     "output_type": "execute_result"
    }
   ],
   "source": [
    "d.get(\"name\")"
   ]
  },
  {
   "cell_type": "code",
   "execution_count": 14,
   "id": "fcca212a-a723-4fc8-a07b-90da01d3c427",
   "metadata": {},
   "outputs": [
    {
     "data": {
      "text/plain": [
       "{'name': ('yash', 'priya'),\n",
       " 'email': ['yash@g.com', 'priya@g.com'],\n",
       " 'contact': [28932, 34254],\n",
       " 'course': 'ds'}"
      ]
     },
     "execution_count": 14,
     "metadata": {},
     "output_type": "execute_result"
    }
   ],
   "source": [
    "d"
   ]
  },
  {
   "cell_type": "code",
   "execution_count": 15,
   "id": "4a8016fd-62ea-4b24-8aac-6bf5a8057753",
   "metadata": {},
   "outputs": [
    {
     "data": {
      "text/plain": [
       "'ds'"
      ]
     },
     "execution_count": 15,
     "metadata": {},
     "output_type": "execute_result"
    }
   ],
   "source": [
    "d[\"course\"]"
   ]
  },
  {
   "cell_type": "code",
   "execution_count": 16,
   "id": "b2c77c71-1982-4147-bd14-3044a597fb6f",
   "metadata": {},
   "outputs": [
    {
     "data": {
      "text/plain": [
       "4"
      ]
     },
     "execution_count": 16,
     "metadata": {},
     "output_type": "execute_result"
    }
   ],
   "source": [
    "len(d)"
   ]
  },
  {
   "cell_type": "code",
   "execution_count": 17,
   "id": "11c1206c-cd9e-4a66-a35e-3c08f4dbdf07",
   "metadata": {},
   "outputs": [
    {
     "data": {
      "text/plain": [
       "{1: ('a', 'b', 'c'), 2: ('a', 'b', 'c'), 4: ('a', 'b', 'c')}"
      ]
     },
     "execution_count": 17,
     "metadata": {},
     "output_type": "execute_result"
    }
   ],
   "source": [
    "#from keys\n",
    "d.fromkeys((1,2,4),(\"a\",\"b\",\"c\"))"
   ]
  },
  {
   "cell_type": "code",
   "execution_count": 19,
   "id": "62a77042-ab49-4e97-b432-00d00ee0b14d",
   "metadata": {},
   "outputs": [],
   "source": [
    "#zip function\n",
    "students =[\"arun\",\"ajay\",\"yash\"]\n",
    "marks= [80,50,60]"
   ]
  },
  {
   "cell_type": "code",
   "execution_count": 20,
   "id": "c2b5e736-73a7-4f7c-a9b2-a0bc7ee93c2e",
   "metadata": {},
   "outputs": [
    {
     "name": "stdout",
     "output_type": "stream",
     "text": [
      "('arun', 80)\n",
      "('ajay', 50)\n",
      "('yash', 60)\n"
     ]
    }
   ],
   "source": [
    "for i in zip(students,marks):\n",
    "    print(i)"
   ]
  },
  {
   "cell_type": "code",
   "execution_count": 22,
   "id": "9918a319-6272-486f-8a0f-8eaf636d78e7",
   "metadata": {},
   "outputs": [],
   "source": [
    "students =[\"arun\",\"ajay\",\"yash\"]\n",
    "marks= [80,50,60]\n",
    "students_marks ={}\n",
    "for student,mark in zip(students, marks):\n",
    "    students_marks[student] = mark"
   ]
  },
  {
   "cell_type": "code",
   "execution_count": 23,
   "id": "dc61b443-50b4-420d-b3e6-c95323d168a7",
   "metadata": {},
   "outputs": [
    {
     "data": {
      "text/plain": [
       "{'arun': 80, 'ajay': 50, 'yash': 60}"
      ]
     },
     "execution_count": 23,
     "metadata": {},
     "output_type": "execute_result"
    }
   ],
   "source": [
    "students_marks"
   ]
  },
  {
   "cell_type": "code",
   "execution_count": 24,
   "id": "db758c36-7ed5-4c50-99c3-c453d5d8bddd",
   "metadata": {},
   "outputs": [],
   "source": [
    "customer = [\"yash\",\"priya\", \"vikas\",\"diksha\"]\n",
    "order = [\"pizza\",\"fries\",\"tomato\",\"baigan\"]\n",
    "cust_order={}\n",
    "for cust,odr in zip(customer,order):\n",
    "    cust_order[cust]=odr"
   ]
  },
  {
   "cell_type": "code",
   "execution_count": 25,
   "id": "27462604-0013-4198-8199-53114a8bea77",
   "metadata": {},
   "outputs": [
    {
     "data": {
      "text/plain": [
       "{'yash': 'pizza', 'priya': 'fries', 'vikas': 'tomato', 'diksha': 'baigan'}"
      ]
     },
     "execution_count": 25,
     "metadata": {},
     "output_type": "execute_result"
    }
   ],
   "source": [
    "cust_order"
   ]
  },
  {
   "cell_type": "code",
   "execution_count": 26,
   "id": "e40ccc7a-3e86-4f7c-a3e0-02beac7b4486",
   "metadata": {},
   "outputs": [
    {
     "data": {
      "text/plain": [
       "{'arun': [80, 50, 60], 'ajay': [80, 50, 60], 'yash': [80, 50, 60]}"
      ]
     },
     "execution_count": 26,
     "metadata": {},
     "output_type": "execute_result"
    }
   ],
   "source": [
    "#dictonary comprihention\n",
    "{student:marks for student,mark in zip(students,marks)}"
   ]
  },
  {
   "cell_type": "code",
   "execution_count": 27,
   "id": "8c6b2f35-a537-40de-a5f1-df8d7b1a813e",
   "metadata": {},
   "outputs": [
    {
     "data": {
      "text/plain": [
       "['ajfh', 'ajhfo', 'afjol']"
      ]
     },
     "execution_count": 27,
     "metadata": {},
     "output_type": "execute_result"
    }
   ],
   "source": [
    "#use case\n",
    "user_id = [1,2,3]\n",
    "user_name = [\"ajfh\",\"ajhfo\",\"afjol\"]\n",
    "user_id\n",
    "user_name"
   ]
  },
  {
   "cell_type": "code",
   "execution_count": 28,
   "id": "fac720d2-73b0-4eba-9fe9-b12e45e8163c",
   "metadata": {},
   "outputs": [
    {
     "data": {
      "text/plain": [
       "{1: 'ajfh', 2: 'ajhfo', 3: 'afjol'}"
      ]
     },
     "execution_count": 28,
     "metadata": {},
     "output_type": "execute_result"
    }
   ],
   "source": [
    "{u_id:u_name for u_id,u_name in zip(user_id,user_name)}"
   ]
  },
  {
   "cell_type": "code",
   "execution_count": 29,
   "id": "23e31537-c5d9-4cae-a289-58abf1226f18",
   "metadata": {},
   "outputs": [
    {
     "data": {
      "text/plain": [
       "{'yash': 'pizza', 'priya': 'fries', 'vikas': 'tomato', 'diksha': 'baigan'}"
      ]
     },
     "execution_count": 29,
     "metadata": {},
     "output_type": "execute_result"
    }
   ],
   "source": [
    "{cust:odr for cust,odr in zip(customer,order)}"
   ]
  },
  {
   "cell_type": "code",
   "execution_count": 30,
   "id": "7c167049-3bee-4ef4-b0e3-96564ef08888",
   "metadata": {},
   "outputs": [],
   "source": [
    "employees = {\n",
    "    101: {\"name\": \"Alice\", \"position\": \"Manager\", \"salary\": 70000},\n",
    "    102: {\"name\": \"Bob\", \"position\": \"Developer\", \"salary\": 60000},\n",
    "    103: {\"name\": \"Charlie\", \"position\": \"Designer\", \"salary\": 55000}\n",
    "}"
   ]
  },
  {
   "cell_type": "code",
   "execution_count": 31,
   "id": "82cfccf6-bf61-4276-b3e2-30360a5c49d4",
   "metadata": {},
   "outputs": [
    {
     "data": {
      "text/plain": [
       "{101: {'name': 'Alice', 'position': 'Manager', 'salary': 70000},\n",
       " 102: {'name': 'Bob', 'position': 'Developer', 'salary': 60000},\n",
       " 103: {'name': 'Charlie', 'position': 'Designer', 'salary': 55000}}"
      ]
     },
     "execution_count": 31,
     "metadata": {},
     "output_type": "execute_result"
    }
   ],
   "source": [
    "employees"
   ]
  },
  {
   "cell_type": "code",
   "execution_count": 32,
   "id": "970ce486-c0be-4336-927b-a1bf3f95b047",
   "metadata": {},
   "outputs": [
    {
     "data": {
      "text/plain": [
       "dict"
      ]
     },
     "execution_count": 32,
     "metadata": {},
     "output_type": "execute_result"
    }
   ],
   "source": [
    "type(employees)"
   ]
  },
  {
   "cell_type": "code",
   "execution_count": 33,
   "id": "fab61cc8-bf6c-4bfd-87e0-b9111ded29ca",
   "metadata": {},
   "outputs": [
    {
     "data": {
      "text/plain": [
       "{'name': 'Alice', 'position': 'Manager', 'salary': 70000}"
      ]
     },
     "execution_count": 33,
     "metadata": {},
     "output_type": "execute_result"
    }
   ],
   "source": [
    "employees.get(101)"
   ]
  },
  {
   "cell_type": "code",
   "execution_count": 34,
   "id": "d3e0393b-ba43-4b76-bcec-7a0d19b86296",
   "metadata": {},
   "outputs": [
    {
     "data": {
      "text/plain": [
       "{'name': 'Alice', 'position': 'Manager', 'salary': 70000}"
      ]
     },
     "execution_count": 34,
     "metadata": {},
     "output_type": "execute_result"
    }
   ],
   "source": [
    "employees[101]"
   ]
  },
  {
   "cell_type": "code",
   "execution_count": 35,
   "id": "4497a659-c0b0-49d1-b744-94fe66fc3d99",
   "metadata": {},
   "outputs": [],
   "source": [
    "menu = {\n",
    "    \"dish1\": {\"name\": \"Burger\", \"price\": 120, \"category\": \"Fast Food\"},\n",
    "    \"dish2\": {\"name\": \"Pizza\", \"price\": 250, \"category\": \"Fast Food\"},\n",
    "    \"dish3\": {\"name\": \"Pasta\", \"price\": 200, \"category\": \"Italian\"},\n",
    "    \"dish4\": {\"name\": \"Biryani\", \"price\": 180, \"category\": \"Indian\"},\n",
    "    \"dish5\": {\"name\": \"Coffee\", \"price\": 80, \"category\": \"Beverage\"}\n",
    "}"
   ]
  },
  {
   "cell_type": "code",
   "execution_count": 37,
   "id": "5ff83ee4-4027-48a5-a71c-43e5f0d94889",
   "metadata": {},
   "outputs": [
    {
     "data": {
      "text/plain": [
       "{'name': 'Coffee', 'price': 80, 'category': 'Beverage'}"
      ]
     },
     "execution_count": 37,
     "metadata": {},
     "output_type": "execute_result"
    }
   ],
   "source": [
    "menu[\"dish5\"]\n"
   ]
  },
  {
   "cell_type": "code",
   "execution_count": 38,
   "id": "d8b4bf9a-fba0-4dfe-8a7b-d7283a1d4ebd",
   "metadata": {},
   "outputs": [
    {
     "data": {
      "text/plain": [
       "dict_keys(['dish1', 'dish2', 'dish3', 'dish4', 'dish5'])"
      ]
     },
     "execution_count": 38,
     "metadata": {},
     "output_type": "execute_result"
    }
   ],
   "source": [
    "menu.keys()"
   ]
  },
  {
   "cell_type": "code",
   "execution_count": 39,
   "id": "ffbfac29-cd9a-49ca-9c57-b02ac7ffa30c",
   "metadata": {},
   "outputs": [
    {
     "data": {
      "text/plain": [
       "dict_values([{'name': 'Burger', 'price': 120, 'category': 'Fast Food'}, {'name': 'Pizza', 'price': 250, 'category': 'Fast Food'}, {'name': 'Pasta', 'price': 200, 'category': 'Italian'}, {'name': 'Biryani', 'price': 180, 'category': 'Indian'}, {'name': 'Coffee', 'price': 80, 'category': 'Beverage'}])"
      ]
     },
     "execution_count": 39,
     "metadata": {},
     "output_type": "execute_result"
    }
   ],
   "source": [
    "menu.values()"
   ]
  },
  {
   "cell_type": "code",
   "execution_count": 40,
   "id": "47a1acf9-1b8e-4a94-ac8c-bbe176f46928",
   "metadata": {},
   "outputs": [
    {
     "data": {
      "text/plain": [
       "dict_items([('dish1', {'name': 'Burger', 'price': 120, 'category': 'Fast Food'}), ('dish2', {'name': 'Pizza', 'price': 250, 'category': 'Fast Food'}), ('dish3', {'name': 'Pasta', 'price': 200, 'category': 'Italian'}), ('dish4', {'name': 'Biryani', 'price': 180, 'category': 'Indian'}), ('dish5', {'name': 'Coffee', 'price': 80, 'category': 'Beverage'})])"
      ]
     },
     "execution_count": 40,
     "metadata": {},
     "output_type": "execute_result"
    }
   ],
   "source": [
    "menu.items()"
   ]
  },
  {
   "cell_type": "code",
   "execution_count": 41,
   "id": "b8c60ae5-d1e6-4d94-a091-3034ffc9391c",
   "metadata": {},
   "outputs": [
    {
     "name": "stdout",
     "output_type": "stream",
     "text": [
      "dish1 {'name': 'Burger', 'price': 120, 'category': 'Fast Food'}\n",
      "dish2 {'name': 'Pizza', 'price': 250, 'category': 'Fast Food'}\n",
      "dish3 {'name': 'Pasta', 'price': 200, 'category': 'Italian'}\n",
      "dish4 {'name': 'Biryani', 'price': 180, 'category': 'Indian'}\n",
      "dish5 {'name': 'Coffee', 'price': 80, 'category': 'Beverage'}\n"
     ]
    }
   ],
   "source": [
    "for key,value in menu.items():\n",
    "    print(key,value)"
   ]
  },
  {
   "cell_type": "code",
   "execution_count": 43,
   "id": "c86eda1a-492d-4494-888e-bde5bd120194",
   "metadata": {},
   "outputs": [
    {
     "name": "stdout",
     "output_type": "stream",
     "text": [
      "dish1\n",
      "dish2\n",
      "dish3\n",
      "dish4\n",
      "dish5\n"
     ]
    }
   ],
   "source": [
    "for key in menu.keys():\n",
    "    print(key)"
   ]
  },
  {
   "cell_type": "code",
   "execution_count": 44,
   "id": "1794e0f8-f519-4eb5-b2f0-3654088225c0",
   "metadata": {},
   "outputs": [
    {
     "name": "stdout",
     "output_type": "stream",
     "text": [
      "{'name': 'Burger', 'price': 120, 'category': 'Fast Food'}\n",
      "{'name': 'Pizza', 'price': 250, 'category': 'Fast Food'}\n",
      "{'name': 'Pasta', 'price': 200, 'category': 'Italian'}\n",
      "{'name': 'Biryani', 'price': 180, 'category': 'Indian'}\n",
      "{'name': 'Coffee', 'price': 80, 'category': 'Beverage'}\n"
     ]
    }
   ],
   "source": [
    "for values in menu.values():\n",
    "    print(values)"
   ]
  },
  {
   "cell_type": "code",
   "execution_count": null,
   "id": "06ed71c2-df2e-420a-9b2c-36054e2f4b93",
   "metadata": {},
   "outputs": [],
   "source": []
  }
 ],
 "metadata": {
  "kernelspec": {
   "display_name": "Python 3 (ipykernel)",
   "language": "python",
   "name": "python3"
  },
  "language_info": {
   "codemirror_mode": {
    "name": "ipython",
    "version": 3
   },
   "file_extension": ".py",
   "mimetype": "text/x-python",
   "name": "python",
   "nbconvert_exporter": "python",
   "pygments_lexer": "ipython3",
   "version": "3.13.2"
  }
 },
 "nbformat": 4,
 "nbformat_minor": 5
}
