{
 "cells": [
  {
   "cell_type": "code",
   "execution_count": 1,
   "id": "33bbdec2-f4f1-471e-a6fc-0b41e906acab",
   "metadata": {},
   "outputs": [
    {
     "data": {
      "text/plain": [
       "('this is my first function', 1, 2, 3, (3+7j))"
      ]
     },
     "execution_count": 1,
     "metadata": {},
     "output_type": "execute_result"
    }
   ],
   "source": [
    "def func():\n",
    "    return \"this is my first function\",1,2,3,3+7j\n",
    "\n",
    "func()"
   ]
  },
  {
   "cell_type": "code",
   "execution_count": 2,
   "id": "7700fa6d-e1dc-4057-9a95-61714dbe00b4",
   "metadata": {},
   "outputs": [
    {
     "data": {
      "text/plain": [
       "1"
      ]
     },
     "execution_count": 2,
     "metadata": {},
     "output_type": "execute_result"
    }
   ],
   "source": [
    "a = func()\n",
    "a[1]"
   ]
  },
  {
   "cell_type": "code",
   "execution_count": 3,
   "id": "0da0d00d-aaac-4b8f-b96d-5e15c380c4cc",
   "metadata": {},
   "outputs": [],
   "source": [
    "#efficent way to acces it is "
   ]
  },
  {
   "cell_type": "code",
   "execution_count": 4,
   "id": "52aea5ab-5184-4a51-8dd3-3a11de3c279b",
   "metadata": {},
   "outputs": [
    {
     "data": {
      "text/plain": [
       "'this is my first function'"
      ]
     },
     "execution_count": 4,
     "metadata": {},
     "output_type": "execute_result"
    }
   ],
   "source": [
    "a,b,c,d,e = func()\n",
    "a"
   ]
  },
  {
   "cell_type": "code",
   "execution_count": 5,
   "id": "12777b5d-d890-41e6-b590-a981d0a94d62",
   "metadata": {},
   "outputs": [
    {
     "data": {
      "text/plain": [
       "1"
      ]
     },
     "execution_count": 5,
     "metadata": {},
     "output_type": "execute_result"
    }
   ],
   "source": [
    "b"
   ]
  },
  {
   "cell_type": "code",
   "execution_count": 6,
   "id": "34a49634-23f5-439f-b7fb-5a8dfee99528",
   "metadata": {},
   "outputs": [],
   "source": [
    "def func():\n",
    "    calc = 2+3*5\n",
    "    return calc"
   ]
  },
  {
   "cell_type": "code",
   "execution_count": 7,
   "id": "2e213da9-d561-4b04-8f2e-0e02e45e6e69",
   "metadata": {},
   "outputs": [
    {
     "data": {
      "text/plain": [
       "17"
      ]
     },
     "execution_count": 7,
     "metadata": {},
     "output_type": "execute_result"
    }
   ],
   "source": [
    "func()"
   ]
  },
  {
   "cell_type": "code",
   "execution_count": 8,
   "id": "d0e73552-f30e-4549-990c-d5f31609d7a3",
   "metadata": {},
   "outputs": [
    {
     "data": {
      "text/plain": [
       "int"
      ]
     },
     "execution_count": 8,
     "metadata": {},
     "output_type": "execute_result"
    }
   ],
   "source": [
    "type(func())"
   ]
  },
  {
   "cell_type": "code",
   "execution_count": 9,
   "id": "50a0643d-4dde-4b06-b09d-8189cb7209b7",
   "metadata": {},
   "outputs": [],
   "source": [
    "def square(a):\n",
    "    return a*a"
   ]
  },
  {
   "cell_type": "code",
   "execution_count": 10,
   "id": "b64185fe-e3e4-4802-9379-9e085bc7f8a3",
   "metadata": {},
   "outputs": [
    {
     "data": {
      "text/plain": [
       "25"
      ]
     },
     "execution_count": 10,
     "metadata": {},
     "output_type": "execute_result"
    }
   ],
   "source": [
    "square(5)"
   ]
  },
  {
   "cell_type": "code",
   "execution_count": 11,
   "id": "1f7fc7ec-07e7-4d8a-8ae1-d5db7bc2bf40",
   "metadata": {},
   "outputs": [],
   "source": [
    "def square(args):\n",
    "    return args*args"
   ]
  },
  {
   "cell_type": "code",
   "execution_count": 12,
   "id": "59cdb245-daf5-4f7e-afb5-db709eeb6af3",
   "metadata": {},
   "outputs": [
    {
     "data": {
      "text/plain": [
       "36"
      ]
     },
     "execution_count": 12,
     "metadata": {},
     "output_type": "execute_result"
    }
   ],
   "source": [
    "square(6)"
   ]
  },
  {
   "cell_type": "code",
   "execution_count": 13,
   "id": "06a331c7-128f-4321-a441-7a2b20585669",
   "metadata": {},
   "outputs": [
    {
     "data": {
      "text/plain": [
       "9"
      ]
     },
     "execution_count": 13,
     "metadata": {},
     "output_type": "execute_result"
    }
   ],
   "source": [
    "def add(a,b):\n",
    "    return a+b\n",
    "add(4,5)"
   ]
  },
  {
   "cell_type": "code",
   "execution_count": 16,
   "id": "9ed217b3-375c-4dfa-aeaa-93ab81c375d7",
   "metadata": {},
   "outputs": [
    {
     "data": {
      "text/plain": [
       "'pwskills'"
      ]
     },
     "execution_count": 16,
     "metadata": {},
     "output_type": "execute_result"
    }
   ],
   "source": [
    "add(\"pw\",\"skills\")"
   ]
  },
  {
   "cell_type": "code",
   "execution_count": 17,
   "id": "689f3268-b2e1-4ff3-bf2d-11015d4dd8a2",
   "metadata": {},
   "outputs": [
    {
     "data": {
      "text/plain": [
       "[1, 2, 3, 1, 5, 6]"
      ]
     },
     "execution_count": 17,
     "metadata": {},
     "output_type": "execute_result"
    }
   ],
   "source": [
    "add([1,2,3],[1,5,6])"
   ]
  },
  {
   "cell_type": "code",
   "execution_count": 18,
   "id": "13f784f0-1341-4fb6-bece-e6a7d465db0c",
   "metadata": {},
   "outputs": [
    {
     "data": {
      "text/plain": [
       "'skillspw'"
      ]
     },
     "execution_count": 18,
     "metadata": {},
     "output_type": "execute_result"
    }
   ],
   "source": [
    "add(\"skills\",\"pw\")"
   ]
  },
  {
   "cell_type": "code",
   "execution_count": 19,
   "id": "64b25937-3aaa-461d-9901-bde906800ecf",
   "metadata": {},
   "outputs": [
    {
     "data": {
      "text/plain": [
       "'pwskills'"
      ]
     },
     "execution_count": 19,
     "metadata": {},
     "output_type": "execute_result"
    }
   ],
   "source": [
    "add(\"pw\",\"skills\")"
   ]
  },
  {
   "cell_type": "code",
   "execution_count": 21,
   "id": "02febedd-6adc-4a16-81aa-948e29b237b8",
   "metadata": {},
   "outputs": [
    {
     "data": {
      "text/plain": [
       "'pwskills'"
      ]
     },
     "execution_count": 21,
     "metadata": {},
     "output_type": "execute_result"
    }
   ],
   "source": [
    "#a and b are positional argu >> it maintain order\n",
    "\n",
    "\n",
    "\n",
    "add(b=\"skills\",a=\"pw\")"
   ]
  },
  {
   "cell_type": "code",
   "execution_count": 22,
   "id": "faea002b-4bd9-4361-910b-2ed2ae9c4f50",
   "metadata": {},
   "outputs": [],
   "source": [
    "def sum(a,b,c):\n",
    "    return a+b+c"
   ]
  },
  {
   "cell_type": "code",
   "execution_count": 23,
   "id": "e40d2658-582a-4d40-951f-583f3186413d",
   "metadata": {},
   "outputs": [
    {
     "data": {
      "text/plain": [
       "12"
      ]
     },
     "execution_count": 23,
     "metadata": {},
     "output_type": "execute_result"
    }
   ],
   "source": [
    "sum(2,4,6)"
   ]
  },
  {
   "cell_type": "code",
   "execution_count": 24,
   "id": "6d5a5ddb-6bb3-4dc1-a966-c4b612eef040",
   "metadata": {},
   "outputs": [],
   "source": [
    "def sum(b,c,a=0): #default argument is passed to function in the last\n",
    "    return a+b+c "
   ]
  },
  {
   "cell_type": "code",
   "execution_count": 25,
   "id": "29c06cb4-743a-4ef0-991f-e46c159f714b",
   "metadata": {},
   "outputs": [
    {
     "data": {
      "text/plain": [
       "12"
      ]
     },
     "execution_count": 25,
     "metadata": {},
     "output_type": "execute_result"
    }
   ],
   "source": [
    "sum(3,4,5)"
   ]
  },
  {
   "cell_type": "code",
   "execution_count": 26,
   "id": "e3f08d73-8c47-4ed0-b15e-109b21549706",
   "metadata": {},
   "outputs": [
    {
     "data": {
      "text/plain": [
       "7"
      ]
     },
     "execution_count": 26,
     "metadata": {},
     "output_type": "execute_result"
    }
   ],
   "source": [
    "sum(3,4)"
   ]
  },
  {
   "cell_type": "code",
   "execution_count": 28,
   "id": "929deb5d-3170-412a-a3de-46af2cae6f48",
   "metadata": {},
   "outputs": [
    {
     "ename": "SyntaxError",
     "evalue": "parameter without a default follows parameter with a default (2249245518.py, line 1)",
     "output_type": "error",
     "traceback": [
      "\u001b[1;36m  Cell \u001b[1;32mIn[28], line 1\u001b[1;36m\u001b[0m\n\u001b[1;33m    def sum(b=0,c,a): #default argument should be at last\u001b[0m\n\u001b[1;37m                ^\u001b[0m\n\u001b[1;31mSyntaxError\u001b[0m\u001b[1;31m:\u001b[0m parameter without a default follows parameter with a default\n"
     ]
    }
   ],
   "source": [
    "def sum(b=0,c,a): #default argument should be at last\n",
    "    return a+b+c "
   ]
  },
  {
   "cell_type": "code",
   "execution_count": 31,
   "id": "89538d87-5f54-471d-8435-21a21bd1cc08",
   "metadata": {},
   "outputs": [],
   "source": [
    "def sum(b=3,c=0,a=0): #default argument is passed to function in the last\n",
    "    return a+b+c "
   ]
  },
  {
   "cell_type": "code",
   "execution_count": 32,
   "id": "568e790d-bc70-4471-a94a-5e9e79228327",
   "metadata": {},
   "outputs": [
    {
     "data": {
      "text/plain": [
       "15"
      ]
     },
     "execution_count": 32,
     "metadata": {},
     "output_type": "execute_result"
    }
   ],
   "source": [
    "sum(5,4,6)"
   ]
  },
  {
   "cell_type": "code",
   "execution_count": 33,
   "id": "0ee28042-8cc1-4d16-a8b2-ac485bad6b37",
   "metadata": {},
   "outputs": [
    {
     "data": {
      "text/plain": [
       "3"
      ]
     },
     "execution_count": 33,
     "metadata": {},
     "output_type": "execute_result"
    }
   ],
   "source": [
    "sum(3)"
   ]
  },
  {
   "cell_type": "markdown",
   "id": "93a1e274-3541-4cd5-be14-076f80684d45",
   "metadata": {},
   "source": [
    "sum(8)\n"
   ]
  },
  {
   "cell_type": "code",
   "execution_count": 34,
   "id": "c3fd40c0-dc45-4f57-919d-7d9c4f69bc51",
   "metadata": {},
   "outputs": [
    {
     "data": {
      "text/plain": [
       "8"
      ]
     },
     "execution_count": 34,
     "metadata": {},
     "output_type": "execute_result"
    }
   ],
   "source": [
    "sum(8)"
   ]
  },
  {
   "cell_type": "code",
   "execution_count": 35,
   "id": "4afd67b7-ce75-4376-bcb6-0b91be887b63",
   "metadata": {},
   "outputs": [
    {
     "data": {
      "text/plain": [
       "4"
      ]
     },
     "execution_count": 35,
     "metadata": {},
     "output_type": "execute_result"
    }
   ],
   "source": [
    "sum(c=1)"
   ]
  },
  {
   "cell_type": "code",
   "execution_count": 37,
   "id": "26ddbbf7-e95f-496e-9b73-81345b4d7eb3",
   "metadata": {},
   "outputs": [],
   "source": [
    "def add_two_no():\n",
    "    a = int(input(\"enter the first no\"))\n",
    "    b = int(input(\"enter the second no\"))\n",
    "    return a+b"
   ]
  },
  {
   "cell_type": "code",
   "execution_count": 38,
   "id": "1fce9344-6193-4d64-a154-9d19ed1377d7",
   "metadata": {},
   "outputs": [
    {
     "name": "stdin",
     "output_type": "stream",
     "text": [
      "enter the first no 3\n",
      "enter the second no 5\n"
     ]
    },
    {
     "data": {
      "text/plain": [
       "8"
      ]
     },
     "execution_count": 38,
     "metadata": {},
     "output_type": "execute_result"
    }
   ],
   "source": [
    "add_two_no()"
   ]
  },
  {
   "cell_type": "code",
   "execution_count": 41,
   "id": "978cf654-a388-4401-8a3c-09a8b391d423",
   "metadata": {},
   "outputs": [],
   "source": [
    "def only_num(a):\n",
    "    n = []\n",
    "    for i in a:\n",
    "        if type(i) == int or type(i) == float:\n",
    "            n.append(i)\n",
    "    return n"
   ]
  },
  {
   "cell_type": "code",
   "execution_count": 44,
   "id": "8bfd55fc-e763-47ad-b110-1a8a11cbcc89",
   "metadata": {},
   "outputs": [
    {
     "data": {
      "text/plain": [
       "[2, 3, 4, 6]"
      ]
     },
     "execution_count": 44,
     "metadata": {},
     "output_type": "execute_result"
    }
   ],
   "source": [
    "only_num([2,3,4,True,3+8j,\"yash\",6])"
   ]
  },
  {
   "cell_type": "code",
   "execution_count": 51,
   "id": "7c4d13d4-9c95-458b-b134-3f8dea6b7c89",
   "metadata": {},
   "outputs": [],
   "source": [
    "def only_num(a):\n",
    "    n = []\n",
    "    for i in a:\n",
    "        if type(i) == list:\n",
    "            for j in i:\n",
    "                if type(j) == int or type(j) == float:\n",
    "                    n.append(j)\n",
    "        else type(i) == int or type(i) == float:\n",
    "            n.append(i)\n",
    "    return n"
   ]
  },
  {
   "cell_type": "code",
   "execution_count": 52,
   "id": "cf995d49-9008-42c9-b8e0-4d49a2c48a22",
   "metadata": {},
   "outputs": [
    {
     "data": {
      "text/plain": [
       "[1, 2, 2, 3]"
      ]
     },
     "execution_count": 52,
     "metadata": {},
     "output_type": "execute_result"
    }
   ],
   "source": [
    "only_num([1,2,True,[2,3,\"ajay\"]])"
   ]
  },
  {
   "cell_type": "code",
   "execution_count": null,
   "id": "fc8ae50e-0ecd-4762-87f7-b335f504a829",
   "metadata": {},
   "outputs": [],
   "source": []
  },
  {
   "cell_type": "code",
   "execution_count": null,
   "id": "ab7079f0-2902-4268-9ebb-82937cba5bfc",
   "metadata": {},
   "outputs": [],
   "source": []
  },
  {
   "cell_type": "code",
   "execution_count": null,
   "id": "0e88a49e-a64e-4fad-a7d9-ebbb291f00a2",
   "metadata": {},
   "outputs": [],
   "source": []
  },
  {
   "cell_type": "code",
   "execution_count": null,
   "id": "eb8cac74-8159-46ad-8ae6-5d92e9eabd64",
   "metadata": {},
   "outputs": [],
   "source": []
  },
  {
   "cell_type": "code",
   "execution_count": null,
   "id": "b0de4f6a-a164-4afe-9561-fd29f256e04f",
   "metadata": {},
   "outputs": [],
   "source": []
  },
  {
   "cell_type": "code",
   "execution_count": null,
   "id": "751430f3-2940-4980-b405-5f132fe7ed0a",
   "metadata": {},
   "outputs": [],
   "source": []
  },
  {
   "cell_type": "code",
   "execution_count": null,
   "id": "cd7191a1-bdf4-4502-86cf-96f1d00c0b97",
   "metadata": {},
   "outputs": [],
   "source": []
  },
  {
   "cell_type": "code",
   "execution_count": null,
   "id": "79f10d8d-f0c9-4477-988f-65810d0093db",
   "metadata": {},
   "outputs": [],
   "source": []
  },
  {
   "cell_type": "code",
   "execution_count": null,
   "id": "d8464cf8-2be6-4e29-a506-a8afabb36cd4",
   "metadata": {},
   "outputs": [],
   "source": []
  }
 ],
 "metadata": {
  "kernelspec": {
   "display_name": "Python 3 (ipykernel)",
   "language": "python",
   "name": "python3"
  },
  "language_info": {
   "codemirror_mode": {
    "name": "ipython",
    "version": 3
   },
   "file_extension": ".py",
   "mimetype": "text/x-python",
   "name": "python",
   "nbconvert_exporter": "python",
   "pygments_lexer": "ipython3",
   "version": "3.13.2"
  }
 },
 "nbformat": 4,
 "nbformat_minor": 5
}
