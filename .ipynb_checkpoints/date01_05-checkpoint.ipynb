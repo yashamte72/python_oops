{
 "cells": [
  {
   "cell_type": "code",
   "execution_count": 1,
   "id": "87de00f0-32a1-463f-b9f2-495c728e5324",
   "metadata": {},
   "outputs": [],
   "source": [
    "#decorators >> it allwas to modify or extend the behaviours of class wihtour directly modifying there code\n",
    "#similar to you decorating your house(to make your home beautiful) to inhave class we use decorators \n",
    "#we dont require it ( we use to make it inhance code)"
   ]
  },
  {
   "cell_type": "code",
   "execution_count": 2,
   "id": "782e6f5f-9fe8-4d2c-be1b-0ef60bdbf017",
   "metadata": {},
   "outputs": [],
   "source": [
    "#function decorator and class decorator\n",
    "\n",
    "#function decorators"
   ]
  },
  {
   "cell_type": "code",
   "execution_count": 5,
   "id": "bc49b8bf-848d-4850-8bc3-9b8bac892256",
   "metadata": {},
   "outputs": [],
   "source": [
    "#use canse to understand \n",
    "#after each time you create a function or call function\n",
    "#it will take lot of time to type the lines repeatatively\n",
    "#and thats why concept of decorator comes into picture \n",
    "\n",
    "def my_decorator():\n",
    "    print(\"line before computation\")\n",
    "    print(11*1200) #decoding the actual function the line above and line below\n",
    "    print(\"line after computation\")\n",
    "\n",
    "#in the above apporch you have to write all the lines as many times as you creating the diffrent functions\n",
    "#lets see the decorator appoach"
   ]
  },
  {
   "cell_type": "code",
   "execution_count": 6,
   "id": "8216e68e-8756-4cef-8f30-45da9e26c27f",
   "metadata": {},
   "outputs": [
    {
     "name": "stdout",
     "output_type": "stream",
     "text": [
      "line before computation\n",
      "13200\n",
      "line after computation\n"
     ]
    }
   ],
   "source": [
    "my_decorator()"
   ]
  },
  {
   "cell_type": "code",
   "execution_count": 9,
   "id": "6b33c2ab-1f1b-4338-8652-6eb15fda4397",
   "metadata": {},
   "outputs": [],
   "source": [
    "#decorator approach for functions>> use case 1\n",
    "\n",
    "def my_dec(func): #decorator function thta takes another function as arguments\n",
    "    def wrapper(): #adds the fucntionality before and after calling function\n",
    "        print(\"the lines before computaiopn\")\n",
    "        func() #say hello which is the function will be excuted here\n",
    "        print(\"lines after computation\")\n",
    "    return wrapper"
   ]
  },
  {
   "cell_type": "code",
   "execution_count": 12,
   "id": "283a2d07-bb9e-4502-a042-914e3fb066e8",
   "metadata": {},
   "outputs": [],
   "source": [
    "@my_dec #syntax to decorate the say hello function\n",
    "def say_hello():\n",
    "    print(\"hello\")"
   ]
  },
  {
   "cell_type": "code",
   "execution_count": 13,
   "id": "f4e0b8ad-24c6-4601-9633-19fdf767bf23",
   "metadata": {},
   "outputs": [
    {
     "name": "stdout",
     "output_type": "stream",
     "text": [
      "the lines before computaiopn\n",
      "hello\n",
      "lines after computation\n"
     ]
    }
   ],
   "source": [
    "say_hello()\n",
    "#when say_hello is called, it is actual first calling the decorator method>>\n",
    "#which in return is calling wrapper function \n",
    "#wrapper function is printing the lline before and after and \n",
    "#in between calling the say_hello func"
   ]
  },
  {
   "cell_type": "code",
   "execution_count": 14,
   "id": "84ea2085-9621-4f22-b571-73e8bfbda284",
   "metadata": {},
   "outputs": [],
   "source": [
    "#another use of function decorator\n",
    "#run time of a code\n",
    "\n",
    "import time \n",
    "def timer_decorator(func):\n",
    "    def timer():\n",
    "        start = time.time()\n",
    "        func()\n",
    "        end = time.time()\n",
    "        print(\"time for executing the code :\", end-start)\n",
    "    return timer"
   ]
  },
  {
   "cell_type": "code",
   "execution_count": 19,
   "id": "99fff3c5-70fd-421f-bd64-19de496382f1",
   "metadata": {},
   "outputs": [],
   "source": [
    "@timer_decorator\n",
    "def func_test():\n",
    "    print(112435234531*135245200)"
   ]
  },
  {
   "cell_type": "code",
   "execution_count": 20,
   "id": "57990330-adcf-4ad8-9955-11f3ca085a34",
   "metadata": {},
   "outputs": [
    {
     "name": "stdout",
     "output_type": "stream",
     "text": [
      "15206325781192001200\n",
      "time for executing the code : 3.4809112548828125e-05\n"
     ]
    }
   ],
   "source": [
    "func_test()"
   ]
  },
  {
   "cell_type": "code",
   "execution_count": 21,
   "id": "63a603df-c0bf-4e3c-86f7-a580c1e3ab43",
   "metadata": {},
   "outputs": [],
   "source": [
    "@timer_decorator\n",
    "def func_test2():\n",
    "    print(112435234531+135245200)"
   ]
  },
  {
   "cell_type": "code",
   "execution_count": 22,
   "id": "8780b2b3-0b70-4f5a-bd20-3561b8991a09",
   "metadata": {},
   "outputs": [
    {
     "name": "stdout",
     "output_type": "stream",
     "text": [
      "112570479731\n",
      "time for executing the code : 7.557868957519531e-05\n"
     ]
    }
   ],
   "source": [
    "func_test2()"
   ]
  },
  {
   "cell_type": "code",
   "execution_count": 23,
   "id": "2d4ac5c5-9e20-4815-b716-387b5eaba54b",
   "metadata": {},
   "outputs": [],
   "source": [
    "#why do you need decorators ?\n",
    "#reusability of the code \n",
    "#you are enhancing the function without modifying the original function\n",
    "#use case>> execution time of code , logging , catching ,validating"
   ]
  },
  {
   "cell_type": "code",
   "execution_count": 33,
   "id": "a4423602-d9eb-47f4-b7ad-83c12c503b94",
   "metadata": {},
   "outputs": [],
   "source": [
    "#class decorator>>\n",
    "class MyDecorator:\n",
    "    def __init__(self,func): #similar to function decorator you are passing func in the class decorator\n",
    "        self.func = func\n",
    "    def __call__(self): #which is also special method which is called when you call object or instance of the class as a function\n",
    "        print(\"something is happening before the function\")\n",
    "        self.func()\n",
    "        print(\"something is happening after the function\")"
   ]
  },
  {
   "cell_type": "code",
   "execution_count": 34,
   "id": "fa8322f1-7c62-4340-8fae-2b0bcc7c8865",
   "metadata": {},
   "outputs": [
    {
     "name": "stdout",
     "output_type": "stream",
     "text": [
      "something is happening before the function\n",
      "hello\n",
      "something is happening after the function\n"
     ]
    }
   ],
   "source": [
    "@MyDecorator # class __call__ will be executed as object if the class as called as fucntion >> first init method will be executed then __call__ method is executed \n",
    "def say_hello():\n",
    "    print(\"hello\")\n",
    "\n",
    "say_hello()"
   ]
  },
  {
   "cell_type": "code",
   "execution_count": 35,
   "id": "bb1a2820-7743-4964-bc67-56cc32c27010",
   "metadata": {},
   "outputs": [],
   "source": [
    "#__call__ >>special method which is called when you call object or instance of the class as a function"
   ]
  },
  {
   "cell_type": "code",
   "execution_count": 36,
   "id": "8f98424f-d0f1-4ee7-8c23-65dd5f184f10",
   "metadata": {},
   "outputs": [
    {
     "name": "stdout",
     "output_type": "stream",
     "text": [
      "inside the init function\n"
     ]
    }
   ],
   "source": [
    "#class decorator>>\n",
    "class MyDecor:\n",
    "    def __init__(self): #similar to function decorator you are passing func in the class decorator\n",
    "        #self.func = func\n",
    "        print(\"inside the init function\")\n",
    "    def __call__(self):  \n",
    "        print(\"something is happening before the function\")\n",
    "        #self.func()\n",
    "        print(\"something is happening after the function\")\n",
    "\n",
    "obj1 = MyDecor() #when you make object of class init is executed first"
   ]
  },
  {
   "cell_type": "code",
   "execution_count": 37,
   "id": "2d048241-c9a1-4b30-980c-f7d5769f4a46",
   "metadata": {},
   "outputs": [
    {
     "name": "stdout",
     "output_type": "stream",
     "text": [
      "something is happening before the function\n",
      "something is happening after the function\n"
     ]
    }
   ],
   "source": [
    "obj1() #when you call the object of a class as a function you will invoke call function"
   ]
  },
  {
   "cell_type": "code",
   "execution_count": 38,
   "id": "2faa260b-fbc7-4872-8224-714d485589df",
   "metadata": {},
   "outputs": [],
   "source": [
    "#some inbuilt decorators \n",
    "#@classmethod >> the method it takes the calss itself as first argumnet"
   ]
  },
  {
   "cell_type": "code",
   "execution_count": 44,
   "id": "e7bf6f66-a014-4839-992b-b279d6396b0d",
   "metadata": {},
   "outputs": [],
   "source": [
    "class Math:\n",
    "    @classmethod #takes reference to the class itself to modify and access class level attribute or data\n",
    "    def add(cls,x,y):\n",
    "        return cls.__name__,x+y #refering to class math"
   ]
  },
  {
   "cell_type": "code",
   "execution_count": 45,
   "id": "d6a1e686-7466-49b7-a456-ce9c51167c7a",
   "metadata": {},
   "outputs": [
    {
     "data": {
      "text/plain": [
       "('Math', 8)"
      ]
     },
     "execution_count": 45,
     "metadata": {},
     "output_type": "execute_result"
    }
   ],
   "source": [
    "#you dont need any init method to take data\n",
    "Math.add(3,5)"
   ]
  },
  {
   "cell_type": "code",
   "execution_count": 46,
   "id": "affebbcb-1ea5-4afb-acd1-8c674da37082",
   "metadata": {},
   "outputs": [],
   "source": [
    "#class method is bound to class and not the instance of the class\n",
    "#class itself as the first argument >> conventially cls"
   ]
  },
  {
   "cell_type": "code",
   "execution_count": 48,
   "id": "63166892-9d00-4c11-9b07-2dd7db4548cf",
   "metadata": {},
   "outputs": [],
   "source": [
    "#next inbuilt decorator is static method \n",
    "#static method >> the method which can be called without crating any instance of the class , and without using any self or cls "
   ]
  },
  {
   "cell_type": "code",
   "execution_count": 49,
   "id": "192ec37b-a0a9-46d5-aa1a-ddae479d0775",
   "metadata": {},
   "outputs": [],
   "source": [
    "class math:\n",
    "    def add(self,x,y):\n",
    "        return x+y"
   ]
  },
  {
   "cell_type": "code",
   "execution_count": 50,
   "id": "1ba1a12a-5dc1-45f7-9a25-11816cd8604b",
   "metadata": {},
   "outputs": [],
   "source": [
    "a = math()"
   ]
  },
  {
   "cell_type": "code",
   "execution_count": 52,
   "id": "30b09d0a-8413-4ba8-ad6e-69c6b9b9b112",
   "metadata": {},
   "outputs": [
    {
     "data": {
      "text/plain": [
       "6"
      ]
     },
     "execution_count": 52,
     "metadata": {},
     "output_type": "execute_result"
    }
   ],
   "source": [
    "a.add(2,4) #this it the way to call regular class method\n"
   ]
  },
  {
   "cell_type": "code",
   "execution_count": 55,
   "id": "e4e24f34-7460-4e31-a9f1-7d40e1fc71fb",
   "metadata": {},
   "outputs": [],
   "source": [
    "#how to use static method\n",
    "class Math:\n",
    "    @staticmethod\n",
    "    def add(x,y): #no need of self or cls\n",
    "        return x+y"
   ]
  },
  {
   "cell_type": "code",
   "execution_count": 57,
   "id": "49750052-0f49-48e1-89bc-5ebe418ea9fc",
   "metadata": {},
   "outputs": [
    {
     "data": {
      "text/plain": [
       "7"
      ]
     },
     "execution_count": 57,
     "metadata": {},
     "output_type": "execute_result"
    }
   ],
   "source": [
    "Math.add(2,5) #no need to making an object"
   ]
  },
  {
   "cell_type": "code",
   "execution_count": 60,
   "id": "7aef7135-2025-43c3-9b1b-156b437c6b97",
   "metadata": {},
   "outputs": [],
   "source": [
    "#class method\n",
    "#-- you can acces and modify class level object\n",
    "#cls as your first argument\n",
    "#use when you want to modify class level data"
   ]
  },
  {
   "cell_type": "code",
   "execution_count": 61,
   "id": "4c1a7d8a-93ff-4679-9c08-d0c1599eec61",
   "metadata": {},
   "outputs": [],
   "source": [
    "#static method\n",
    "# cannot acces objects\n",
    "#no first argument\n",
    "#when you dont want to interact with class level data"
   ]
  },
  {
   "cell_type": "code",
   "execution_count": 62,
   "id": "c54c0146-cc95-4b72-8f32-5c6962ac5ff6",
   "metadata": {},
   "outputs": [],
   "source": [
    "#property decorator>> it allows method to be accessed as attributes"
   ]
  },
  {
   "cell_type": "code",
   "execution_count": 63,
   "id": "51331d69-fd75-49d2-bc81-d51a84efab97",
   "metadata": {},
   "outputs": [],
   "source": [
    "class Circle:\n",
    "    def __init__(self,radius):\n",
    "        self.radius = radius"
   ]
  },
  {
   "cell_type": "code",
   "execution_count": 65,
   "id": "fe280210-26eb-41b9-abec-54b60db2b8f1",
   "metadata": {},
   "outputs": [
    {
     "data": {
      "text/plain": [
       "5"
      ]
     },
     "execution_count": 65,
     "metadata": {},
     "output_type": "execute_result"
    }
   ],
   "source": [
    "obj = Circle(5)\n",
    "obj.radius #accesing data / attributes"
   ]
  },
  {
   "cell_type": "code",
   "execution_count": 70,
   "id": "9fcc9593-5ee1-4084-92ee-2d6a030d1819",
   "metadata": {},
   "outputs": [],
   "source": [
    "class Circle:\n",
    "    def __init__(self,radius):\n",
    "        self.radius = radius\n",
    "    def area(self):\n",
    "        radius = self.radius\n",
    "        return 3.14*radius**2"
   ]
  },
  {
   "cell_type": "code",
   "execution_count": 71,
   "id": "364c93fb-9501-4e07-baf9-52852989475b",
   "metadata": {},
   "outputs": [
    {
     "data": {
      "text/plain": [
       "50.24"
      ]
     },
     "execution_count": 71,
     "metadata": {},
     "output_type": "execute_result"
    }
   ],
   "source": [
    "obj = Circle(4)\n",
    "obj.area()"
   ]
  },
  {
   "cell_type": "code",
   "execution_count": 72,
   "id": "a853d718-6a7f-4847-905d-90d900f5de4a",
   "metadata": {},
   "outputs": [],
   "source": [
    "#using property decorator\n",
    "class Circle:\n",
    "    def __init__(self,radius):\n",
    "        self.radius = radius\n",
    "    @property\n",
    "    def area(self):\n",
    "        radius = self.radius\n",
    "        return 3.14*radius**2"
   ]
  },
  {
   "cell_type": "code",
   "execution_count": 73,
   "id": "8e29b914-f8cf-4ead-9c35-4cb9050c1b19",
   "metadata": {},
   "outputs": [],
   "source": [
    "obj1 = Circle(4)"
   ]
  },
  {
   "cell_type": "code",
   "execution_count": 75,
   "id": "d9a9de59-94cf-4029-8c88-fd77ed1b7c27",
   "metadata": {},
   "outputs": [
    {
     "data": {
      "text/plain": [
       "50.24"
      ]
     },
     "execution_count": 75,
     "metadata": {},
     "output_type": "execute_result"
    }
   ],
   "source": [
    "obj1.area #after using property decorator no need to use parenthesis"
   ]
  },
  {
   "cell_type": "code",
   "execution_count": null,
   "id": "a17e5623-d279-46b3-94e9-860f0ab197b4",
   "metadata": {},
   "outputs": [],
   "source": []
  },
  {
   "cell_type": "code",
   "execution_count": null,
   "id": "38935b0c-fb86-4266-a4f8-f243b1c2a8f0",
   "metadata": {},
   "outputs": [],
   "source": []
  }
 ],
 "metadata": {
  "kernelspec": {
   "display_name": "Python 3 (ipykernel)",
   "language": "python",
   "name": "python3"
  },
  "language_info": {
   "codemirror_mode": {
    "name": "ipython",
    "version": 3
   },
   "file_extension": ".py",
   "mimetype": "text/x-python",
   "name": "python",
   "nbconvert_exporter": "python",
   "pygments_lexer": "ipython3",
   "version": "3.13.3"
  }
 },
 "nbformat": 4,
 "nbformat_minor": 5
}
