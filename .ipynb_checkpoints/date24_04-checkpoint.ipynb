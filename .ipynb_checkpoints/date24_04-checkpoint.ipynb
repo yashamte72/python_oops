{
 "cells": [
  {
   "cell_type": "code",
   "execution_count": 1,
   "id": "a5397a77-8207-4269-bb85-24d9be18b8b7",
   "metadata": {},
   "outputs": [],
   "source": [
    "import math"
   ]
  },
  {
   "cell_type": "code",
   "execution_count": 2,
   "id": "104332df-bc5d-43a8-a07b-7d33b0265165",
   "metadata": {},
   "outputs": [
    {
     "name": "stdout",
     "output_type": "stream",
     "text": [
      "p\n",
      "w\n",
      "s\n",
      "k\n",
      "i\n",
      "l\n",
      "l\n",
      "s\n"
     ]
    }
   ],
   "source": [
    "for i in \"pwskills\":\n",
    "    print(i)"
   ]
  },
  {
   "cell_type": "code",
   "execution_count": 3,
   "id": "921d5c60-1c1e-4499-a212-6de653b4c7a4",
   "metadata": {},
   "outputs": [
    {
     "name": "stdout",
     "output_type": "stream",
     "text": [
      "1\n",
      "2\n",
      "3\n",
      "apple\n",
      "potato\n",
      "banana\n"
     ]
    }
   ],
   "source": [
    "for i in {\"apple\",\"banana\",\"potato\",1,2,3}:\n",
    "    print(i)"
   ]
  },
  {
   "cell_type": "code",
   "execution_count": 4,
   "id": "43837d24-2892-40ed-ac8d-520c8aa4b969",
   "metadata": {},
   "outputs": [
    {
     "ename": "TypeError",
     "evalue": "'int' object is not iterable",
     "output_type": "error",
     "traceback": [
      "\u001b[1;31m---------------------------------------------------------------------------\u001b[0m",
      "\u001b[1;31mTypeError\u001b[0m                                 Traceback (most recent call last)",
      "Cell \u001b[1;32mIn[4], line 1\u001b[0m\n\u001b[1;32m----> 1\u001b[0m \u001b[38;5;28;43;01mfor\u001b[39;49;00m\u001b[43m \u001b[49m\u001b[43mi\u001b[49m\u001b[43m \u001b[49m\u001b[38;5;129;43;01min\u001b[39;49;00m\u001b[43m \u001b[49m\u001b[38;5;241;43m5\u001b[39;49m\u001b[43m:\u001b[49m\n\u001b[0;32m      2\u001b[0m \u001b[43m    \u001b[49m\u001b[38;5;28;43mprint\u001b[39;49m\u001b[43m(\u001b[49m\u001b[38;5;241;43m5\u001b[39;49m\u001b[43m)\u001b[49m\n",
      "\u001b[1;31mTypeError\u001b[0m: 'int' object is not iterable"
     ]
    }
   ],
   "source": [
    "for i in 5:\n",
    "    print(5)"
   ]
  },
  {
   "cell_type": "code",
   "execution_count": null,
   "id": "2f6beffe-ab38-4dbe-85a6-82a0d4188ece",
   "metadata": {},
   "outputs": [],
   "source": [
    "#iterable \n",
    "#an itrable is any python object str / data structure that is capable of returning \n",
    "#its member one at a time\n",
    "#permitting it to be iterated over in a for loop\n",
    "#example > list,tuples"
   ]
  },
  {
   "cell_type": "code",
   "execution_count": 5,
   "id": "f59136da-e3ff-4849-8d4e-33661ad7ac72",
   "metadata": {},
   "outputs": [
    {
     "name": "stdout",
     "output_type": "stream",
     "text": [
      "1\n",
      "2\n",
      "3\n"
     ]
    }
   ],
   "source": [
    "lis = [1,2,3] #list is iterable \n",
    "for i in lis:\n",
    "    print(i)"
   ]
  },
  {
   "cell_type": "code",
   "execution_count": 6,
   "id": "4d39c831-225a-4ba5-bc65-d8cb6f6b56bc",
   "metadata": {},
   "outputs": [
    {
     "ename": "TypeError",
     "evalue": "'int' object is not iterable",
     "output_type": "error",
     "traceback": [
      "\u001b[1;31m---------------------------------------------------------------------------\u001b[0m",
      "\u001b[1;31mTypeError\u001b[0m                                 Traceback (most recent call last)",
      "Cell \u001b[1;32mIn[6], line 1\u001b[0m\n\u001b[1;32m----> 1\u001b[0m \u001b[38;5;28;43;01mfor\u001b[39;49;00m\u001b[43m \u001b[49m\u001b[43mi\u001b[49m\u001b[43m \u001b[49m\u001b[38;5;129;43;01min\u001b[39;49;00m\u001b[43m \u001b[49m\u001b[38;5;241;43m6\u001b[39;49m\u001b[43m:\u001b[49m\n\u001b[0;32m      2\u001b[0m \u001b[43m    \u001b[49m\u001b[38;5;28;43mprint\u001b[39;49m\u001b[43m(\u001b[49m\u001b[43mi\u001b[49m\u001b[43m)\u001b[49m\n",
      "\u001b[1;31mTypeError\u001b[0m: 'int' object is not iterable"
     ]
    }
   ],
   "source": [
    "for i in 6:\n",
    "    print(i)"
   ]
  },
  {
   "cell_type": "code",
   "execution_count": 7,
   "id": "d568b768-0edd-46f1-b221-0f5baa9fa801",
   "metadata": {},
   "outputs": [],
   "source": [
    "#iteration >>\n",
    "#processs of looping through the elements for an iterable (list,tuple , string)\n",
    "#using a loop \n",
    "#the process of returning element one by one iteration"
   ]
  },
  {
   "cell_type": "code",
   "execution_count": 8,
   "id": "2df9d141-4f3c-4742-b08f-cf85a67871a1",
   "metadata": {},
   "outputs": [
    {
     "name": "stdout",
     "output_type": "stream",
     "text": [
      "p\n",
      "w\n",
      "s\n",
      "k\n",
      "i\n",
      "l\n",
      "l\n",
      "s\n"
     ]
    }
   ],
   "source": [
    "for i in \"pwskills\":\n",
    "    print(i)"
   ]
  },
  {
   "cell_type": "code",
   "execution_count": 9,
   "id": "828f9139-de9a-4e70-b689-6a9622a38342",
   "metadata": {},
   "outputs": [],
   "source": [
    "#iterator >> an iterator is an object represeneting a steam of data >>return the data one ofter another\n",
    "\n",
    "#anlogy\n",
    "#potato(iterable)>> it can not be cooked it original form \n",
    "#chop/wash the potato >> ready for cooking >> iterator\n",
    "#the process of cooking >> iteration\n"
   ]
  },
  {
   "cell_type": "code",
   "execution_count": 10,
   "id": "19732000-462e-4e51-a05f-de7bba72e066",
   "metadata": {},
   "outputs": [],
   "source": [
    "s = \"yashamte\""
   ]
  },
  {
   "cell_type": "code",
   "execution_count": 11,
   "id": "aa3f9099-fbf1-4409-badb-cac7217ae869",
   "metadata": {},
   "outputs": [
    {
     "name": "stdout",
     "output_type": "stream",
     "text": [
      "y\n",
      "a\n",
      "s\n",
      "h\n",
      "a\n",
      "m\n",
      "t\n",
      "e\n"
     ]
    }
   ],
   "source": [
    "for i in s:\n",
    "    print(i)\n"
   ]
  },
  {
   "cell_type": "code",
   "execution_count": 12,
   "id": "5ef1b8a4-9d2f-4cec-9ca2-ce93653b8f20",
   "metadata": {},
   "outputs": [],
   "source": [
    "#python can i preapre s for iteration\n",
    "\n",
    "a = iter(s) #ready to be iterable "
   ]
  },
  {
   "cell_type": "code",
   "execution_count": 13,
   "id": "277d08fd-35f3-4768-b205-c72d2b5b76eb",
   "metadata": {},
   "outputs": [
    {
     "data": {
      "text/plain": [
       "'y'"
      ]
     },
     "execution_count": 13,
     "metadata": {},
     "output_type": "execute_result"
    }
   ],
   "source": [
    "next(a)"
   ]
  },
  {
   "cell_type": "code",
   "execution_count": 14,
   "id": "5eaac535-2dfb-468f-97ea-085caba7ea7c",
   "metadata": {},
   "outputs": [
    {
     "data": {
      "text/plain": [
       "'a'"
      ]
     },
     "execution_count": 14,
     "metadata": {},
     "output_type": "execute_result"
    }
   ],
   "source": [
    "next(a)"
   ]
  },
  {
   "cell_type": "code",
   "execution_count": 15,
   "id": "469143f3-584f-44ea-9d57-eb46e8c73e1c",
   "metadata": {},
   "outputs": [
    {
     "data": {
      "text/plain": [
       "'s'"
      ]
     },
     "execution_count": 15,
     "metadata": {},
     "output_type": "execute_result"
    }
   ],
   "source": [
    "next(a)"
   ]
  },
  {
   "cell_type": "code",
   "execution_count": 16,
   "id": "cd8a650c-7a83-494a-bf42-f5c3bf798728",
   "metadata": {},
   "outputs": [
    {
     "data": {
      "text/plain": [
       "'h'"
      ]
     },
     "execution_count": 16,
     "metadata": {},
     "output_type": "execute_result"
    }
   ],
   "source": [
    "next(a)"
   ]
  },
  {
   "cell_type": "code",
   "execution_count": 17,
   "id": "36993a08-0426-4440-a298-353c035f629b",
   "metadata": {},
   "outputs": [
    {
     "data": {
      "text/plain": [
       "'a'"
      ]
     },
     "execution_count": 17,
     "metadata": {},
     "output_type": "execute_result"
    }
   ],
   "source": [
    "next(a)"
   ]
  },
  {
   "cell_type": "code",
   "execution_count": 18,
   "id": "d861f5c8-9021-42e6-b48e-2673398d07a6",
   "metadata": {},
   "outputs": [
    {
     "name": "stdout",
     "output_type": "stream",
     "text": [
      "y\n",
      "a\n",
      "s\n",
      "h\n",
      "a\n",
      "m\n",
      "t\n",
      "e\n"
     ]
    }
   ],
   "source": [
    "for i in \"yashamte\": #first comverting the iterable string to iterator object (using iter)\n",
    "    print(i)\n",
    "    "
   ]
  },
  {
   "cell_type": "code",
   "execution_count": 19,
   "id": "f0b2feba-667f-46e4-9042-1b292f8b9f72",
   "metadata": {},
   "outputs": [
    {
     "data": {
      "text/plain": [
       "1"
      ]
     },
     "execution_count": 19,
     "metadata": {},
     "output_type": "execute_result"
    }
   ],
   "source": [
    "l = iter([1,2,3,4])\n",
    "next(l)"
   ]
  },
  {
   "cell_type": "code",
   "execution_count": 20,
   "id": "9563faf6-a4bd-4df7-820c-81736d093b80",
   "metadata": {},
   "outputs": [
    {
     "data": {
      "text/plain": [
       "2"
      ]
     },
     "execution_count": 20,
     "metadata": {},
     "output_type": "execute_result"
    }
   ],
   "source": [
    "next(l)"
   ]
  },
  {
   "cell_type": "code",
   "execution_count": 21,
   "id": "d2202730-8002-4fb8-9363-b83a4ec616e9",
   "metadata": {},
   "outputs": [
    {
     "data": {
      "text/plain": [
       "3"
      ]
     },
     "execution_count": 21,
     "metadata": {},
     "output_type": "execute_result"
    }
   ],
   "source": [
    "next(l)\n"
   ]
  },
  {
   "cell_type": "code",
   "execution_count": 22,
   "id": "9043e588-2a52-4848-a8ad-c8ae7c289958",
   "metadata": {},
   "outputs": [
    {
     "data": {
      "text/plain": [
       "4"
      ]
     },
     "execution_count": 22,
     "metadata": {},
     "output_type": "execute_result"
    }
   ],
   "source": [
    "next(l)"
   ]
  },
  {
   "cell_type": "code",
   "execution_count": 23,
   "id": "bc29ee3b-b28c-4d58-8f8e-81e5ea59cbfb",
   "metadata": {},
   "outputs": [
    {
     "ename": "StopIteration",
     "evalue": "",
     "output_type": "error",
     "traceback": [
      "\u001b[1;31m---------------------------------------------------------------------------\u001b[0m",
      "\u001b[1;31mStopIteration\u001b[0m                             Traceback (most recent call last)",
      "Cell \u001b[1;32mIn[23], line 1\u001b[0m\n\u001b[1;32m----> 1\u001b[0m \u001b[38;5;28;43mnext\u001b[39;49m\u001b[43m(\u001b[49m\u001b[43ml\u001b[49m\u001b[43m)\u001b[49m\n",
      "\u001b[1;31mStopIteration\u001b[0m: "
     ]
    }
   ],
   "source": [
    "next(l)"
   ]
  },
  {
   "cell_type": "code",
   "execution_count": 24,
   "id": "90d1057e-c372-4b6d-bcf0-678bf5014147",
   "metadata": {},
   "outputs": [
    {
     "data": {
      "text/plain": [
       "<tuple_iterator at 0x297843cbd90>"
      ]
     },
     "execution_count": 24,
     "metadata": {},
     "output_type": "execute_result"
    }
   ],
   "source": [
    "t = iter((1,2,3,4))\n",
    "t"
   ]
  },
  {
   "cell_type": "code",
   "execution_count": 25,
   "id": "0e10bf4c-40ea-4e65-9f08-170c74555aaa",
   "metadata": {},
   "outputs": [
    {
     "data": {
      "text/plain": [
       "1"
      ]
     },
     "execution_count": 25,
     "metadata": {},
     "output_type": "execute_result"
    }
   ],
   "source": [
    "next(t)"
   ]
  },
  {
   "cell_type": "code",
   "execution_count": 26,
   "id": "ae30fcc0-31ed-4dc0-8185-e8ed4117923e",
   "metadata": {},
   "outputs": [
    {
     "data": {
      "text/plain": [
       "2"
      ]
     },
     "execution_count": 26,
     "metadata": {},
     "output_type": "execute_result"
    }
   ],
   "source": [
    "next(t)"
   ]
  },
  {
   "cell_type": "code",
   "execution_count": 27,
   "id": "994093c8-2de8-40aa-b4ed-01ab1921d572",
   "metadata": {},
   "outputs": [
    {
     "data": {
      "text/plain": [
       "3"
      ]
     },
     "execution_count": 27,
     "metadata": {},
     "output_type": "execute_result"
    }
   ],
   "source": [
    "next(t)"
   ]
  },
  {
   "cell_type": "code",
   "execution_count": 28,
   "id": "4954b061-b401-47d5-b1f9-5344a770007e",
   "metadata": {},
   "outputs": [
    {
     "data": {
      "text/plain": [
       "<set_iterator at 0x2978490a400>"
      ]
     },
     "execution_count": 28,
     "metadata": {},
     "output_type": "execute_result"
    }
   ],
   "source": [
    "set = iter({1,2,3,4})\n",
    "set"
   ]
  },
  {
   "cell_type": "code",
   "execution_count": 29,
   "id": "e42d040b-4717-4c64-a099-de2485ea35f8",
   "metadata": {},
   "outputs": [
    {
     "data": {
      "text/plain": [
       "1"
      ]
     },
     "execution_count": 29,
     "metadata": {},
     "output_type": "execute_result"
    }
   ],
   "source": [
    "next(set)"
   ]
  },
  {
   "cell_type": "code",
   "execution_count": 30,
   "id": "23f47234-8b2b-4d45-bbf3-87f36be00916",
   "metadata": {},
   "outputs": [],
   "source": [
    "dic = iter({\"name\":\"yash\"})"
   ]
  },
  {
   "cell_type": "code",
   "execution_count": 32,
   "id": "cc528b73-abfe-442e-ab33-d3100c5a7e6a",
   "metadata": {},
   "outputs": [
    {
     "data": {
      "text/plain": [
       "<dict_keyiterator at 0x29784944810>"
      ]
     },
     "execution_count": 32,
     "metadata": {},
     "output_type": "execute_result"
    }
   ],
   "source": [
    "dic"
   ]
  },
  {
   "cell_type": "code",
   "execution_count": 33,
   "id": "21dd0062-393b-4122-bda0-1fb0a1e7d9b0",
   "metadata": {},
   "outputs": [
    {
     "data": {
      "text/plain": [
       "'name'"
      ]
     },
     "execution_count": 33,
     "metadata": {},
     "output_type": "execute_result"
    }
   ],
   "source": [
    "next(dic)"
   ]
  },
  {
   "cell_type": "code",
   "execution_count": 34,
   "id": "c295b487-845b-4730-853d-d5a5f382327b",
   "metadata": {},
   "outputs": [
    {
     "ename": "StopIteration",
     "evalue": "",
     "output_type": "error",
     "traceback": [
      "\u001b[1;31m---------------------------------------------------------------------------\u001b[0m",
      "\u001b[1;31mStopIteration\u001b[0m                             Traceback (most recent call last)",
      "Cell \u001b[1;32mIn[34], line 1\u001b[0m\n\u001b[1;32m----> 1\u001b[0m \u001b[38;5;28;43mnext\u001b[39;49m\u001b[43m(\u001b[49m\u001b[43mdic\u001b[49m\u001b[43m)\u001b[49m\n",
      "\u001b[1;31mStopIteration\u001b[0m: "
     ]
    }
   ],
   "source": [
    "next(dic)"
   ]
  },
  {
   "cell_type": "code",
   "execution_count": 35,
   "id": "c080f2e7-0ec5-4ca8-951d-816f763e38ea",
   "metadata": {},
   "outputs": [],
   "source": [
    "#regular function >> takes a list and gives square of each of the list\n",
    "def s_num(n):\n",
    "    result = []\n",
    "    for i in range(n):\n",
    "        result.append(i**2)\n",
    "    return result"
   ]
  },
  {
   "cell_type": "code",
   "execution_count": 39,
   "id": "7d74c4a5-f900-49f6-ab31-f9d946de27f8",
   "metadata": {},
   "outputs": [
    {
     "data": {
      "text/plain": [
       "[0, 1, 4, 9, 16, 25]"
      ]
     },
     "execution_count": 39,
     "metadata": {},
     "output_type": "execute_result"
    }
   ],
   "source": [
    "s_num(6)"
   ]
  },
  {
   "cell_type": "code",
   "execution_count": 40,
   "id": "0dae8426-12b9-4448-815a-6f2ed0f0e1c2",
   "metadata": {},
   "outputs": [],
   "source": [
    "#regular function >> takes a list and gives square of value and return it in one go\n",
    "#since its returning in ane go>> memory uses will be more\n",
    "#it will a lot of execution time if there is lot of computation as all the \n",
    "#computation will be done first and then the calculation will be returned in one go\n",
    "def s_number(n):\n",
    "    result = []\n",
    "    for i in n:\n",
    "        result.append(i**2)\n",
    "    return result"
   ]
  },
  {
   "cell_type": "code",
   "execution_count": 41,
   "id": "b0e36e3e-3fcb-44c7-b71a-c3bfdca71b16",
   "metadata": {},
   "outputs": [
    {
     "data": {
      "text/plain": [
       "[100, 400, 900]"
      ]
     },
     "execution_count": 41,
     "metadata": {},
     "output_type": "execute_result"
    }
   ],
   "source": [
    "s_number([10,20,30])"
   ]
  },
  {
   "cell_type": "code",
   "execution_count": 43,
   "id": "2662b584-a06d-48c9-ad92-c615e850c652",
   "metadata": {},
   "outputs": [
    {
     "data": {
      "text/plain": [
       "[25]"
      ]
     },
     "execution_count": 43,
     "metadata": {},
     "output_type": "execute_result"
    }
   ],
   "source": [
    "s_number([5])"
   ]
  },
  {
   "cell_type": "code",
   "execution_count": 44,
   "id": "82291d6d-635c-4ab2-b22b-e5421eb0fae7",
   "metadata": {},
   "outputs": [],
   "source": [
    "#can we have something to generate result one by one instead of one go"
   ]
  },
  {
   "cell_type": "code",
   "execution_count": 45,
   "id": "84d19ea8-8eb1-4fe0-b71b-47fcd1e8c98d",
   "metadata": {},
   "outputs": [],
   "source": [
    "#yield >> general function uses result statement but a generator function use yeild statement"
   ]
  },
  {
   "cell_type": "code",
   "execution_count": 53,
   "id": "7bfdb009-4614-4851-a251-2a7bb92ca28a",
   "metadata": {},
   "outputs": [],
   "source": [
    "def s_num_generator(n):\n",
    "    for i in range(n):\n",
    "        yield i**2\n",
    "        "
   ]
  },
  {
   "cell_type": "code",
   "execution_count": 54,
   "id": "9e50e468-d01e-4526-9b76-c983ad6325e4",
   "metadata": {},
   "outputs": [],
   "source": [
    "gen = s_num_generator(10) #yeild is creating a generator similar to iterator object and generate those number "
   ]
  },
  {
   "cell_type": "code",
   "execution_count": 55,
   "id": "39897efa-a3bb-43a7-b5e1-c63196545ac0",
   "metadata": {},
   "outputs": [
    {
     "data": {
      "text/plain": [
       "0"
      ]
     },
     "execution_count": 55,
     "metadata": {},
     "output_type": "execute_result"
    }
   ],
   "source": [
    "next(gen)"
   ]
  },
  {
   "cell_type": "code",
   "execution_count": 56,
   "id": "030ecb42-d83e-4cb5-b8ee-7c46a1f3292b",
   "metadata": {},
   "outputs": [
    {
     "data": {
      "text/plain": [
       "1"
      ]
     },
     "execution_count": 56,
     "metadata": {},
     "output_type": "execute_result"
    }
   ],
   "source": [
    "next(gen)"
   ]
  },
  {
   "cell_type": "code",
   "execution_count": 57,
   "id": "fb1142b0-c4e8-4fcf-be24-c7629657e1b4",
   "metadata": {},
   "outputs": [
    {
     "data": {
      "text/plain": [
       "4"
      ]
     },
     "execution_count": 57,
     "metadata": {},
     "output_type": "execute_result"
    }
   ],
   "source": [
    "next(gen)"
   ]
  },
  {
   "cell_type": "code",
   "execution_count": 58,
   "id": "dd6d0f4d-4209-46ae-99e0-592af390939d",
   "metadata": {},
   "outputs": [
    {
     "data": {
      "text/plain": [
       "9"
      ]
     },
     "execution_count": 58,
     "metadata": {},
     "output_type": "execute_result"
    }
   ],
   "source": [
    "next(gen)"
   ]
  },
  {
   "cell_type": "code",
   "execution_count": null,
   "id": "50ed2e31-6a40-4272-8bfc-29fcfab59840",
   "metadata": {},
   "outputs": [],
   "source": []
  },
  {
   "cell_type": "code",
   "execution_count": null,
   "id": "fabd16da-1e34-4162-9970-d2c1bb44cdd7",
   "metadata": {},
   "outputs": [],
   "source": []
  },
  {
   "cell_type": "code",
   "execution_count": null,
   "id": "566a43ec-56eb-4245-899c-4e16d7c026d6",
   "metadata": {},
   "outputs": [],
   "source": []
  },
  {
   "cell_type": "code",
   "execution_count": null,
   "id": "06b19430-7974-4ac6-acd6-1a44e1e32850",
   "metadata": {},
   "outputs": [],
   "source": []
  }
 ],
 "metadata": {
  "kernelspec": {
   "display_name": "Python 3 (ipykernel)",
   "language": "python",
   "name": "python3"
  },
  "language_info": {
   "codemirror_mode": {
    "name": "ipython",
    "version": 3
   },
   "file_extension": ".py",
   "mimetype": "text/x-python",
   "name": "python",
   "nbconvert_exporter": "python",
   "pygments_lexer": "ipython3",
   "version": "3.13.2"
  }
 },
 "nbformat": 4,
 "nbformat_minor": 5
}
