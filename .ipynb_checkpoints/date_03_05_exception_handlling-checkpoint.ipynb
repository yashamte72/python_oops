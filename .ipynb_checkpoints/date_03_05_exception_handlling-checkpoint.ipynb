{
 "cells": [
  {
   "cell_type": "code",
   "execution_count": 1,
   "id": "4d1d0188-e9fb-4c9f-8201-7f5acbe9fdb0",
   "metadata": {},
   "outputs": [],
   "source": [
    "#generally something that disrupts the normal event is exception\n",
    "#in python an exception is an event that occurs during program that disrupts the normal flow of program"
   ]
  },
  {
   "cell_type": "code",
   "execution_count": 2,
   "id": "bc598518-e884-4dc6-bd9a-655fb2b9a814",
   "metadata": {},
   "outputs": [
    {
     "data": {
      "text/plain": [
       "0.5555555555555556"
      ]
     },
     "execution_count": 2,
     "metadata": {},
     "output_type": "execute_result"
    }
   ],
   "source": [
    "5/9"
   ]
  },
  {
   "cell_type": "code",
   "execution_count": 3,
   "id": "b6a232f0-0e89-4da8-8aef-3b65c2664f7e",
   "metadata": {},
   "outputs": [
    {
     "data": {
      "text/plain": [
       "5.0"
      ]
     },
     "execution_count": 3,
     "metadata": {},
     "output_type": "execute_result"
    }
   ],
   "source": [
    "10/2"
   ]
  },
  {
   "cell_type": "code",
   "execution_count": 4,
   "id": "e4b3eb6b-100e-459b-b13a-e11bcbbf8d54",
   "metadata": {},
   "outputs": [
    {
     "name": "stdout",
     "output_type": "stream",
     "text": [
      "2.0\n",
      "0.75\n",
      "this code is running fine till now\n"
     ]
    },
    {
     "ename": "ZeroDivisionError",
     "evalue": "division by zero",
     "output_type": "error",
     "traceback": [
      "\u001b[1;31m---------------------------------------------------------------------------\u001b[0m",
      "\u001b[1;31mZeroDivisionError\u001b[0m                         Traceback (most recent call last)",
      "Cell \u001b[1;32mIn[4], line 4\u001b[0m\n\u001b[0;32m      2\u001b[0m \u001b[38;5;28mprint\u001b[39m(\u001b[38;5;241m3\u001b[39m\u001b[38;5;241m/\u001b[39m\u001b[38;5;241m4\u001b[39m)\n\u001b[0;32m      3\u001b[0m \u001b[38;5;28mprint\u001b[39m(\u001b[38;5;124m\"\u001b[39m\u001b[38;5;124mthis code is running fine till now\u001b[39m\u001b[38;5;124m\"\u001b[39m)\n\u001b[1;32m----> 4\u001b[0m \u001b[38;5;28mprint\u001b[39m(\u001b[38;5;241;43m5\u001b[39;49m\u001b[38;5;241;43m/\u001b[39;49m\u001b[38;5;241;43m0\u001b[39;49m) \u001b[38;5;66;03m#suspicious code\u001b[39;00m\n\u001b[0;32m      5\u001b[0m \u001b[38;5;28mprint\u001b[39m(\u001b[38;5;124m\"\u001b[39m\u001b[38;5;124mmy name is yash\u001b[39m\u001b[38;5;124m\"\u001b[39m)\n\u001b[0;32m      6\u001b[0m \u001b[38;5;28mprint\u001b[39m(\u001b[38;5;241m3\u001b[39m\u001b[38;5;241m+\u001b[39m\u001b[38;5;241m2\u001b[39m)\n",
      "\u001b[1;31mZeroDivisionError\u001b[0m: division by zero"
     ]
    }
   ],
   "source": [
    "print(4/2)\n",
    "print(3/4)\n",
    "print(\"this code is running fine till now\")\n",
    "print(5/0) #suspicious code\n",
    "print(\"my name is yash\")\n",
    "print(3+2)\n",
    "print(\"end of the code\")\n"
   ]
  },
  {
   "cell_type": "code",
   "execution_count": 6,
   "id": "df6efed1-f63b-4de5-a258-7d3e46e36659",
   "metadata": {},
   "outputs": [
    {
     "name": "stdout",
     "output_type": "stream",
     "text": [
      "this is my first line of code\n",
      "12\n",
      "<class 'dict'>\n"
     ]
    },
    {
     "ename": "KeyError",
     "evalue": "'age'",
     "output_type": "error",
     "traceback": [
      "\u001b[1;31m---------------------------------------------------------------------------\u001b[0m",
      "\u001b[1;31mKeyError\u001b[0m                                  Traceback (most recent call last)",
      "Cell \u001b[1;32mIn[6], line 5\u001b[0m\n\u001b[0;32m      3\u001b[0m d \u001b[38;5;241m=\u001b[39m{ \u001b[38;5;124m\"\u001b[39m\u001b[38;5;124mname\u001b[39m\u001b[38;5;124m\"\u001b[39m : \u001b[38;5;124m\"\u001b[39m\u001b[38;5;124myash\u001b[39m\u001b[38;5;124m\"\u001b[39m}\n\u001b[0;32m      4\u001b[0m \u001b[38;5;28mprint\u001b[39m(\u001b[38;5;28mtype\u001b[39m(d))\n\u001b[1;32m----> 5\u001b[0m \u001b[38;5;28mprint\u001b[39m(\u001b[43md\u001b[49m\u001b[43m[\u001b[49m\u001b[38;5;124;43m\"\u001b[39;49m\u001b[38;5;124;43mage\u001b[39;49m\u001b[38;5;124;43m\"\u001b[39;49m\u001b[43m]\u001b[49m)\n\u001b[0;32m      6\u001b[0m \u001b[38;5;28mprint\u001b[39m(\u001b[38;5;124m\"\u001b[39m\u001b[38;5;124mthis is last line of code\u001b[39m\u001b[38;5;124m\"\u001b[39m)\n",
      "\u001b[1;31mKeyError\u001b[0m: 'age'"
     ]
    }
   ],
   "source": [
    "print(\"this is my first line of code\")\n",
    "print(3+4+5)\n",
    "d ={ \"name\" : \"yash\"}\n",
    "print(type(d))\n",
    "print(d[\"age\"])\n",
    "print(\"this is last line of code\")"
   ]
  },
  {
   "cell_type": "code",
   "execution_count": 7,
   "id": "8a38cb19-568d-4043-992b-c2245accfcb3",
   "metadata": {},
   "outputs": [
    {
     "ename": "FileNotFoundError",
     "evalue": "[Errno 2] No such file or directory: 'example.txt'",
     "output_type": "error",
     "traceback": [
      "\u001b[1;31m---------------------------------------------------------------------------\u001b[0m",
      "\u001b[1;31mFileNotFoundError\u001b[0m                         Traceback (most recent call last)",
      "Cell \u001b[1;32mIn[7], line 1\u001b[0m\n\u001b[1;32m----> 1\u001b[0m f \u001b[38;5;241m=\u001b[39m \u001b[38;5;28;43mopen\u001b[39;49m\u001b[43m(\u001b[49m\u001b[38;5;124;43m\"\u001b[39;49m\u001b[38;5;124;43mexample.txt\u001b[39;49m\u001b[38;5;124;43m\"\u001b[39;49m\u001b[43m \u001b[49m\u001b[43m,\u001b[49m\u001b[43m \u001b[49m\u001b[38;5;124;43m'\u001b[39;49m\u001b[38;5;124;43mr\u001b[39;49m\u001b[38;5;124;43m'\u001b[39;49m\u001b[43m)\u001b[49m\n\u001b[0;32m      2\u001b[0m \u001b[38;5;28mprint\u001b[39m(\u001b[38;5;241m6\u001b[39m\u001b[38;5;241m+\u001b[39m\u001b[38;5;241m3\u001b[39m)\n\u001b[0;32m      3\u001b[0m \u001b[38;5;28mprint\u001b[39m(\u001b[38;5;124m\"\u001b[39m\u001b[38;5;124mthis fiel is opend and now i am performing some steps\u001b[39m\u001b[38;5;124m\"\u001b[39m)\n",
      "File \u001b[1;32m~\\AppData\\Local\\Programs\\Python\\Python313\\Lib\\site-packages\\IPython\\core\\interactiveshell.py:324\u001b[0m, in \u001b[0;36m_modified_open\u001b[1;34m(file, *args, **kwargs)\u001b[0m\n\u001b[0;32m    317\u001b[0m \u001b[38;5;28;01mif\u001b[39;00m file \u001b[38;5;129;01min\u001b[39;00m {\u001b[38;5;241m0\u001b[39m, \u001b[38;5;241m1\u001b[39m, \u001b[38;5;241m2\u001b[39m}:\n\u001b[0;32m    318\u001b[0m     \u001b[38;5;28;01mraise\u001b[39;00m \u001b[38;5;167;01mValueError\u001b[39;00m(\n\u001b[0;32m    319\u001b[0m         \u001b[38;5;124mf\u001b[39m\u001b[38;5;124m\"\u001b[39m\u001b[38;5;124mIPython won\u001b[39m\u001b[38;5;124m'\u001b[39m\u001b[38;5;124mt let you open fd=\u001b[39m\u001b[38;5;132;01m{\u001b[39;00mfile\u001b[38;5;132;01m}\u001b[39;00m\u001b[38;5;124m by default \u001b[39m\u001b[38;5;124m\"\u001b[39m\n\u001b[0;32m    320\u001b[0m         \u001b[38;5;124m\"\u001b[39m\u001b[38;5;124mas it is likely to crash IPython. If you know what you are doing, \u001b[39m\u001b[38;5;124m\"\u001b[39m\n\u001b[0;32m    321\u001b[0m         \u001b[38;5;124m\"\u001b[39m\u001b[38;5;124myou can use builtins\u001b[39m\u001b[38;5;124m'\u001b[39m\u001b[38;5;124m open.\u001b[39m\u001b[38;5;124m\"\u001b[39m\n\u001b[0;32m    322\u001b[0m     )\n\u001b[1;32m--> 324\u001b[0m \u001b[38;5;28;01mreturn\u001b[39;00m \u001b[43mio_open\u001b[49m\u001b[43m(\u001b[49m\u001b[43mfile\u001b[49m\u001b[43m,\u001b[49m\u001b[43m \u001b[49m\u001b[38;5;241;43m*\u001b[39;49m\u001b[43margs\u001b[49m\u001b[43m,\u001b[49m\u001b[43m \u001b[49m\u001b[38;5;241;43m*\u001b[39;49m\u001b[38;5;241;43m*\u001b[39;49m\u001b[43mkwargs\u001b[49m\u001b[43m)\u001b[49m\n",
      "\u001b[1;31mFileNotFoundError\u001b[0m: [Errno 2] No such file or directory: 'example.txt'"
     ]
    }
   ],
   "source": [
    "f = open(\"example.txt\" , 'r')\n",
    "print(6+3)\n",
    "print(\"this fiel is opend and now i am performing some steps\")"
   ]
  },
  {
   "cell_type": "markdown",
   "id": "25ad4601-1eeb-4903-99e9-0b97d4e6a70b",
   "metadata": {},
   "source": [
    "#you were expecting something but it didnt happend, due to which the suspicious line\n",
    "#threw an error and \n",
    "#the next lines of code didn't got executed\n",
    "zero devision erorr, type error, file not found error , this type of error rising due to suspicious code\n",
    "other exception >> import error\n",
    "\n",
    "why do we need to handle suspicious code?\n",
    "-- Robust Application\n",
    "-- code cleaner >> fellow developer understands the corner cases\n",
    "\n",
    "how to handle exception\n",
    "-- using try catch block to handle exception\n",
    "-- whenever exception occurs >> python stop the program and generate exception\n",
    "-- handling this exception is advised \n",
    "-- every code that is risky/suspicious you should do exception handling"
   ]
  },
  {
   "cell_type": "markdown",
   "id": "143f5897-243e-452a-8f21-bed1943259df",
   "metadata": {},
   "source": [
    "syntax of try except\n",
    "try : \n",
    "    #suspicious code\n",
    "except:\n",
    "    execute when exception occurs in try block"
   ]
  },
  {
   "cell_type": "code",
   "execution_count": 8,
   "id": "8f56b3e3-6c8b-4b19-88bc-cb829911bef0",
   "metadata": {},
   "outputs": [
    {
     "name": "stdout",
     "output_type": "stream",
     "text": [
      "there is an issue with the code and issue is :  [Errno 2] No such file or directory: 'example.txt'\n",
      "9\n",
      "this fiel is opend and now i am performing some steps\n"
     ]
    }
   ],
   "source": [
    "try:\n",
    "    f = open(\"example.txt\" , 'r')\n",
    "except Exception as e:\n",
    "    print(\"there is an issue with the code and issue is : \",e)\n",
    "print(6+3)\n",
    "print(\"this file is opend and now i am performing some steps\")"
   ]
  },
  {
   "cell_type": "code",
   "execution_count": 10,
   "id": "afdab495-5e26-40ad-a01b-c83fd4988d94",
   "metadata": {},
   "outputs": [
    {
     "name": "stdout",
     "output_type": "stream",
     "text": [
      "division by zero\n",
      "my name is yash\n",
      "5\n",
      "end of the code\n"
     ]
    }
   ],
   "source": [
    "try:\n",
    "    5/0\n",
    "except Exception as e: #exception alwasys come's under the except block\n",
    "    print(e)\n",
    "print(\"my name is yash\")\n",
    "print(3+2)\n",
    "print(\"end of the code\")"
   ]
  },
  {
   "cell_type": "code",
   "execution_count": 14,
   "id": "5da3b701-bc9e-4e3e-b95a-3ef6b94ae41d",
   "metadata": {},
   "outputs": [
    {
     "name": "stdout",
     "output_type": "stream",
     "text": [
      "this block is executed if try except block is executed without any exception \n",
      "9\n"
     ]
    }
   ],
   "source": [
    "#use case 1\n",
    "try:\n",
    "    f = open(\"example.txt\" , 'r')\n",
    "except Exception as e:\n",
    "    print(\"there is an issue with the code and issue is : \",e)\n",
    "else:\n",
    "    print(\"this block is executed if try except block is executed without any exception \")\n",
    "    print(5+4) #if you want to excuted the code if try mathod is succesfully executed "
   ]
  },
  {
   "cell_type": "code",
   "execution_count": 17,
   "id": "408eea7e-30a2-41ad-b645-6c258d9d23c9",
   "metadata": {},
   "outputs": [
    {
     "name": "stdout",
     "output_type": "stream",
     "text": [
      "this block is executed if try except block is executed without any exception \n",
      "9\n"
     ]
    }
   ],
   "source": [
    "#use case 2\n",
    "try:\n",
    "    f = open(\"example.txt\" , 'w')\n",
    "except Exception as e:\n",
    "    print(\"there is an issue with the code and issue is : \",e)\n",
    "else:\n",
    "    print(\"this block is executed if try except block is executed without any exception \")\n",
    "    print(5+4) #if you want to excuted the code if try mathod is succesfully executed "
   ]
  },
  {
   "cell_type": "code",
   "execution_count": 22,
   "id": "7accc5fd-1440-483b-81d3-c3aad8069664",
   "metadata": {},
   "outputs": [
    {
     "name": "stdout",
     "output_type": "stream",
     "text": [
      "this block is executed if try except block is executed without any exception \n",
      "9\n"
     ]
    }
   ],
   "source": [
    "#use case 2\n",
    "try:\n",
    "    f = open(\"example.txt\" , 'w')\n",
    "    f.write(\"hello to exception handling\") # you be not able to see the content until you close the file >> close the file in else block\n",
    "except Exception as e:\n",
    "    print(\"there is an issue with the code and issue is : \",e)\n",
    "else:\n",
    "    f.close()\n",
    "    print(\"this block is executed if try except block is executed without any exception \")\n",
    "    print(5+4) #if you want to excuted the code if try mathod is succesfully executed "
   ]
  },
  {
   "cell_type": "code",
   "execution_count": 23,
   "id": "dc084ffd-4e8c-4692-81c6-a50c00d34eb9",
   "metadata": {},
   "outputs": [],
   "source": [
    "#else block is very helpful when your code didn't enetr in exception block\n",
    "#for example you wanted to close the file after it was open in try block"
   ]
  },
  {
   "cell_type": "code",
   "execution_count": 25,
   "id": "843fad68-92a1-464c-8c4f-2029320b7f66",
   "metadata": {},
   "outputs": [
    {
     "name": "stdout",
     "output_type": "stream",
     "text": [
      "this block is executed if try except block is executed without any exception \n",
      "9\n",
      "finally  will be execute always\n"
     ]
    }
   ],
   "source": [
    "#finally block >> always executed even found exception or not\n",
    "try:\n",
    "    f = open(\"example.txt\" , 'w')\n",
    "    f.write(\"hello to exception handling\") # you be not able to see the content until you close the file >> close the file in else block\n",
    "except Exception as e:\n",
    "    print(\"there is an issue with the code and issue is : \",e)\n",
    "else:\n",
    "    f.close()\n",
    "    print(\"this block is executed if try except block is executed without any exception \")\n",
    "    print(5+4) #if you want to excuted the code if try mathod is succesfully executed \n",
    "\n",
    "finally:\n",
    "    print(\"finally  will be execute always\")"
   ]
  },
  {
   "cell_type": "code",
   "execution_count": 30,
   "id": "8d1b14b2-5bec-4d27-bc7c-6b19a337c47b",
   "metadata": {},
   "outputs": [
    {
     "name": "stdout",
     "output_type": "stream",
     "text": [
      "this block is executed if try except block is executed without any exception \n",
      "9\n",
      "even if finally didn't used but this code will be execute always\n"
     ]
    }
   ],
   "source": [
    "#this is also the way to code line finally block (last line)\n",
    "try:\n",
    "    f = open(\"example.txt\" , 'w')\n",
    "    f.write(\"hello to exception handling\") # you be not able to see the content until you close the file >> close the file in else block\n",
    "except Exception as e:\n",
    "    print(\"there is an issue with the code and issue is : \",e)\n",
    "else:\n",
    "    f.close()\n",
    "    print(\"this block is executed if try except block is executed without any exception \")\n",
    "    print(5+4) #if you want to excuted the code if try mathod is succesfully executed \n",
    "\n",
    "\n",
    "print(\"even if finally didn't used but this code will be execute always\")"
   ]
  },
  {
   "cell_type": "code",
   "execution_count": 31,
   "id": "65281317-248b-4ebf-a292-6ac11913c6ba",
   "metadata": {},
   "outputs": [
    {
     "name": "stdout",
     "output_type": "stream",
     "text": [
      "division by zero\n",
      "this will be printed always\n"
     ]
    }
   ],
   "source": [
    "try:\n",
    "    5/0\n",
    "except Exception as e:\n",
    "    print(e)\n",
    "finally:\n",
    "    print(\"this will be printed always\")"
   ]
  },
  {
   "cell_type": "code",
   "execution_count": 32,
   "id": "6b6790d9-67a3-40fe-afe9-1ed5a5ce6541",
   "metadata": {},
   "outputs": [
    {
     "name": "stdin",
     "output_type": "stream",
     "text": [
      "enter your salary -4000\n"
     ]
    }
   ],
   "source": [
    "# custom exception\n",
    "income = int(input(\"enter your salary\"))"
   ]
  },
  {
   "cell_type": "code",
   "execution_count": 33,
   "id": "150e38c1-af07-405f-b538-18dae8b25283",
   "metadata": {},
   "outputs": [],
   "source": [
    "def validate_salary(salary):\n",
    "    if salary < 0:\n",
    "        print(\"negative salary is not posible\")\n",
    "    elif salary >= 30000000:\n",
    "        print(\"salary is unexpected\")\n",
    "    else:\n",
    "        print(\"salary is valid\")"
   ]
  },
  {
   "cell_type": "code",
   "execution_count": 34,
   "id": "5bfdd842-6077-4bae-bb53-46f512395acc",
   "metadata": {},
   "outputs": [
    {
     "name": "stdout",
     "output_type": "stream",
     "text": [
      "salary is valid\n"
     ]
    }
   ],
   "source": [
    "validate_salary(300000)"
   ]
  },
  {
   "cell_type": "code",
   "execution_count": 35,
   "id": "11e1dee1-b545-4c81-9760-aa480e0b4d29",
   "metadata": {},
   "outputs": [],
   "source": [
    "#custom exception class\n",
    "class Validatesalary(Exception): #Exception is the parent class where all type of exception is present\n",
    "    def __init__(self,msg):\n",
    "        self.msg = msg"
   ]
  },
  {
   "cell_type": "code",
   "execution_count": 37,
   "id": "6310cc87-2963-4d2d-a41a-048f44c94d95",
   "metadata": {},
   "outputs": [
    {
     "name": "stdin",
     "output_type": "stream",
     "text": [
      "enter your salary -3999\n"
     ]
    },
    {
     "ename": "TypeError",
     "evalue": "catching classes that do not inherit from BaseException is not allowed",
     "output_type": "error",
     "traceback": [
      "\u001b[1;31m---------------------------------------------------------------------------\u001b[0m",
      "\u001b[1;31mValidatesalary\u001b[0m                            Traceback (most recent call last)",
      "Cell \u001b[1;32mIn[37], line 3\u001b[0m\n\u001b[0;32m      2\u001b[0m     salary \u001b[38;5;241m=\u001b[39m \u001b[38;5;28mint\u001b[39m(\u001b[38;5;28minput\u001b[39m(\u001b[38;5;124m\"\u001b[39m\u001b[38;5;124menter your salary\u001b[39m\u001b[38;5;124m\"\u001b[39m))\n\u001b[1;32m----> 3\u001b[0m     \u001b[43mvalidate_salary\u001b[49m\u001b[43m(\u001b[49m\u001b[43msalary\u001b[49m\u001b[43m)\u001b[49m\n\u001b[0;32m      4\u001b[0m \u001b[38;5;28;01mexcept\u001b[39;00m validate_salary \u001b[38;5;28;01mas\u001b[39;00m e:\n",
      "Cell \u001b[1;32mIn[36], line 3\u001b[0m, in \u001b[0;36mvalidate_salary\u001b[1;34m(salary)\u001b[0m\n\u001b[0;32m      2\u001b[0m \u001b[38;5;28;01mif\u001b[39;00m salary \u001b[38;5;241m<\u001b[39m \u001b[38;5;241m0\u001b[39m:\n\u001b[1;32m----> 3\u001b[0m     \u001b[38;5;28;01mraise\u001b[39;00m Validatesalary(\u001b[38;5;124m\"\u001b[39m\u001b[38;5;124mnegative salary is not posible\u001b[39m\u001b[38;5;124m\"\u001b[39m)\n\u001b[0;32m      4\u001b[0m \u001b[38;5;28;01melif\u001b[39;00m salary \u001b[38;5;241m>\u001b[39m\u001b[38;5;241m=\u001b[39m \u001b[38;5;241m30000000\u001b[39m:\n",
      "\u001b[1;31mValidatesalary\u001b[0m: negative salary is not posible",
      "\nDuring handling of the above exception, another exception occurred:\n",
      "\u001b[1;31mTypeError\u001b[0m                                 Traceback (most recent call last)",
      "Cell \u001b[1;32mIn[37], line 4\u001b[0m\n\u001b[0;32m      2\u001b[0m     salary \u001b[38;5;241m=\u001b[39m \u001b[38;5;28mint\u001b[39m(\u001b[38;5;28minput\u001b[39m(\u001b[38;5;124m\"\u001b[39m\u001b[38;5;124menter your salary\u001b[39m\u001b[38;5;124m\"\u001b[39m))\n\u001b[0;32m      3\u001b[0m     validate_salary(salary)\n\u001b[1;32m----> 4\u001b[0m \u001b[38;5;28;01mexcept\u001b[39;00m validate_salary \u001b[38;5;28;01mas\u001b[39;00m e:\n\u001b[0;32m      5\u001b[0m     \u001b[38;5;28mprint\u001b[39m(e)\n",
      "\u001b[1;31mTypeError\u001b[0m: catching classes that do not inherit from BaseException is not allowed"
     ]
    }
   ],
   "source": [
    "try:\n",
    "    salary = int(input(\"enter your salary\"))\n",
    "    validate_salary(salary)\n",
    "except validate_salary as e:\n",
    "    print(e)"
   ]
  },
  {
   "cell_type": "code",
   "execution_count": 36,
   "id": "14751adc-fa28-40de-899e-2e82adecb26a",
   "metadata": {},
   "outputs": [],
   "source": [
    "def validate_salary(salary):\n",
    "    if salary < 0:\n",
    "        raise Validatesalary(\"negative salary is not posible\")\n",
    "    elif salary >= 30000000:\n",
    "        raise Validatesalary(\"salary is unexpected\")\n",
    "    else:\n",
    "        print(\"salary is valid\")"
   ]
  },
  {
   "cell_type": "code",
   "execution_count": null,
   "id": "7bc523c3-97bd-4f6b-be7c-3ce766dcfa63",
   "metadata": {},
   "outputs": [],
   "source": []
  },
  {
   "cell_type": "code",
   "execution_count": null,
   "id": "7cff4f2a-20c0-4b02-a890-aa2ace8be570",
   "metadata": {},
   "outputs": [],
   "source": []
  },
  {
   "cell_type": "code",
   "execution_count": null,
   "id": "33054bcc-2b0b-4732-ba9d-322dfaa6fb33",
   "metadata": {},
   "outputs": [],
   "source": []
  }
 ],
 "metadata": {
  "kernelspec": {
   "display_name": "Python 3 (ipykernel)",
   "language": "python",
   "name": "python3"
  },
  "language_info": {
   "codemirror_mode": {
    "name": "ipython",
    "version": 3
   },
   "file_extension": ".py",
   "mimetype": "text/x-python",
   "name": "python",
   "nbconvert_exporter": "python",
   "pygments_lexer": "ipython3",
   "version": "3.13.3"
  }
 },
 "nbformat": 4,
 "nbformat_minor": 5
}
