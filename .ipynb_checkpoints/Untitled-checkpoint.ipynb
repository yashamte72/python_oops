{
 "cells": [
  {
   "cell_type": "code",
   "execution_count": null,
   "id": "29aa8d33-2975-43dd-a66f-92e13d606b10",
   "metadata": {},
   "outputs": [],
   "source": []
  }
 ],
 "metadata": {
  "kernelspec": {
   "display_name": "",
   "name": ""
  },
  "language_info": {
   "name": ""
  }
 },
 "nbformat": 4,
 "nbformat_minor": 5
}
