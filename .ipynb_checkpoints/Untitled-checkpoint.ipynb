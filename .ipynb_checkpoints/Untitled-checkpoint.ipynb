{
 "cells": [
  {
   "cell_type": "code",
   "execution_count": 2,
   "id": "5e14fbe7-c6e0-417a-82b0-0302498f7b1f",
   "metadata": {},
   "outputs": [
    {
     "data": {
      "text/plain": [
       "65"
      ]
     },
     "execution_count": 2,
     "metadata": {},
     "output_type": "execute_result"
    }
   ],
   "source": [
    "#ASCII represention\n",
    "char = \"A\"\n",
    "ord(char) # ord - numetic order of character"
   ]
  },
  {
   "cell_type": "code",
   "execution_count": 93,
   "id": "8cc9520a-3e7f-4a20-9126-485bee5b987c",
   "metadata": {},
   "outputs": [
    {
     "data": {
      "text/plain": [
       "57"
      ]
     },
     "execution_count": 93,
     "metadata": {},
     "output_type": "execute_result"
    }
   ],
   "source": [
    "ord(\"9\")"
   ]
  },
  {
   "cell_type": "code",
   "execution_count": 4,
   "id": "6d67c49e-be84-4c13-b1dc-4f9eafb07f9c",
   "metadata": {},
   "outputs": [
    {
     "data": {
      "text/plain": [
       "'a'"
      ]
     },
     "execution_count": 4,
     "metadata": {},
     "output_type": "execute_result"
    }
   ],
   "source": [
    "chr(97)"
   ]
  },
  {
   "cell_type": "code",
   "execution_count": 5,
   "id": "e51aea68-b3e7-49cb-949a-26b896dba897",
   "metadata": {},
   "outputs": [],
   "source": [
    "#UNICODE represention\n",
    "#omega"
   ]
  },
  {
   "cell_type": "code",
   "execution_count": 6,
   "id": "97f67bbc-05cf-4609-b3b9-26dd2dd7b1ca",
   "metadata": {},
   "outputs": [
    {
     "data": {
      "text/plain": [
       "'ຩ'"
      ]
     },
     "execution_count": 6,
     "metadata": {},
     "output_type": "execute_result"
    }
   ],
   "source": [
    "'\\u0ea9'"
   ]
  },
  {
   "cell_type": "code",
   "execution_count": 11,
   "id": "1008ad08-d246-4309-a4ee-0858fa7d7d4b",
   "metadata": {},
   "outputs": [],
   "source": [
    "string1 = \"yashamte\"\n",
    "string1 = 'yashamte1'"
   ]
  },
  {
   "cell_type": "code",
   "execution_count": 12,
   "id": "34904ff6-d03a-4cd8-8c52-1e5500035fa1",
   "metadata": {},
   "outputs": [
    {
     "data": {
      "text/plain": [
       "'yashamte1'"
      ]
     },
     "execution_count": 12,
     "metadata": {},
     "output_type": "execute_result"
    }
   ],
   "source": [
    "string1"
   ]
  },
  {
   "cell_type": "code",
   "execution_count": 13,
   "id": "5792e6fe-3e29-4c37-86c6-86f8e82ee4d9",
   "metadata": {},
   "outputs": [
    {
     "data": {
      "text/plain": [
       "str"
      ]
     },
     "execution_count": 13,
     "metadata": {},
     "output_type": "execute_result"
    }
   ],
   "source": [
    "type(string1)"
   ]
  },
  {
   "cell_type": "code",
   "execution_count": 14,
   "id": "1bfb0846-5d97-474a-a1f3-e7c0622696b7",
   "metadata": {},
   "outputs": [
    {
     "data": {
      "text/plain": [
       "\"i'm yash amte\""
      ]
     },
     "execution_count": 14,
     "metadata": {},
     "output_type": "execute_result"
    }
   ],
   "source": [
    "\"i'm yash amte\""
   ]
  },
  {
   "cell_type": "code",
   "execution_count": 15,
   "id": "4aab2d11-acb6-466e-8c1e-4cd784ed12c1",
   "metadata": {},
   "outputs": [
    {
     "data": {
      "text/plain": [
       "'I\"M yash amte'"
      ]
     },
     "execution_count": 15,
     "metadata": {},
     "output_type": "execute_result"
    }
   ],
   "source": [
    "\"\"\"I\"M yash amte\"\"\""
   ]
  },
  {
   "cell_type": "code",
   "execution_count": 16,
   "id": "0103d441-8f23-4cd6-9dbd-ab036d13a3c3",
   "metadata": {},
   "outputs": [
    {
     "data": {
      "text/plain": [
       "\" I'm yash amte\""
      ]
     },
     "execution_count": 16,
     "metadata": {},
     "output_type": "execute_result"
    }
   ],
   "source": [
    "''' I'm yash amte'''"
   ]
  },
  {
   "cell_type": "code",
   "execution_count": 17,
   "id": "be4b2aa2-9ac4-4d6c-aeb0-2e37d615fbbc",
   "metadata": {},
   "outputs": [
    {
     "data": {
      "text/plain": [
       "\" i'm \\nyash \\namte\""
      ]
     },
     "execution_count": 17,
     "metadata": {},
     "output_type": "execute_result"
    }
   ],
   "source": [
    "''' i'm \n",
    "yash \n",
    "amte'''"
   ]
  },
  {
   "cell_type": "code",
   "execution_count": 18,
   "id": "e1e4c21c-6ef3-4668-9ab8-d0152231c554",
   "metadata": {},
   "outputs": [
    {
     "data": {
      "text/plain": [
       "'hello world'"
      ]
     },
     "execution_count": 18,
     "metadata": {},
     "output_type": "execute_result"
    }
   ],
   "source": [
    "#concatination of string >> combinaing of two sting\n",
    "\"hello \" + \"world\""
   ]
  },
  {
   "cell_type": "code",
   "execution_count": 19,
   "id": "999fbc4f-f874-4333-8cd4-c5168d6f3dab",
   "metadata": {},
   "outputs": [
    {
     "data": {
      "text/plain": [
       "'hello , world!'"
      ]
     },
     "execution_count": 19,
     "metadata": {},
     "output_type": "execute_result"
    }
   ],
   "source": [
    "string1  = \"hello\"\n",
    "string2 = \"world!\"\n",
    "string1 + \" , \" + string2"
   ]
  },
  {
   "cell_type": "code",
   "execution_count": 20,
   "id": "4a794444-558a-494d-87d1-7ad6898008cf",
   "metadata": {},
   "outputs": [
    {
     "data": {
      "text/plain": [
       "'a'"
      ]
     },
     "execution_count": 20,
     "metadata": {},
     "output_type": "execute_result"
    }
   ],
   "source": [
    " #extract / slicing of string\n",
    "a = \"ajay\"\n",
    "a[0]"
   ]
  },
  {
   "cell_type": "code",
   "execution_count": 21,
   "id": "c687cd37-cc6c-41df-abd7-d30354827c63",
   "metadata": {},
   "outputs": [
    {
     "data": {
      "text/plain": [
       "'y'"
      ]
     },
     "execution_count": 21,
     "metadata": {},
     "output_type": "execute_result"
    }
   ],
   "source": [
    "a[3]"
   ]
  },
  {
   "cell_type": "code",
   "execution_count": 22,
   "id": "cb145b8d-9b3e-4716-87f2-4eee72eaea57",
   "metadata": {},
   "outputs": [
    {
     "ename": "IndexError",
     "evalue": "string index out of range",
     "output_type": "error",
     "traceback": [
      "\u001b[1;31m---------------------------------------------------------------------------\u001b[0m",
      "\u001b[1;31mIndexError\u001b[0m                                Traceback (most recent call last)",
      "Cell \u001b[1;32mIn[22], line 1\u001b[0m\n\u001b[1;32m----> 1\u001b[0m \u001b[43ma\u001b[49m\u001b[43m[\u001b[49m\u001b[38;5;241;43m4\u001b[39;49m\u001b[43m]\u001b[49m\n",
      "\u001b[1;31mIndexError\u001b[0m: string index out of range"
     ]
    }
   ],
   "source": [
    "a[4]"
   ]
  },
  {
   "cell_type": "code",
   "execution_count": 23,
   "id": "2e1b9bec-b4d5-4fee-89b8-d4102f5c9caf",
   "metadata": {},
   "outputs": [
    {
     "data": {
      "text/plain": [
       "'y'"
      ]
     },
     "execution_count": 23,
     "metadata": {},
     "output_type": "execute_result"
    }
   ],
   "source": [
    "a[-1]"
   ]
  },
  {
   "cell_type": "code",
   "execution_count": 24,
   "id": "91930abd-abe1-4e89-9b18-51384520d88f",
   "metadata": {},
   "outputs": [
    {
     "data": {
      "text/plain": [
       "'i am'"
      ]
     },
     "execution_count": 24,
     "metadata": {},
     "output_type": "execute_result"
    }
   ],
   "source": [
    "str1 = \"i am a good student\"\n",
    "str1[0:4] #4 is exclusive >> it will 0 to 3rd index"
   ]
  },
  {
   "cell_type": "code",
   "execution_count": 25,
   "id": "f26ac7ab-e0c6-4339-ae3b-45a81127f3fe",
   "metadata": {},
   "outputs": [
    {
     "data": {
      "text/plain": [
       "'a good '"
      ]
     },
     "execution_count": 25,
     "metadata": {},
     "output_type": "execute_result"
    }
   ],
   "source": [
    "str1[5:12]"
   ]
  },
  {
   "cell_type": "code",
   "execution_count": 28,
   "id": "6865a003-827e-45c3-a9a5-3f5d7f641486",
   "metadata": {},
   "outputs": [
    {
     "data": {
      "text/plain": [
       "'i am a good student'"
      ]
     },
     "execution_count": 28,
     "metadata": {},
     "output_type": "execute_result"
    }
   ],
   "source": [
    "str1[0:]"
   ]
  },
  {
   "cell_type": "code",
   "execution_count": 29,
   "id": "670630c8-663d-4f16-ada4-1968abcaab5d",
   "metadata": {},
   "outputs": [
    {
     "data": {
      "text/plain": [
       "'i am a good stud'"
      ]
     },
     "execution_count": 29,
     "metadata": {},
     "output_type": "execute_result"
    }
   ],
   "source": [
    "str1[0:-3]"
   ]
  },
  {
   "cell_type": "code",
   "execution_count": 30,
   "id": "c8cc8f46-f395-4eb3-a884-aadfca40807e",
   "metadata": {},
   "outputs": [
    {
     "data": {
      "text/plain": [
       "'ent'"
      ]
     },
     "execution_count": 30,
     "metadata": {},
     "output_type": "execute_result"
    }
   ],
   "source": [
    "str1[-3:]"
   ]
  },
  {
   "cell_type": "code",
   "execution_count": 31,
   "id": "bc3fc30f-8b88-4af6-98a1-26e5ea196957",
   "metadata": {},
   "outputs": [
    {
     "data": {
      "text/plain": [
       "'ia  od'"
      ]
     },
     "execution_count": 31,
     "metadata": {},
     "output_type": "execute_result"
    }
   ],
   "source": [
    "str1[0:12:2]"
   ]
  },
  {
   "cell_type": "code",
   "execution_count": 32,
   "id": "7e8c02ad-4ff3-44cd-9dde-b939612099d8",
   "metadata": {},
   "outputs": [],
   "source": [
    "str2 = \"hello world\"\n"
   ]
  },
  {
   "cell_type": "code",
   "execution_count": 34,
   "id": "97cd9755-d66f-405a-b53b-daef80177d29",
   "metadata": {},
   "outputs": [
    {
     "data": {
      "text/plain": [
       "'hlowrd'"
      ]
     },
     "execution_count": 34,
     "metadata": {},
     "output_type": "execute_result"
    }
   ],
   "source": [
    " str2[::2]"
   ]
  },
  {
   "cell_type": "code",
   "execution_count": 35,
   "id": "7b6e7ca2-c85f-4d82-929c-677a622109ab",
   "metadata": {},
   "outputs": [
    {
     "data": {
      "text/plain": [
       "'dlrow olleh'"
      ]
     },
     "execution_count": 35,
     "metadata": {},
     "output_type": "execute_result"
    }
   ],
   "source": [
    "str2[::-1]"
   ]
  },
  {
   "cell_type": "code",
   "execution_count": 36,
   "id": "0ac6843d-58cb-4e72-8e2b-4111fe4a487c",
   "metadata": {},
   "outputs": [
    {
     "ename": "TypeError",
     "evalue": "'str' object does not support item assignment",
     "output_type": "error",
     "traceback": [
      "\u001b[1;31m---------------------------------------------------------------------------\u001b[0m",
      "\u001b[1;31mTypeError\u001b[0m                                 Traceback (most recent call last)",
      "Cell \u001b[1;32mIn[36], line 2\u001b[0m\n\u001b[0;32m      1\u001b[0m \u001b[38;5;66;03m#string is immutable\u001b[39;00m\n\u001b[1;32m----> 2\u001b[0m \u001b[43mstr2\u001b[49m\u001b[43m[\u001b[49m\u001b[38;5;241;43m1\u001b[39;49m\u001b[43m]\u001b[49m \u001b[38;5;241m=\u001b[39m \u001b[38;5;124m'\u001b[39m\u001b[38;5;124ma\u001b[39m\u001b[38;5;124m'\u001b[39m\n",
      "\u001b[1;31mTypeError\u001b[0m: 'str' object does not support item assignment"
     ]
    }
   ],
   "source": [
    "#string is immutable\n",
    "str2[1] = 'a'"
   ]
  },
  {
   "cell_type": "code",
   "execution_count": 37,
   "id": "40276f71-d7db-4ef3-b960-7500e1edbccf",
   "metadata": {},
   "outputs": [
    {
     "data": {
      "text/plain": [
       "11"
      ]
     },
     "execution_count": 37,
     "metadata": {},
     "output_type": "execute_result"
    }
   ],
   "source": [
    "len(str2)"
   ]
  },
  {
   "cell_type": "code",
   "execution_count": 42,
   "id": "e789883c-e994-4c5f-8ecc-64fc6832bb57",
   "metadata": {},
   "outputs": [
    {
     "data": {
      "text/plain": [
       "'im a teacher'"
      ]
     },
     "execution_count": 42,
     "metadata": {},
     "output_type": "execute_result"
    }
   ],
   "source": [
    "#modification of string\n",
    "s = \"im a student\"\n",
    "s.replace(\"student\", \"teacher\") "
   ]
  },
  {
   "cell_type": "code",
   "execution_count": 44,
   "id": "af7eb121-fd0a-410d-ac5b-af4d70591e9e",
   "metadata": {},
   "outputs": [],
   "source": [
    "#use case \n",
    "add = \"123 apt, marathili, mumbai\""
   ]
  },
  {
   "cell_type": "code",
   "execution_count": 45,
   "id": "89fe2391-e019-4863-bec2-eb3469c9fb02",
   "metadata": {},
   "outputs": [
    {
     "data": {
      "text/plain": [
       "'123 apt, marathili, mumbai'"
      ]
     },
     "execution_count": 45,
     "metadata": {},
     "output_type": "execute_result"
    }
   ],
   "source": [
    "add"
   ]
  },
  {
   "cell_type": "code",
   "execution_count": 46,
   "id": "0adadb9f-12a6-41c4-b565-f45398dd6703",
   "metadata": {},
   "outputs": [
    {
     "data": {
      "text/plain": [
       "'123 apartment, marathili, mumbai'"
      ]
     },
     "execution_count": 46,
     "metadata": {},
     "output_type": "execute_result"
    }
   ],
   "source": [
    "add.replace(\"apt\" , \"apartment\")"
   ]
  },
  {
   "cell_type": "code",
   "execution_count": 47,
   "id": "96bf3ad6-f20f-4b2a-b39c-caea58341c7d",
   "metadata": {},
   "outputs": [
    {
     "data": {
      "text/plain": [
       "'Be right back, talk to you later, lots of love'"
      ]
     },
     "execution_count": 47,
     "metadata": {},
     "output_type": "execute_result"
    }
   ],
   "source": [
    "text = \"BRB, TTYL, LOL\"\n",
    "text.replace(\"BRB\" , \"Be right back\").replace(\"TTYL\" , \"talk to you later\" ).replace(\"LOL\" , \"lots of love\")"
   ]
  },
  {
   "cell_type": "code",
   "execution_count": 48,
   "id": "66322484-3650-442f-b0ba-031a87e0f777",
   "metadata": {},
   "outputs": [
    {
     "data": {
      "text/plain": [
       "'hellow wrold'"
      ]
     },
     "execution_count": 48,
     "metadata": {},
     "output_type": "execute_result"
    }
   ],
   "source": [
    "t = \"hellow Wrold\"\n",
    "t.lower()"
   ]
  },
  {
   "cell_type": "code",
   "execution_count": 49,
   "id": "34bb558f-c750-4c5b-8d21-6873295bf1ed",
   "metadata": {},
   "outputs": [
    {
     "data": {
      "text/plain": [
       "'HELLOW WROLD'"
      ]
     },
     "execution_count": 49,
     "metadata": {},
     "output_type": "execute_result"
    }
   ],
   "source": [
    "t.upper()"
   ]
  },
  {
   "cell_type": "code",
   "execution_count": 50,
   "id": "6eb8bef3-22ab-4404-ae4e-1310d6f96b24",
   "metadata": {},
   "outputs": [
    {
     "data": {
      "text/plain": [
       "'Hellow Wrold'"
      ]
     },
     "execution_count": 50,
     "metadata": {},
     "output_type": "execute_result"
    }
   ],
   "source": [
    "t.title()"
   ]
  },
  {
   "cell_type": "code",
   "execution_count": 51,
   "id": "4755ede1-5fd4-4441-968f-dd80cef0d645",
   "metadata": {},
   "outputs": [
    {
     "data": {
      "text/plain": [
       "'i AM A sTUDENT'"
      ]
     },
     "execution_count": 51,
     "metadata": {},
     "output_type": "execute_result"
    }
   ],
   "source": [
    "te = \"I am a Student\"\n",
    "te.swapcase()"
   ]
  },
  {
   "cell_type": "code",
   "execution_count": 52,
   "id": "93c037cf-7763-47d5-b232-6ba5c6b401b0",
   "metadata": {},
   "outputs": [
    {
     "data": {
      "text/plain": [
       "'I am a student'"
      ]
     },
     "execution_count": 52,
     "metadata": {},
     "output_type": "execute_result"
    }
   ],
   "source": [
    "te.capitalize()"
   ]
  },
  {
   "cell_type": "code",
   "execution_count": 53,
   "id": "c9890d06-5dbc-4d36-aecc-2d46ef6fcea4",
   "metadata": {},
   "outputs": [
    {
     "data": {
      "text/plain": [
       "True"
      ]
     },
     "execution_count": 53,
     "metadata": {},
     "output_type": "execute_result"
    }
   ],
   "source": [
    "#string searching\n",
    "sentence = \" i am a student at pw\"\n",
    "\"am\" in sentence"
   ]
  },
  {
   "cell_type": "code",
   "execution_count": 54,
   "id": "4802b6e6-e70b-410f-8164-5c68760e79b2",
   "metadata": {},
   "outputs": [
    {
     "name": "stdout",
     "output_type": "stream",
     "text": [
      "the search word is present\n"
     ]
    }
   ],
   "source": [
    "search_word = \"am\"\n",
    "if search_word in sentence:\n",
    "    print(\"the search word is present\")\n",
    "else:\n",
    "    print(\"not present\")"
   ]
  },
  {
   "cell_type": "code",
   "execution_count": 56,
   "id": "6337fa93-a3e2-470a-9a5e-b78e335da751",
   "metadata": {},
   "outputs": [
    {
     "name": "stdout",
     "output_type": "stream",
     "text": [
      "unvalid email\n"
     ]
    }
   ],
   "source": [
    "email = \"amte@gmail.com\"\n",
    "search_word = \"@\"\n",
    "if search_word in sentence:\n",
    "    print(\"the search word is present\")\n",
    "else:\n",
    "    print(\"unvalid email\")"
   ]
  },
  {
   "cell_type": "code",
   "execution_count": 57,
   "id": "953601ee-3ffe-491c-a171-6ce865ede632",
   "metadata": {},
   "outputs": [
    {
     "data": {
      "text/plain": [
       "True"
      ]
     },
     "execution_count": 57,
     "metadata": {},
     "output_type": "execute_result"
    }
   ],
   "source": [
    "#string comparision\n",
    "str1 = \"a\"\n",
    "str2 = \"a\"\n",
    "str1 == str2"
   ]
  },
  {
   "cell_type": "code",
   "execution_count": 58,
   "id": "4ec767da-d773-4693-a59b-adc174a2607e",
   "metadata": {},
   "outputs": [
    {
     "data": {
      "text/plain": [
       "False"
      ]
     },
     "execution_count": 58,
     "metadata": {},
     "output_type": "execute_result"
    }
   ],
   "source": [
    "#string comparision\n",
    "str1 = \"A\"\n",
    "str2 = \"a\"\n",
    "str1 == str2"
   ]
  },
  {
   "cell_type": "code",
   "execution_count": 63,
   "id": "7de2a8c1-6ac0-4950-9be5-f24013b4ed16",
   "metadata": {},
   "outputs": [
    {
     "data": {
      "text/plain": [
       "True"
      ]
     },
     "execution_count": 63,
     "metadata": {},
     "output_type": "execute_result"
    }
   ],
   "source": [
    "#string comparision\n",
    "str1 = \"A\"\n",
    "str2 = \"a\"\n",
    "str1.lower() == str2.lower()"
   ]
  },
  {
   "cell_type": "code",
   "execution_count": 65,
   "id": "0294818b-d6a1-466b-b849-8fa5e010b5ea",
   "metadata": {},
   "outputs": [
    {
     "name": "stdout",
     "output_type": "stream",
     "text": [
      "username is available\n"
     ]
    }
   ],
   "source": [
    "reg_user = [ \"pw\" , \"Pw\", \"pW\"]\n",
    "new_user = \"PW\"\n",
    "if new_user in reg_user:\n",
    "    print(\"username is already in use\")\n",
    "else:\n",
    "    print(\"username is available\")"
   ]
  },
  {
   "cell_type": "code",
   "execution_count": 68,
   "id": "3944dbce-c0f2-439c-848f-8e62eb20d0ab",
   "metadata": {},
   "outputs": [
    {
     "name": "stdin",
     "output_type": "stream",
     "text": [
      "scan the product code p123\n"
     ]
    },
    {
     "name": "stdout",
     "output_type": "stream",
     "text": [
      "the price is 100\n"
     ]
    }
   ],
   "source": [
    "pro_code = \"p123\"\n",
    "scanned_code = input(\"scan the product code\")\n",
    "if pro_code == scanned_code:\n",
    "    print(\"the price is 100\")\n",
    "else:\n",
    "    print(\"talk to the receptionist\")"
   ]
  },
  {
   "cell_type": "code",
   "execution_count": 69,
   "id": "48087930-0ac8-40cf-88da-2142216b248d",
   "metadata": {},
   "outputs": [
    {
     "data": {
      "text/plain": [
       "['ajay', 'sanjay', 'yash']"
      ]
     },
     "execution_count": 69,
     "metadata": {},
     "output_type": "execute_result"
    }
   ],
   "source": [
    "#string ordering\n",
    "name = [\"ajay\",\"yash\", \"sanjay\"]\n",
    "sorted(name)"
   ]
  },
  {
   "cell_type": "code",
   "execution_count": 70,
   "id": "96a3b835-a138-429e-988f-8f00a13b1b2b",
   "metadata": {},
   "outputs": [
    {
     "data": {
      "text/plain": [
       "['arjit', 'kk', 'showan']"
      ]
     },
     "execution_count": 70,
     "metadata": {},
     "output_type": "execute_result"
    }
   ],
   "source": [
    "playlist = [\"kk\" , \"arjit\", \"showan\"]\n",
    "sorted(playlist)"
   ]
  },
  {
   "cell_type": "code",
   "execution_count": 72,
   "id": "539bf6d6-0ee5-4a33-9c7d-7230de1e8343",
   "metadata": {},
   "outputs": [
    {
     "data": {
      "text/plain": [
       "'               pwskills        '"
      ]
     },
     "execution_count": 72,
     "metadata": {},
     "output_type": "execute_result"
    }
   ],
   "source": [
    "#common string operations\n",
    "input_str = \"               pwskills        \"\n",
    "input_str"
   ]
  },
  {
   "cell_type": "code",
   "execution_count": 73,
   "id": "4c8df092-52d6-4ba2-bf32-b6d0ed083224",
   "metadata": {},
   "outputs": [
    {
     "data": {
      "text/plain": [
       "'pwskills'"
      ]
     },
     "execution_count": 73,
     "metadata": {},
     "output_type": "execute_result"
    }
   ],
   "source": [
    "input_str.strip()"
   ]
  },
  {
   "cell_type": "code",
   "execution_count": 74,
   "id": "3d597345-0a3b-42df-a608-aaa80a27ab79",
   "metadata": {},
   "outputs": [
    {
     "data": {
      "text/plain": [
       "'apple'"
      ]
     },
     "execution_count": 74,
     "metadata": {},
     "output_type": "execute_result"
    }
   ],
   "source": [
    "row = \"apple          \"\n",
    "row.strip()"
   ]
  },
  {
   "cell_type": "code",
   "execution_count": 80,
   "id": "ef7a205a-74ee-48df-90c4-09b753a03277",
   "metadata": {},
   "outputs": [],
   "source": [
    "#string splitting\n",
    "data = \"ajay, data Science, teacher\"\n",
    "data1 = data.split(',')"
   ]
  },
  {
   "cell_type": "code",
   "execution_count": 84,
   "id": "ce870fbe-44d1-46c7-9b4c-9647d85795aa",
   "metadata": {},
   "outputs": [],
   "source": [
    "name1 = data1[0]\n",
    "sub = data1[1]\n",
    "des = data1[2]"
   ]
  },
  {
   "cell_type": "markdown",
   "id": "e03d4417-57fd-47bd-aef8-5bc9cda2d577",
   "metadata": {},
   "source": [
    "name1\n"
   ]
  },
  {
   "cell_type": "code",
   "execution_count": 82,
   "id": "267d197b-a054-406d-9301-cabdffc14c01",
   "metadata": {},
   "outputs": [
    {
     "data": {
      "text/plain": [
       "' data Science'"
      ]
     },
     "execution_count": 82,
     "metadata": {},
     "output_type": "execute_result"
    }
   ],
   "source": [
    "sub"
   ]
  },
  {
   "cell_type": "code",
   "execution_count": 83,
   "id": "2a3b2d31-3eed-4638-b171-29bb3d0419a8",
   "metadata": {},
   "outputs": [
    {
     "data": {
      "text/plain": [
       "' teacher'"
      ]
     },
     "execution_count": 83,
     "metadata": {},
     "output_type": "execute_result"
    }
   ],
   "source": [
    "des"
   ]
  },
  {
   "cell_type": "code",
   "execution_count": 88,
   "id": "0b554683-4218-424a-826b-d307c84d72d2",
   "metadata": {},
   "outputs": [],
   "source": [
    "#escape sequesces >> special combinations of characters used within a string\n",
    "address = \"\"\"123, sanumkha villa,\n",
    "marathalii , \n",
    "mumbai\"\"\""
   ]
  },
  {
   "cell_type": "code",
   "execution_count": 90,
   "id": "d41cda9d-0ef8-462e-8481-45668f5b5357",
   "metadata": {},
   "outputs": [
    {
     "data": {
      "text/plain": [
       "'123, sanumkha villa,\\nmarathalii , \\nmumbai'"
      ]
     },
     "execution_count": 90,
     "metadata": {},
     "output_type": "execute_result"
    }
   ],
   "source": [
    "address"
   ]
  },
  {
   "cell_type": "code",
   "execution_count": 91,
   "id": "f52a4ff2-a14f-412b-b497-64a9eb4f1c4a",
   "metadata": {},
   "outputs": [
    {
     "name": "stdout",
     "output_type": "stream",
     "text": [
      "123, sanumkha villa,\n",
      "marathalii , \n",
      "mumbai\n"
     ]
    }
   ],
   "source": [
    "print(address)"
   ]
  },
  {
   "cell_type": "code",
   "execution_count": 94,
   "id": "67e9b257-3224-4689-8f8e-577655ca373a",
   "metadata": {},
   "outputs": [],
   "source": [
    "class Solution(object):\n",
    "    def rotateString(self, s, goal):\n",
    "        \"\"\"\n",
    "        :type s: str\n",
    "        :type goal: str\n",
    "        :rtype: bool\n",
    "        \"\"\"\n",
    "        if len(goal) != len(s):\n",
    "            return False\n",
    "        elif goal in s+s:\n",
    "            return True\n",
    "        else:\n",
    "            return False"
   ]
  },
  {
   "cell_type": "code",
   "execution_count": null,
   "id": "81b35079-33f8-4e27-beaa-aeee1fbed42d",
   "metadata": {},
   "outputs": [],
   "source": []
  }
 ],
 "metadata": {
  "kernelspec": {
   "display_name": "Python 3 (ipykernel)",
   "language": "python",
   "name": "python3"
  },
  "language_info": {
   "codemirror_mode": {
    "name": "ipython",
    "version": 3
   },
   "file_extension": ".py",
   "mimetype": "text/x-python",
   "name": "python",
   "nbconvert_exporter": "python",
   "pygments_lexer": "ipython3",
   "version": "3.13.3"
  }
 },
 "nbformat": 4,
 "nbformat_minor": 5
}
