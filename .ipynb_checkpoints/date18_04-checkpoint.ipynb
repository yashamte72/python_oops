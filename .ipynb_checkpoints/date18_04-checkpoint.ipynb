{
 "cells": [
  {
   "cell_type": "code",
   "execution_count": 1,
   "id": "3bc5f0fa-2a62-4546-a101-b37488f67520",
   "metadata": {},
   "outputs": [
    {
     "data": {
      "text/plain": [
       "[1, 2, 3, 4]"
      ]
     },
     "execution_count": 1,
     "metadata": {},
     "output_type": "execute_result"
    }
   ],
   "source": [
    "num=[1,2,3,4]\n",
    "num"
   ]
  },
  {
   "cell_type": "code",
   "execution_count": 2,
   "id": "5cc0c9b1-2666-49eb-9a0a-03d3eed0323d",
   "metadata": {},
   "outputs": [
    {
     "data": {
      "text/plain": [
       "list"
      ]
     },
     "execution_count": 2,
     "metadata": {},
     "output_type": "execute_result"
    }
   ],
   "source": [
    "type(num)"
   ]
  },
  {
   "cell_type": "code",
   "execution_count": 3,
   "id": "ab777fe4-f271-4de3-837d-0b12bc1ca9fd",
   "metadata": {},
   "outputs": [
    {
     "data": {
      "text/plain": [
       "1"
      ]
     },
     "execution_count": 3,
     "metadata": {},
     "output_type": "execute_result"
    }
   ],
   "source": [
    "num[0]"
   ]
  },
  {
   "cell_type": "code",
   "execution_count": 4,
   "id": "cc286d29-2ac7-4a1b-9c07-3c3df1034e92",
   "metadata": {},
   "outputs": [
    {
     "data": {
      "text/plain": [
       "3"
      ]
     },
     "execution_count": 4,
     "metadata": {},
     "output_type": "execute_result"
    }
   ],
   "source": [
    "num[2]\n"
   ]
  },
  {
   "cell_type": "code",
   "execution_count": 5,
   "id": "8476f1e2-4094-4420-ac64-fbc2a16ab492",
   "metadata": {},
   "outputs": [
    {
     "data": {
      "text/plain": [
       "4"
      ]
     },
     "execution_count": 5,
     "metadata": {},
     "output_type": "execute_result"
    }
   ],
   "source": [
    "num[-1]"
   ]
  },
  {
   "cell_type": "code",
   "execution_count": 7,
   "id": "2be9737a-3f51-4315-a89e-64b6c9e14a4c",
   "metadata": {},
   "outputs": [
    {
     "data": {
      "text/plain": [
       "1"
      ]
     },
     "execution_count": 7,
     "metadata": {},
     "output_type": "execute_result"
    }
   ],
   "source": [
    "num[-4]"
   ]
  },
  {
   "cell_type": "code",
   "execution_count": 8,
   "id": "72960879-5fcf-4a86-9137-c5d5887fb801",
   "metadata": {},
   "outputs": [
    {
     "data": {
      "text/plain": [
       "[1, 2, 3, 4, 'ysh', 'tomato']"
      ]
     },
     "execution_count": 8,
     "metadata": {},
     "output_type": "execute_result"
    }
   ],
   "source": [
    "a =[1,2,3,4,\"ysh\",\"tomato\"] \n",
    "a"
   ]
  },
  {
   "cell_type": "code",
   "execution_count": 9,
   "id": "9d7110de-2945-4513-b281-c2b4a248dd4c",
   "metadata": {},
   "outputs": [
    {
     "data": {
      "text/plain": [
       "'tomato'"
      ]
     },
     "execution_count": 9,
     "metadata": {},
     "output_type": "execute_result"
    }
   ],
   "source": [
    "a[-1]"
   ]
  },
  {
   "cell_type": "code",
   "execution_count": 10,
   "id": "3ed4e97a-b9f3-4117-a831-9c3100979a9c",
   "metadata": {},
   "outputs": [
    {
     "data": {
      "text/plain": [
       "[1, 2, 3, 4, 'ysh', 'tomato', 'orange']"
      ]
     },
     "execution_count": 10,
     "metadata": {},
     "output_type": "execute_result"
    }
   ],
   "source": [
    "#adding element to a list\n",
    "a.append(\"orange\")\n",
    "a"
   ]
  },
  {
   "cell_type": "code",
   "execution_count": 12,
   "id": "930b3894-a52e-40c4-88bf-a16021467551",
   "metadata": {},
   "outputs": [
    {
     "data": {
      "text/plain": [
       "[1, 2, 3, 4, 'ysh', 'tomato', 'orange', 'pwskills', 'pwskills']"
      ]
     },
     "execution_count": 12,
     "metadata": {},
     "output_type": "execute_result"
    }
   ],
   "source": [
    "a.append(\"pwskills\")\n",
    "a"
   ]
  },
  {
   "cell_type": "code",
   "execution_count": 14,
   "id": "b0618bbe-72f3-48c0-a5ae-fc4ed01eff3e",
   "metadata": {},
   "outputs": [
    {
     "data": {
      "text/plain": [
       "[1, 2, 3, 4, 'ysh', 'tomato', 'orange']"
      ]
     },
     "execution_count": 14,
     "metadata": {},
     "output_type": "execute_result"
    }
   ],
   "source": [
    "#remove the element from list\n",
    "a.remove(\"pwskills\")\n",
    "a"
   ]
  },
  {
   "cell_type": "code",
   "execution_count": 15,
   "id": "5170a0d1-c25d-423c-9cd3-2bc33bbc6d98",
   "metadata": {},
   "outputs": [
    {
     "data": {
      "text/plain": [
       "[1, 2, 3, 4, 'tomato', 'orange']"
      ]
     },
     "execution_count": 15,
     "metadata": {},
     "output_type": "execute_result"
    }
   ],
   "source": [
    "a.remove(\"ysh\")\n",
    "a"
   ]
  },
  {
   "cell_type": "code",
   "execution_count": 16,
   "id": "29206a11-a2b9-4574-8b1e-1a6530a54bfe",
   "metadata": {},
   "outputs": [
    {
     "data": {
      "text/plain": [
       "[[1, 2, 3], 'yash', 'sai']"
      ]
     },
     "execution_count": 16,
     "metadata": {},
     "output_type": "execute_result"
    }
   ],
   "source": [
    "lis=[[1,2,3],\"yash\",\"sai\"]\n",
    "lis"
   ]
  },
  {
   "cell_type": "code",
   "execution_count": 17,
   "id": "91b70d0c-89b6-4472-9c53-4915bf4c0585",
   "metadata": {},
   "outputs": [
    {
     "data": {
      "text/plain": [
       "2"
      ]
     },
     "execution_count": 17,
     "metadata": {},
     "output_type": "execute_result"
    }
   ],
   "source": [
    "lis[0][1]"
   ]
  },
  {
   "cell_type": "code",
   "execution_count": 18,
   "id": "bf033cd2-8ee8-4769-a4b0-87a2f9967a7c",
   "metadata": {},
   "outputs": [
    {
     "data": {
      "text/plain": [
       "'a'"
      ]
     },
     "execution_count": 18,
     "metadata": {},
     "output_type": "execute_result"
    }
   ],
   "source": [
    "lis[2][1]"
   ]
  },
  {
   "cell_type": "code",
   "execution_count": 20,
   "id": "624b7ca3-4516-4a00-8939-e066fc5edf36",
   "metadata": {},
   "outputs": [
    {
     "data": {
      "text/plain": [
       "['kanda', 'apple', 1, 2, 3]"
      ]
     },
     "execution_count": 20,
     "metadata": {},
     "output_type": "execute_result"
    }
   ],
   "source": [
    "#list is mutable\n",
    "shopping_list = [\"baigan\",\"apple\",1,2,3]\n",
    "shopping_list[0] = \"kanda\"\n",
    "shopping_list"
   ]
  },
  {
   "cell_type": "code",
   "execution_count": 22,
   "id": "11b80b06-2d18-4c1e-9b31-bf973ce56d7f",
   "metadata": {},
   "outputs": [
    {
     "name": "stdout",
     "output_type": "stream",
     "text": [
      "kanda apple 1 2 3 "
     ]
    }
   ],
   "source": [
    "for item in shopping_list:\n",
    "    print(item, end=\" \")"
   ]
  },
  {
   "cell_type": "code",
   "execution_count": 24,
   "id": "1d74b811-04e9-45d9-83af-20a322279574",
   "metadata": {},
   "outputs": [
    {
     "data": {
      "text/plain": [
       "(2, 3)"
      ]
     },
     "execution_count": 24,
     "metadata": {},
     "output_type": "execute_result"
    }
   ],
   "source": [
    "#tuples >> this is immutable \n",
    "point = (2,3)\n",
    "point\n"
   ]
  },
  {
   "cell_type": "code",
   "execution_count": 25,
   "id": "9a4781af-eb4a-441d-90a7-15aa129738a5",
   "metadata": {},
   "outputs": [
    {
     "data": {
      "text/plain": [
       "tuple"
      ]
     },
     "execution_count": 25,
     "metadata": {},
     "output_type": "execute_result"
    }
   ],
   "source": [
    "type(point)\n"
   ]
  },
  {
   "cell_type": "code",
   "execution_count": 26,
   "id": "e5fac190-4731-4a0c-b9dc-ea252919f50f",
   "metadata": {},
   "outputs": [],
   "source": [
    "#use case >> adhar card number ,atm, >> you dont want to change the data"
   ]
  },
  {
   "cell_type": "code",
   "execution_count": 27,
   "id": "3fe460e7-4d5c-4a69-8f92-5b72a79377ac",
   "metadata": {},
   "outputs": [
    {
     "data": {
      "text/plain": [
       "(1, 2, 3, 'apple', '3+d4', 6)"
      ]
     },
     "execution_count": 27,
     "metadata": {},
     "output_type": "execute_result"
    }
   ],
   "source": [
    "t =(1,2,3,\"apple\",\"3+d4\",6)\n",
    "t"
   ]
  },
  {
   "cell_type": "code",
   "execution_count": 28,
   "id": "cad4e81e-0cd5-4d5e-9637-3a9e53dfb4e6",
   "metadata": {},
   "outputs": [],
   "source": [
    "emp_name = (\"yash\",\"sai\",\"shubham\",\"onkar\")\n"
   ]
  },
  {
   "cell_type": "code",
   "execution_count": 29,
   "id": "a1fa7301-b9b7-48a9-be97-e50c406975fc",
   "metadata": {},
   "outputs": [
    {
     "data": {
      "text/plain": [
       "tuple"
      ]
     },
     "execution_count": 29,
     "metadata": {},
     "output_type": "execute_result"
    }
   ],
   "source": [
    "type(emp_name)"
   ]
  },
  {
   "cell_type": "code",
   "execution_count": 30,
   "id": "89cee142-5fb9-4c5d-9330-7b29bef7a796",
   "metadata": {},
   "outputs": [
    {
     "data": {
      "text/plain": [
       "'onkar'"
      ]
     },
     "execution_count": 30,
     "metadata": {},
     "output_type": "execute_result"
    }
   ],
   "source": [
    "emp_name[-1]"
   ]
  },
  {
   "cell_type": "code",
   "execution_count": 32,
   "id": "c06cc429-c363-4342-b572-5c5f462a07ef",
   "metadata": {},
   "outputs": [
    {
     "ename": "TypeError",
     "evalue": "'tuple' object does not support item assignment",
     "output_type": "error",
     "traceback": [
      "\u001b[1;31m---------------------------------------------------------------------------\u001b[0m",
      "\u001b[1;31mTypeError\u001b[0m                                 Traceback (most recent call last)",
      "Cell \u001b[1;32mIn[32], line 1\u001b[0m\n\u001b[1;32m----> 1\u001b[0m \u001b[43memp_name\u001b[49m\u001b[43m[\u001b[49m\u001b[38;5;241;43m2\u001b[39;49m\u001b[43m]\u001b[49m\u001b[38;5;241m=\u001b[39m\u001b[38;5;124m\"\u001b[39m\u001b[38;5;124mvikas\u001b[39m\u001b[38;5;124m\"\u001b[39m\n",
      "\u001b[1;31mTypeError\u001b[0m: 'tuple' object does not support item assignment"
     ]
    }
   ],
   "source": [
    "emp_name[2]=\"vikas\" #tupes are immuatable"
   ]
  },
  {
   "cell_type": "code",
   "execution_count": 33,
   "id": "7027eb64-f633-4665-abe0-c2e7b66f05c5",
   "metadata": {},
   "outputs": [],
   "source": [
    "box1 = (\"a\",\"b\")\n",
    "box2 = ( \"c\",\"d\")\n",
    "choc_bag = (box1,box2)"
   ]
  },
  {
   "cell_type": "code",
   "execution_count": 36,
   "id": "291ac246-a1b0-4b34-9dda-925c6aa55ba9",
   "metadata": {},
   "outputs": [
    {
     "data": {
      "text/plain": [
       "tuple"
      ]
     },
     "execution_count": 36,
     "metadata": {},
     "output_type": "execute_result"
    }
   ],
   "source": [
    "type(choc_bag)"
   ]
  },
  {
   "cell_type": "code",
   "execution_count": 37,
   "id": "3c794bd2-69ef-4ca7-aee3-39f6bd5ace1c",
   "metadata": {},
   "outputs": [
    {
     "data": {
      "text/plain": [
       "(('a', 'b'), ('c', 'd'))"
      ]
     },
     "execution_count": 37,
     "metadata": {},
     "output_type": "execute_result"
    }
   ],
   "source": [
    "choc_bag"
   ]
  },
  {
   "cell_type": "code",
   "execution_count": 38,
   "id": "d8e7608a-9a1f-4980-80ed-478d55816418",
   "metadata": {},
   "outputs": [
    {
     "name": "stdout",
     "output_type": "stream",
     "text": [
      "('a', 'b') ('c', 'd') "
     ]
    }
   ],
   "source": [
    "for item in choc_bag:\n",
    "    print(item, end= \" \")"
   ]
  },
  {
   "cell_type": "code",
   "execution_count": 40,
   "id": "deb8c0e0-8b57-427d-99b1-eb963b84038a",
   "metadata": {},
   "outputs": [
    {
     "name": "stdout",
     "output_type": "stream",
     "text": [
      "a\n",
      "b\n",
      "c\n",
      "d\n"
     ]
    }
   ],
   "source": [
    "for box in choc_bag:\n",
    "    for choc in box:\n",
    "        print(choc)"
   ]
  },
  {
   "cell_type": "code",
   "execution_count": 41,
   "id": "aaed3a88-784e-4b3d-99b8-e025ee7c96c7",
   "metadata": {},
   "outputs": [
    {
     "data": {
      "text/plain": [
       "set"
      ]
     },
     "execution_count": 41,
     "metadata": {},
     "output_type": "execute_result"
    }
   ],
   "source": [
    "#sets >> are unorderd colllection of unique element\n",
    "\n",
    "s = {\"red\",\"orange\"}\n",
    "type(s)\n"
   ]
  },
  {
   "cell_type": "code",
   "execution_count": 42,
   "id": "5818096f-2d07-4a92-8dc6-57fc74a375d5",
   "metadata": {},
   "outputs": [
    {
     "data": {
      "text/plain": [
       "{'orange', 'purple', 'red'}"
      ]
     },
     "execution_count": 42,
     "metadata": {},
     "output_type": "execute_result"
    }
   ],
   "source": [
    "s = {\"red\",\"orange\",\"orange\",\"purple\",\"red\"}\n",
    "s"
   ]
  },
  {
   "cell_type": "code",
   "execution_count": 43,
   "id": "215b5595-24d9-496e-a06e-ee510be016e1",
   "metadata": {},
   "outputs": [
    {
     "data": {
      "text/plain": [
       "{1, 2, 'a'}"
      ]
     },
     "execution_count": 43,
     "metadata": {},
     "output_type": "execute_result"
    }
   ],
   "source": [
    "s = {\"a\", \"a\", \"a\",1,1,1,1,2}\n",
    "s"
   ]
  },
  {
   "cell_type": "code",
   "execution_count": 44,
   "id": "0be0099b-9c78-4f29-b856-28ed555d3ae1",
   "metadata": {},
   "outputs": [
    {
     "ename": "TypeError",
     "evalue": "'set' object is not subscriptable",
     "output_type": "error",
     "traceback": [
      "\u001b[1;31m---------------------------------------------------------------------------\u001b[0m",
      "\u001b[1;31mTypeError\u001b[0m                                 Traceback (most recent call last)",
      "Cell \u001b[1;32mIn[44], line 1\u001b[0m\n\u001b[1;32m----> 1\u001b[0m \u001b[43ms\u001b[49m\u001b[43m[\u001b[49m\u001b[38;5;241;43m1\u001b[39;49m\u001b[43m]\u001b[49m\n",
      "\u001b[1;31mTypeError\u001b[0m: 'set' object is not subscriptable"
     ]
    }
   ],
   "source": [
    "s[1] # no conceptiong of indexing"
   ]
  },
  {
   "cell_type": "code",
   "execution_count": 45,
   "id": "a86f6287-935a-4068-83ed-1fb94e1c937e",
   "metadata": {},
   "outputs": [
    {
     "data": {
      "text/plain": [
       "{1, 2, 'a'}"
      ]
     },
     "execution_count": 45,
     "metadata": {},
     "output_type": "execute_result"
    }
   ],
   "source": [
    " s"
   ]
  },
  {
   "cell_type": "code",
   "execution_count": 48,
   "id": "fd0cbe95-6dd2-4b1e-8be1-15fab64cd12f",
   "metadata": {},
   "outputs": [
    {
     "data": {
      "text/plain": [
       "{1, 2, 'a', 'pwskills'}"
      ]
     },
     "execution_count": 48,
     "metadata": {},
     "output_type": "execute_result"
    }
   ],
   "source": [
    "s.add(\"pwskills\")\n",
    "s"
   ]
  },
  {
   "cell_type": "code",
   "execution_count": 49,
   "id": "a405c2a3-1f58-4930-804f-a7ee7ec5adbc",
   "metadata": {},
   "outputs": [],
   "source": [
    "s.remove(\"pwskills\")"
   ]
  },
  {
   "cell_type": "code",
   "execution_count": 51,
   "id": "cd244a38-5801-44d4-be6e-0d6f72685fd6",
   "metadata": {},
   "outputs": [
    {
     "data": {
      "text/plain": [
       "{1, 2, 'a'}"
      ]
     },
     "execution_count": 51,
     "metadata": {},
     "output_type": "execute_result"
    }
   ],
   "source": [
    "\n",
    "s"
   ]
  },
  {
   "cell_type": "code",
   "execution_count": 52,
   "id": "5743a4f0-f4de-4606-b948-4ade64c636a8",
   "metadata": {},
   "outputs": [
    {
     "data": {
      "text/plain": [
       "{'aaple', 'apple', 'banana', 'egg'}"
      ]
     },
     "execution_count": 52,
     "metadata": {},
     "output_type": "execute_result"
    }
   ],
   "source": [
    "#use case of sets >> to get unique elements\n",
    "grocer_list ={\"apple\", \"banana\",\"aaple\",\"egg\",\"egg\"}\n",
    "grocer_list"
   ]
  },
  {
   "cell_type": "code",
   "execution_count": 53,
   "id": "669c859b-1bb7-4b96-ba4c-3391cf7cdae7",
   "metadata": {},
   "outputs": [
    {
     "data": {
      "text/plain": [
       "dict"
      ]
     },
     "execution_count": 53,
     "metadata": {},
     "output_type": "execute_result"
    }
   ],
   "source": [
    "#dectionories >> which store the data in the form of key value pair\n",
    "my_dict ={}\n",
    "type(my_dict)"
   ]
  },
  {
   "cell_type": "code",
   "execution_count": 54,
   "id": "f83b24a8-f7c2-467b-af10-42b6b8afe5b3",
   "metadata": {},
   "outputs": [
    {
     "data": {
      "text/plain": [
       "{'key_course': 'data science', 'duration': 200}"
      ]
     },
     "execution_count": 54,
     "metadata": {},
     "output_type": "execute_result"
    }
   ],
   "source": [
    "my_dict = {\"key_course\" : \"data science\" , \"duration\" : 200}\n",
    "my_dict"
   ]
  },
  {
   "cell_type": "code",
   "execution_count": 55,
   "id": "2f30969c-a2c5-4314-b419-ede0a8ee4dc5",
   "metadata": {},
   "outputs": [],
   "source": [
    "#use case of dictocnory \n",
    "phonebook = {\"dad\" :1234, \"mom\":2922}"
   ]
  },
  {
   "cell_type": "code",
   "execution_count": 56,
   "id": "71803319-824f-48d8-91dc-d1eaa8e1d94d",
   "metadata": {},
   "outputs": [
    {
     "data": {
      "text/plain": [
       "{'dad': 1234, 'mom': 2922}"
      ]
     },
     "execution_count": 56,
     "metadata": {},
     "output_type": "execute_result"
    }
   ],
   "source": [
    "phonebook"
   ]
  },
  {
   "cell_type": "code",
   "execution_count": 57,
   "id": "afad7986-994f-484c-8e9c-3212c2617e57",
   "metadata": {},
   "outputs": [
    {
     "data": {
      "text/plain": [
       "dict"
      ]
     },
     "execution_count": 57,
     "metadata": {},
     "output_type": "execute_result"
    }
   ],
   "source": [
    "type(phonebook)"
   ]
  },
  {
   "cell_type": "code",
   "execution_count": 58,
   "id": "3a2e0964-47fa-4292-8411-f9e4bc4573ae",
   "metadata": {},
   "outputs": [
    {
     "data": {
      "text/plain": [
       "1234"
      ]
     },
     "execution_count": 58,
     "metadata": {},
     "output_type": "execute_result"
    }
   ],
   "source": [
    "phonebook[\"dad\"]"
   ]
  },
  {
   "cell_type": "code",
   "execution_count": 59,
   "id": "12fbb9a8-5b57-4ffd-a1cb-1c095698e5e9",
   "metadata": {},
   "outputs": [
    {
     "data": {
      "text/plain": [
       "2922"
      ]
     },
     "execution_count": 59,
     "metadata": {},
     "output_type": "execute_result"
    }
   ],
   "source": [
    "phonebook[\"mom\"]"
   ]
  },
  {
   "cell_type": "code",
   "execution_count": 60,
   "id": "b591f62c-0503-45ba-b901-6bf3c7142cba",
   "metadata": {},
   "outputs": [
    {
     "data": {
      "text/plain": [
       "9393"
      ]
     },
     "execution_count": 60,
     "metadata": {},
     "output_type": "execute_result"
    }
   ],
   "source": [
    "phonebook = {\"dad\" :1234, \"mom\":2922 , \"dad\" : 9393}\n",
    "phonebook[\"dad\"]"
   ]
  },
  {
   "cell_type": "code",
   "execution_count": 61,
   "id": "dd608520-8023-4da3-a524-dde08fd7cba3",
   "metadata": {},
   "outputs": [
    {
     "data": {
      "text/plain": [
       "{'panner_kofta': 480, 'chichen_handi': 500}"
      ]
     },
     "execution_count": 61,
     "metadata": {},
     "output_type": "execute_result"
    }
   ],
   "source": [
    "rest_menu = {\"panner_kofta\" : 480, \"chichen_handi\" : 500}\n",
    "rest_menu"
   ]
  },
  {
   "cell_type": "code",
   "execution_count": 62,
   "id": "121e18ae-5de0-4464-8ddd-45b720875411",
   "metadata": {},
   "outputs": [],
   "source": [
    "rest_menu[\"panner_kofta\"] = 300"
   ]
  },
  {
   "cell_type": "code",
   "execution_count": 63,
   "id": "690cabce-1ff5-4a8e-9252-c62ad5d6251b",
   "metadata": {},
   "outputs": [
    {
     "data": {
      "text/plain": [
       "{'panner_kofta': 300, 'chichen_handi': 500}"
      ]
     },
     "execution_count": 63,
     "metadata": {},
     "output_type": "execute_result"
    }
   ],
   "source": [
    "rest_menu"
   ]
  },
  {
   "cell_type": "code",
   "execution_count": 64,
   "id": "d27ea303-a8de-4a23-9161-dd29693f3f6c",
   "metadata": {},
   "outputs": [
    {
     "data": {
      "text/plain": [
       "{'dad': 9393, 'mom': 2020}"
      ]
     },
     "execution_count": 64,
     "metadata": {},
     "output_type": "execute_result"
    }
   ],
   "source": [
    "phonebook[\"mom\"]=2020\n",
    "phonebook"
   ]
  },
  {
   "cell_type": "code",
   "execution_count": 65,
   "id": "c4bd7eed-6736-43c0-9a2a-8a387d641d3f",
   "metadata": {},
   "outputs": [
    {
     "data": {
      "text/plain": [
       "dict_keys(['panner_kofta', 'chichen_handi'])"
      ]
     },
     "execution_count": 65,
     "metadata": {},
     "output_type": "execute_result"
    }
   ],
   "source": [
    "rest_menu.keys()"
   ]
  },
  {
   "cell_type": "code",
   "execution_count": 66,
   "id": "edc1b10e-5b09-4462-8ca8-96a59994f561",
   "metadata": {},
   "outputs": [
    {
     "data": {
      "text/plain": [
       "dict_keys(['dad', 'mom'])"
      ]
     },
     "execution_count": 66,
     "metadata": {},
     "output_type": "execute_result"
    }
   ],
   "source": [
    "phonebook.keys()"
   ]
  },
  {
   "cell_type": "code",
   "execution_count": 67,
   "id": "cc8b9691-d0db-4ffb-954c-bf2719533d57",
   "metadata": {},
   "outputs": [
    {
     "data": {
      "text/plain": [
       "dict_values([300, 500])"
      ]
     },
     "execution_count": 67,
     "metadata": {},
     "output_type": "execute_result"
    }
   ],
   "source": [
    "rest_menu.values()"
   ]
  },
  {
   "cell_type": "code",
   "execution_count": 68,
   "id": "ab5ea95c-ec33-407b-bd00-96263dfa0899",
   "metadata": {},
   "outputs": [
    {
     "data": {
      "text/plain": [
       "dict_values([9393, 2020])"
      ]
     },
     "execution_count": 68,
     "metadata": {},
     "output_type": "execute_result"
    }
   ],
   "source": [
    "phonebook.values()"
   ]
  },
  {
   "cell_type": "code",
   "execution_count": 69,
   "id": "67cade3d-ec93-4560-ad2f-018c2b712590",
   "metadata": {},
   "outputs": [],
   "source": [
    "from array import array"
   ]
  },
  {
   "cell_type": "code",
   "execution_count": 72,
   "id": "1ba450bf-c1d8-490a-b833-c24507bc748a",
   "metadata": {},
   "outputs": [
    {
     "data": {
      "text/plain": [
       "array('i', [1, 2, 3, 4])"
      ]
     },
     "execution_count": 72,
     "metadata": {},
     "output_type": "execute_result"
    }
   ],
   "source": [
    "#array is similar to list >> homonogious data\n",
    "array(\"i\",[1,2,3,4])\n"
   ]
  },
  {
   "cell_type": "code",
   "execution_count": 73,
   "id": "fc1bb6ca-5866-4ce7-8b2d-8fe2c393ef77",
   "metadata": {},
   "outputs": [
    {
     "data": {
      "text/plain": [
       "'yash'"
      ]
     },
     "execution_count": 73,
     "metadata": {},
     "output_type": "execute_result"
    }
   ],
   "source": [
    "#sting\n",
    "s = \"yash\"\n",
    "s"
   ]
  },
  {
   "cell_type": "code",
   "execution_count": 74,
   "id": "f6b84e5b-bf99-49a8-819e-ed4d42a3ac14",
   "metadata": {},
   "outputs": [
    {
     "data": {
      "text/plain": [
       "'y'"
      ]
     },
     "execution_count": 74,
     "metadata": {},
     "output_type": "execute_result"
    }
   ],
   "source": [
    "s[0]"
   ]
  },
  {
   "cell_type": "code",
   "execution_count": 75,
   "id": "707f480b-9cc6-4c2b-ae22-960a2e9b38b1",
   "metadata": {},
   "outputs": [
    {
     "name": "stdout",
     "output_type": "stream",
     "text": [
      "y\n",
      "a\n",
      "s\n",
      "h\n"
     ]
    }
   ],
   "source": [
    "for i in s:\n",
    "    print(i)"
   ]
  },
  {
   "cell_type": "code",
   "execution_count": 76,
   "id": "afa06e22-cdb0-49ff-93d9-a06e5dc0e84d",
   "metadata": {},
   "outputs": [
    {
     "data": {
      "text/plain": [
       "dict"
      ]
     },
     "execution_count": 76,
     "metadata": {},
     "output_type": "execute_result"
    }
   ],
   "source": [
    "#dictionary\n",
    "#key and value pairs\n",
    "#unorderd but come over an order inserted\n",
    "\n",
    "d={}\n",
    "type(d)"
   ]
  },
  {
   "cell_type": "code",
   "execution_count": 78,
   "id": "58f2def9-2fab-439b-8f9b-161972c85040",
   "metadata": {},
   "outputs": [
    {
     "data": {
      "text/plain": [
       "{'name': 'ajay', 'email': 'ajay@gmail.com', 'contact': 9035}"
      ]
     },
     "execution_count": 78,
     "metadata": {},
     "output_type": "execute_result"
    }
   ],
   "source": [
    "d ={\"name\" : \"ajay\", \"email\": \"ajay@gmail.com\", \"contact\":9035}\n",
    "d"
   ]
  },
  {
   "cell_type": "code",
   "execution_count": 79,
   "id": "bd037324-aa47-4572-95a6-7cc421f89d09",
   "metadata": {},
   "outputs": [
    {
     "data": {
      "text/plain": [
       "'ajay'"
      ]
     },
     "execution_count": 79,
     "metadata": {},
     "output_type": "execute_result"
    }
   ],
   "source": [
    "d[\"name\"]"
   ]
  },
  {
   "cell_type": "code",
   "execution_count": 82,
   "id": "bb70abf0-d44c-4d9f-bf3b-6da310b2145d",
   "metadata": {},
   "outputs": [],
   "source": [
    "d[\"email\"] = \"bijay@gamil.com\""
   ]
  },
  {
   "cell_type": "code",
   "execution_count": 83,
   "id": "40fe15dc-2d4d-4f9e-8aa6-fe992d56c7e0",
   "metadata": {},
   "outputs": [
    {
     "data": {
      "text/plain": [
       "{'name': 'ajay', 'email': 'bijay@gamil.com', 'contact': 9035}"
      ]
     },
     "execution_count": 83,
     "metadata": {},
     "output_type": "execute_result"
    }
   ],
   "source": [
    "d"
   ]
  },
  {
   "cell_type": "code",
   "execution_count": 86,
   "id": "8e851814-09b6-4a22-9885-0b74b3a28dc8",
   "metadata": {},
   "outputs": [
    {
     "data": {
      "text/plain": [
       "{'add': '35th cross, pune'}"
      ]
     },
     "execution_count": 86,
     "metadata": {},
     "output_type": "execute_result"
    }
   ],
   "source": [
    "d= {\"add\":\"35th cross, pune\"}\n",
    "d"
   ]
  },
  {
   "cell_type": "code",
   "execution_count": null,
   "id": "501504ad-4ecb-4a7f-82b3-374baf30ce28",
   "metadata": {},
   "outputs": [],
   "source": [
    "d[1] #you can only access value using key but not vise versa"
   ]
  },
  {
   "cell_type": "code",
   "execution_count": 87,
   "id": "f27dd2a5-ae76-4cf3-9541-17792e366ca4",
   "metadata": {},
   "outputs": [],
   "source": [
    "d = {1.2 : \"yash\",1:\"sammer\"}"
   ]
  },
  {
   "cell_type": "code",
   "execution_count": 88,
   "id": "04f290d0-6928-4f00-91d2-b7151f88c0c1",
   "metadata": {},
   "outputs": [
    {
     "data": {
      "text/plain": [
       "{1.2: 'yash', 1: 'sammer'}"
      ]
     },
     "execution_count": 88,
     "metadata": {},
     "output_type": "execute_result"
    }
   ],
   "source": [
    "d"
   ]
  },
  {
   "cell_type": "code",
   "execution_count": 89,
   "id": "5d263e68-5faf-49df-8c11-b9f02074d71a",
   "metadata": {},
   "outputs": [
    {
     "data": {
      "text/plain": [
       "'yash'"
      ]
     },
     "execution_count": 89,
     "metadata": {},
     "output_type": "execute_result"
    }
   ],
   "source": [
    "d[1.2]"
   ]
  },
  {
   "cell_type": "code",
   "execution_count": 90,
   "id": "90f4616a-b266-4dae-b6ed-6455c68b2be4",
   "metadata": {},
   "outputs": [
    {
     "data": {
      "text/plain": [
       "{True: 'ram'}"
      ]
     },
     "execution_count": 90,
     "metadata": {},
     "output_type": "execute_result"
    }
   ],
   "source": [
    "d = {True: \"ram\"}\n",
    "d"
   ]
  },
  {
   "cell_type": "code",
   "execution_count": 91,
   "id": "8335993d-b04f-4fa3-888e-8c473de6c881",
   "metadata": {},
   "outputs": [
    {
     "data": {
      "text/plain": [
       "'ram'"
      ]
     },
     "execution_count": 91,
     "metadata": {},
     "output_type": "execute_result"
    }
   ],
   "source": [
    "d[True]"
   ]
  },
  {
   "cell_type": "code",
   "execution_count": 92,
   "id": "5643f18e-1f9f-4347-a5a6-58eeb1a094fe",
   "metadata": {},
   "outputs": [
    {
     "ename": "TypeError",
     "evalue": "unhashable type: 'list'",
     "output_type": "error",
     "traceback": [
      "\u001b[1;31m---------------------------------------------------------------------------\u001b[0m",
      "\u001b[1;31mTypeError\u001b[0m                                 Traceback (most recent call last)",
      "Cell \u001b[1;32mIn[92], line 1\u001b[0m\n\u001b[1;32m----> 1\u001b[0m d \u001b[38;5;241m=\u001b[39m {[\u001b[38;5;241m1\u001b[39m,\u001b[38;5;241m2\u001b[39m,\u001b[38;5;241m3\u001b[39m]:\u001b[38;5;124m\"\u001b[39m\u001b[38;5;124mokay\u001b[39m\u001b[38;5;124m\"\u001b[39m}\n\u001b[0;32m      2\u001b[0m d\n",
      "\u001b[1;31mTypeError\u001b[0m: unhashable type: 'list'"
     ]
    }
   ],
   "source": [
    "d = {[1,2,3]:\"okay\"} #you cant have list as key\n",
    "d"
   ]
  },
  {
   "cell_type": "code",
   "execution_count": 93,
   "id": "639e9bd5-cec3-4986-bd97-a414ac4a2141",
   "metadata": {},
   "outputs": [
    {
     "data": {
      "text/plain": [
       "{(1, 2, 3): 'okay'}"
      ]
     },
     "execution_count": 93,
     "metadata": {},
     "output_type": "execute_result"
    }
   ],
   "source": [
    "d ={(1,2,3):\"okay\"} #but you can keep tuple as your key cause its immutable\n",
    "d"
   ]
  },
  {
   "cell_type": "code",
   "execution_count": null,
   "id": "44a4ac79-468b-4623-8d1b-2277c57338a6",
   "metadata": {},
   "outputs": [],
   "source": [
    "#you cant have set list and dictonary as your key"
   ]
  }
 ],
 "metadata": {
  "kernelspec": {
   "display_name": "Python 3 (ipykernel)",
   "language": "python",
   "name": "python3"
  },
  "language_info": {
   "codemirror_mode": {
    "name": "ipython",
    "version": 3
   },
   "file_extension": ".py",
   "mimetype": "text/x-python",
   "name": "python",
   "nbconvert_exporter": "python",
   "pygments_lexer": "ipython3",
   "version": "3.13.2"
  }
 },
 "nbformat": 4,
 "nbformat_minor": 5
}
