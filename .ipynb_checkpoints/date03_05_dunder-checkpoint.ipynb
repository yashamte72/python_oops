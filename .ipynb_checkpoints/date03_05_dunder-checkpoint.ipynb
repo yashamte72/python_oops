{
 "cells": [
  {
   "cell_type": "markdown",
   "id": "9fc5086d-1323-46ac-b64f-e59a2a4973c2",
   "metadata": {},
   "source": [
    "dunder/ magic / special method\n",
    "\n",
    "Dunder >> methods defined by built in classes by python\n",
    "\n",
    "--we define this type of methods for create custom objects\n",
    "--it helps to have implementing operator overloading in python"
   ]
  },
  {
   "cell_type": "code",
   "execution_count": 3,
   "id": "fadb3e42-5bf7-436e-ba1b-ebd18f66381e",
   "metadata": {},
   "outputs": [
    {
     "name": "stdout",
     "output_type": "stream",
     "text": [
      "hello world\n"
     ]
    }
   ],
   "source": [
    "print(\"hello world\") #print is a keyword/inbuilt function"
   ]
  },
  {
   "cell_type": "code",
   "execution_count": 4,
   "id": "a1034aa4-bb93-4e79-81bf-849e67ceb408",
   "metadata": {},
   "outputs": [],
   "source": [
    "# d+dunder\n",
    "#double underscore >> all the methods surrounding double underscore is dunder"
   ]
  },
  {
   "cell_type": "code",
   "execution_count": 5,
   "id": "27572fb7-29da-4f0f-9089-bd2b7aaafe01",
   "metadata": {},
   "outputs": [],
   "source": [
    "a = 'pw'\n",
    "b= 'skills'"
   ]
  },
  {
   "cell_type": "code",
   "execution_count": 7,
   "id": "f1786237-d974-4684-a2a4-111df2900829",
   "metadata": {},
   "outputs": [
    {
     "data": {
      "text/plain": [
       "'pwskills'"
      ]
     },
     "execution_count": 7,
     "metadata": {},
     "output_type": "execute_result"
    }
   ],
   "source": [
    "a.__add__(b) #a dunder method is accociated with strings"
   ]
  },
  {
   "cell_type": "code",
   "execution_count": 8,
   "id": "43493af6-0b79-4240-871b-3799a43ccad6",
   "metadata": {},
   "outputs": [
    {
     "data": {
      "text/plain": [
       "['__add__',\n",
       " '__class__',\n",
       " '__contains__',\n",
       " '__delattr__',\n",
       " '__dir__',\n",
       " '__doc__',\n",
       " '__eq__',\n",
       " '__format__',\n",
       " '__ge__',\n",
       " '__getattribute__',\n",
       " '__getitem__',\n",
       " '__getnewargs__',\n",
       " '__getstate__',\n",
       " '__gt__',\n",
       " '__hash__',\n",
       " '__init__',\n",
       " '__init_subclass__',\n",
       " '__iter__',\n",
       " '__le__',\n",
       " '__len__',\n",
       " '__lt__',\n",
       " '__mod__',\n",
       " '__mul__',\n",
       " '__ne__',\n",
       " '__new__',\n",
       " '__reduce__',\n",
       " '__reduce_ex__',\n",
       " '__repr__',\n",
       " '__rmod__',\n",
       " '__rmul__',\n",
       " '__setattr__',\n",
       " '__sizeof__',\n",
       " '__str__',\n",
       " '__subclasshook__',\n",
       " 'capitalize',\n",
       " 'casefold',\n",
       " 'center',\n",
       " 'count',\n",
       " 'encode',\n",
       " 'endswith',\n",
       " 'expandtabs',\n",
       " 'find',\n",
       " 'format',\n",
       " 'format_map',\n",
       " 'index',\n",
       " 'isalnum',\n",
       " 'isalpha',\n",
       " 'isascii',\n",
       " 'isdecimal',\n",
       " 'isdigit',\n",
       " 'isidentifier',\n",
       " 'islower',\n",
       " 'isnumeric',\n",
       " 'isprintable',\n",
       " 'isspace',\n",
       " 'istitle',\n",
       " 'isupper',\n",
       " 'join',\n",
       " 'ljust',\n",
       " 'lower',\n",
       " 'lstrip',\n",
       " 'maketrans',\n",
       " 'partition',\n",
       " 'removeprefix',\n",
       " 'removesuffix',\n",
       " 'replace',\n",
       " 'rfind',\n",
       " 'rindex',\n",
       " 'rjust',\n",
       " 'rpartition',\n",
       " 'rsplit',\n",
       " 'rstrip',\n",
       " 'split',\n",
       " 'splitlines',\n",
       " 'startswith',\n",
       " 'strip',\n",
       " 'swapcase',\n",
       " 'title',\n",
       " 'translate',\n",
       " 'upper',\n",
       " 'zfill']"
      ]
     },
     "execution_count": 8,
     "metadata": {},
     "output_type": "execute_result"
    }
   ],
   "source": [
    "#all dunder method accociated with string\n",
    "dir(str)"
   ]
  },
  {
   "cell_type": "code",
   "execution_count": 9,
   "id": "d052abfa-67fd-4a6a-8f76-4ea1515279bd",
   "metadata": {},
   "outputs": [
    {
     "data": {
      "text/plain": [
       "8"
      ]
     },
     "execution_count": 9,
     "metadata": {},
     "output_type": "execute_result"
    }
   ],
   "source": [
    "3+5"
   ]
  },
  {
   "cell_type": "code",
   "execution_count": 10,
   "id": "fe575915-a30e-44ad-a6ab-c07c24752e92",
   "metadata": {},
   "outputs": [
    {
     "data": {
      "text/plain": [
       "8"
      ]
     },
     "execution_count": 10,
     "metadata": {},
     "output_type": "execute_result"
    }
   ],
   "source": [
    "a =3\n",
    "b=5\n",
    "a.__add__(b)"
   ]
  },
  {
   "cell_type": "code",
   "execution_count": 11,
   "id": "e0ad9baf-ec88-4b6f-b5a2-fa336190065c",
   "metadata": {},
   "outputs": [
    {
     "data": {
      "text/plain": [
       "['__abs__',\n",
       " '__add__',\n",
       " '__and__',\n",
       " '__bool__',\n",
       " '__ceil__',\n",
       " '__class__',\n",
       " '__delattr__',\n",
       " '__dir__',\n",
       " '__divmod__',\n",
       " '__doc__',\n",
       " '__eq__',\n",
       " '__float__',\n",
       " '__floor__',\n",
       " '__floordiv__',\n",
       " '__format__',\n",
       " '__ge__',\n",
       " '__getattribute__',\n",
       " '__getnewargs__',\n",
       " '__getstate__',\n",
       " '__gt__',\n",
       " '__hash__',\n",
       " '__index__',\n",
       " '__init__',\n",
       " '__init_subclass__',\n",
       " '__int__',\n",
       " '__invert__',\n",
       " '__le__',\n",
       " '__lshift__',\n",
       " '__lt__',\n",
       " '__mod__',\n",
       " '__mul__',\n",
       " '__ne__',\n",
       " '__neg__',\n",
       " '__new__',\n",
       " '__or__',\n",
       " '__pos__',\n",
       " '__pow__',\n",
       " '__radd__',\n",
       " '__rand__',\n",
       " '__rdivmod__',\n",
       " '__reduce__',\n",
       " '__reduce_ex__',\n",
       " '__repr__',\n",
       " '__rfloordiv__',\n",
       " '__rlshift__',\n",
       " '__rmod__',\n",
       " '__rmul__',\n",
       " '__ror__',\n",
       " '__round__',\n",
       " '__rpow__',\n",
       " '__rrshift__',\n",
       " '__rshift__',\n",
       " '__rsub__',\n",
       " '__rtruediv__',\n",
       " '__rxor__',\n",
       " '__setattr__',\n",
       " '__sizeof__',\n",
       " '__str__',\n",
       " '__sub__',\n",
       " '__subclasshook__',\n",
       " '__truediv__',\n",
       " '__trunc__',\n",
       " '__xor__',\n",
       " 'as_integer_ratio',\n",
       " 'bit_count',\n",
       " 'bit_length',\n",
       " 'conjugate',\n",
       " 'denominator',\n",
       " 'from_bytes',\n",
       " 'imag',\n",
       " 'is_integer',\n",
       " 'numerator',\n",
       " 'real',\n",
       " 'to_bytes']"
      ]
     },
     "execution_count": 11,
     "metadata": {},
     "output_type": "execute_result"
    }
   ],
   "source": [
    "dir(int)"
   ]
  },
  {
   "cell_type": "code",
   "execution_count": 13,
   "id": "5a4ceb7f-60a1-42bf-81d9-b8e65303713b",
   "metadata": {},
   "outputs": [],
   "source": [
    "#useful dunder method\n",
    "# __init__ >> >> first dunder method used to take data in class\n",
    "class Student:\n",
    "    def __init__(self, name):\n",
    "        print( name ,\"this is the first thing that will be executed\")"
   ]
  },
  {
   "cell_type": "code",
   "execution_count": 14,
   "id": "bf591bbf-1c80-4355-81ff-b72b51d28d90",
   "metadata": {},
   "outputs": [
    {
     "name": "stdout",
     "output_type": "stream",
     "text": [
      "yash this is the first thing that will be executed\n"
     ]
    }
   ],
   "source": [
    "obj = Student(\"yash\")"
   ]
  },
  {
   "cell_type": "code",
   "execution_count": 15,
   "id": "eb87e3e9-0703-4e10-a490-f6590076f830",
   "metadata": {},
   "outputs": [],
   "source": [
    "#another magic method >> __new__\n",
    "class Studnet:\n",
    "    #__new__ is resposnsible for creating a new instance of the class\n",
    "    def __new__(cls): #since cls >> so it will be refering to the class diretly\n",
    "        print(\"this will be executed even before __init__ method\")\n",
    "    #to initialize the newly created instance / object >> it sets up initial state of the object\n",
    "    def __init__(self, name):\n",
    "        print( name ,\"this is the first thing that will be executed\")"
   ]
  },
  {
   "cell_type": "code",
   "execution_count": 17,
   "id": "122a983b-cfe8-4e85-a0ef-a58ce032afe2",
   "metadata": {},
   "outputs": [
    {
     "name": "stdout",
     "output_type": "stream",
     "text": [
      "this will be executed even before __init__ method\n"
     ]
    }
   ],
   "source": [
    "obj2 = Studnet()"
   ]
  },
  {
   "cell_type": "code",
   "execution_count": 22,
   "id": "97352ac5-235b-460d-bdb6-275ecd7e38bd",
   "metadata": {},
   "outputs": [],
   "source": [
    "#another dunder method >> __str__ >> which return string representation of method\n",
    "class Student:\n",
    "    def __init__(self):\n",
    "        self.phone = 999999"
   ]
  },
  {
   "cell_type": "code",
   "execution_count": 23,
   "id": "9f5ab75d-2b64-4f8a-9839-9bf2c06c0d70",
   "metadata": {},
   "outputs": [
    {
     "data": {
      "text/plain": [
       "<__main__.Student at 0x2ae9879fa10>"
      ]
     },
     "execution_count": 23,
     "metadata": {},
     "output_type": "execute_result"
    }
   ],
   "source": [
    "Student() #hexadecimal representation of memory of student object"
   ]
  },
  {
   "cell_type": "code",
   "execution_count": 24,
   "id": "2d3dea8a-3f8a-441e-bf16-cc48995c14d9",
   "metadata": {},
   "outputs": [
    {
     "name": "stdout",
     "output_type": "stream",
     "text": [
      "<__main__.Student object at 0x000002AE98E38550>\n"
     ]
    }
   ],
   "source": [
    "print(Student())"
   ]
  },
  {
   "cell_type": "code",
   "execution_count": 25,
   "id": "fc8547b5-c74a-42b9-a202-a6ad5498158d",
   "metadata": {},
   "outputs": [],
   "source": [
    "class Student:\n",
    "    def __init__(self):\n",
    "        self.phone = 999999\n",
    "    def __str__(self): #will return a string representation of method\n",
    "        return \" This method overloads the print statement of object methof\""
   ]
  },
  {
   "cell_type": "code",
   "execution_count": 26,
   "id": "7cd4668c-952d-4e42-80d6-113bab9a3fa6",
   "metadata": {},
   "outputs": [
    {
     "data": {
      "text/plain": [
       "<__main__.Student at 0x2ae9879fb60>"
      ]
     },
     "execution_count": 26,
     "metadata": {},
     "output_type": "execute_result"
    }
   ],
   "source": [
    "Student()"
   ]
  },
  {
   "cell_type": "code",
   "execution_count": 27,
   "id": "b98d3755-fd43-4a40-b89c-c0bb4b3f5528",
   "metadata": {},
   "outputs": [
    {
     "name": "stdout",
     "output_type": "stream",
     "text": [
      " This method overloads the print statement of object methof\n"
     ]
    }
   ],
   "source": [
    "print(Student())"
   ]
  },
  {
   "cell_type": "code",
   "execution_count": 29,
   "id": "1570810c-2c0c-4231-923e-61dc87bcb297",
   "metadata": {},
   "outputs": [],
   "source": [
    "#another dunder method >> __repr__>> meanning representation\n",
    "#it returns unambigious string representation of the object as is it that can used to recreate the object\n"
   ]
  },
  {
   "cell_type": "code",
   "execution_count": 30,
   "id": "4d2dfde3-5e3d-48d0-849a-7700f79bc19b",
   "metadata": {},
   "outputs": [],
   "source": [
    "class Myclass:\n",
    "    def __init__(self,x):\n",
    "        self.x= x\n",
    "    def __repr__(self):\n",
    "        return f\"Myclass({self.x})\""
   ]
  },
  {
   "cell_type": "code",
   "execution_count": 32,
   "id": "db8741ad-76dd-4bf0-9754-7cb2a1086997",
   "metadata": {},
   "outputs": [],
   "source": [
    "obj = Myclass(\"yash\")"
   ]
  },
  {
   "cell_type": "code",
   "execution_count": 33,
   "id": "19f8e92b-3870-4464-b2fa-56ab62a9b11b",
   "metadata": {},
   "outputs": [
    {
     "name": "stdout",
     "output_type": "stream",
     "text": [
      "Myclass(yash)\n"
     ]
    }
   ],
   "source": [
    "print(repr(obj))"
   ]
  },
  {
   "cell_type": "code",
   "execution_count": 34,
   "id": "f32bd059-bd95-40aa-927d-956afe5c348f",
   "metadata": {},
   "outputs": [
    {
     "data": {
      "text/plain": [
       "True"
      ]
     },
     "execution_count": 34,
     "metadata": {},
     "output_type": "execute_result"
    }
   ],
   "source": [
    "#another dunder method>> __eq__\n",
    "True == True"
   ]
  },
  {
   "cell_type": "code",
   "execution_count": 35,
   "id": "f43e3590-33f8-4d07-aa84-94a4537c6c77",
   "metadata": {},
   "outputs": [
    {
     "data": {
      "text/plain": [
       "True"
      ]
     },
     "execution_count": 35,
     "metadata": {},
     "output_type": "execute_result"
    }
   ],
   "source": [
    "3 == 3"
   ]
  },
  {
   "cell_type": "code",
   "execution_count": 36,
   "id": "67446591-362d-4e18-ac97-9b1fb53fb233",
   "metadata": {},
   "outputs": [
    {
     "data": {
      "text/plain": [
       "True"
      ]
     },
     "execution_count": 36,
     "metadata": {},
     "output_type": "execute_result"
    }
   ],
   "source": [
    "a =3 \n",
    "b =3\n",
    "a.__eq__(b)"
   ]
  },
  {
   "cell_type": "code",
   "execution_count": 37,
   "id": "b2580ca5-3851-4480-9bf0-f04aeeae4b24",
   "metadata": {},
   "outputs": [],
   "source": [
    "#use case of this\n",
    "class Point:\n",
    "    def __init__(self,x,y):\n",
    "        self.x =x\n",
    "        self.y=y\n",
    "    def __eq__(self,other):\n",
    "        return self.x == other.x and self.y==other.y"
   ]
  },
  {
   "cell_type": "code",
   "execution_count": 42,
   "id": "09d9e875-2b40-4057-93cb-ddc965aaa820",
   "metadata": {},
   "outputs": [
    {
     "name": "stdout",
     "output_type": "stream",
     "text": [
      "True\n"
     ]
    }
   ],
   "source": [
    "p1 = Point(1,4)\n",
    "p2 = Point(1,4)\n",
    "print(p1==p2) #comparing both of the object"
   ]
  },
  {
   "cell_type": "code",
   "execution_count": 43,
   "id": "41b5ebed-6454-48df-9b65-26db029bbe31",
   "metadata": {},
   "outputs": [
    {
     "name": "stdout",
     "output_type": "stream",
     "text": [
      "False\n"
     ]
    }
   ],
   "source": [
    "p1 = Point(1,4)\n",
    "p2 = Point(5,4)\n",
    "print(p1==p2)"
   ]
  },
  {
   "cell_type": "code",
   "execution_count": 50,
   "id": "be9b650f-00c9-4af3-9083-b98751d1d037",
   "metadata": {},
   "outputs": [],
   "source": [
    "#__add__\n",
    "#use case of this\n",
    "class Point:\n",
    "    def __init__(self,x,y):\n",
    "        self.x = x\n",
    "        self.y = y\n",
    "    def __add__(self,other):\n",
    "        return Point(self.x + other.x , self.y + other.y)"
   ]
  },
  {
   "cell_type": "code",
   "execution_count": 51,
   "id": "f7c3c62a-5216-40bb-b42f-ef1c0efd5522",
   "metadata": {},
   "outputs": [
    {
     "name": "stdout",
     "output_type": "stream",
     "text": [
      "6 8\n"
     ]
    }
   ],
   "source": [
    "p1 = Point(1,4)\n",
    "p2 = Point(5,4)\n",
    "p3 = p1+p2\n",
    "\n",
    "print(p3.x, p3.y)"
   ]
  },
  {
   "cell_type": "code",
   "execution_count": null,
   "id": "93d51709-034e-4a3b-b193-b06a51edcb2e",
   "metadata": {},
   "outputs": [],
   "source": []
  },
  {
   "cell_type": "code",
   "execution_count": null,
   "id": "a24052b7-06e8-44cb-ba25-8d6763f8f770",
   "metadata": {},
   "outputs": [],
   "source": []
  }
 ],
 "metadata": {
  "kernelspec": {
   "display_name": "Python 3 (ipykernel)",
   "language": "python",
   "name": "python3"
  },
  "language_info": {
   "codemirror_mode": {
    "name": "ipython",
    "version": 3
   },
   "file_extension": ".py",
   "mimetype": "text/x-python",
   "name": "python",
   "nbconvert_exporter": "python",
   "pygments_lexer": "ipython3",
   "version": "3.13.3"
  }
 },
 "nbformat": 4,
 "nbformat_minor": 5
}
