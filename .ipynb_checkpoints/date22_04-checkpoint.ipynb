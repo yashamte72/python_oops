{
 "cells": [
  {
   "cell_type": "code",
   "execution_count": 1,
   "id": "581e1122-98cb-4fd2-819f-2c743fe958b6",
   "metadata": {},
   "outputs": [
    {
     "name": "stdout",
     "output_type": "stream",
     "text": [
      "hello world\n"
     ]
    }
   ],
   "source": [
    "print(\"hello world\")"
   ]
  },
  {
   "cell_type": "code",
   "execution_count": 2,
   "id": "07d38788-29e9-472f-86c5-68603595fb7c",
   "metadata": {},
   "outputs": [
    {
     "data": {
      "text/plain": [
       "8"
      ]
     },
     "execution_count": 2,
     "metadata": {},
     "output_type": "execute_result"
    }
   ],
   "source": [
    "len(\"pwskills\")"
   ]
  },
  {
   "cell_type": "code",
   "execution_count": 3,
   "id": "078ba60a-72fb-44aa-b9c1-d12394425ee4",
   "metadata": {},
   "outputs": [
    {
     "data": {
      "text/plain": [
       "int"
      ]
     },
     "execution_count": 3,
     "metadata": {},
     "output_type": "execute_result"
    }
   ],
   "source": [
    "type(5)\n"
   ]
  },
  {
   "cell_type": "code",
   "execution_count": 4,
   "id": "c640579e-6466-4e90-af24-4c403ef4e04d",
   "metadata": {},
   "outputs": [
    {
     "data": {
      "text/plain": [
       "float"
      ]
     },
     "execution_count": 4,
     "metadata": {},
     "output_type": "execute_result"
    }
   ],
   "source": [
    "type(6.6)"
   ]
  },
  {
   "cell_type": "code",
   "execution_count": 5,
   "id": "8b3757a6-7b62-4d10-aa74-2d1a4eefcee1",
   "metadata": {},
   "outputs": [],
   "source": [
    "#function print len type >>these are inbuilt functions\n",
    "# also ceil and floor funtion"
   ]
  },
  {
   "cell_type": "code",
   "execution_count": 6,
   "id": "5156da71-00a8-4c05-8631-b15ccde054f0",
   "metadata": {},
   "outputs": [],
   "source": [
    "import math as m "
   ]
  },
  {
   "cell_type": "code",
   "execution_count": 8,
   "id": "d26f2c5e-359a-410c-aafd-e6b1bb7ceb39",
   "metadata": {},
   "outputs": [
    {
     "data": {
      "text/plain": [
       "6"
      ]
     },
     "execution_count": 8,
     "metadata": {},
     "output_type": "execute_result"
    }
   ],
   "source": [
    "m.ceil(5.6)"
   ]
  },
  {
   "cell_type": "code",
   "execution_count": 9,
   "id": "528ac7f2-5d4e-4924-a3bf-d07adeb5dd60",
   "metadata": {},
   "outputs": [
    {
     "data": {
      "text/plain": [
       "5"
      ]
     },
     "execution_count": 9,
     "metadata": {},
     "output_type": "execute_result"
    }
   ],
   "source": [
    "m.floor(5.6)"
   ]
  },
  {
   "cell_type": "code",
   "execution_count": 10,
   "id": "90e98ccd-90f3-4e5a-b6dc-f643e0284766",
   "metadata": {},
   "outputs": [],
   "source": [
    "#functions > inbuilt functions\n",
    "#user Define Functions"
   ]
  },
  {
   "cell_type": "code",
   "execution_count": null,
   "id": "e30dec0f-0756-401c-9304-710895ee1970",
   "metadata": {},
   "outputs": [],
   "source": []
  }
 ],
 "metadata": {
  "kernelspec": {
   "display_name": "Python 3 (ipykernel)",
   "language": "python",
   "name": "python3"
  },
  "language_info": {
   "codemirror_mode": {
    "name": "ipython",
    "version": 3
   },
   "file_extension": ".py",
   "mimetype": "text/x-python",
   "name": "python",
   "nbconvert_exporter": "python",
   "pygments_lexer": "ipython3",
   "version": "3.13.2"
  }
 },
 "nbformat": 4,
 "nbformat_minor": 5
}
