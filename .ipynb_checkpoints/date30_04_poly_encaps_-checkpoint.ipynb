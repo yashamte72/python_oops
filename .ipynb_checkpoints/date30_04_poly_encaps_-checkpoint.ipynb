{
 "cells": [
  {
   "cell_type": "code",
   "execution_count": 1,
   "id": "5510eee9-973f-4023-9217-93a398525788",
   "metadata": {},
   "outputs": [],
   "source": [
    "#polymorphism >> poly means many and morphsm means forms/states\n",
    "#refers to an object taking several forms depending on the method "
   ]
  },
  {
   "cell_type": "code",
   "execution_count": 2,
   "id": "7b8b22fd-248a-4f12-aa7f-20ef050d5500",
   "metadata": {},
   "outputs": [
    {
     "data": {
      "text/plain": [
       "4"
      ]
     },
     "execution_count": 2,
     "metadata": {},
     "output_type": "execute_result"
    }
   ],
   "source": [
    "len(\"YAHS\")"
   ]
  },
  {
   "cell_type": "code",
   "execution_count": 4,
   "id": "307d407c-3b35-4de0-970f-5c5f93831ace",
   "metadata": {},
   "outputs": [
    {
     "data": {
      "text/plain": [
       "5"
      ]
     },
     "execution_count": 4,
     "metadata": {},
     "output_type": "execute_result"
    }
   ],
   "source": [
    "len([1,2,3,1,3])"
   ]
  },
  {
   "cell_type": "code",
   "execution_count": 5,
   "id": "cbe83118-df93-4402-b70a-1341bd930190",
   "metadata": {},
   "outputs": [],
   "source": [
    "def fun(a,b):\n",
    "    return a+b"
   ]
  },
  {
   "cell_type": "code",
   "execution_count": 10,
   "id": "4a5f747d-c7ca-43a2-95d3-3949df01f278",
   "metadata": {},
   "outputs": [
    {
     "data": {
      "text/plain": [
       "5"
      ]
     },
     "execution_count": 10,
     "metadata": {},
     "output_type": "execute_result"
    }
   ],
   "source": [
    "fun(3,2) #adding two numbers"
   ]
  },
  {
   "cell_type": "code",
   "execution_count": 11,
   "id": "dd53284c-d603-4f1a-8c06-30f3e715d0ff",
   "metadata": {},
   "outputs": [
    {
     "data": {
      "text/plain": [
       "'pwskills'"
      ]
     },
     "execution_count": 11,
     "metadata": {},
     "output_type": "execute_result"
    }
   ],
   "source": [
    "fun(\"pw\",\"skills\") #combining two strins"
   ]
  },
  {
   "cell_type": "code",
   "execution_count": 12,
   "id": "f1b59b7b-1e6d-4dcd-b5d2-bb22a6877117",
   "metadata": {},
   "outputs": [
    {
     "data": {
      "text/plain": [
       "[1, 2, 3, 5, 4, 6]"
      ]
     },
     "execution_count": 12,
     "metadata": {},
     "output_type": "execute_result"
    }
   ],
   "source": [
    "fun([1,2,3],[5,4,6]) #the list concatinations"
   ]
  },
  {
   "cell_type": "code",
   "execution_count": 13,
   "id": "9409bab3-9205-450c-8111-1d77bb60810f",
   "metadata": {},
   "outputs": [],
   "source": [
    "#observation >> fun is taking defferent forms with respect to diffrent data passed "
   ]
  },
  {
   "cell_type": "code",
   "execution_count": 22,
   "id": "7e48bc7a-0181-487c-82f2-0d75f383ce82",
   "metadata": {},
   "outputs": [],
   "source": [
    "class tea:\n",
    "    def lec_info(self):\n",
    "        print(\"this is lec info with teacher perspective\")\n",
    "\n",
    "class stu:\n",
    "    def lec_info(self):\n",
    "        print(\"this is lec info with student perspective\")"
   ]
  },
  {
   "cell_type": "code",
   "execution_count": 23,
   "id": "9499eb09-2b5f-4d91-b496-2923f2f4153e",
   "metadata": {},
   "outputs": [],
   "source": [
    "obj1 = tea()\n",
    "obj2 = stu()\n",
    "class_obj = [obj1, obj2]"
   ]
  },
  {
   "cell_type": "code",
   "execution_count": 26,
   "id": "44efe6c2-7aa6-4d47-93d0-594494d7f1e9",
   "metadata": {},
   "outputs": [],
   "source": [
    "def parcer(class_obj):\n",
    "    for i in class_obj:\n",
    "        i.lec_info() #at that point, lec_info is taking two forms wrt teacher and student"
   ]
  },
  {
   "cell_type": "code",
   "execution_count": 27,
   "id": "e1581532-0d0c-48bb-a5ac-12c61a9dc695",
   "metadata": {},
   "outputs": [
    {
     "name": "stdout",
     "output_type": "stream",
     "text": [
      "this is lec info with teacher perspective\n",
      "this is lec info with student perspective\n"
     ]
    }
   ],
   "source": [
    "parcer(class_obj)"
   ]
  },
  {
   "cell_type": "code",
   "execution_count": null,
   "id": "230271a5-a25f-41f4-a573-3355abad9a2f",
   "metadata": {},
   "outputs": [],
   "source": []
  },
  {
   "cell_type": "code",
   "execution_count": null,
   "id": "99fface1-1f14-49b2-9561-cc109b5fd7b8",
   "metadata": {},
   "outputs": [],
   "source": [
    " "
   ]
  }
 ],
 "metadata": {
  "kernelspec": {
   "display_name": "Python 3 (ipykernel)",
   "language": "python",
   "name": "python3"
  },
  "language_info": {
   "codemirror_mode": {
    "name": "ipython",
    "version": 3
   },
   "file_extension": ".py",
   "mimetype": "text/x-python",
   "name": "python",
   "nbconvert_exporter": "python",
   "pygments_lexer": "ipython3",
   "version": "3.13.3"
  }
 },
 "nbformat": 4,
 "nbformat_minor": 5
}
