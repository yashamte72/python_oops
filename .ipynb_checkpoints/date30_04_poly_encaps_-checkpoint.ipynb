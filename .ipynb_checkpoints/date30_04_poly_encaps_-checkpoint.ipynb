{
 "cells": [
  {
   "cell_type": "code",
   "execution_count": 1,
   "id": "5510eee9-973f-4023-9217-93a398525788",
   "metadata": {},
   "outputs": [],
   "source": [
    "#polymorphism >> poly means many and morphsm means forms/states\n",
    "#refers to an object taking several forms depending on the method "
   ]
  },
  {
   "cell_type": "code",
   "execution_count": 2,
   "id": "7b8b22fd-248a-4f12-aa7f-20ef050d5500",
   "metadata": {},
   "outputs": [
    {
     "data": {
      "text/plain": [
       "4"
      ]
     },
     "execution_count": 2,
     "metadata": {},
     "output_type": "execute_result"
    }
   ],
   "source": [
    "len(\"YAHS\")"
   ]
  },
  {
   "cell_type": "code",
   "execution_count": 4,
   "id": "307d407c-3b35-4de0-970f-5c5f93831ace",
   "metadata": {},
   "outputs": [
    {
     "data": {
      "text/plain": [
       "5"
      ]
     },
     "execution_count": 4,
     "metadata": {},
     "output_type": "execute_result"
    }
   ],
   "source": [
    "len([1,2,3,1,3])"
   ]
  },
  {
   "cell_type": "code",
   "execution_count": 5,
   "id": "cbe83118-df93-4402-b70a-1341bd930190",
   "metadata": {},
   "outputs": [],
   "source": [
    "def fun(a,b):\n",
    "    return a+b"
   ]
  },
  {
   "cell_type": "code",
   "execution_count": 10,
   "id": "4a5f747d-c7ca-43a2-95d3-3949df01f278",
   "metadata": {},
   "outputs": [
    {
     "data": {
      "text/plain": [
       "5"
      ]
     },
     "execution_count": 10,
     "metadata": {},
     "output_type": "execute_result"
    }
   ],
   "source": [
    "fun(3,2) #adding two numbers"
   ]
  },
  {
   "cell_type": "code",
   "execution_count": 11,
   "id": "dd53284c-d603-4f1a-8c06-30f3e715d0ff",
   "metadata": {},
   "outputs": [
    {
     "data": {
      "text/plain": [
       "'pwskills'"
      ]
     },
     "execution_count": 11,
     "metadata": {},
     "output_type": "execute_result"
    }
   ],
   "source": [
    "fun(\"pw\",\"skills\") #combining two strins"
   ]
  },
  {
   "cell_type": "code",
   "execution_count": 12,
   "id": "f1b59b7b-1e6d-4dcd-b5d2-bb22a6877117",
   "metadata": {},
   "outputs": [
    {
     "data": {
      "text/plain": [
       "[1, 2, 3, 5, 4, 6]"
      ]
     },
     "execution_count": 12,
     "metadata": {},
     "output_type": "execute_result"
    }
   ],
   "source": [
    "fun([1,2,3],[5,4,6]) #the list concatinations"
   ]
  },
  {
   "cell_type": "code",
   "execution_count": 13,
   "id": "9409bab3-9205-450c-8111-1d77bb60810f",
   "metadata": {},
   "outputs": [],
   "source": [
    "#observation >> fun is taking defferent forms with respect to diffrent data passed "
   ]
  },
  {
   "cell_type": "code",
   "execution_count": 22,
   "id": "7e48bc7a-0181-487c-82f2-0d75f383ce82",
   "metadata": {},
   "outputs": [],
   "source": [
    "class tea:\n",
    "    def lec_info(self):\n",
    "        print(\"this is lec info with teacher perspective\")\n",
    "\n",
    "class stu:\n",
    "    def lec_info(self):\n",
    "        print(\"this is lec info with student perspective\")"
   ]
  },
  {
   "cell_type": "code",
   "execution_count": 23,
   "id": "9499eb09-2b5f-4d91-b496-2923f2f4153e",
   "metadata": {},
   "outputs": [],
   "source": [
    "obj1 = tea()\n",
    "obj2 = stu()\n",
    "class_obj = [obj1, obj2]"
   ]
  },
  {
   "cell_type": "code",
   "execution_count": 26,
   "id": "44efe6c2-7aa6-4d47-93d0-594494d7f1e9",
   "metadata": {},
   "outputs": [],
   "source": [
    "def parcer(class_obj):\n",
    "    for i in class_obj:\n",
    "        i.lec_info() #at that point, lec_info is taking two forms wrt teacher and student"
   ]
  },
  {
   "cell_type": "code",
   "execution_count": 27,
   "id": "e1581532-0d0c-48bb-a5ac-12c61a9dc695",
   "metadata": {},
   "outputs": [
    {
     "name": "stdout",
     "output_type": "stream",
     "text": [
      "this is lec info with teacher perspective\n",
      "this is lec info with student perspective\n"
     ]
    }
   ],
   "source": [
    "parcer(class_obj)"
   ]
  },
  {
   "cell_type": "code",
   "execution_count": 40,
   "id": "230271a5-a25f-41f4-a573-3355abad9a2f",
   "metadata": {},
   "outputs": [],
   "source": [
    "#polymorphism in opps takes places in two ways\n",
    "#method overloading >> python doesn't support method overloading \n",
    "#method overloading >> happens in the same class"
   ]
  },
  {
   "cell_type": "code",
   "execution_count": 41,
   "id": "99fface1-1f14-49b2-9561-cc109b5fd7b8",
   "metadata": {},
   "outputs": [],
   "source": [
    "#method overloading "
   ]
  },
  {
   "cell_type": "code",
   "execution_count": 42,
   "id": "41d8eb9b-0ea4-40e4-9b2c-4e8c4ffc6886",
   "metadata": {},
   "outputs": [],
   "source": [
    "class student:\n",
    "    def student(self):\n",
    "        print(\"welcome to pwskills class\")\n",
    "    def student(self, name =\" \"):\n",
    "        print(\"welcome to pwskills class\", name)\n",
    "    def student(self, name = \" \",course = \" \"):\n",
    "        print(\"welcome to pwskills class\", name , \"your selected course is \",course) \n",
    "        "
   ]
  },
  {
   "cell_type": "code",
   "execution_count": 43,
   "id": "938e5a1f-f53f-4627-92ac-1c32dc010e30",
   "metadata": {},
   "outputs": [],
   "source": [
    "stud = student()"
   ]
  },
  {
   "cell_type": "code",
   "execution_count": 44,
   "id": "2732026b-c526-45a5-a267-23a02c297bdd",
   "metadata": {},
   "outputs": [
    {
     "name": "stdout",
     "output_type": "stream",
     "text": [
      "welcome to pwskills class   your selected course is   \n"
     ]
    }
   ],
   "source": [
    "stud.student()"
   ]
  },
  {
   "cell_type": "code",
   "execution_count": 45,
   "id": "d22d8e8d-9b2e-4eab-867e-433eea026f76",
   "metadata": {},
   "outputs": [
    {
     "name": "stdout",
     "output_type": "stream",
     "text": [
      "welcome to pwskills class yash your selected course is   \n"
     ]
    }
   ],
   "source": [
    "stud.student(\"yash\")"
   ]
  },
  {
   "cell_type": "code",
   "execution_count": 46,
   "id": "18eb3c5e-144e-4fea-8347-19cc7df9145a",
   "metadata": {},
   "outputs": [
    {
     "name": "stdout",
     "output_type": "stream",
     "text": [
      "welcome to pwskills class yash your selected course is  ds\n"
     ]
    }
   ],
   "source": [
    "stud.student(\"yash\",\"ds\")"
   ]
  },
  {
   "cell_type": "code",
   "execution_count": null,
   "id": "0f173286-b21e-42bd-979e-2b126665ac4a",
   "metadata": {},
   "outputs": [],
   "source": [
    "class student:\n",
    "    def student(self, name = \" \",course = \" \"):\n",
    "        print(\"welcome to pwskills class\", name , \"your selected course is \",course) \n",
    "        "
   ]
  },
  {
   "cell_type": "code",
   "execution_count": 47,
   "id": "a3024fb8-1240-4903-8019-f46fd0e47cd5",
   "metadata": {},
   "outputs": [],
   "source": [
    "#method overriding >> method in parent class and child class with same signature, child class method will be excuted"
   ]
  },
  {
   "cell_type": "code",
   "execution_count": 52,
   "id": "1135e0aa-8133-47b1-83ad-1909063d109e",
   "metadata": {},
   "outputs": [],
   "source": [
    "class Animal:\n",
    "    def sound(self):\n",
    "        print(\"animal sound\")\n",
    "class Cat(Animal):\n",
    "    def sound(self):\n",
    "        print(\"can meow\")"
   ]
  },
  {
   "cell_type": "code",
   "execution_count": 53,
   "id": "f40ded02-598d-4cb4-b44a-f7b56b68b967",
   "metadata": {},
   "outputs": [],
   "source": [
    "objj = Animal()"
   ]
  },
  {
   "cell_type": "code",
   "execution_count": 54,
   "id": "fd954dc8-526c-48ff-9aa4-8d51381babc6",
   "metadata": {},
   "outputs": [
    {
     "name": "stdout",
     "output_type": "stream",
     "text": [
      "animal sound\n"
     ]
    }
   ],
   "source": [
    "objj.sound()"
   ]
  },
  {
   "cell_type": "code",
   "execution_count": 55,
   "id": "87b80ae6-4519-4494-aac4-3e292386068b",
   "metadata": {},
   "outputs": [],
   "source": [
    "obj22 = Cat()"
   ]
  },
  {
   "cell_type": "code",
   "execution_count": 56,
   "id": "675788f2-e0e4-47d1-abdf-ce7f7002f90c",
   "metadata": {},
   "outputs": [
    {
     "name": "stdout",
     "output_type": "stream",
     "text": [
      "can meow\n"
     ]
    }
   ],
   "source": [
    "obj22.sound()"
   ]
  },
  {
   "cell_type": "code",
   "execution_count": 57,
   "id": "02fd9cbe-d709-45a5-b2be-b1f0d5f51c54",
   "metadata": {},
   "outputs": [],
   "source": [
    "#encapsulation >> means hiding something \n",
    "#bundling of fata and method of a class \n",
    "#access modifers >> public , protected , privet"
   ]
  },
  {
   "cell_type": "code",
   "execution_count": 58,
   "id": "77d07ba7-cd03-4a5b-9e2a-b25f0669eeaf",
   "metadata": {},
   "outputs": [],
   "source": [
    "class Student:\n",
    "    def __init__(self,name,degree):\n",
    "        self.name = name\n",
    "        self.degree = degree"
   ]
  },
  {
   "cell_type": "code",
   "execution_count": 59,
   "id": "58490b5f-9cf0-4929-9326-762e9cf6fe78",
   "metadata": {},
   "outputs": [],
   "source": [
    "stud1 = Student(\"yash\", \"cs\")\n",
    "stud2 = Student(\"sai\" , \"cc\")"
   ]
  },
  {
   "cell_type": "code",
   "execution_count": 61,
   "id": "c1947421-2834-4c8f-a3e3-55155ff49a11",
   "metadata": {},
   "outputs": [
    {
     "data": {
      "text/plain": [
       "'cc'"
      ]
     },
     "execution_count": 61,
     "metadata": {},
     "output_type": "execute_result"
    }
   ],
   "source": [
    "stud2.degree"
   ]
  },
  {
   "cell_type": "code",
   "execution_count": null,
   "id": "8935d3d1-ba12-491c-830c-75408182876d",
   "metadata": {},
   "outputs": [],
   "source": [
    "stud1.\n"
   ]
  },
  {
   "cell_type": "code",
   "execution_count": null,
   "id": "a259b08c-9237-4ebb-a91b-810d6209a486",
   "metadata": {},
   "outputs": [],
   "source": []
  },
  {
   "cell_type": "code",
   "execution_count": null,
   "id": "63b4f6fc-cc9d-48b7-94db-5f34a0f990f8",
   "metadata": {},
   "outputs": [],
   "source": []
  }
 ],
 "metadata": {
  "kernelspec": {
   "display_name": "Python 3 (ipykernel)",
   "language": "python",
   "name": "python3"
  },
  "language_info": {
   "codemirror_mode": {
    "name": "ipython",
    "version": 3
   },
   "file_extension": ".py",
   "mimetype": "text/x-python",
   "name": "python",
   "nbconvert_exporter": "python",
   "pygments_lexer": "ipython3",
   "version": "3.13.3"
  }
 },
 "nbformat": 4,
 "nbformat_minor": 5
}
