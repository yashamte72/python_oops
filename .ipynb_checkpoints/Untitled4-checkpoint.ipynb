{
 "cells": [
  {
   "cell_type": "code",
   "execution_count": null,
   "id": "53063c66-def2-42e0-a1e2-e1b9b4c38936",
   "metadata": {},
   "outputs": [],
   "source": [
    "class Solution(object):\n",
    "    def maxProfit(self, prices):\n",
    "        \"\"\"\n",
    "        :type prices: List[int]\n",
    "        :rtype: int\n",
    "        \"\"\"\n",
    "        l , r = 0 ,1 # l for buy & r for sell\n",
    "        xp = 0 #finding max profit\n",
    "\n",
    "        while(r < len(prices)):\n",
    "            if prices[l] < prices[r]:\n",
    "                profit = prices[r] - prices[l]\n",
    "                xp = max(xp , profit)\n",
    "            else:\n",
    "                l = r\n",
    "            r += 1\n",
    "        return xp #the max profit"
   ]
  }
 ],
 "metadata": {
  "kernelspec": {
   "display_name": "Python 3 (ipykernel)",
   "language": "python",
   "name": "python3"
  },
  "language_info": {
   "codemirror_mode": {
    "name": "ipython",
    "version": 3
   },
   "file_extension": ".py",
   "mimetype": "text/x-python",
   "name": "python",
   "nbconvert_exporter": "python",
   "pygments_lexer": "ipython3",
   "version": "3.13.3"
  }
 },
 "nbformat": 4,
 "nbformat_minor": 5
}
