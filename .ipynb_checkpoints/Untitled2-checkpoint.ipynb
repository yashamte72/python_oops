{
 "cells": [
  {
   "cell_type": "code",
   "execution_count": null,
   "id": "33bbdec2-f4f1-471e-a6fc-0b41e906acab",
   "metadata": {},
   "outputs": [],
   "source": []
  }
 ],
 "metadata": {
  "kernelspec": {
   "display_name": "",
   "name": ""
  },
  "language_info": {
   "name": ""
  }
 },
 "nbformat": 4,
 "nbformat_minor": 5
}
