{
 "cells": [
  {
   "cell_type": "code",
   "execution_count": null,
   "id": "581e1122-98cb-4fd2-819f-2c743fe958b6",
   "metadata": {},
   "outputs": [],
   "source": []
  }
 ],
 "metadata": {
  "kernelspec": {
   "display_name": "",
   "name": ""
  },
  "language_info": {
   "name": ""
  }
 },
 "nbformat": 4,
 "nbformat_minor": 5
}
