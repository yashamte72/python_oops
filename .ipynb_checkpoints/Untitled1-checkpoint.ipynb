{
 "cells": [
  {
   "cell_type": "code",
   "execution_count": null,
   "id": "4d1d0188-e9fb-4c9f-8201-7f5acbe9fdb0",
   "metadata": {},
   "outputs": [],
   "source": []
  }
 ],
 "metadata": {
  "kernelspec": {
   "display_name": "",
   "name": ""
  },
  "language_info": {
   "name": ""
  }
 },
 "nbformat": 4,
 "nbformat_minor": 5
}
