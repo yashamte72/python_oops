{
 "cells": [
  {
   "cell_type": "code",
   "execution_count": 2,
   "id": "9171b597-220f-4cfb-99cc-d7373deed7eb",
   "metadata": {},
   "outputs": [],
   "source": [
    "class Test:\n",
    "    def pythoncodeingTest(self, nums: list[int])-> bool:\n",
    "        hashset = []\n",
    "        for i in range(nums):\n",
    "            if i in hashset:\n",
    "                return True\n",
    "            hashset.add(nums[i])\n",
    "        return False\n",
    "        "
   ]
  },
  {
   "cell_type": "code",
   "execution_count": 3,
   "id": "2ef60acf-18e1-4469-b8c0-42fca77cfcaa",
   "metadata": {},
   "outputs": [],
   "source": [
    "nums = [1,2,4,5]"
   ]
  },
  {
   "cell_type": "code",
   "execution_count": 4,
   "id": "4721373e-66c0-4fb0-a92f-a047a862c7e1",
   "metadata": {},
   "outputs": [
    {
     "ename": "NameError",
     "evalue": "name 'pythoncodeingTest' is not defined",
     "output_type": "error",
     "traceback": [
      "\u001b[1;31m---------------------------------------------------------------------------\u001b[0m",
      "\u001b[1;31mNameError\u001b[0m                                 Traceback (most recent call last)",
      "Cell \u001b[1;32mIn[4], line 1\u001b[0m\n\u001b[1;32m----> 1\u001b[0m \u001b[43mpythoncodeingTest\u001b[49m(nums)\n",
      "\u001b[1;31mNameError\u001b[0m: name 'pythoncodeingTest' is not defined"
     ]
    }
   ],
   "source": [
    "pythoncodeingTest(nums)"
   ]
  },
  {
   "cell_type": "code",
   "execution_count": null,
   "id": "63080183-b94c-4b87-aaa0-699e93fe6b8d",
   "metadata": {},
   "outputs": [],
   "source": []
  }
 ],
 "metadata": {
  "kernelspec": {
   "display_name": "Python 3 (ipykernel)",
   "language": "python",
   "name": "python3"
  },
  "language_info": {
   "codemirror_mode": {
    "name": "ipython",
    "version": 3
   },
   "file_extension": ".py",
   "mimetype": "text/x-python",
   "name": "python",
   "nbconvert_exporter": "python",
   "pygments_lexer": "ipython3",
   "version": "3.13.3"
  }
 },
 "nbformat": 4,
 "nbformat_minor": 5
}
