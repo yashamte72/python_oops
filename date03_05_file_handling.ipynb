{
 "cells": [
  {
   "cell_type": "code",
   "execution_count": 2,
   "id": "4087667f-622a-4645-8e83-13cf63db7462",
   "metadata": {},
   "outputs": [],
   "source": [
    "#mode\n",
    "#r >> read mode\n",
    "#w >> open for writing >> it will deleted all the files written earlier\n",
    "#a >>  append mode\n",
    "#r+ >> both reading and writing"
   ]
  },
  {
   "cell_type": "code",
   "execution_count": 3,
   "id": "f338f642-88e6-4a16-8293-5dbb2454b3eb",
   "metadata": {},
   "outputs": [
    {
     "ename": "NameError",
     "evalue": "name 'opne' is not defined",
     "output_type": "error",
     "traceback": [
      "\u001b[1;31m---------------------------------------------------------------------------\u001b[0m",
      "\u001b[1;31mNameError\u001b[0m                                 Traceback (most recent call last)",
      "Cell \u001b[1;32mIn[3], line 1\u001b[0m\n\u001b[1;32m----> 1\u001b[0m \u001b[43mopne\u001b[49m(\u001b[38;5;124m\"\u001b[39m\u001b[38;5;124mfiles.txt\u001b[39m\u001b[38;5;124m\"\u001b[39m,\u001b[38;5;124m'\u001b[39m\u001b[38;5;124mr\u001b[39m\u001b[38;5;124m'\u001b[39m) \u001b[38;5;66;03m#if therer is no file and we try to open it >> it will thorw an error\u001b[39;00m\n",
      "\u001b[1;31mNameError\u001b[0m: name 'opne' is not defined"
     ]
    }
   ],
   "source": [
    "opne(\"files.txt\",'r') #if therer is no file and we try to open it >> it will thorw an error\n"
   ]
  },
  {
   "cell_type": "code",
   "execution_count": 4,
   "id": "034435b9-aa33-43d6-a20d-312e4eb856d8",
   "metadata": {},
   "outputs": [
    {
     "data": {
      "text/plain": [
       "<_io.TextIOWrapper name='files.txt' mode='w' encoding='cp1252'>"
      ]
     },
     "execution_count": 4,
     "metadata": {},
     "output_type": "execute_result"
    }
   ],
   "source": [
    "open(\"files.txt\",'w') #if file not therer it will create file and open it for writing"
   ]
  },
  {
   "cell_type": "code",
   "execution_count": null,
   "id": "bea87209-486e-44b4-ba83-17d1a9fe3fb1",
   "metadata": {},
   "outputs": [],
   "source": []
  },
  {
   "cell_type": "code",
   "execution_count": null,
   "id": "4e630939-affb-41ae-91d5-5b7192ed7df8",
   "metadata": {},
   "outputs": [],
   "source": []
  },
  {
   "cell_type": "code",
   "execution_count": null,
   "id": "5a932574-c8a9-4281-9ea0-f21ed8012a97",
   "metadata": {},
   "outputs": [],
   "source": []
  },
  {
   "cell_type": "code",
   "execution_count": null,
   "id": "81ef2279-6300-4bb5-b98d-ced6a07e733c",
   "metadata": {},
   "outputs": [],
   "source": []
  },
  {
   "cell_type": "code",
   "execution_count": null,
   "id": "a21cdc3b-bb1f-43e9-92a7-583012a63c64",
   "metadata": {},
   "outputs": [],
   "source": []
  }
 ],
 "metadata": {
  "kernelspec": {
   "display_name": "Python 3 (ipykernel)",
   "language": "python",
   "name": "python3"
  },
  "language_info": {
   "codemirror_mode": {
    "name": "ipython",
    "version": 3
   },
   "file_extension": ".py",
   "mimetype": "text/x-python",
   "name": "python",
   "nbconvert_exporter": "python",
   "pygments_lexer": "ipython3",
   "version": "3.13.3"
  }
 },
 "nbformat": 4,
 "nbformat_minor": 5
}
