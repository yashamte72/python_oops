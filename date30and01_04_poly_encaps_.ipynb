{
 "cells": [
  {
   "cell_type": "code",
   "execution_count": 1,
   "id": "5510eee9-973f-4023-9217-93a398525788",
   "metadata": {},
   "outputs": [],
   "source": [
    "#polymorphism >> poly means many and morphsm means forms/states\n",
    "#refers to an object taking several forms depending on the method "
   ]
  },
  {
   "cell_type": "code",
   "execution_count": 1,
   "id": "7b8b22fd-248a-4f12-aa7f-20ef050d5500",
   "metadata": {},
   "outputs": [
    {
     "data": {
      "text/plain": [
       "4"
      ]
     },
     "execution_count": 1,
     "metadata": {},
     "output_type": "execute_result"
    }
   ],
   "source": [
    "len(\"YASH\")"
   ]
  },
  {
   "cell_type": "code",
   "execution_count": 2,
   "id": "307d407c-3b35-4de0-970f-5c5f93831ace",
   "metadata": {},
   "outputs": [
    {
     "data": {
      "text/plain": [
       "5"
      ]
     },
     "execution_count": 2,
     "metadata": {},
     "output_type": "execute_result"
    }
   ],
   "source": [
    "len([1,2,3,1,3])"
   ]
  },
  {
   "cell_type": "code",
   "execution_count": 3,
   "id": "cbe83118-df93-4402-b70a-1341bd930190",
   "metadata": {},
   "outputs": [],
   "source": [
    "def fun(a,b):\n",
    "    return a+b"
   ]
  },
  {
   "cell_type": "code",
   "execution_count": 4,
   "id": "4a5f747d-c7ca-43a2-95d3-3949df01f278",
   "metadata": {},
   "outputs": [
    {
     "data": {
      "text/plain": [
       "5"
      ]
     },
     "execution_count": 4,
     "metadata": {},
     "output_type": "execute_result"
    }
   ],
   "source": [
    "fun(3,2) #adding two numbers"
   ]
  },
  {
   "cell_type": "code",
   "execution_count": 5,
   "id": "dd53284c-d603-4f1a-8c06-30f3e715d0ff",
   "metadata": {},
   "outputs": [
    {
     "data": {
      "text/plain": [
       "'pwskills'"
      ]
     },
     "execution_count": 5,
     "metadata": {},
     "output_type": "execute_result"
    }
   ],
   "source": [
    "fun(\"pw\",\"skills\") #combining two strins"
   ]
  },
  {
   "cell_type": "code",
   "execution_count": 6,
   "id": "f1b59b7b-1e6d-4dcd-b5d2-bb22a6877117",
   "metadata": {},
   "outputs": [
    {
     "data": {
      "text/plain": [
       "[1, 2, 3, 5, 4, 6]"
      ]
     },
     "execution_count": 6,
     "metadata": {},
     "output_type": "execute_result"
    }
   ],
   "source": [
    "fun([1,2,3],[5,4,6]) #the list concatinations"
   ]
  },
  {
   "cell_type": "code",
   "execution_count": 7,
   "id": "9409bab3-9205-450c-8111-1d77bb60810f",
   "metadata": {},
   "outputs": [],
   "source": [
    "#observation >> fun is taking defferent forms with respect to diffrent data passed "
   ]
  },
  {
   "cell_type": "code",
   "execution_count": 8,
   "id": "7e48bc7a-0181-487c-82f2-0d75f383ce82",
   "metadata": {},
   "outputs": [],
   "source": [
    "class tea:\n",
    "    def lec_info(self):\n",
    "        print(\"this is lec info with teacher perspective\")\n",
    "\n",
    "class stu:\n",
    "    def lec_info(self):\n",
    "        print(\"this is lec info with student perspective\")"
   ]
  },
  {
   "cell_type": "code",
   "execution_count": 9,
   "id": "9499eb09-2b5f-4d91-b496-2923f2f4153e",
   "metadata": {},
   "outputs": [],
   "source": [
    "obj1 = tea()\n",
    "obj2 = stu()\n",
    "class_obj = [obj1, obj2]"
   ]
  },
  {
   "cell_type": "code",
   "execution_count": 10,
   "id": "44efe6c2-7aa6-4d47-93d0-594494d7f1e9",
   "metadata": {},
   "outputs": [],
   "source": [
    "def parcer(class_obj):\n",
    "    for i in class_obj:\n",
    "        i.lec_info() #at that point, lec_info is taking two forms wrt teacher and student"
   ]
  },
  {
   "cell_type": "code",
   "execution_count": 11,
   "id": "e1581532-0d0c-48bb-a5ac-12c61a9dc695",
   "metadata": {},
   "outputs": [
    {
     "name": "stdout",
     "output_type": "stream",
     "text": [
      "this is lec info with teacher perspective\n",
      "this is lec info with student perspective\n"
     ]
    }
   ],
   "source": [
    "parcer(class_obj)"
   ]
  },
  {
   "cell_type": "code",
   "execution_count": 12,
   "id": "230271a5-a25f-41f4-a573-3355abad9a2f",
   "metadata": {},
   "outputs": [],
   "source": [
    "#polymorphism in opps takes places in two ways\n",
    "#method overloading >> python doesn't support method overloading \n",
    "#method overloading >> happens in the same class"
   ]
  },
  {
   "cell_type": "code",
   "execution_count": 13,
   "id": "99fface1-1f14-49b2-9561-cc109b5fd7b8",
   "metadata": {},
   "outputs": [],
   "source": [
    "#method overloading "
   ]
  },
  {
   "cell_type": "code",
   "execution_count": 14,
   "id": "41d8eb9b-0ea4-40e4-9b2c-4e8c4ffc6886",
   "metadata": {},
   "outputs": [],
   "source": [
    "class student:\n",
    "    def student(self):\n",
    "        print(\"welcome to pwskills class\")\n",
    "    def student(self, name =\" \"):\n",
    "        print(\"welcome to pwskills class\", name)\n",
    "    def student(self, name = \" \",course = \" \"):\n",
    "        print(\"welcome to pwskills class\", name , \"your selected course is \",course) \n",
    "        "
   ]
  },
  {
   "cell_type": "code",
   "execution_count": 15,
   "id": "938e5a1f-f53f-4627-92ac-1c32dc010e30",
   "metadata": {},
   "outputs": [],
   "source": [
    "stud = student()"
   ]
  },
  {
   "cell_type": "code",
   "execution_count": 16,
   "id": "2732026b-c526-45a5-a267-23a02c297bdd",
   "metadata": {},
   "outputs": [
    {
     "name": "stdout",
     "output_type": "stream",
     "text": [
      "welcome to pwskills class   your selected course is   \n"
     ]
    }
   ],
   "source": [
    "stud.student()"
   ]
  },
  {
   "cell_type": "code",
   "execution_count": 17,
   "id": "d22d8e8d-9b2e-4eab-867e-433eea026f76",
   "metadata": {},
   "outputs": [
    {
     "name": "stdout",
     "output_type": "stream",
     "text": [
      "welcome to pwskills class yash your selected course is   \n"
     ]
    }
   ],
   "source": [
    "stud.student(\"yash\")"
   ]
  },
  {
   "cell_type": "code",
   "execution_count": 18,
   "id": "18eb3c5e-144e-4fea-8347-19cc7df9145a",
   "metadata": {},
   "outputs": [
    {
     "name": "stdout",
     "output_type": "stream",
     "text": [
      "welcome to pwskills class yash your selected course is  ds\n"
     ]
    }
   ],
   "source": [
    "stud.student(\"yash\",\"ds\")"
   ]
  },
  {
   "cell_type": "code",
   "execution_count": 19,
   "id": "0f173286-b21e-42bd-979e-2b126665ac4a",
   "metadata": {},
   "outputs": [],
   "source": [
    "class student:\n",
    "    def student(self, name = \" \",course = \" \"):\n",
    "        print(\"welcome to pwskills class\", name , \"your selected course is \",course) \n",
    "        "
   ]
  },
  {
   "cell_type": "code",
   "execution_count": 20,
   "id": "a3024fb8-1240-4903-8019-f46fd0e47cd5",
   "metadata": {},
   "outputs": [],
   "source": [
    "#method overriding >> method in parent class and child class with same signature, child class method will be excuted"
   ]
  },
  {
   "cell_type": "code",
   "execution_count": 21,
   "id": "1135e0aa-8133-47b1-83ad-1909063d109e",
   "metadata": {},
   "outputs": [],
   "source": [
    "class Animal:\n",
    "    def sound(self):\n",
    "        print(\"animal sound\")\n",
    "class Cat(Animal):\n",
    "    def sound(self):\n",
    "        print(\"can meow\")"
   ]
  },
  {
   "cell_type": "code",
   "execution_count": 22,
   "id": "f40ded02-598d-4cb4-b44a-f7b56b68b967",
   "metadata": {},
   "outputs": [],
   "source": [
    "objj = Animal()"
   ]
  },
  {
   "cell_type": "code",
   "execution_count": 23,
   "id": "fd954dc8-526c-48ff-9aa4-8d51381babc6",
   "metadata": {},
   "outputs": [
    {
     "name": "stdout",
     "output_type": "stream",
     "text": [
      "animal sound\n"
     ]
    }
   ],
   "source": [
    "objj.sound()"
   ]
  },
  {
   "cell_type": "code",
   "execution_count": 24,
   "id": "87b80ae6-4519-4494-aac4-3e292386068b",
   "metadata": {},
   "outputs": [],
   "source": [
    "obj22 = Cat()"
   ]
  },
  {
   "cell_type": "code",
   "execution_count": 25,
   "id": "675788f2-e0e4-47d1-abdf-ce7f7002f90c",
   "metadata": {},
   "outputs": [
    {
     "name": "stdout",
     "output_type": "stream",
     "text": [
      "can meow\n"
     ]
    }
   ],
   "source": [
    "obj22.sound()"
   ]
  },
  {
   "cell_type": "code",
   "execution_count": 26,
   "id": "02fd9cbe-d709-45a5-b2be-b1f0d5f51c54",
   "metadata": {},
   "outputs": [],
   "source": [
    "#encapsulation >> means hiding something \n",
    "#bundling of fata and method of a class \n",
    "#access modifers >> public , protected , privet"
   ]
  },
  {
   "cell_type": "code",
   "execution_count": 37,
   "id": "77d07ba7-cd03-4a5b-9e2a-b25f0669eeaf",
   "metadata": {},
   "outputs": [],
   "source": [
    "#public modifier >> can be access form anywhere\n",
    "class Student:\n",
    "    def __init__(self,name,degree):\n",
    "        self.name = name\n",
    "        self.degree = degree"
   ]
  },
  {
   "cell_type": "code",
   "execution_count": 38,
   "id": "58490b5f-9cf0-4929-9326-762e9cf6fe78",
   "metadata": {},
   "outputs": [],
   "source": [
    "stud1 = Student(\"yash\", \"cs\")\n",
    "stud2 = Student(\"sai\" , \"cc\")"
   ]
  },
  {
   "cell_type": "code",
   "execution_count": 39,
   "id": "c1947421-2834-4c8f-a3e3-55155ff49a11",
   "metadata": {},
   "outputs": [
    {
     "data": {
      "text/plain": [
       "'cc'"
      ]
     },
     "execution_count": 39,
     "metadata": {},
     "output_type": "execute_result"
    }
   ],
   "source": [
    "stud2.degree"
   ]
  },
  {
   "cell_type": "code",
   "execution_count": 40,
   "id": "8935d3d1-ba12-491c-830c-75408182876d",
   "metadata": {},
   "outputs": [
    {
     "data": {
      "text/plain": [
       "'yash'"
      ]
     },
     "execution_count": 40,
     "metadata": {},
     "output_type": "execute_result"
    }
   ],
   "source": [
    "stud1.name"
   ]
  },
  {
   "cell_type": "code",
   "execution_count": 41,
   "id": "a259b08c-9237-4ebb-a91b-810d6209a486",
   "metadata": {},
   "outputs": [],
   "source": [
    "class Student:\n",
    "    def __init__(self,name,marks,course):\n",
    "        self.name = name\n",
    "        self.marks = marks\n",
    "        self.course = course"
   ]
  },
  {
   "cell_type": "code",
   "execution_count": 42,
   "id": "63b4f6fc-cc9d-48b7-94db-5f34a0f990f8",
   "metadata": {},
   "outputs": [],
   "source": [
    "obj1 = Student(\"yash\",90,\"cs\")\n",
    "boj2 = Student(\"priya\",39,\"ds\")"
   ]
  },
  {
   "cell_type": "code",
   "execution_count": 43,
   "id": "9ec2e419-1f08-4fe4-9d1a-abc3a0d6c136",
   "metadata": {},
   "outputs": [
    {
     "data": {
      "text/plain": [
       "'priya'"
      ]
     },
     "execution_count": 43,
     "metadata": {},
     "output_type": "execute_result"
    }
   ],
   "source": [
    "boj2.name"
   ]
  },
  {
   "cell_type": "code",
   "execution_count": 44,
   "id": "595c9323-4e6e-44c6-b1d8-287e417e9ea4",
   "metadata": {},
   "outputs": [
    {
     "data": {
      "text/plain": [
       "90"
      ]
     },
     "execution_count": 44,
     "metadata": {},
     "output_type": "execute_result"
    }
   ],
   "source": [
    "obj1.marks"
   ]
  },
  {
   "cell_type": "code",
   "execution_count": 45,
   "id": "fd1dd5b6-e286-4ebb-a448-b23d0f2b4ea2",
   "metadata": {},
   "outputs": [],
   "source": [
    "#privet >> data and method only accessible within the class, use __ to make it privet"
   ]
  },
  {
   "cell_type": "code",
   "execution_count": 53,
   "id": "bc7ddb61-a08b-4ef1-9513-55ab6d2f24e8",
   "metadata": {},
   "outputs": [],
   "source": [
    "#accessing the public data inside the other method of same class\n",
    "class Std:\n",
    "    def __init__(self, name, degree):\n",
    "        self.name=name\n",
    "        self.degree= degree\n",
    "\n",
    "    def show(self):\n",
    "        print(\"name: \",self.name,\"degree\", self.degree)"
   ]
  },
  {
   "cell_type": "code",
   "execution_count": 54,
   "id": "cf7b0d80-60c2-47c4-88be-10210f253b08",
   "metadata": {},
   "outputs": [],
   "source": [
    "ya = Std(\"yash\",\"cs\")"
   ]
  },
  {
   "cell_type": "markdown",
   "id": "f4ed9667-9ace-47c5-98fe-4958f9e0a0b4",
   "metadata": {},
   "source": [
    "ya.show()"
   ]
  },
  {
   "cell_type": "code",
   "execution_count": 57,
   "id": "2b96dae3-a7db-48e1-b810-570f6c00446c",
   "metadata": {},
   "outputs": [
    {
     "data": {
      "text/plain": [
       "'cs'"
      ]
     },
     "execution_count": 57,
     "metadata": {},
     "output_type": "execute_result"
    }
   ],
   "source": [
    "ya.degree"
   ]
  },
  {
   "cell_type": "code",
   "execution_count": 58,
   "id": "84665d6b-2695-4384-accd-aad761b06fea",
   "metadata": {},
   "outputs": [
    {
     "data": {
      "text/plain": [
       "'yash'"
      ]
     },
     "execution_count": 58,
     "metadata": {},
     "output_type": "execute_result"
    }
   ],
   "source": [
    "ya.name"
   ]
  },
  {
   "cell_type": "code",
   "execution_count": 60,
   "id": "dfd4fb97-5733-4033-9245-1df8771646c6",
   "metadata": {},
   "outputs": [],
   "source": [
    "#Privet >> the data and method is only accessible within the clas, use __ to make agrument privet\n",
    "class Std:\n",
    "    def __init__(self, name, degree):\n",
    "        self.name=name\n",
    "        self.__degree= degree\n",
    "    def show(self):\n",
    "        print(\"name: \",self.name,\"degree\", self.degree)"
   ]
  },
  {
   "cell_type": "code",
   "execution_count": 62,
   "id": "bce1f31e-c4ff-4f6f-8177-9d932e2e9ba2",
   "metadata": {},
   "outputs": [],
   "source": [
    "aj = Std(\"yash\", \"amte\")"
   ]
  },
  {
   "cell_type": "code",
   "execution_count": 65,
   "id": "38c74a34-8318-4f66-96b7-b260f89f76f3",
   "metadata": {},
   "outputs": [
    {
     "ename": "AttributeError",
     "evalue": "'Std' object has no attribute 'degree'",
     "output_type": "error",
     "traceback": [
      "\u001b[1;31m---------------------------------------------------------------------------\u001b[0m",
      "\u001b[1;31mAttributeError\u001b[0m                            Traceback (most recent call last)",
      "Cell \u001b[1;32mIn[65], line 1\u001b[0m\n\u001b[1;32m----> 1\u001b[0m \u001b[43maj\u001b[49m\u001b[38;5;241;43m.\u001b[39;49m\u001b[43mshow\u001b[49m\u001b[43m(\u001b[49m\u001b[43m)\u001b[49m\n",
      "Cell \u001b[1;32mIn[60], line 7\u001b[0m, in \u001b[0;36mStd.show\u001b[1;34m(self)\u001b[0m\n\u001b[0;32m      6\u001b[0m \u001b[38;5;28;01mdef\u001b[39;00m\u001b[38;5;250m \u001b[39m\u001b[38;5;21mshow\u001b[39m(\u001b[38;5;28mself\u001b[39m):\n\u001b[1;32m----> 7\u001b[0m     \u001b[38;5;28mprint\u001b[39m(\u001b[38;5;124m\"\u001b[39m\u001b[38;5;124mname: \u001b[39m\u001b[38;5;124m\"\u001b[39m,\u001b[38;5;28mself\u001b[39m\u001b[38;5;241m.\u001b[39mname,\u001b[38;5;124m\"\u001b[39m\u001b[38;5;124mdegree\u001b[39m\u001b[38;5;124m\"\u001b[39m, \u001b[38;5;28;43mself\u001b[39;49m\u001b[38;5;241;43m.\u001b[39;49m\u001b[43mdegree\u001b[49m)\n",
      "\u001b[1;31mAttributeError\u001b[0m: 'Std' object has no attribute 'degree'"
     ]
    }
   ],
   "source": [
    "aj.show()"
   ]
  },
  {
   "cell_type": "code",
   "execution_count": 66,
   "id": "556483b5-6c9e-405b-83a2-0b0b08aa8bd8",
   "metadata": {},
   "outputs": [
    {
     "ename": "AttributeError",
     "evalue": "'Std' object has no attribute 'degree'",
     "output_type": "error",
     "traceback": [
      "\u001b[1;31m---------------------------------------------------------------------------\u001b[0m",
      "\u001b[1;31mAttributeError\u001b[0m                            Traceback (most recent call last)",
      "Cell \u001b[1;32mIn[66], line 1\u001b[0m\n\u001b[1;32m----> 1\u001b[0m \u001b[43maj\u001b[49m\u001b[38;5;241;43m.\u001b[39;49m\u001b[43mdegree\u001b[49m\n",
      "\u001b[1;31mAttributeError\u001b[0m: 'Std' object has no attribute 'degree'"
     ]
    }
   ],
   "source": [
    "aj.degree"
   ]
  },
  {
   "cell_type": "code",
   "execution_count": 67,
   "id": "32e2e9dc-e06c-49aa-bd1f-4a83270222cc",
   "metadata": {},
   "outputs": [
    {
     "data": {
      "text/plain": [
       "'yash'"
      ]
     },
     "execution_count": 67,
     "metadata": {},
     "output_type": "execute_result"
    }
   ],
   "source": [
    "aj.name"
   ]
  },
  {
   "cell_type": "code",
   "execution_count": 70,
   "id": "c4b92c91-b971-42b7-b694-f54f12e51516",
   "metadata": {},
   "outputs": [
    {
     "data": {
      "text/plain": [
       "'amte'"
      ]
     },
     "execution_count": 70,
     "metadata": {},
     "output_type": "execute_result"
    }
   ],
   "source": [
    "aj._Std__degree"
   ]
  },
  {
   "cell_type": "code",
   "execution_count": 71,
   "id": "1643af1d-e88c-4b70-a297-bc5ee3403aef",
   "metadata": {},
   "outputs": [],
   "source": [
    "#Privet >> the data and method is only accessible within the clas, use __ to make agrument privet\n",
    "class Std:\n",
    "    def __init__(self, name, degree):\n",
    "        self.name=name\n",
    "        self.__degree= degree\n",
    "    def show(self):\n",
    "        print(\"name: \",self.name,\"degree\", self.degree)\n",
    "\n",
    "    def __privet_method(self):\n",
    "        print(\"this is a privet method\")"
   ]
  },
  {
   "cell_type": "code",
   "execution_count": 73,
   "id": "790b8840-406a-47f4-8e85-c8d65d693bea",
   "metadata": {},
   "outputs": [],
   "source": [
    "\n",
    "objj = Std(\"aysh\",\"ajay\")"
   ]
  },
  {
   "cell_type": "code",
   "execution_count": 76,
   "id": "03ae0644-ca26-498b-b5e8-a8c912db407c",
   "metadata": {},
   "outputs": [
    {
     "ename": "AttributeError",
     "evalue": "'Std' object has no attribute '__privet_method'",
     "output_type": "error",
     "traceback": [
      "\u001b[1;31m---------------------------------------------------------------------------\u001b[0m",
      "\u001b[1;31mAttributeError\u001b[0m                            Traceback (most recent call last)",
      "Cell \u001b[1;32mIn[76], line 1\u001b[0m\n\u001b[1;32m----> 1\u001b[0m \u001b[43mobjj\u001b[49m\u001b[38;5;241;43m.\u001b[39;49m\u001b[43m__privet_method\u001b[49m\n",
      "\u001b[1;31mAttributeError\u001b[0m: 'Std' object has no attribute '__privet_method'"
     ]
    }
   ],
   "source": [
    "objj.__privet_method"
   ]
  },
  {
   "cell_type": "code",
   "execution_count": 83,
   "id": "1ad4a855-d636-4565-93d6-5255d8d4259b",
   "metadata": {},
   "outputs": [],
   "source": [
    "#way to provide on option to see the privet method\n",
    "class Std:\n",
    "    def __init__(self, name, degree):\n",
    "        self.name=name\n",
    "        self.__degree= degree\n",
    "    def show(self):\n",
    "        print(\"name: \",self.name,\"degree\", self.degree)\n",
    "    def __privet_method(self):\n",
    "        print(\"this is a privet method\")\n",
    "    def access_privet(self): #new method to access that contain in the same class\n",
    "        self.__privet_method()"
   ]
  },
  {
   "cell_type": "code",
   "execution_count": 84,
   "id": "c3211a8d-cd75-4697-a546-bc0fd569f645",
   "metadata": {},
   "outputs": [],
   "source": [
    "obj4 = Std(\"yash\",\"amte\")"
   ]
  },
  {
   "cell_type": "code",
   "execution_count": 86,
   "id": "ca1fc790-82af-4577-9fa3-560cab50a76e",
   "metadata": {},
   "outputs": [
    {
     "name": "stdout",
     "output_type": "stream",
     "text": [
      "this is a privet method\n"
     ]
    }
   ],
   "source": [
    "obj4.access_privet()"
   ]
  },
  {
   "cell_type": "code",
   "execution_count": 87,
   "id": "4c9ccfcd-32ae-457a-8253-68b0c6b415c9",
   "metadata": {},
   "outputs": [],
   "source": [
    "#correct way to update and access method and argument form privet \n",
    "class Car:\n",
    "    def __init__(self,year,make,speed,model):\n",
    "        self.__year= year\n",
    "        self.__make= make\n",
    "        self.__speed= speed\n",
    "        self.__model = model\n",
    "\n",
    "    def set_speed(self,speed):\n",
    "        self.__speed = 0 if speed < 0 else speed\n",
    "\n",
    "    def get_speed(self):\n",
    "        return self.__speed"
   ]
  },
  {
   "cell_type": "code",
   "execution_count": 88,
   "id": "30d55c77-e9a3-49f2-940b-22bf55510f45",
   "metadata": {},
   "outputs": [],
   "source": [
    "objcar = Car(1990,\"maruti\",90,\"city\")"
   ]
  },
  {
   "cell_type": "code",
   "execution_count": 89,
   "id": "c3cdcedf-1c13-48d9-a31e-4e18a3807236",
   "metadata": {},
   "outputs": [],
   "source": [
    "objcar.set_speed(20)"
   ]
  },
  {
   "cell_type": "code",
   "execution_count": 91,
   "id": "13d62a4a-ec9c-4fa2-9ea4-6750b7811c3d",
   "metadata": {},
   "outputs": [
    {
     "data": {
      "text/plain": [
       "20"
      ]
     },
     "execution_count": 91,
     "metadata": {},
     "output_type": "execute_result"
    }
   ],
   "source": [
    "objcar.get_speed()"
   ]
  },
  {
   "cell_type": "code",
   "execution_count": 96,
   "id": "311645f1-3150-4bf1-a715-268f6ec2b9bb",
   "metadata": {},
   "outputs": [],
   "source": [
    "class Bank:\n",
    "    def __init__(self, balance):\n",
    "        self.__balance = balance\n",
    "\n",
    "    def deposite(self, amount):\n",
    "        self.__balance = self.__balance + amount\n",
    "\n",
    "    def withdraw(self,amount):\n",
    "        if self.__balance >= amount:\n",
    "            self.__balance = self.__balance - amount\n",
    "        else:\n",
    "            return False\n",
    "            \n",
    "    def check_balance(self):\n",
    "        return self.__balance"
   ]
  },
  {
   "cell_type": "code",
   "execution_count": 97,
   "id": "8488c98c-2947-4633-8f7e-2d34266a9ee3",
   "metadata": {},
   "outputs": [],
   "source": [
    "yash_acc = Bank(50000)"
   ]
  },
  {
   "cell_type": "code",
   "execution_count": 98,
   "id": "828ae646-bb80-4625-a811-a805ef995318",
   "metadata": {},
   "outputs": [],
   "source": [
    "yash_acc.withdraw(3000)"
   ]
  },
  {
   "cell_type": "code",
   "execution_count": 99,
   "id": "f0f13b25-685b-4b82-bc9e-fd88cc8b12bf",
   "metadata": {},
   "outputs": [
    {
     "data": {
      "text/plain": [
       "47000"
      ]
     },
     "execution_count": 99,
     "metadata": {},
     "output_type": "execute_result"
    }
   ],
   "source": [
    "yash_acc.check_balance()"
   ]
  },
  {
   "cell_type": "code",
   "execution_count": 100,
   "id": "4be7907f-96cc-4305-a86b-e794e0ef2c5e",
   "metadata": {},
   "outputs": [],
   "source": [
    "#protected modifiers >> within the class and its subclass , protected members can be access, (_)"
   ]
  },
  {
   "cell_type": "code",
   "execution_count": 105,
   "id": "ca810a40-337b-487b-9df5-2884c70161a0",
   "metadata": {},
   "outputs": [],
   "source": [
    "class college:\n",
    "    def __init__(self):\n",
    "        self._college_name = \"priya college\"\n",
    "\n",
    "class Student(college):\n",
    "    def __init__(self, name):\n",
    "        self.name = name\n",
    "        college.__init__(self) #accessing varible of the base class >> class name __init__(self)\n",
    "\n",
    "    def show(self):\n",
    "        print(\"student name\", self.name, \"college \",self._college_name) #directly call the base variable name\n"
   ]
  },
  {
   "cell_type": "code",
   "execution_count": 106,
   "id": "920890fe-09ff-4a87-b88c-e90ee50d3195",
   "metadata": {},
   "outputs": [],
   "source": [
    "stud = Student(\"yash\")"
   ]
  },
  {
   "cell_type": "code",
   "execution_count": 107,
   "id": "4bf14147-509f-4b12-b947-51007a334076",
   "metadata": {},
   "outputs": [
    {
     "name": "stdout",
     "output_type": "stream",
     "text": [
      "student name yash college  priya college\n"
     ]
    }
   ],
   "source": [
    "stud.show()"
   ]
  },
  {
   "cell_type": "code",
   "execution_count": null,
   "id": "865b3ef7-7f91-4b50-8c10-d5fee8b0dec8",
   "metadata": {},
   "outputs": [],
   "source": [
    "coll = college()\n",
    "coll._college_name #access proected variable\n",
    "\n",
    "#protected variable caan't be access using tab button we have to specify name to access it"
   ]
  },
  {
   "cell_type": "code",
   "execution_count": 113,
   "id": "7597f3d6-596d-4e0d-b655-c6b6573b61cf",
   "metadata": {},
   "outputs": [],
   "source": [
    "class college:\n",
    "    def __init__(self):\n",
    "        self._college_name = \"priya college\"\n",
    "\n",
    "class Student(college):\n",
    "    def __init__(self, name):\n",
    "        self.name = name\n",
    "        super().__init__() # include super and remove self, base class is super class\n",
    "\n",
    "    def show(self):\n",
    "        print(\"student name\", self.name, \"college \",self._college_name) #directly call the base variable name\n"
   ]
  },
  {
   "cell_type": "code",
   "execution_count": 114,
   "id": "070a0efa-18a4-41d4-b9f5-3c645559df9b",
   "metadata": {},
   "outputs": [],
   "source": [
    "stud = Student(\"momo\")"
   ]
  },
  {
   "cell_type": "code",
   "execution_count": 115,
   "id": "ef86daa9-1b8d-4f85-b095-e96079294cf8",
   "metadata": {},
   "outputs": [
    {
     "name": "stdout",
     "output_type": "stream",
     "text": [
      "student name momo college  priya college\n"
     ]
    }
   ],
   "source": [
    "stud.show()"
   ]
  },
  {
   "cell_type": "code",
   "execution_count": null,
   "id": "4ce9f029-bd3e-4826-a8a4-12230aa77aa4",
   "metadata": {},
   "outputs": [],
   "source": []
  }
 ],
 "metadata": {
  "kernelspec": {
   "display_name": "Python 3 (ipykernel)",
   "language": "python",
   "name": "python3"
  },
  "language_info": {
   "codemirror_mode": {
    "name": "ipython",
    "version": 3
   },
   "file_extension": ".py",
   "mimetype": "text/x-python",
   "name": "python",
   "nbconvert_exporter": "python",
   "pygments_lexer": "ipython3",
   "version": "3.13.3"
  }
 },
 "nbformat": 4,
 "nbformat_minor": 5
}
