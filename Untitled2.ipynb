{
 "cells": [
  {
   "cell_type": "code",
   "execution_count": null,
   "id": "48f97b2e-c464-4e80-8944-6a930dc0b202",
   "metadata": {},
   "outputs": [],
   "source": []
  }
 ],
 "metadata": {
  "kernelspec": {
   "display_name": "",
   "name": ""
  },
  "language_info": {
   "name": ""
  }
 },
 "nbformat": 4,
 "nbformat_minor": 5
}
