{
 "cells": [
  {
   "cell_type": "code",
   "execution_count": null,
   "id": "e380d825-1d92-4b70-849f-89d469ff6ec9",
   "metadata": {},
   "outputs": [],
   "source": []
  }
 ],
 "metadata": {
  "kernelspec": {
   "display_name": "",
   "name": ""
  },
  "language_info": {
   "name": ""
  }
 },
 "nbformat": 4,
 "nbformat_minor": 5
}
