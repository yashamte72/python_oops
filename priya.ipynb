{
 "cells": [
  {
   "cell_type": "code",
   "execution_count": null,
   "id": "6e4bd830-a613-4a3e-ab0e-5de508d38afc",
   "metadata": {},
   "outputs": [],
   "source": []
  }
 ],
 "metadata": {
  "kernelspec": {
   "display_name": "",
   "name": ""
  },
  "language_info": {
   "name": ""
  }
 },
 "nbformat": 4,
 "nbformat_minor": 5
}
