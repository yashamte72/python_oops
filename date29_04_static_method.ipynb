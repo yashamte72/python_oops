{
 "cells": [
  {
   "cell_type": "code",
   "execution_count": 1,
   "id": "7b0f9fd2-9b2d-47be-bfa8-78905f208d5d",
   "metadata": {},
   "outputs": [],
   "source": [
    "#class method >> bound to the class(and not to the perticular instance of the class)\n",
    "#it can access and modify method and attributes accosciated with class across all the instance\n",
    "#@classmethod decorator\n",
    "#instead of self , cls as first parameter\n",
    "#alternative of inint method to pass the data"
   ]
  },
  {
   "cell_type": "code",
   "execution_count": 2,
   "id": "629de4d3-6329-4328-b84e-d16e6a71c4f1",
   "metadata": {},
   "outputs": [],
   "source": [
    "class student:\n",
    "    #constuctor >> constructing class with initialization of variables\n",
    "    def __init__(self, name):\n",
    "        self.name = name"
   ]
  },
  {
   "cell_type": "code",
   "execution_count": 3,
   "id": "cf9e0d72-9394-4e73-acce-b2ca227e3c26",
   "metadata": {},
   "outputs": [],
   "source": [
    "obj = student(\"ajay\")"
   ]
  },
  {
   "cell_type": "code",
   "execution_count": 5,
   "id": "f7538394-8941-4c5c-8292-7c4d5ac0941c",
   "metadata": {},
   "outputs": [
    {
     "data": {
      "text/plain": [
       "'ajay'"
      ]
     },
     "execution_count": 5,
     "metadata": {},
     "output_type": "execute_result"
    }
   ],
   "source": [
    "obj.name"
   ]
  },
  {
   "cell_type": "code",
   "execution_count": 9,
   "id": "2f1575ea-5601-4845-9c4b-06f78a7dac63",
   "metadata": {},
   "outputs": [],
   "source": [
    "class Student:\n",
    "    #constuctor >> constructing class with initialization of variables\n",
    "    def __init__(self, name):\n",
    "        self.name = name #self means this variable is referring to current instance of te alss\n",
    "\n",
    "    @classmethod #bound to the class \n",
    "    def student_details(cls, name): #instead of  self as first param, you are using cls >> meaning this perticular method directky refering to the class\n",
    "        return cls(name)"
   ]
  },
  {
   "cell_type": "code",
   "execution_count": 10,
   "id": "e97b2d42-20ef-489c-b143-fbb082d5084b",
   "metadata": {},
   "outputs": [],
   "source": [
    "#earlier to access any method first make object and then object.attribute"
   ]
  },
  {
   "cell_type": "code",
   "execution_count": 11,
   "id": "45a3aba7-1ad7-42d9-9271-f120946d2bf4",
   "metadata": {},
   "outputs": [],
   "source": [
    "#but if it is class method you can directly acess it"
   ]
  },
  {
   "cell_type": "code",
   "execution_count": 12,
   "id": "0196207c-3101-48c8-9bc9-1a3c583ed4ed",
   "metadata": {},
   "outputs": [],
   "source": [
    "obj = Student.student_details(\"ajay\")"
   ]
  },
  {
   "cell_type": "code",
   "execution_count": 13,
   "id": "e57ee8c6-fdc4-47b9-9458-01633e2f6d5f",
   "metadata": {},
   "outputs": [
    {
     "data": {
      "text/plain": [
       "'ajay'"
      ]
     },
     "execution_count": 13,
     "metadata": {},
     "output_type": "execute_result"
    }
   ],
   "source": [
    "obj.name"
   ]
  },
  {
   "cell_type": "code",
   "execution_count": 16,
   "id": "e3dd7588-56d4-4f7e-b79e-daa0390a0d25",
   "metadata": {},
   "outputs": [
    {
     "data": {
      "text/plain": [
       "<__main__.Student at 0x23f1edbe0d0>"
      ]
     },
     "execution_count": 16,
     "metadata": {},
     "output_type": "execute_result"
    }
   ],
   "source": [
    "obj.student_details(\"yash\")"
   ]
  },
  {
   "cell_type": "code",
   "execution_count": 17,
   "id": "b3a09be9-39a9-44b6-9258-b9de98216f09",
   "metadata": {},
   "outputs": [],
   "source": [
    "#seeing class method as alternative of init method >> actually class method is overloading init method"
   ]
  },
  {
   "cell_type": "code",
   "execution_count": 19,
   "id": "24c8cb21-1fe0-48bd-aeb3-19299e879e78",
   "metadata": {},
   "outputs": [],
   "source": [
    "#how class method is oberloadiing init method\n",
    "#modifying the class method / instance method\n",
    "class Student:\n",
    "    #constuctor >> constructing class with initialization of variables\n",
    "    def __init__(self, name):\n",
    "        self.name = name #self means this variable is referring to current instance of te alss\n",
    "\n",
    "    @classmethod #bound to the class \n",
    "    def student_details(cls, name1): #instead of  self as first param, you are using cls >> meaning this perticular method directky refering to the class\n",
    "        return cls(name1)"
   ]
  },
  {
   "cell_type": "code",
   "execution_count": 22,
   "id": "c1754ae6-a153-4b2b-aa4b-56bfa933c497",
   "metadata": {},
   "outputs": [],
   "source": [
    "stud = Student.student_details(\"yash\")"
   ]
  },
  {
   "cell_type": "code",
   "execution_count": 23,
   "id": "12cc77a4-c1b4-48cc-a1b3-6439c7af19e8",
   "metadata": {},
   "outputs": [
    {
     "data": {
      "text/plain": [
       "'yash'"
      ]
     },
     "execution_count": 23,
     "metadata": {},
     "output_type": "execute_result"
    }
   ],
   "source": [
    "stud.name\n",
    "#you will get yash inspite the variable name1\n",
    "#because it is overlodding the init method "
   ]
  },
  {
   "cell_type": "code",
   "execution_count": 24,
   "id": "d9c7cfee-0f21-4022-99be-3110d94b2293",
   "metadata": {},
   "outputs": [],
   "source": [
    "#class method can modify class state applicable to all the instance of the class\n",
    "class Student:\n",
    "    total_stu = 0\n",
    "    def __init__(self,name):\n",
    "        self.name =name\n",
    "        Student.total_stu = Student.total_stu + 1 #total studnts is the class variable associated with all the instance \n",
    "\n",
    "    @classmethod\n",
    "    def get_total_stu(cls):\n",
    "        return cls.total_stu"
   ]
  },
  {
   "cell_type": "code",
   "execution_count": 26,
   "id": "03b7438e-aa0d-4c0b-a019-a31368d130f8",
   "metadata": {},
   "outputs": [
    {
     "data": {
      "text/plain": [
       "0"
      ]
     },
     "execution_count": 26,
     "metadata": {},
     "output_type": "execute_result"
    }
   ],
   "source": [
    "Student.total_stu"
   ]
  },
  {
   "cell_type": "code",
   "execution_count": 27,
   "id": "84d54b88-857b-401a-a137-13ec390dad89",
   "metadata": {},
   "outputs": [],
   "source": [
    "stu1 = Student(\"yash\")"
   ]
  },
  {
   "cell_type": "code",
   "execution_count": 28,
   "id": "6f0a8851-7919-428b-8f96-662761dcd9ef",
   "metadata": {},
   "outputs": [],
   "source": [
    "stu2 = Student(\"priya\")"
   ]
  },
  {
   "cell_type": "code",
   "execution_count": 29,
   "id": "2a537274-b1c0-4b6c-a158-800d8d705259",
   "metadata": {},
   "outputs": [
    {
     "data": {
      "text/plain": [
       "2"
      ]
     },
     "execution_count": 29,
     "metadata": {},
     "output_type": "execute_result"
    }
   ],
   "source": [
    "Student.total_stu"
   ]
  },
  {
   "cell_type": "code",
   "execution_count": 30,
   "id": "98cce983-5662-4134-9f22-44361ddf5f1d",
   "metadata": {},
   "outputs": [
    {
     "data": {
      "text/plain": [
       "2"
      ]
     },
     "execution_count": 30,
     "metadata": {},
     "output_type": "execute_result"
    }
   ],
   "source": [
    "Student.get_total_stu()"
   ]
  },
  {
   "cell_type": "code",
   "execution_count": 31,
   "id": "06112b4e-dc31-45b6-bc1b-7d8a88590c59",
   "metadata": {},
   "outputs": [],
   "source": [
    "#class method can modify class state applicable to all th instances \n",
    "#thats why you see increase in the count"
   ]
  },
  {
   "cell_type": "code",
   "execution_count": null,
   "id": "92a92afa-fdbc-48cd-a02b-3d4dd602eb79",
   "metadata": {},
   "outputs": [],
   "source": [
    "#to make external function as class method\n",
    "\n",
    "class Student:\n",
    "    total_stu = 0\n",
    "    def __init__(self,name):\n",
    "        self.name =name\n",
    "        Student.total_stu = Student.total_stu + 1 #total studnts is the class variable associated with all the instance \n",
    "\n",
    "    @classmethod\n",
    "    def get_total_stu(cls):\n",
    "        return cls.total_stu"
   ]
  },
  {
   "cell_type": "code",
   "execution_count": 32,
   "id": "4d25a275-9e15-4478-8953-2e3b0581ee4f",
   "metadata": {},
   "outputs": [],
   "source": [
    "def course_details(cls,course_name):\n",
    "    print(\"this is the detals about course : \",course_name)"
   ]
  },
  {
   "cell_type": "code",
   "execution_count": 35,
   "id": "cec9410c-a872-45e5-a0bf-9eff2215efd6",
   "metadata": {},
   "outputs": [],
   "source": [
    "Student.course_details = classmethod(course_details) #adding external function to class method"
   ]
  },
  {
   "cell_type": "code",
   "execution_count": 36,
   "id": "edc7b645-0d12-4e01-994f-557402e1a369",
   "metadata": {},
   "outputs": [
    {
     "name": "stdout",
     "output_type": "stream",
     "text": [
      "this is the detals about course :  cs\n"
     ]
    }
   ],
   "source": [
    "Student.course_details(\"cs\")"
   ]
  },
  {
   "cell_type": "code",
   "execution_count": 37,
   "id": "0ca00cba-8f2f-4e35-9b6d-60017224f653",
   "metadata": {},
   "outputs": [],
   "source": [
    "#delete any class method\n",
    "del Student.course_details"
   ]
  },
  {
   "cell_type": "code",
   "execution_count": 38,
   "id": "71e6ea4f-dbb0-4f38-98a2-469db66f558f",
   "metadata": {},
   "outputs": [
    {
     "ename": "AttributeError",
     "evalue": "type object 'Student' has no attribute 'course_details'",
     "output_type": "error",
     "traceback": [
      "\u001b[1;31m---------------------------------------------------------------------------\u001b[0m",
      "\u001b[1;31mAttributeError\u001b[0m                            Traceback (most recent call last)",
      "Cell \u001b[1;32mIn[38], line 1\u001b[0m\n\u001b[1;32m----> 1\u001b[0m \u001b[43mStudent\u001b[49m\u001b[38;5;241;43m.\u001b[39;49m\u001b[43mcourse_details\u001b[49m(\u001b[38;5;124m\"\u001b[39m\u001b[38;5;124mcs\u001b[39m\u001b[38;5;124m\"\u001b[39m)\n",
      "\u001b[1;31mAttributeError\u001b[0m: type object 'Student' has no attribute 'course_details'"
     ]
    }
   ],
   "source": [
    "Student.course_details(\"cs\")"
   ]
  },
  {
   "cell_type": "code",
   "execution_count": 39,
   "id": "55e8f359-252d-4ec6-8efe-8badcc183279",
   "metadata": {},
   "outputs": [
    {
     "data": {
      "text/plain": [
       "2"
      ]
     },
     "execution_count": 39,
     "metadata": {},
     "output_type": "execute_result"
    }
   ],
   "source": [
    "Student.get_total_stu()"
   ]
  },
  {
   "cell_type": "code",
   "execution_count": 42,
   "id": "1d1ee74b-7e71-415e-a7f7-d1771381399f",
   "metadata": {},
   "outputs": [],
   "source": [
    "del Student.get_total_stu"
   ]
  },
  {
   "cell_type": "code",
   "execution_count": 44,
   "id": "665e1145-112e-4efe-a057-a948b51f6946",
   "metadata": {},
   "outputs": [
    {
     "data": {
      "text/plain": [
       "2"
      ]
     },
     "execution_count": 44,
     "metadata": {},
     "output_type": "execute_result"
    }
   ],
   "source": [
    "Student.total_stu"
   ]
  },
  {
   "cell_type": "code",
   "execution_count": 45,
   "id": "0f6840e2-23a8-4f53-9d2f-d3838cc40879",
   "metadata": {},
   "outputs": [
    {
     "ename": "AttributeError",
     "evalue": "type object 'Student' has no attribute 'get_total_stu'",
     "output_type": "error",
     "traceback": [
      "\u001b[1;31m---------------------------------------------------------------------------\u001b[0m",
      "\u001b[1;31mAttributeError\u001b[0m                            Traceback (most recent call last)",
      "Cell \u001b[1;32mIn[45], line 1\u001b[0m\n\u001b[1;32m----> 1\u001b[0m \u001b[43mStudent\u001b[49m\u001b[38;5;241;43m.\u001b[39;49m\u001b[43mget_total_stu\u001b[49m()\n",
      "\u001b[1;31mAttributeError\u001b[0m: type object 'Student' has no attribute 'get_total_stu'"
     ]
    }
   ],
   "source": [
    "Student.get_total_stu()"
   ]
  },
  {
   "cell_type": "code",
   "execution_count": 46,
   "id": "c82d0bce-1da6-43bc-b441-fd419f101eb7",
   "metadata": {},
   "outputs": [],
   "source": [
    "#another way to delete \n",
    "delattr(Student, \"total_stu\")"
   ]
  },
  {
   "cell_type": "code",
   "execution_count": 49,
   "id": "eb7bedb2-0267-4179-9273-acc7a7b4584f",
   "metadata": {},
   "outputs": [
    {
     "ename": "AttributeError",
     "evalue": "type object 'Student' has no attribute 'total_stu'",
     "output_type": "error",
     "traceback": [
      "\u001b[1;31m---------------------------------------------------------------------------\u001b[0m",
      "\u001b[1;31mAttributeError\u001b[0m                            Traceback (most recent call last)",
      "Cell \u001b[1;32mIn[49], line 1\u001b[0m\n\u001b[1;32m----> 1\u001b[0m \u001b[43mStudent\u001b[49m\u001b[38;5;241;43m.\u001b[39;49m\u001b[43mtotal_stu\u001b[49m\n",
      "\u001b[1;31mAttributeError\u001b[0m: type object 'Student' has no attribute 'total_stu'"
     ]
    }
   ],
   "source": [
    "Student.total_stu"
   ]
  },
  {
   "cell_type": "code",
   "execution_count": null,
   "id": "ae380ab9-a834-4a12-a362-5ebc3032ed5e",
   "metadata": {},
   "outputs": [],
   "source": []
  },
  {
   "cell_type": "markdown",
   "id": "86ce0b03-3e9d-429f-8a95-57ded92fe481",
   "metadata": {},
   "source": [
    "Static method \n",
    " does not modify or instance state\n",
    " it behave like a plain funciton that belongs to a class\n",
    " it doesn't take either self or cls\n",
    "  doesn't access instance or class state\n",
    "  doesn't depend on class / instance\n",
    "  works with the parameter you pass"
   ]
  },
  {
   "cell_type": "code",
   "execution_count": 50,
   "id": "84aeac88-4674-4ba3-85d5-1084c5f9d5d1",
   "metadata": {},
   "outputs": [],
   "source": [
    "class Cal:\n",
    "\n",
    "    @staticmethod\n",
    "    def add(x,y):\n",
    "        return x+y\n",
    "\n",
    "    @staticmethod\n",
    "    def subs(x,y):\n",
    "        return x-y"
   ]
  },
  {
   "cell_type": "code",
   "execution_count": 51,
   "id": "6595f4a6-28a0-4e39-ad4f-d727466cdf1f",
   "metadata": {},
   "outputs": [
    {
     "data": {
      "text/plain": [
       "7"
      ]
     },
     "execution_count": 51,
     "metadata": {},
     "output_type": "execute_result"
    }
   ],
   "source": [
    "Cal.add(2,5)"
   ]
  },
  {
   "cell_type": "code",
   "execution_count": 53,
   "id": "3c1e8cb0-83fe-4955-b0f2-9f1eecbed225",
   "metadata": {},
   "outputs": [
    {
     "data": {
      "text/plain": [
       "4"
      ]
     },
     "execution_count": 53,
     "metadata": {},
     "output_type": "execute_result"
    }
   ],
   "source": [
    "Cal.subs(7,3)"
   ]
  },
  {
   "cell_type": "code",
   "execution_count": null,
   "id": "218111a0-512f-4ce2-abe9-649352545e3e",
   "metadata": {},
   "outputs": [],
   "source": []
  }
 ],
 "metadata": {
  "kernelspec": {
   "display_name": "Python 3 (ipykernel)",
   "language": "python",
   "name": "python3"
  },
  "language_info": {
   "codemirror_mode": {
    "name": "ipython",
    "version": 3
   },
   "file_extension": ".py",
   "mimetype": "text/x-python",
   "name": "python",
   "nbconvert_exporter": "python",
   "pygments_lexer": "ipython3",
   "version": "3.13.3"
  }
 },
 "nbformat": 4,
 "nbformat_minor": 5
}
