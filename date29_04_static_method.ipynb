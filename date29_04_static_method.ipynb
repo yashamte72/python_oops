{
 "cells": [
  {
   "cell_type": "code",
   "execution_count": 1,
   "id": "7b0f9fd2-9b2d-47be-bfa8-78905f208d5d",
   "metadata": {},
   "outputs": [],
   "source": [
    "#class method >> bound to the class(and not to the perticular instance of the class), it can access and modify method and attributes accosciated with class across all the instance\n",
    "#@classmethod decorator\n",
    "#instead of self , cls as first parameter\n"
   ]
  },
  {
   "cell_type": "code",
   "execution_count": 2,
   "id": "629de4d3-6329-4328-b84e-d16e6a71c4f1",
   "metadata": {},
   "outputs": [],
   "source": [
    "class student:\n",
    "    #constuctor >> constructing class with initialization of variables\n",
    "    def __init__(self, name):\n",
    "        self.name = name"
   ]
  },
  {
   "cell_type": "code",
   "execution_count": 3,
   "id": "cf9e0d72-9394-4e73-acce-b2ca227e3c26",
   "metadata": {},
   "outputs": [],
   "source": [
    "obj = student(\"ajay\")"
   ]
  },
  {
   "cell_type": "code",
   "execution_count": 5,
   "id": "f7538394-8941-4c5c-8292-7c4d5ac0941c",
   "metadata": {},
   "outputs": [
    {
     "data": {
      "text/plain": [
       "'ajay'"
      ]
     },
     "execution_count": 5,
     "metadata": {},
     "output_type": "execute_result"
    }
   ],
   "source": [
    "obj.name"
   ]
  },
  {
   "cell_type": "code",
   "execution_count": 9,
   "id": "2f1575ea-5601-4845-9c4b-06f78a7dac63",
   "metadata": {},
   "outputs": [],
   "source": [
    "class Student:\n",
    "    #constuctor >> constructing class with initialization of variables\n",
    "    def __init__(self, name):\n",
    "        self.name = name #self means this variable is referring to current instance of te alss\n",
    "\n",
    "    @classmethod #bound to the class \n",
    "    def student_details(cls, name): #instead of  self as first param, you are using cls >> meaning this perticular method directky refering to the class\n",
    "        return cls(name)"
   ]
  },
  {
   "cell_type": "code",
   "execution_count": 10,
   "id": "e97b2d42-20ef-489c-b143-fbb082d5084b",
   "metadata": {},
   "outputs": [],
   "source": [
    "#earlier to access any method first make object and then object.attribute"
   ]
  },
  {
   "cell_type": "code",
   "execution_count": 11,
   "id": "45a3aba7-1ad7-42d9-9271-f120946d2bf4",
   "metadata": {},
   "outputs": [],
   "source": [
    "#but if it is class method you can directly acess it"
   ]
  },
  {
   "cell_type": "code",
   "execution_count": 12,
   "id": "0196207c-3101-48c8-9bc9-1a3c583ed4ed",
   "metadata": {},
   "outputs": [],
   "source": [
    "obj = Student.student_details(\"ajay\")"
   ]
  },
  {
   "cell_type": "code",
   "execution_count": 13,
   "id": "e57ee8c6-fdc4-47b9-9458-01633e2f6d5f",
   "metadata": {},
   "outputs": [
    {
     "data": {
      "text/plain": [
       "'ajay'"
      ]
     },
     "execution_count": 13,
     "metadata": {},
     "output_type": "execute_result"
    }
   ],
   "source": [
    "obj.name"
   ]
  },
  {
   "cell_type": "code",
   "execution_count": 16,
   "id": "e3dd7588-56d4-4f7e-b79e-daa0390a0d25",
   "metadata": {},
   "outputs": [
    {
     "data": {
      "text/plain": [
       "<__main__.Student at 0x23f1edbe0d0>"
      ]
     },
     "execution_count": 16,
     "metadata": {},
     "output_type": "execute_result"
    }
   ],
   "source": [
    "obj.student_details(\"yash\")"
   ]
  },
  {
   "cell_type": "code",
   "execution_count": 17,
   "id": "b3a09be9-39a9-44b6-9258-b9de98216f09",
   "metadata": {},
   "outputs": [],
   "source": [
    "#seeing class method as alternative of init method >> actually class method is overloading init method"
   ]
  },
  {
   "cell_type": "code",
   "execution_count": 19,
   "id": "24c8cb21-1fe0-48bd-aeb3-19299e879e78",
   "metadata": {},
   "outputs": [],
   "source": [
    "#how class method is oberloadiing init method\n",
    "#modifying the class method / instance method\n",
    "class Student:\n",
    "    #constuctor >> constructing class with initialization of variables\n",
    "    def __init__(self, name):\n",
    "        self.name = name #self means this variable is referring to current instance of te alss\n",
    "\n",
    "    @classmethod #bound to the class \n",
    "    def student_details(cls, name1): #instead of  self as first param, you are using cls >> meaning this perticular method directky refering to the class\n",
    "        return cls(name1)"
   ]
  },
  {
   "cell_type": "code",
   "execution_count": 22,
   "id": "c1754ae6-a153-4b2b-aa4b-56bfa933c497",
   "metadata": {},
   "outputs": [],
   "source": [
    "stud = Student.student_details(\"yash\")"
   ]
  },
  {
   "cell_type": "code",
   "execution_count": 23,
   "id": "12cc77a4-c1b4-48cc-a1b3-6439c7af19e8",
   "metadata": {},
   "outputs": [
    {
     "data": {
      "text/plain": [
       "'yash'"
      ]
     },
     "execution_count": 23,
     "metadata": {},
     "output_type": "execute_result"
    }
   ],
   "source": [
    "stud.name\n",
    "#you will get yash inspite the variable name1"
   ]
  },
  {
   "cell_type": "code",
   "execution_count": null,
   "id": "d9c7cfee-0f21-4022-99be-3110d94b2293",
   "metadata": {},
   "outputs": [],
   "source": []
  },
  {
   "cell_type": "code",
   "execution_count": null,
   "id": "03b7438e-aa0d-4c0b-a019-a31368d130f8",
   "metadata": {},
   "outputs": [],
   "source": []
  },
  {
   "cell_type": "code",
   "execution_count": null,
   "id": "84d54b88-857b-401a-a137-13ec390dad89",
   "metadata": {},
   "outputs": [],
   "source": []
  },
  {
   "cell_type": "code",
   "execution_count": null,
   "id": "6f0a8851-7919-428b-8f96-662761dcd9ef",
   "metadata": {},
   "outputs": [],
   "source": []
  }
 ],
 "metadata": {
  "kernelspec": {
   "display_name": "Python 3 (ipykernel)",
   "language": "python",
   "name": "python3"
  },
  "language_info": {
   "codemirror_mode": {
    "name": "ipython",
    "version": 3
   },
   "file_extension": ".py",
   "mimetype": "text/x-python",
   "name": "python",
   "nbconvert_exporter": "python",
   "pygments_lexer": "ipython3",
   "version": "3.13.3"
  }
 },
 "nbformat": 4,
 "nbformat_minor": 5
}
