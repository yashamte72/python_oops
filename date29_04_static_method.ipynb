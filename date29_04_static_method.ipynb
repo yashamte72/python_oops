{
 "cells": [
  {
   "cell_type": "code",
   "execution_count": 1,
   "id": "7b0f9fd2-9b2d-47be-bfa8-78905f208d5d",
   "metadata": {},
   "outputs": [],
   "source": [
    "#class method >> bound to the class(and not to the perticular instance of the class), it can access and modify method and attributes accosciated with class across all the instance\n",
    "#@classmethod decorator\n",
    "#instead of self , cls as first parameter\n"
   ]
  },
  {
   "cell_type": "code",
   "execution_count": 2,
   "id": "629de4d3-6329-4328-b84e-d16e6a71c4f1",
   "metadata": {},
   "outputs": [],
   "source": [
    "class student:\n",
    "    #constuctor >> constructing class with initialization of variables\n",
    "    def __init__(self, name):\n",
    "        self.name = name"
   ]
  },
  {
   "cell_type": "code",
   "execution_count": 3,
   "id": "cf9e0d72-9394-4e73-acce-b2ca227e3c26",
   "metadata": {},
   "outputs": [],
   "source": [
    "obj = student(\"ajay\")"
   ]
  },
  {
   "cell_type": "code",
   "execution_count": 5,
   "id": "f7538394-8941-4c5c-8292-7c4d5ac0941c",
   "metadata": {},
   "outputs": [
    {
     "data": {
      "text/plain": [
       "'ajay'"
      ]
     },
     "execution_count": 5,
     "metadata": {},
     "output_type": "execute_result"
    }
   ],
   "source": [
    "obj.name"
   ]
  },
  {
   "cell_type": "code",
   "execution_count": null,
   "id": "2f1575ea-5601-4845-9c4b-06f78a7dac63",
   "metadata": {},
   "outputs": [],
   "source": []
  },
  {
   "cell_type": "code",
   "execution_count": null,
   "id": "e97b2d42-20ef-489c-b143-fbb082d5084b",
   "metadata": {},
   "outputs": [],
   "source": []
  },
  {
   "cell_type": "code",
   "execution_count": null,
   "id": "45a3aba7-1ad7-42d9-9271-f120946d2bf4",
   "metadata": {},
   "outputs": [],
   "source": []
  }
 ],
 "metadata": {
  "kernelspec": {
   "display_name": "Python 3 (ipykernel)",
   "language": "python",
   "name": "python3"
  },
  "language_info": {
   "codemirror_mode": {
    "name": "ipython",
    "version": 3
   },
   "file_extension": ".py",
   "mimetype": "text/x-python",
   "name": "python",
   "nbconvert_exporter": "python",
   "pygments_lexer": "ipython3",
   "version": "3.13.3"
  }
 },
 "nbformat": 4,
 "nbformat_minor": 5
}
